{
 "cells": [
  {
   "cell_type": "code",
   "execution_count": 1,
   "id": "56652580",
   "metadata": {},
   "outputs": [
    {
     "name": "stdout",
     "output_type": "stream",
     "text": [
      "Requirement already satisfied: beautifulsoup4 in c:\\users\\yg\\anaconda3\\lib\\site-packages (4.11.1)\n",
      "Requirement already satisfied: soupsieve>1.2 in c:\\users\\yg\\anaconda3\\lib\\site-packages (from beautifulsoup4) (2.3.2.post1)\n",
      "Requirement already satisfied: requests in c:\\users\\yg\\anaconda3\\lib\\site-packages (2.28.1)\n",
      "Requirement already satisfied: urllib3<1.27,>=1.21.1 in c:\\users\\yg\\anaconda3\\lib\\site-packages (from requests) (1.26.14)\n",
      "Requirement already satisfied: certifi>=2017.4.17 in c:\\users\\yg\\anaconda3\\lib\\site-packages (from requests) (2022.12.7)\n",
      "Requirement already satisfied: idna<4,>=2.5 in c:\\users\\yg\\anaconda3\\lib\\site-packages (from requests) (3.4)\n",
      "Requirement already satisfied: charset-normalizer<3,>=2 in c:\\users\\yg\\anaconda3\\lib\\site-packages (from requests) (2.0.4)\n"
     ]
    }
   ],
   "source": [
    "!pip install beautifulsoup4\n",
    "!pip install requests\n",
    "import sys\n",
    "import time \n",
    "from bs4 import BeautifulSoup\n",
    "import requests\n",
    "try:\n",
    "    \n",
    "    \n",
    "    page=requests.get('https://insights.blackcoffer.com/will-we-ever-colonize-outer-space/')\n",
    "    \n",
    "    \n",
    "except Exception as e:\n",
    "    error_type, error_obj, error_info = sys.exc_info()\n",
    "    print('Error for link :',url)\n",
    "    print(error_type,'Line :',error_info.tb_lineno)\n",
    "    \n",
    "    \n",
    "time.sleep(2)\n",
    "soup=BeautifulSoup(page.text,'html.parser')\n",
    "links=soup.find_all('h1',attrs={'class':'entry-title'})   \n"
   ]
  },
  {
   "cell_type": "code",
   "execution_count": 2,
   "id": "af853859",
   "metadata": {},
   "outputs": [
    {
     "name": "stdout",
     "output_type": "stream",
     "text": [
      "Will we ever colonize outer space?\n",
      "\n",
      "\n"
     ]
    }
   ],
   "source": [
    "\n",
    "for i in links:\n",
    "    print(i.text)\n",
    "    print(\"\\n\")"
   ]
  },
  {
   "cell_type": "code",
   "execution_count": 3,
   "id": "d742fb32",
   "metadata": {},
   "outputs": [
    {
     "name": "stdout",
     "output_type": "stream",
     "text": [
      "\n",
      "Nature has blessed humanity with earth, a rounded globe where all essential necessity lies in the hand of a human. Though in this 21st-century building Space shuttle and exploring space has become an obvious activity among the human raise, now with the inclusion of Start-ups like Space X once dreamed for reaching out at space now is coming true. We all have to agree upon a fact that in the Growth of industrialization we have generated a humungous carbon footprint and colonize at outer space will create a much-needed area for our survival.\n",
      "With time the human race has visualized and has undergone many transformations, and these transformations may for starters were not that effective but were a major role at existence to this age. Be it a natural transformation like shifting of tectonic plates or manmade like Dumping water and damaging water bodies, somehow have affected usual life of humans so creating space of humans is what next humans are eyeing for.\n",
      "All this idea for Colonizing in outer space emerged when NASA was able to launch a space shuttle with a heavy payload in the late 1990s this idea didn’t stir brain at that time but later was like apple eyes when various articles from astronauts and their writeup came into limelight and this idea saw its progression, space exploration was not a new normal, companies were petrified by the number of investments that these kinds of projects ask for. But things change with the entry of PayPal’s owner Elon Musk, in 2002 where he laid stones of Space X, with NASA providing the launchpad for their exploration.\n",
      "Being space travel legitimate there where many bottlenecks knowing the nature of outer space will boost the idea of colonizing, here one has to realize the optimum. But the main target that these company put forward with themself was to not just get into other planet but to get back at earth safely, earlier these projects due to high fund was always subdued and priority was given to the rocket technology. Thus, this unimaginable quest for the search of space was far-fetched though.\n",
      "Now being in 2020 we do not find it out of a place of colonizing outside of space, the kind of emergence of technologies has led to the escalation of spreading the roots of human existence, the plan for reaching out to outer space too plays a key role for this idea too. Proper Planning, Analysing, Organising, and Executing were required for these projects to be successful for deeper know how I would like to mention here an example of Space X, According to them they wud be successful for sending Rockets by 2022 and would able to colonize by 2050, For achieving these vision they have planned a total of 36 times pre-launch of the same rocket which they will be launching by 2020. Not only that they have already placed their star link satellites which will provide the basic network connectivity for their colonized world, they have planned this to that extent that they have targeted a profit of $ 22 billion yearly by 2025. Already they have sent the first manned rocket successfully what Elon musk plan is to create that infrastructure by which going to Mars with cost as a regular air flight ticket all this will lead to better chances for colonizing at another planet. With setting up their commercial flight once started to the red planet it wud just be a stepping stone for the colonizing at the outer space.\n",
      "But the fundamental change that people have to undergo while living on another planet will be a change in gravity and being able to be near to live support if any technical issues arise to their suit until unless we find a similar place like the earth that is the change which humans have to adjust. Aspects like Ultraviolet rays too will play an immense role in the survival, but with the rate of technology expanding and challenging at very boundaries there are not many days left when we find solutions to these aspects but this idea of colonizing has more to do with monetary terms it has been projected that building a colony at space will cost at about $10 Trillian which is more than many countries GDP. Placing that much of an amount and getting funding for such highly anticipated projects is tough. Elon to have addressed with these questions with an open Door he believes that this cost is nothing when we find a route to colonize space and these costs will be justifiable when space exploration will reach new heights.\n",
      "Also, our world is around water and the percentage of land comparison to water is too less. Whereas the population is increasing with the speed and the level of excitement in order to search for new things and the obsession with the new and innovative things never going to finish. Because in the end, we do not satisfy what we have achieved, we are only looking for other things and crave to achieve that.\n",
      "In order to achieve that planning is most crucial stage. As of now we have searched 9 planets but still didn’t shortlisted the outcomes. But according to the 3-decade theory of ELON MUSK, it seems to be possible.\n",
      "As the most important thing to survive is the atmospheric environment, whether is this suitable or not, and in order to make it suitable what steps had to take and maintain the suitable level of oxygen.  The missions are now what everyone is focusing about. Finding the source of water, because its 2nd crucial thing which is needed to survive.\n",
      "Apart from the excitement and the things, the threats or the uncertainties are bound to happen like any kind of mammal which could occur during construction or after that. So the security for that or any protection so that uncertainties could be replicated.\n",
      "After the basic things, other factors like what are the natural habitats available there, whether the plants could be grown over there or not. If yes, then what types of plants could survive there.\n",
      "The environment for the animals is safe or not. Because to balance the nature we need all types of animals, natural habitat, even insects and other small things which seems to be ignorable but plays an important role in maintaining the environmental balance. For e.g.  – Ants are among the leading predators of other insects, helping to keep pest populations low.  Ants move approximately the same amount of soil as earthworms, loosening the soil in the process and increasing air and water movement into the ground.  They keep the ecosystem clean of dead insect carcasses and aid in the destruction and decomposition of plant and animal matter. So, every small thing contributes in its own way.\n",
      "Another matter of concern is the level of artificial intelligence and machine learning required to maintain that kind of requirement. Because as the current scenario, we need energy to run any vehicle or even for the robotics. So, the availability of the energy and the source of energy is needed.\n",
      "And apart from this, the heat of sun is equally important in order to maintain the level. Because with artificial air we can survive but not for so long. So, in order to remain healthy as well the calculation has to be done. When thinking about disease, you may have heard in the news about the concern that antibiotics (such as penicillin) – which help fight infections – may eventually stop working. Global health organisations are trying to reduce the use of antibiotics, especially for conditions that aren’t serious. This is because their overuse in recent years means that they’re becoming less effective.\n",
      "But still we can survive without antibiotics. Because there are ways of dealing with diseases caused by bacteria such as isolation which is how they were treated before penicillin.\n",
      "It might sound like something set firmly in the realm of fantasy, but experts in private industry and governments around the world are trying to understand how feasible it would be to establish a lunar base. Some scientists think humans could survive comfortably on the moon. In some ways, the very minimal gravity of the moon might actually be more conducive to life than the microgravity astronauts experience on the International Space Station.\n",
      "Although it hasn’t been formally tested, some experts hypothesize that the small amount of gravitational force put on an astronaut’s body when on the moon could help stem some of the adverse effects like bone-density and muscle loss that space flyers experience while living in microgravity on the International Space Station.\n",
      "By using the moon’s indigenous material, space agencies can save money on the cost of flying pricey missions to and from the moon’s surface. Once on the moon, instead of having to stage costly missions aimed at delivering oxygen and other necessary resources from Earth, experts might be able to actually use the material to manufacture gasses needed to sustain life on the satellite.\n",
      "On earth, we are protected from radioactive solar winds and cosmic rays by our own magnet field known as the magnetosphere. But out in the space, we can’t rely on this type of protection, and in order to make that protection, it could take a lot but yes with more upgraded technology it could achieve.\n",
      "Although till now the approximate value of the project is $10 trillion. But the aim is to make the fare equivalent to the normal air fare.\n",
      "As once we are comfortable with all the resources, securities for uncertainties, risk analysis, and the probability of survival of the human being and many other factors after consideration, then development won’t take much time.\n",
      "Because to construct a building it take normally 8-9 months. Which is totally acceptable.\n",
      "But the main concern is the density of the land, i.e. whether the land has the capacity to bear that much weight or not. And the type of land is adaptable for cultivation or nor. Although land can be converted into different types of cultivation but with the help of upgraded technology.\n",
      "In order to transport the equipments on the regular basis, a large amount of fuel Is required, and other factors as well and Built the propellor depo for rocket landing building various infrastructure for the city one by one will create a way forward for idea of Colonizing at outer space.\n",
      "Blackcoffer Insights 21: Anubhav Sassendran and Shivay Agarwal, NEW DELHI INSTITUTE OF MANAGEMENT.\n",
      "\n",
      "\n",
      "\n"
     ]
    }
   ],
   "source": [
    "links=soup.find_all('div',attrs={'class':'td-post-content tagdiv-type'})\n",
    "for i in links:\n",
    "    print(i.text)\n",
    "    print(\"\\n\")"
   ]
  },
  {
   "cell_type": "code",
   "execution_count": 3,
   "id": "bcc4be19",
   "metadata": {},
   "outputs": [
    {
     "name": "stdout",
     "output_type": "stream",
     "text": [
      "Total positive score: 49\n"
     ]
    }
   ],
   "source": [
    "def count_positive_words(main_dataset_file, positive_words_file):\n",
    "    \n",
    "    with open(main_dataset_file, 'r') as main_file:\n",
    "        main_data = main_file.read()\n",
    "\n",
    "   \n",
    "    with open(positive_words_file, 'r') as positive_file:\n",
    "        positive_words = positive_file.read().splitlines()\n",
    "\n",
    "    \n",
    "    words = main_data.split()\n",
    "\n",
    "    \n",
    "    count = 0\n",
    "\n",
    "   \n",
    "    for word in words:\n",
    "      \n",
    "        if word in positive_words:\n",
    "            count += 1\n",
    "\n",
    "    \n",
    "    print(\"Total positive score:\", count)\n",
    "\n",
    "\n",
    "main_dataset_file = '73.txt'\n",
    "positive_words_file = 'positive.txt'\n",
    "\n",
    "\n",
    "count_positive_words(main_dataset_file, positive_words_file)"
   ]
  },
  {
   "cell_type": "code",
   "execution_count": 4,
   "id": "95fd13eb",
   "metadata": {},
   "outputs": [
    {
     "name": "stdout",
     "output_type": "stream",
     "text": [
      "Total negative score: 22\n"
     ]
    }
   ],
   "source": [
    "def count_positive_words(main_dataset_file, positive_words_file):\n",
    "    \n",
    "    with open(main_dataset_file, 'r') as main_file:\n",
    "        main_data = main_file.read()\n",
    "\n",
    "   \n",
    "    with open(positive_words_file, 'r') as positive_file:\n",
    "        positive_words = positive_file.read().splitlines()\n",
    "\n",
    "    \n",
    "    words = main_data.split()\n",
    "\n",
    "    \n",
    "    count = 0\n",
    "\n",
    "   \n",
    "    for word in words:\n",
    "      \n",
    "        if word in positive_words:\n",
    "            count += 1\n",
    "\n",
    "    \n",
    "    print(\"Total negative score:\", count)\n",
    "\n",
    "\n",
    "main_dataset_file = '73.txt'\n",
    "positive_words_file = 'negative-words.txt'\n",
    "\n",
    "\n",
    "count_positive_words(main_dataset_file, positive_words_file)"
   ]
  },
  {
   "cell_type": "code",
   "execution_count": 5,
   "id": "3439258a",
   "metadata": {},
   "outputs": [
    {
     "name": "stdout",
     "output_type": "stream",
     "text": [
      "Total number of words: 1762\n"
     ]
    }
   ],
   "source": [
    "def count_total_words(dataset_file):\n",
    "   \n",
    "    with open(dataset_file, 'r') as file:\n",
    "        content = file.read()\n",
    "\n",
    "    \n",
    "    words = content.split()\n",
    "\n",
    "    \n",
    "    total_words = len(words)\n",
    "\n",
    "    return total_words\n",
    "\n",
    "\n",
    "dataset_file = '73.txt'\n",
    "\n",
    "\n",
    "total_words = count_total_words(dataset_file)\n",
    "\n",
    "\n",
    "print(\"Total number of words:\", total_words)\n"
   ]
  },
  {
   "cell_type": "code",
   "execution_count": 6,
   "id": "5bb0e896",
   "metadata": {
    "scrolled": true
   },
   "outputs": [
    {
     "name": "stdout",
     "output_type": "stream",
     "text": [
      "Number of complex words: 196\n"
     ]
    }
   ],
   "source": [
    "import pyphen\n",
    "import re\n",
    "dataset_file = \"73.txt\"\n",
    "dictionary = pyphen.Pyphen(lang='en')\n",
    "def count_syllables(word):\n",
    "    return len(dictionary.inserted(word).split('-'))\n",
    "def count_complex_words(file):\n",
    "    complex_word_count = 0\n",
    "\n",
    "    with open(file, 'r') as f:\n",
    "        data = f.read()\n",
    "        words = re.findall(r'\\b\\w+\\b', data)  # Extract words using regex\n",
    "\n",
    "        for word in words:\n",
    "            syllable_count = count_syllables(word)\n",
    "            if syllable_count > 2:\n",
    "                complex_word_count += 1\n",
    "\n",
    "    return complex_word_count\n",
    "complex_words_count = count_complex_words(dataset_file)\n",
    "print(\"Number of complex words:\", complex_words_count)\n",
    "\n",
    "\n",
    "\n"
   ]
  },
  {
   "cell_type": "code",
   "execution_count": 7,
   "id": "36554b12",
   "metadata": {},
   "outputs": [
    {
     "name": "stdout",
     "output_type": "stream",
     "text": [
      "Number of sentences: 68\n"
     ]
    }
   ],
   "source": [
    "import re\n",
    "def count_sentences(file):\n",
    "    with open(file, 'r') as f:\n",
    "        data = f.read()\n",
    "        sentences = re.split(r'(?<!\\w\\.\\w.)(?<![A-Z][a-z]\\.)(?<=\\.|\\?)\\s', data)\n",
    "        sentence_count = len(sentences)\n",
    "\n",
    "    return sentence_count\n",
    "dataset_file = \"73.txt\"\n",
    "sentence_count = count_sentences(dataset_file)\n",
    "print(\"Number of sentences:\", sentence_count)\n"
   ]
  },
  {
   "cell_type": "code",
   "execution_count": 8,
   "id": "f449a927",
   "metadata": {},
   "outputs": [
    {
     "name": "stdout",
     "output_type": "stream",
     "text": [
      "Sum of total number of characters: 8535\n"
     ]
    }
   ],
   "source": [
    "def calculate_total_character_count(file):\n",
    "    total_character_count = 0\n",
    "\n",
    "    with open(file, 'r') as f:\n",
    "        data = f.read()\n",
    "        words = data.split()  # Split the data into words\n",
    "\n",
    "        for word in words:\n",
    "            total_character_count += len(word)\n",
    "\n",
    "    return total_character_count\n",
    "dataset_file = \"73.txt\"\n",
    "character_count = calculate_total_character_count(dataset_file)\n",
    "print(\"Sum of total number of characters:\", character_count)"
   ]
  },
  {
   "cell_type": "code",
   "execution_count": 9,
   "id": "51209d17",
   "metadata": {},
   "outputs": [
    {
     "name": "stdout",
     "output_type": "stream",
     "text": [
      "Total stop words present in data set: 920\n"
     ]
    }
   ],
   "source": [
    "def count_positive_words(main_dataset_file, positive_words_file):\n",
    "    \n",
    "    with open(main_dataset_file, 'r') as main_file:\n",
    "        main_data = main_file.read()\n",
    "\n",
    "   \n",
    "    with open(positive_words_file, 'r') as positive_file:\n",
    "        positive_words = positive_file.read().splitlines()\n",
    "\n",
    "    \n",
    "    words = main_data.split()\n",
    "\n",
    "    \n",
    "    count = 0\n",
    "\n",
    "   \n",
    "    for word in words:\n",
    "      \n",
    "        if word in positive_words:\n",
    "            count += 1\n",
    "\n",
    "    \n",
    "    print(\"Total stop words present in data set:\", count)\n",
    "\n",
    "\n",
    "main_dataset_file = '73.txt'\n",
    "positive_words_file = 'all-stop-words.txt'\n",
    "\n",
    "\n",
    "count_positive_words(main_dataset_file, positive_words_file)"
   ]
  },
  {
   "cell_type": "code",
   "execution_count": 10,
   "id": "812d5204",
   "metadata": {},
   "outputs": [
    {
     "name": "stdout",
     "output_type": "stream",
     "text": [
      "Total syllables in the dataset file: 2710\n"
     ]
    }
   ],
   "source": [
    "def count_syllables(word):\n",
    "    vowels = 'aeiouAEIOU'\n",
    "    exceptions = ['es', 'ed']\n",
    "    count = 0\n",
    "    prev_char_vowel = False\n",
    "\n",
    "    if word[-2:] in exceptions:\n",
    "        return count\n",
    "\n",
    "    for char in word:\n",
    "        if char in vowels:\n",
    "            if not prev_char_vowel:\n",
    "                count += 1\n",
    "            prev_char_vowel = True\n",
    "        else:\n",
    "            prev_char_vowel = False\n",
    "\n",
    "    return count\n",
    "\n",
    "def sum_syllables_in_file(file):\n",
    "    total_syllables = 0\n",
    "\n",
    "    with open(file, 'r') as f:\n",
    "        data = f.read()\n",
    "        words = data.split()\n",
    "\n",
    "        for word in words:\n",
    "            total_syllables += count_syllables(word)\n",
    "\n",
    "    return total_syllables\n",
    "\n",
    "dataset_file = \"73.txt\"\n",
    "total_syllables = sum_syllables_in_file(dataset_file)\n",
    "print(\"Total syllables in the dataset file:\", total_syllables)\n"
   ]
  },
  {
   "cell_type": "code",
   "execution_count": 11,
   "id": "7c383a51",
   "metadata": {},
   "outputs": [
    {
     "name": "stdout",
     "output_type": "stream",
     "text": [
      "Number of personal pronouns mentioned: 18\n"
     ]
    }
   ],
   "source": [
    "import re\n",
    "\n",
    "def count_personal_pronouns(file):\n",
    "    pronouns = ['I', 'we', 'my', 'ours', 'us']\n",
    "    count = 0\n",
    "\n",
    "    with open(file, 'r') as f:\n",
    "        data = f.read()\n",
    "        words = re.findall(r'\\b(?:{})\\b'.format('|'.join(pronouns)), data)\n",
    "\n",
    "        for word in words:\n",
    "            \n",
    "            if word.lower() != 'us':\n",
    "                count += 1\n",
    "\n",
    "    return count\n",
    "\n",
    "dataset_file = \"73.txt\"\n",
    "pronoun_count = count_personal_pronouns(dataset_file)\n",
    "print(\"Number of personal pronouns mentioned:\", pronoun_count)\n"
   ]
  },
  {
   "cell_type": "code",
   "execution_count": 12,
   "id": "71577d23",
   "metadata": {},
   "outputs": [
    {
     "name": "stdout",
     "output_type": "stream",
     "text": [
      "Total characters: 8535\n",
      "Total words: 1762\n",
      "Average word length: 4.843927355278093\n"
     ]
    }
   ],
   "source": [
    "def calculate_word_stats(file):\n",
    "    total_characters = 0\n",
    "    total_words = 0\n",
    "\n",
    "    with open(file, 'r') as f:\n",
    "        data = f.read()\n",
    "        words = data.split()\n",
    "\n",
    "        for word in words:\n",
    "            total_characters += len(word)\n",
    "            total_words += 1\n",
    "\n",
    "    return total_characters, total_words\n",
    "\n",
    "dataset_file = \"73.txt\"\n",
    "char_count, word_count = calculate_word_stats(dataset_file)\n",
    "average_word_length = char_count / word_count if word_count != 0 else 0\n",
    "\n",
    "print(\"Total characters:\", char_count)\n",
    "print(\"Total words:\", word_count)\n",
    "print(\"Average word length:\", average_word_length)\n"
   ]
  },
  {
   "cell_type": "code",
   "execution_count": null,
   "id": "0bd5f544",
   "metadata": {},
   "outputs": [],
   "source": []
  },
  {
   "cell_type": "code",
   "execution_count": null,
   "id": "ac1513df",
   "metadata": {},
   "outputs": [],
   "source": []
  },
  {
   "cell_type": "code",
   "execution_count": null,
   "id": "3869c60c",
   "metadata": {},
   "outputs": [],
   "source": []
  }
 ],
 "metadata": {
  "kernelspec": {
   "display_name": "Python 3 (ipykernel)",
   "language": "python",
   "name": "python3"
  },
  "language_info": {
   "codemirror_mode": {
    "name": "ipython",
    "version": 3
   },
   "file_extension": ".py",
   "mimetype": "text/x-python",
   "name": "python",
   "nbconvert_exporter": "python",
   "pygments_lexer": "ipython3",
   "version": "3.10.9"
  }
 },
 "nbformat": 4,
 "nbformat_minor": 5
}

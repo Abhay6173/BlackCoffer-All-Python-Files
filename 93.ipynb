{
 "cells": [
  {
   "cell_type": "code",
   "execution_count": 4,
   "id": "b4b1763b",
   "metadata": {},
   "outputs": [
    {
     "name": "stdout",
     "output_type": "stream",
     "text": [
      "Requirement already satisfied: beautifulsoup4 in c:\\users\\yg\\anaconda3\\lib\\site-packages (4.11.1)\n",
      "Requirement already satisfied: soupsieve>1.2 in c:\\users\\yg\\anaconda3\\lib\\site-packages (from beautifulsoup4) (2.3.2.post1)\n",
      "Requirement already satisfied: requests in c:\\users\\yg\\anaconda3\\lib\\site-packages (2.28.1)\n",
      "Requirement already satisfied: idna<4,>=2.5 in c:\\users\\yg\\anaconda3\\lib\\site-packages (from requests) (3.4)\n",
      "Requirement already satisfied: charset-normalizer<3,>=2 in c:\\users\\yg\\anaconda3\\lib\\site-packages (from requests) (2.0.4)\n",
      "Requirement already satisfied: urllib3<1.27,>=1.21.1 in c:\\users\\yg\\anaconda3\\lib\\site-packages (from requests) (1.26.14)\n",
      "Requirement already satisfied: certifi>=2017.4.17 in c:\\users\\yg\\anaconda3\\lib\\site-packages (from requests) (2022.12.7)\n"
     ]
    }
   ],
   "source": [
    "!pip install beautifulsoup4\n",
    "!pip install requests\n",
    "import sys\n",
    "import time \n",
    "from bs4 import BeautifulSoup\n",
    "import requests\n",
    "try:\n",
    "    \n",
    "    \n",
    "    page=requests.get('https://insights.blackcoffer.com/how-the-covid-19-crisis-is-redefining-jobs-and-services/')\n",
    "    \n",
    "    \n",
    "except Exception as e:\n",
    "    error_type, error_obj, error_info = sys.exc_info()\n",
    "    print('Error for link :',url)\n",
    "    print(error_type,'Line :',error_info.tb_lineno)\n",
    "    \n",
    "    \n",
    "time.sleep(2)\n",
    "soup=BeautifulSoup(page.text,'html.parser')\n",
    "links=soup.find_all('h1',attrs={'class':'entry-title'})   \n"
   ]
  },
  {
   "cell_type": "code",
   "execution_count": 2,
   "id": "01a198e9",
   "metadata": {},
   "outputs": [
    {
     "name": "stdout",
     "output_type": "stream",
     "text": [
      "How the COVID-19 crisis is redefining jobs and services?\n",
      "\n",
      "\n"
     ]
    }
   ],
   "source": [
    "for i in links:\n",
    "    print(i.text)\n",
    "    print(\"\\n\")"
   ]
  },
  {
   "cell_type": "code",
   "execution_count": 3,
   "id": "e990e0f5",
   "metadata": {},
   "outputs": [
    {
     "name": "stdout",
     "output_type": "stream",
     "text": [
      "\n",
      "The pandemic has shaken the world in the way one had hardly imagined. The impact of it on Jobs and Services is going to be long-lasting and it will be the foundation stone of revolution in these sectors. With the work from home and social distancing norms is altering the way of work, the way we interact, what work we will do, how the work will be done, and whatnot. To just give an example, in the middle of the first lockdown, FMCG major Hindustan Unilever (HUL) went ahead with its merger. It took place online entirely. Yes, it took place online. Who could have ever imagined the merger can take place online?\n",
      "Change is inevitable. But some changes are temporary and some are permanent. The pandemic is bringing changes that are going to be permanent. In fact, these changes were due for a long time and we’re coming at a slow pace. What the pandemic has done is, it has become the catalyst for these changes and raised the ante for change. So, what exactly the changes will be? Let’s look at them one by one.\n",
      "The first change is going to be the extensive use of digital communication from now onwards. The Zoom, Jio Meet, Google Meet, and some derivatives like these are going to be the forever meeting rooms where the important discussions will be held. This may be bad news for the employees who are older than 40 years. They would not have pictured themselves doing such transformation at this part of life. Experts believe that the new normal in the offices are going to be hierarchy-less. The older employees would have to work with the younger ones. There would be no geographical boundaries and where the communication and software adaptability among employees is going to be crucial. The symbol of power will be less visible and the decentralization of power in the office will be prominent. There will be more egalitarianism in companies. The corporates will think much more about office space. Rather than expending too much on physical infrastructure, the online infrastructure will always be in their hindsight. The impact would be more prudent in small and mid-sized businesses. The physical offices itself might disappear from such businesses. But it’s not going to be easy for companies. The security and confidentiality of the authentic information going out of the offices’ building are going to be the largest concern in the new normal world. There would be no surprise if a lot of start-ups will bloom in the near future providing software for security for the data and information of the companies. Also, travel is going to be reduced. So, the major component of CTC where the companies fooling the employees must find the other way.\n",
      "The second change is going to be struck down on employees. Already many of the companies and start-ups are reducing the workforce. It is expected that new normal offices would work with an 80% workforce of that of the current workforce. Automation is on the verge. Due to safety reasons, the companies are going to be more and more leaned towards automation with a minimal touch of human possible. This might result in a loss of jobs in some sectors, but it will also create new jobs in the automation sector. It was evident from before pandemic too but now the velocity for the same would be increased. In the new normal tech-enabled world, the job which would be at stake dominantly would be managers’ managers. The IT firms have started firing the vice presidents and assistant vice presidents who draw hefty salaries but don’t really drive the business. In the designation-less set up in the near future accelerated by Pandemic, they automatically become redundant. For the first time, the employees might be given jobs that would require more than the standard jobs. Also, when the workforce in the company would be less in the company, the employees might be given the option of working for extra time or working on the weekends and would be incentivized for the same rather than employing more staff and paying them full salary. It is a win-win situation for both employees and companies. Employees can earn more than what they usually earn and will get to learn new which would be out of their primary domain. The companies would be able to keep their costs low through this. The assessment of employees might change too. Rather than going for an annual performance review, the employees might be evaluated based on the tasks they perform. Creativity and innovation are going to be swords for the employees in the new normal world rather than designations in the office.  \n",
      "The other change might be in the services sector. The services like which involves maximum human touch will be the one which will be affected most adversely. The safety concerns and confidence of people over the system are going to be the issue for at least the next few years. It also opens the opportunity for something very new. The products which could replace the need for visiting such services centers are going to create a boom in the market. According to McKinsey, the sales for such products are multiplying rapidly.\n",
      "There are speculations that the economies will tend to become Minimalist economies. Let’s dig deep into this. Minimalist economies are the economies where people tend to refrain from purchasing luxurious items and focuses on purchasing necessities more and more.  Well, this is the position we are in right now during the pandemic. People are expensing only necessary items like groceries and the demand for luxurious items is way below average. But it would be hard to stay the same as this. The minimalist economy will result in the deterioration of the economy in the short term. It is true that in the minimalist economy the demand might be low, but it would be wrong to assume the demand will be zero. The high-quality products will gather the attention of the purchasers. It is evident from past experiences that the economy always finds its way to come back from the mode of minimalist economy. Though this time may take some time, it will surely return on track.\n",
      "But every trouble comes with an opportunity. This is the time for the companies to act now and grab the opportunities the pandemic has brought with him. But for that companies are required to follow plans, formulate strategies to suit their needs, and pay more attention to the innovation. The companies must form plans for the five stages from here. These stages are 5Rs: Resolve, Resilience, Return, Reimagination, and Reform.\n",
      "Resolve: In the resolve phase companies need to formulate a nerve center to combat Corvid itself. The tendency of the company should not be like that, they will return only after everything becomes normal. In most parts of the country, permission is granted to the companies for their operations. If they wait for normalcy, then bankruptcy might catch them before the normalcy.\n",
      "Resilience: The resilience phase includes maintaining liquidity, addressing solvency, and grow for sustainability. All businesses should know when their cash crunch is coming. Addressing these cash crunches will be crucial for the companies. Businesses must take aggressive options to remain solvent. For example, the businesses might have cash in their hand but might be poor in operational efficiency then it requires the attention of the company. Organizations solving issues of liquidity and solvency will be in a better position to grow with sustainability.\n",
      "Return: In the third phase of return the companies will have to plan for the time when everything will be back on track. Given the possibility of subsequent waves of coronavirus the companies need new ways of working to prevent, identify, report, and contain future flareups. Many industries will face this problem of returning. Staying prepared for resurgence scenarios should include a multi-scenario modeling exercise. Reverting to non-COVID-19 care will require extensive planning and market testing.\n",
      "Reimagine: The phase of reimagining will include the learnings from the pandemic. A small virus and the whole economy at the toss. The businesses will have to introspect them and must look for advancements in technologies such that this kind of pandemic in the future will not disturb their efficiency too much. The pandemic has taught us that the decision which took weeks and months in the normal world can be accelerated and can be taken in some days. This should become a permanent feature. Cross organizational collaboration has become much easier. This should stay in the long run.\n",
      "Reform: The last phase is the reform. In this phase, the companies should look at their bottlenecks and try to fix them. Also, the companies will have to reconsider their relationship with their customers. The confidence in their brands, they must regain it.\n",
      "There are three ways to shift work, talent, and skills to where and when they are needed most, thereby building the organizational resilience and agility necessary to navigate uncertain times and rebound with strength when the economy recovers.\n",
      "Make work portable:\n",
      "In this dismal situation it is more important than ever most of the staff should be in the critical tasks. The tasks could be like the customer complaints redressal. We know that the customers are the ones who make the businesses successful. Thus, retaining their confidence is the utmost priority. The organizations can convert some of the staff to address the queries and concerns of customers. The organizations require to create virtual offices. There should not be the geographical boundaries within the organization. The employees from all over the world from the organization should come together and take the organization back to pre-corvid state. By breaking out of rigid job constraints, the right talent and work can be matched to solve evolving business challenges in real-time.\n",
      "Accelerate Automation:\n",
      "This was happening before the pandemic too. But accelerating it with pace has now become the need of the hour. The perception that automation is a job-killer is totally wrong and in fact, it is the mandatory capability to deal with the crisis. Organizations can increase automation in call centers. This will reduce the response time.\n",
      "Share employees in cross-industry exchanges:\n",
      "Temporarily moving employees from some industries like airlines, restaurants, hospitality can be moved to those organizations which have maximum work at this time like healthcare and logistics.\n",
      "To conclude, the companies should understand “Lives come first, but livelihood matters”. The pandemic will have some adverse effects on jobs and services, but this is not the end. The pandemic has brought many opportunities with him and if they are grabbed then the organizations would be in much better position even compared to pre-corvid situations. The companies need to understand the pandemic is not going to be forever. The last concluding sentence will be corona will bring changes but there will not be a revolution in jobs and services.\n",
      "Blackcoffer Insights 19: Ajay Avaghade, IIM Indore\n",
      "\n",
      "\n",
      "\n"
     ]
    }
   ],
   "source": [
    "links=soup.find_all('div',attrs={'class':'td-post-content tagdiv-type'})\n",
    "for i in links:\n",
    "    print(i.text)\n",
    "    print(\"\\n\")"
   ]
  },
  {
   "cell_type": "code",
   "execution_count": 10,
   "id": "fe844875",
   "metadata": {},
   "outputs": [
    {
     "name": "stdout",
     "output_type": "stream",
     "text": [
      "Total positive score: 37\n"
     ]
    }
   ],
   "source": [
    "def count_positive_words(main_dataset_file, positive_words_file):\n",
    "    \n",
    "    \n",
    "\n",
    "    with open(main_dataset_file, 'r', encoding='utf-8') as main_file:\n",
    "        main_data = main_file.read()\n",
    "\n",
    "   \n",
    "    with open(positive_words_file, 'r', encoding='utf-8') as positive_file:\n",
    "        positive_words = positive_file.read().splitlines()\n",
    "\n",
    "    \n",
    "    words = main_data.split()\n",
    "\n",
    "    \n",
    "    count = 0\n",
    "\n",
    "   \n",
    "    for word in words:\n",
    "      \n",
    "        if word in positive_words:\n",
    "            count += 1\n",
    "\n",
    "    \n",
    "    print(\"Total positive score:\", count)\n",
    "\n",
    "\n",
    "main_dataset_file = '93.txt'\n",
    "positive_words_file = 'positive.txt'\n",
    "\n",
    "\n",
    "count_positive_words(main_dataset_file, positive_words_file)\n"
   ]
  },
  {
   "cell_type": "code",
   "execution_count": 11,
   "id": "a332a700",
   "metadata": {},
   "outputs": [
    {
     "name": "stdout",
     "output_type": "stream",
     "text": [
      "Total negative score: 30\n"
     ]
    }
   ],
   "source": [
    "def count_positive_words(main_dataset_file, positive_words_file):\n",
    "    \n",
    "    \n",
    "\n",
    "    with open(main_dataset_file, 'r', encoding='latin-1') as main_file:\n",
    "        main_data = main_file.read()\n",
    "\n",
    "   \n",
    "    with open(positive_words_file, 'r', encoding='latin-1') as positive_file:\n",
    "        positive_words = positive_file.read().splitlines()\n",
    "\n",
    "    \n",
    "    words = main_data.split()\n",
    "\n",
    "    \n",
    "    count = 0\n",
    "\n",
    "   \n",
    "    for word in words:\n",
    "      \n",
    "        if word in positive_words:\n",
    "            count += 1\n",
    "\n",
    "    \n",
    "    print(\"Total negative score:\", count)\n",
    "\n",
    "\n",
    "main_dataset_file = '93.txt'\n",
    "positive_words_file = 'negative-words.txt'\n",
    "\n",
    "\n",
    "count_positive_words(main_dataset_file, positive_words_file)\n"
   ]
  },
  {
   "cell_type": "code",
   "execution_count": 12,
   "id": "70f0e11c",
   "metadata": {},
   "outputs": [
    {
     "name": "stdout",
     "output_type": "stream",
     "text": [
      "Total number of words: 1839\n"
     ]
    }
   ],
   "source": [
    "def count_total_words(dataset_file):\n",
    "   \n",
    "    with open(dataset_file, 'r', encoding='utf-8') as file:\n",
    "        content = file.read()\n",
    "\n",
    "    \n",
    "    words = content.split()\n",
    "\n",
    "    \n",
    "    total_words = len(words)\n",
    "\n",
    "    return total_words\n",
    "\n",
    "\n",
    "dataset_file = '93.txt'\n",
    "\n",
    "\n",
    "total_words = count_total_words(dataset_file)\n",
    "\n",
    "\n",
    "print(\"Total number of words:\", total_words)\n"
   ]
  },
  {
   "cell_type": "code",
   "execution_count": 13,
   "id": "b6e0965d",
   "metadata": {},
   "outputs": [
    {
     "name": "stdout",
     "output_type": "stream",
     "text": [
      "Number of complex words: 239\n"
     ]
    }
   ],
   "source": [
    "import pyphen\n",
    "import re\n",
    "dataset_file = \"93.txt\"\n",
    "dictionary = pyphen.Pyphen(lang='en')\n",
    "def count_syllables(word):\n",
    "    return len(dictionary.inserted(word).split('-'))\n",
    "def count_complex_words(file):\n",
    "    complex_word_count = 0\n",
    "\n",
    "    with open(file, 'r', encoding='utf-8') as f:\n",
    "        data = f.read()\n",
    "        words = re.findall(r'\\b\\w+\\b', data)  \n",
    "\n",
    "        for word in words:\n",
    "            syllable_count = count_syllables(word)\n",
    "            if syllable_count > 2:\n",
    "                complex_word_count += 1\n",
    "\n",
    "    return complex_word_count\n",
    "complex_words_count = count_complex_words(dataset_file)\n",
    "print(\"Number of complex words:\", complex_words_count)\n",
    "\n"
   ]
  },
  {
   "cell_type": "code",
   "execution_count": 14,
   "id": "ed39a09d",
   "metadata": {},
   "outputs": [
    {
     "name": "stdout",
     "output_type": "stream",
     "text": [
      "Number of sentences: 121\n"
     ]
    }
   ],
   "source": [
    "import re\n",
    "def count_sentences(file):\n",
    "    with open(file, 'r', encoding='utf-8') as f:\n",
    "        data = f.read()\n",
    "        sentences = re.split(r'(?<!\\w\\.\\w.)(?<![A-Z][a-z]\\.)(?<=\\.|\\?)\\s', data)\n",
    "        sentence_count = len(sentences)\n",
    "\n",
    "    return sentence_count\n",
    "dataset_file = \"93.txt\"\n",
    "sentence_count = count_sentences(dataset_file)\n",
    "print(\"Number of sentences:\", sentence_count)"
   ]
  },
  {
   "cell_type": "code",
   "execution_count": 15,
   "id": "96c1cfdd",
   "metadata": {},
   "outputs": [
    {
     "name": "stdout",
     "output_type": "stream",
     "text": [
      "Sum of total number of characters: 9242\n"
     ]
    }
   ],
   "source": [
    "def calculate_total_character_count(file):\n",
    "    total_character_count = 0\n",
    "\n",
    "    with open(file, 'r', encoding='utf-8') as f:\n",
    "        data = f.read()\n",
    "        words = data.split() \n",
    "\n",
    "        for word in words:\n",
    "            total_character_count += len(word)\n",
    "\n",
    "    return total_character_count\n",
    "dataset_file = \"93.txt\"\n",
    "character_count = calculate_total_character_count(dataset_file)\n",
    "print(\"Sum of total number of characters:\", character_count)\n"
   ]
  },
  {
   "cell_type": "code",
   "execution_count": 16,
   "id": "2f4d95cf",
   "metadata": {},
   "outputs": [
    {
     "name": "stdout",
     "output_type": "stream",
     "text": [
      "Total stop words present in data set: 978\n"
     ]
    }
   ],
   "source": [
    "def count_positive_words(main_dataset_file, positive_words_file):\n",
    "    \n",
    "    with open(main_dataset_file, 'r', encoding='utf-8') as main_file:\n",
    "        main_data = main_file.read()\n",
    "\n",
    "   \n",
    "    with open(positive_words_file, 'r', encoding='utf-8') as positive_file:\n",
    "        positive_words = positive_file.read().splitlines()\n",
    "\n",
    "    \n",
    "    words = main_data.split()\n",
    "\n",
    "    \n",
    "    count = 0\n",
    "\n",
    "   \n",
    "    for word in words:\n",
    "      \n",
    "        if word in positive_words:\n",
    "            count += 1\n",
    "\n",
    "    \n",
    "    print(\"Total stop words present in data set:\", count)\n",
    "\n",
    "\n",
    "main_dataset_file = '93.txt'\n",
    "positive_words_file = 'all-stop-words.txt'\n",
    "\n",
    "\n",
    "count_positive_words(main_dataset_file, positive_words_file)"
   ]
  },
  {
   "cell_type": "code",
   "execution_count": 17,
   "id": "44c0ccc7",
   "metadata": {},
   "outputs": [
    {
     "name": "stdout",
     "output_type": "stream",
     "text": [
      "Total syllables in the dataset file: 2794\n"
     ]
    }
   ],
   "source": [
    "def count_syllables(word):\n",
    "    vowels = 'aeiouAEIOU'\n",
    "    exceptions = ['es', 'ed']\n",
    "    count = 0\n",
    "    prev_char_vowel = False\n",
    "\n",
    "    if word[-2:] in exceptions:\n",
    "        return count\n",
    "\n",
    "    for char in word:\n",
    "        if char in vowels:\n",
    "            if not prev_char_vowel:\n",
    "                count += 1\n",
    "            prev_char_vowel = True\n",
    "        else:\n",
    "            prev_char_vowel = False\n",
    "\n",
    "    return count\n",
    "\n",
    "def sum_syllables_in_file(file):\n",
    "    total_syllables = 0\n",
    "\n",
    "    with open(file, 'r', encoding='utf-8') as f:\n",
    "        data = f.read()\n",
    "        words = data.split()\n",
    "\n",
    "        for word in words:\n",
    "            total_syllables += count_syllables(word)\n",
    "\n",
    "    return total_syllables\n",
    "\n",
    "dataset_file = \"93.txt\"\n",
    "total_syllables = sum_syllables_in_file(dataset_file)\n",
    "print(\"Total syllables in the dataset file:\", total_syllables)\n"
   ]
  },
  {
   "cell_type": "code",
   "execution_count": 18,
   "id": "64af8254",
   "metadata": {},
   "outputs": [
    {
     "name": "stdout",
     "output_type": "stream",
     "text": [
      "Number of personal pronouns mentioned: 4\n"
     ]
    }
   ],
   "source": [
    "import re\n",
    "\n",
    "def count_personal_pronouns(file):\n",
    "    pronouns = ['I', 'we', 'my', 'ours', 'us']\n",
    "    count = 0\n",
    "\n",
    "    with open(file, 'r', encoding='utf-8') as f:\n",
    "        data = f.read()\n",
    "        words = re.findall(r'\\b(?:{})\\b'.format('|'.join(pronouns)), data)\n",
    "\n",
    "        for word in words:\n",
    "           \n",
    "            if word.lower() != 'us':\n",
    "                count += 1\n",
    "\n",
    "    return count\n",
    "\n",
    "dataset_file = \"93.txt\"\n",
    "pronoun_count = count_personal_pronouns(dataset_file)\n",
    "print(\"Number of personal pronouns mentioned:\", pronoun_count)"
   ]
  },
  {
   "cell_type": "code",
   "execution_count": null,
   "id": "d7eb49fd",
   "metadata": {},
   "outputs": [],
   "source": []
  },
  {
   "cell_type": "code",
   "execution_count": null,
   "id": "0c14b009",
   "metadata": {},
   "outputs": [],
   "source": []
  }
 ],
 "metadata": {
  "kernelspec": {
   "display_name": "Python 3 (ipykernel)",
   "language": "python",
   "name": "python3"
  },
  "language_info": {
   "codemirror_mode": {
    "name": "ipython",
    "version": 3
   },
   "file_extension": ".py",
   "mimetype": "text/x-python",
   "name": "python",
   "nbconvert_exporter": "python",
   "pygments_lexer": "ipython3",
   "version": "3.10.9"
  }
 },
 "nbformat": 4,
 "nbformat_minor": 5
}

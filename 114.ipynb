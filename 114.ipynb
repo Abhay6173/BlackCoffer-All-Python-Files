{
 "cells": [
  {
   "cell_type": "code",
   "execution_count": 2,
   "id": "7ead2d70",
   "metadata": {},
   "outputs": [
    {
     "name": "stdout",
     "output_type": "stream",
     "text": [
      "Requirement already satisfied: beautifulsoup4 in c:\\users\\yg\\anaconda3\\lib\\site-packages (4.11.1)\n",
      "Requirement already satisfied: soupsieve>1.2 in c:\\users\\yg\\anaconda3\\lib\\site-packages (from beautifulsoup4) (2.3.2.post1)\n",
      "Requirement already satisfied: requests in c:\\users\\yg\\anaconda3\\lib\\site-packages (2.28.1)\n",
      "Requirement already satisfied: charset-normalizer<3,>=2 in c:\\users\\yg\\anaconda3\\lib\\site-packages (from requests) (2.0.4)\n",
      "Requirement already satisfied: idna<4,>=2.5 in c:\\users\\yg\\anaconda3\\lib\\site-packages (from requests) (3.4)\n",
      "Requirement already satisfied: urllib3<1.27,>=1.21.1 in c:\\users\\yg\\anaconda3\\lib\\site-packages (from requests) (1.26.14)\n",
      "Requirement already satisfied: certifi>=2017.4.17 in c:\\users\\yg\\anaconda3\\lib\\site-packages (from requests) (2022.12.7)\n"
     ]
    }
   ],
   "source": [
    "!pip install beautifulsoup4\n",
    "!pip install requests\n",
    "import sys\n",
    "import time \n",
    "from bs4 import BeautifulSoup\n",
    "import requests\n",
    "try:\n",
    "    \n",
    "    \n",
    "    page=requests.get('https://insights.blackcoffer.com/estimating-the-impact-of-covid-19-on-the-world-of-work/')\n",
    "    \n",
    "    \n",
    "except Exception as e:\n",
    "    error_type, error_obj, error_info = sys.exc_info()\n",
    "    print('Error for link :',url)\n",
    "    print(error_type,'Line :',error_info.tb_lineno)\n",
    "    \n",
    "    \n",
    "time.sleep(2)\n",
    "soup=BeautifulSoup(page.text,'html.parser')\n",
    "links=soup.find_all('h1',attrs={'class':'entry-title'})   \n"
   ]
  },
  {
   "cell_type": "code",
   "execution_count": 3,
   "id": "4cb20aac",
   "metadata": {},
   "outputs": [
    {
     "name": "stdout",
     "output_type": "stream",
     "text": [
      "Estimating the impact of COVID-19 on the world of work\n",
      "\n",
      "\n"
     ]
    }
   ],
   "source": [
    "for i in links:\n",
    "    print(i.text)\n",
    "    print(\"\\n\")"
   ]
  },
  {
   "cell_type": "code",
   "execution_count": 4,
   "id": "75609c41",
   "metadata": {},
   "outputs": [
    {
     "name": "stdout",
     "output_type": "stream",
     "text": [
      "\n",
      "“Stay at Home”, “Crisis”, “Pandemic”, “COVID-19”\n",
      "These are just a few terms that come to mind when you wake up every morning and listen to the world mourning. With the Coronavirus pandemic hitting almost 210 countries throughout the globe and having no possible cure for the foreseeable future, the state of the world is as dismal as it can ever get. The “Great Lockdown” as it is being called is having adverse effects on almost everything a common man does but more importantly having a grave impact on the world of work. In this article, let’s look at what is the current status of the working population throughout the world and what lies ahead in the future.\n",
      "2020 marked the beginning of a new decade and a seemingly difficult one for various organizations across the world. The first quarter of 2020 brought with it, major issues for the workforce. The implementation of lockdowns in various countries such as India, Germany, Italy, China, the UK, etc. has made “Work from Home” a compulsion for everyone except those working for essential goods and services companies. The crisis has already led to a worldwide economic slowdown and a period of recession is looming on our heads. The International Monetary Fund (IMF) has predicted a shrink of 3% in the Global GDP indicating the extent of the crisis. The severity of the issue is being felt by various big companies in India and other major powers of the world. In an interview, Anand Mahindra, CEO of M&M Group said that the manufacturing and production sector has been hit the hardest with the lack of labor force. He mentioned the lack of wage workers who help in loading and unloading of material is making transport a major issue for his company, also hinting at the importance of these small workers on the macro-level. CEOs and Managers of various organizations are having a hard time dealing with this crisis. With almost all MNCs such as PwC, BCG, Deloitte, IBM, Infosys, etc. making “work from home” compulsory till around mid-May’20, the importance of technology is at its peak now. Whether it’s conducting meetings over Zoom or conference calls over Duo, staying at home and working is becoming normal as we move forward. Service-based companies are finding it easier to complete their tasks as compared to Product-based companies. According to the IMF the world is going to lose USD 9 Trillion in output in 2020 which is more than the combined output of both Germany and Japan.\n",
      "The manufacturing sector is one of the worst-hit by the pandemic. China, the world’s largest exporter of goods and the epicenter of the COVID-19 pandemic has seen a significant fall in output in the first two months of 2020. Chinese Industrial Production has fallen by 13.5% and major manufacturers in China are facing problems relating to the shutdown and lack of workforce. Restrictions have affected the supply of Chinese companies like JCB, SAIC, Nissan to name a few. Organizations such as Samsung, Kia, Hyundai, and all other non-essential goods companies have been forced to shut down factories to comply with lockdown norms and for the safety of their employees. Indian manufacturing giants such as Bajaj and Tata have taken the toll due to the lockdown measures in India. Bajaj has been forced to cut employee salaries by 30% and worker salaries by 10% due to a lack of revenue. US-based smartphone and tech giant Apple Inc. has shut all its stores worldwide with its factories in China and the USA unable to produce new products for the time being. These are just a few examples and production has been hit globally in all countries and there is a lack of demand to compliment this, further enhancing the problem faced by producers.\n",
      "\n",
      "The world of work also includes those who are willing and able to work but cannot find a job, i.e., the unemployed. The unemployment rate is at a staggering high across all nations affected by the pandemic. According to the US Bureau of Labor Statistics, the number of people filing for unemployment hit a record high close to 7 million people. China reported an unemployment rate of 6.2% in Jan’20 and figures are expected to get worse in many other countries. According to the International Labor Organization, more than 25 million workers may go jobless soon due to this crisis and lead to a significant decline in income. The financial crisis of 2008 caused a 22 million spike in unemployment worldwide and the nature of the current situation makes it more dangerous. The fall in revenues and effects on both supply as well as demand mean that companies are having a hard time maintaining their balance sheet and taking care of their liabilities. Lack of job opportunities from the next quarter and salary cuts for existing employees might be the way forward in the corporate world.\n",
      "\n",
      "Amongst all the negative impacts of COVID-19 on organizations across the globe, there are a few opportunities that are ready to be explored after this crisis. Technology and Artificial Intelligence are key aspects that have been mentioned in the past to be the ones contributing to the growth and a rise in revenues for various businesses. In times of Social Distancing and a shutdown of physical services, the digital markets may prove to be game-changers in the near future. Offering products online and promoting through digital marketing will be at the forefront. The quarantine time must be utilized in order to improve existing products and increase the customer base of companies. Byju’s, India’s famous online learning platform is leading by example in this front by offering its application essentials and courses for free. This will help them expand their brand in the coming years and create a customer base. Cult Fit, a Bangalore based fitness startup has used technology to create an application helping fitness freaks to workout from home. ONEPLUS, the Chinese Smartphone brand launched its new flagship, the ONEPLUS 8 in an online event, and created a filter to let smartphone lovers do a virtual unboxing of the device as getting the device physically is not possible at the moment due to restrictions. Decathlon, America’s leading sports and fitness equipment brand started an online campaign, “We’re in this Together” and the hashtag “#PlayItSafe” to appeal to their customers and increase sales of their home workout equipment. These examples show how brands and organizations have realized the importance of this lockdown to expand their base and consolidate their position in the market as they battle out the crisis.\n",
      "The COVID-19 pandemic has led to chaos and panic throughout the working world. But there are huge opportunities for companies to expand and improve in the future. All organizations need to have a designed plan in place to ensure smooth functioning once the lockdown is lifted. Social distancing and hygiene will become key for manufacturing industries. The Travel industry which is currently in its worst state will need to recover fast in order to ensure the safe movement of passengers once borders are reopened across the world. The Service sector will need to move to digital platforms and hype digital marketing. Artificial intelligence will play a key role with a reduction in workforce eminent due to lack of demand. Handling tasks with the help of AI and reducing the need for an employee will improve cost-effectiveness until revenues rise back to normal. E-Learning has evolved over the past few years and its importance has been realized over this quarantine period. All major colleges and schools have transformed into an online program in order to educate students. This change is likely to be carried forward with more and more Educational Institutes switching platforms. E-commerce has also been an integral part of the world and will become even more important in the coming days. As malls and markets are shut and are expected to remain shut, e-commerce websites will benefit from the same. It is also an opportunity for retailers and vendors to create their base online or sell through e-retailers in order to generate revenue. Small vendors and retailers will continue to be an important part of the supply of the essential good to households and improving sanitation in these places will be key. MNCs that have switched to the atmosphere of “Work from Home” will find it easier to connect large groups of people together at all times and ensure all employees contribute to the smooth functioning of the companies in the crucial days up ahead. Entrepreneurial minds will also be encouraged to put forth their idea and create a startup of their own to make the corporate world an improved space in the future.\n",
      "The world is in a state of panic and it is important for all of us to be united in this fight against COVID-19. As employees continue to work from home and make study rooms their cabins, organizations need to adapt to this new style of working and realize its importance for the coming months until a solution is found for this problem. Internet and online services will play an important role in the future. This transition will lead to a better “Digital World” and improve accessibility throughout the globe.\n",
      "STAY SAFE, STAY TOGETHER AND DEVELOP YOUR COMPANY FURTHER!\n",
      "Blackcoffer Insights 17:-Shaurya Srivastava,Delhi College of Arts and Commerce, Delhi University\n",
      "\n",
      "\n",
      "\n"
     ]
    }
   ],
   "source": [
    "links=soup.find_all('div',attrs={'class':'td-post-content tagdiv-type'})\n",
    "for i in links:\n",
    "    print(i.text)\n",
    "    print(\"\\n\")"
   ]
  },
  {
   "cell_type": "code",
   "execution_count": 1,
   "id": "1f875c2c",
   "metadata": {},
   "outputs": [
    {
     "name": "stdout",
     "output_type": "stream",
     "text": [
      "Total positive score: 44\n"
     ]
    }
   ],
   "source": [
    "def count_positive_words(main_dataset_file, positive_words_file):\n",
    "    \n",
    "    \n",
    "\n",
    "    with open(main_dataset_file, 'r', encoding='utf-8') as main_file:\n",
    "        main_data = main_file.read()\n",
    "\n",
    "   \n",
    "    with open(positive_words_file, 'r', encoding='utf-8') as positive_file:\n",
    "        positive_words = positive_file.read().splitlines()\n",
    "\n",
    "    \n",
    "    words = main_data.split()\n",
    "\n",
    "    \n",
    "    count = 0\n",
    "\n",
    "   \n",
    "    for word in words:\n",
    "      \n",
    "        if word in positive_words:\n",
    "            count += 1\n",
    "\n",
    "    \n",
    "    print(\"Total positive score:\", count)\n",
    "\n",
    "\n",
    "main_dataset_file = '114.txt'\n",
    "positive_words_file = 'positive.txt'\n",
    "\n",
    "\n",
    "count_positive_words(main_dataset_file, positive_words_file)\n"
   ]
  },
  {
   "cell_type": "code",
   "execution_count": 2,
   "id": "86f88841",
   "metadata": {},
   "outputs": [
    {
     "name": "stdout",
     "output_type": "stream",
     "text": [
      "Total positive score: 39\n"
     ]
    }
   ],
   "source": [
    "def count_positive_words(main_dataset_file, positive_words_file):\n",
    "    \n",
    "    \n",
    "\n",
    "    with open(main_dataset_file, 'r', encoding='latin-1') as main_file:\n",
    "        main_data = main_file.read()\n",
    "\n",
    "   \n",
    "    with open(positive_words_file, 'r', encoding='latin-1') as positive_file:\n",
    "        positive_words = positive_file.read().splitlines()\n",
    "\n",
    "    \n",
    "    words = main_data.split()\n",
    "\n",
    "    \n",
    "    count = 0\n",
    "\n",
    "   \n",
    "    for word in words:\n",
    "      \n",
    "        if word in positive_words:\n",
    "            count += 1\n",
    "\n",
    "    \n",
    "    print(\"Total positive score:\", count)\n",
    "\n",
    "\n",
    "main_dataset_file = '114.txt'\n",
    "positive_words_file = 'negative-words.txt'\n",
    "\n",
    "\n",
    "count_positive_words(main_dataset_file, positive_words_file)\n"
   ]
  },
  {
   "cell_type": "code",
   "execution_count": 3,
   "id": "c5346bde",
   "metadata": {},
   "outputs": [
    {
     "name": "stdout",
     "output_type": "stream",
     "text": [
      "Total number of words: 1572\n"
     ]
    }
   ],
   "source": [
    "def count_total_words(dataset_file):\n",
    "   \n",
    "    with open(dataset_file, 'r', encoding='utf-8') as file:\n",
    "        content = file.read()\n",
    "\n",
    "    \n",
    "    words = content.split()\n",
    "\n",
    "    \n",
    "    total_words = len(words)\n",
    "\n",
    "    return total_words\n",
    "\n",
    "\n",
    "dataset_file = '114.txt'\n",
    "\n",
    "\n",
    "total_words = count_total_words(dataset_file)\n",
    "\n",
    "\n",
    "print(\"Total number of words:\", total_words)\n"
   ]
  },
  {
   "cell_type": "code",
   "execution_count": 4,
   "id": "7884bc21",
   "metadata": {},
   "outputs": [
    {
     "name": "stdout",
     "output_type": "stream",
     "text": [
      "Number of complex words: 183\n"
     ]
    }
   ],
   "source": [
    "import pyphen\n",
    "import re\n",
    "dataset_file = \"114.txt\"\n",
    "dictionary = pyphen.Pyphen(lang='en')\n",
    "def count_syllables(word):\n",
    "    return len(dictionary.inserted(word).split('-'))\n",
    "def count_complex_words(file):\n",
    "    complex_word_count = 0\n",
    "\n",
    "    with open(file, 'r', encoding='utf-8') as f:\n",
    "        data = f.read()\n",
    "        words = re.findall(r'\\b\\w+\\b', data)  \n",
    "\n",
    "        for word in words:\n",
    "            syllable_count = count_syllables(word)\n",
    "            if syllable_count > 2:\n",
    "                complex_word_count += 1\n",
    "\n",
    "    return complex_word_count\n",
    "complex_words_count = count_complex_words(dataset_file)\n",
    "print(\"Number of complex words:\", complex_words_count)\n",
    "\n",
    "\n",
    "\n"
   ]
  },
  {
   "cell_type": "code",
   "execution_count": 5,
   "id": "2b2c40b2",
   "metadata": {},
   "outputs": [
    {
     "name": "stdout",
     "output_type": "stream",
     "text": [
      "Number of sentences: 70\n"
     ]
    }
   ],
   "source": [
    "import re\n",
    "def count_sentences(file):\n",
    "    with open(file, 'r', encoding='utf-8') as f:\n",
    "        data = f.read()\n",
    "        sentences = re.split(r'(?<!\\w\\.\\w.)(?<![A-Z][a-z]\\.)(?<=\\.|\\?)\\s', data)\n",
    "        sentence_count = len(sentences)\n",
    "\n",
    "    return sentence_count\n",
    "dataset_file = \"114.txt\"\n",
    "sentence_count = count_sentences(dataset_file)\n",
    "print(\"Number of sentences:\", sentence_count)"
   ]
  },
  {
   "cell_type": "code",
   "execution_count": 6,
   "id": "02ebe2c5",
   "metadata": {},
   "outputs": [
    {
     "name": "stdout",
     "output_type": "stream",
     "text": [
      "Sum of total number of characters: 7811\n"
     ]
    }
   ],
   "source": [
    "def calculate_total_character_count(file):\n",
    "    total_character_count = 0\n",
    "\n",
    "    with open(file, 'r', encoding='utf-8') as f:\n",
    "        data = f.read()\n",
    "        words = data.split() \n",
    "\n",
    "        for word in words:\n",
    "            total_character_count += len(word)\n",
    "\n",
    "    return total_character_count\n",
    "dataset_file = \"114.txt\"\n",
    "character_count = calculate_total_character_count(dataset_file)\n",
    "print(\"Sum of total number of characters:\", character_count)\n"
   ]
  },
  {
   "cell_type": "code",
   "execution_count": 7,
   "id": "4021c1e1",
   "metadata": {},
   "outputs": [
    {
     "name": "stdout",
     "output_type": "stream",
     "text": [
      "Total stop words present in data set: 761\n"
     ]
    }
   ],
   "source": [
    "def count_positive_words(main_dataset_file, positive_words_file):\n",
    "    \n",
    "    with open(main_dataset_file, 'r', encoding='utf-8') as main_file:\n",
    "        main_data = main_file.read()\n",
    "\n",
    "   \n",
    "    with open(positive_words_file, 'r', encoding='utf-8') as positive_file:\n",
    "        positive_words = positive_file.read().splitlines()\n",
    "\n",
    "    \n",
    "    words = main_data.split()\n",
    "\n",
    "    \n",
    "    count = 0\n",
    "\n",
    "   \n",
    "    for word in words:\n",
    "      \n",
    "        if word in positive_words:\n",
    "            count += 1\n",
    "\n",
    "    \n",
    "    print(\"Total stop words present in data set:\", count)\n",
    "\n",
    "\n",
    "main_dataset_file = '114.txt'\n",
    "positive_words_file = 'all-stop-words.txt'\n",
    "\n",
    "\n",
    "count_positive_words(main_dataset_file, positive_words_file)"
   ]
  },
  {
   "cell_type": "code",
   "execution_count": 8,
   "id": "159f2537",
   "metadata": {},
   "outputs": [
    {
     "name": "stdout",
     "output_type": "stream",
     "text": [
      "Total syllables in the dataset file: 2409\n"
     ]
    }
   ],
   "source": [
    "def count_syllables(word):\n",
    "    vowels = 'aeiouAEIOU'\n",
    "    exceptions = ['es', 'ed']\n",
    "    count = 0\n",
    "    prev_char_vowel = False\n",
    "\n",
    "    if word[-2:] in exceptions:\n",
    "        return count\n",
    "\n",
    "    for char in word:\n",
    "        if char in vowels:\n",
    "            if not prev_char_vowel:\n",
    "                count += 1\n",
    "            prev_char_vowel = True\n",
    "        else:\n",
    "            prev_char_vowel = False\n",
    "\n",
    "    return count\n",
    "\n",
    "def sum_syllables_in_file(file):\n",
    "    total_syllables = 0\n",
    "\n",
    "    with open(file, 'r', encoding='utf-8') as f:\n",
    "        data = f.read()\n",
    "        words = data.split()\n",
    "\n",
    "        for word in words:\n",
    "            total_syllables += count_syllables(word)\n",
    "\n",
    "    return total_syllables\n",
    "\n",
    "dataset_file = \"114.txt\"\n",
    "total_syllables = sum_syllables_in_file(dataset_file)\n",
    "print(\"Total syllables in the dataset file:\", total_syllables)\n"
   ]
  },
  {
   "cell_type": "code",
   "execution_count": 9,
   "id": "d42e97b2",
   "metadata": {},
   "outputs": [
    {
     "name": "stdout",
     "output_type": "stream",
     "text": [
      "Number of personal pronouns mentioned: 1\n"
     ]
    }
   ],
   "source": [
    "import re\n",
    "\n",
    "def count_personal_pronouns(file):\n",
    "    pronouns = ['I', 'we', 'my', 'ours', 'us']\n",
    "    count = 0\n",
    "\n",
    "    with open(file, 'r', encoding='utf-8') as f:\n",
    "        data = f.read()\n",
    "        words = re.findall(r'\\b(?:{})\\b'.format('|'.join(pronouns)), data)\n",
    "\n",
    "        for word in words:\n",
    "            # Exclude the word 'US' (country name)\n",
    "            if word.lower() != 'us':\n",
    "                count += 1\n",
    "\n",
    "    return count\n",
    "\n",
    "dataset_file = \"114.txt\"\n",
    "pronoun_count = count_personal_pronouns(dataset_file)\n",
    "print(\"Number of personal pronouns mentioned:\", pronoun_count)\n"
   ]
  },
  {
   "cell_type": "code",
   "execution_count": 10,
   "id": "e6ce5ee4",
   "metadata": {},
   "outputs": [
    {
     "name": "stdout",
     "output_type": "stream",
     "text": [
      "Total characters: 7811\n",
      "Total words: 1572\n",
      "Average word length: 4.96882951653944\n"
     ]
    }
   ],
   "source": [
    "def calculate_word_stats(file):\n",
    "    total_characters = 0\n",
    "    total_words = 0\n",
    "\n",
    "    with open(file, 'r', encoding='utf-8') as f:\n",
    "        data = f.read()\n",
    "        words = data.split()\n",
    "\n",
    "        for word in words:\n",
    "            total_characters += len(word)\n",
    "            total_words += 1\n",
    "\n",
    "    return total_characters, total_words\n",
    "\n",
    "dataset_file = \"114.txt\"\n",
    "char_count, word_count = calculate_word_stats(dataset_file)\n",
    "average_word_length = char_count / word_count if word_count != 0 else 0\n",
    "\n",
    "print(\"Total characters:\", char_count)\n",
    "print(\"Total words:\", word_count)\n",
    "print(\"Average word length:\", average_word_length)\n"
   ]
  },
  {
   "cell_type": "code",
   "execution_count": null,
   "id": "c85747a9",
   "metadata": {},
   "outputs": [],
   "source": []
  }
 ],
 "metadata": {
  "kernelspec": {
   "display_name": "Python 3 (ipykernel)",
   "language": "python",
   "name": "python3"
  },
  "language_info": {
   "codemirror_mode": {
    "name": "ipython",
    "version": 3
   },
   "file_extension": ".py",
   "mimetype": "text/x-python",
   "name": "python",
   "nbconvert_exporter": "python",
   "pygments_lexer": "ipython3",
   "version": "3.10.9"
  }
 },
 "nbformat": 4,
 "nbformat_minor": 5
}

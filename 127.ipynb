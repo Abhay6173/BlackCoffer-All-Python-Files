{
 "cells": [
  {
   "cell_type": "code",
   "execution_count": 1,
   "id": "3212667b",
   "metadata": {},
   "outputs": [
    {
     "name": "stdout",
     "output_type": "stream",
     "text": [
      "Requirement already satisfied: beautifulsoup4 in c:\\users\\yg\\anaconda3\\lib\\site-packages (4.11.1)\n",
      "Requirement already satisfied: soupsieve>1.2 in c:\\users\\yg\\anaconda3\\lib\\site-packages (from beautifulsoup4) (2.3.2.post1)\n",
      "Requirement already satisfied: requests in c:\\users\\yg\\anaconda3\\lib\\site-packages (2.28.1)\n",
      "Requirement already satisfied: urllib3<1.27,>=1.21.1 in c:\\users\\yg\\anaconda3\\lib\\site-packages (from requests) (1.26.14)\n",
      "Requirement already satisfied: certifi>=2017.4.17 in c:\\users\\yg\\anaconda3\\lib\\site-packages (from requests) (2022.12.7)\n",
      "Requirement already satisfied: idna<4,>=2.5 in c:\\users\\yg\\anaconda3\\lib\\site-packages (from requests) (3.4)\n",
      "Requirement already satisfied: charset-normalizer<3,>=2 in c:\\users\\yg\\anaconda3\\lib\\site-packages (from requests) (2.0.4)\n"
     ]
    }
   ],
   "source": [
    "!pip install beautifulsoup4\n",
    "!pip install requests\n",
    "import sys\n",
    "import time \n",
    "from bs4 import BeautifulSoup\n",
    "import requests\n",
    "try:\n",
    "    \n",
    "    \n",
    "    page=requests.get('https://insights.blackcoffer.com/how-will-covid-19-affect-the-world-of-work/')\n",
    "    \n",
    "    \n",
    "except Exception as e:\n",
    "    error_type, error_obj, error_info = sys.exc_info()\n",
    "    print('Error for link :',url)\n",
    "    print(error_type,'Line :',error_info.tb_lineno)\n",
    "    \n",
    "    \n",
    "time.sleep(2)\n",
    "soup=BeautifulSoup(page.text,'html.parser')\n",
    "links=soup.find_all('h1',attrs={'class':'entry-title'})   \n"
   ]
  },
  {
   "cell_type": "code",
   "execution_count": 2,
   "id": "2f367cb0",
   "metadata": {},
   "outputs": [
    {
     "name": "stdout",
     "output_type": "stream",
     "text": [
      "How will COVID-19 affect the world of work?\n",
      "\n",
      "\n"
     ]
    }
   ],
   "source": [
    "for i in links:\n",
    "    print(i.text)\n",
    "    print(\"\\n\")"
   ]
  },
  {
   "cell_type": "code",
   "execution_count": 3,
   "id": "362c868b",
   "metadata": {},
   "outputs": [
    {
     "name": "stdout",
     "output_type": "stream",
     "text": [
      "\n",
      "Every prophet of doom, unless he also happens to be a psychopath, hopes that his predictions will not be borne out. This is also true for the epidemiologists and virologists who have been warning the world since January that the novel SARS-CoV-2 virus poses a severe threat to public health around the world. The name Coronavirus itself, is vicious enough to terrify those who otherwise are fearless in the face of any ball game. Tracing back the origins of the now pandemic, we find that the coronavirus emerged in Wuhan, a city of 11 million people in China’s Hubei province, in late 2019. Cases of the disease grew by several thousand per day in China in late January and early February, the peak of the epidemic there. The number of infections appearing each day has since plummeted in China, making the outbreak a global pandemic that has engulfed over 214 countries around the globe.\n",
      "Besides being a health crisis, the virus has already brought a major downfall in the world economy with the IMF estimating the coronavirus-induced global downturn to be ‘way worse’ than financial crisis. As the coronavirus spreads across the globe, it appears to be setting off a devastating feedback loop with another of the gravest forces of our time: economic inequality. Research suggests that those in lower economic strata are likelier to catch the disease owing to their inability to meet the rising drug prices. According to the International Labour Organization(ILO), COVID-19 will have far-reaching impacts on labor market outcomes. Beyond the urgent concerns about the health of workers and their families, the virus and the subsequent economic shocks will impact the world of work across three key dimensions.\n",
      "Initial ILO estimates point to a significant rise in unemployment and underemployment in the wake of the virus. Based on different scenarios for the impact of COVID-19 on global GDP growth, preliminary ILO estimates indicate a rise in global unemployment of between 5.3 million (“low” scenario) and 24.7 million (“high” scenario) from a base level of 188 million in 2019. The “mid” scenario suggests an increase of 13 million (7.4 million in high-income countries). Though these estimates remain highly uncertain, all figures indicate a substantial rise in global unemployment. For comparison, the global financial crisis of 2008-9 increased unemployment by 22 million. While self-employment does not typically react to economic downturns, it acts as a “default” option for survival or maintaining income – often in the informal economy. For this reason, informal employment tends to increase during crises. However, the current limitations on the movement of people and goods may restrict this type of coping mechanism.\n",
      "Labour supply is declining because of quarantine measures and a fall in economic activity. At this point, a preliminary estimate suggests that infected workers have already lost nearly 30,000 work months, with the consequent loss of income (for unprotected workers). Employment impacts imply large income losses for workers. Overall losses in labour income are expected in the range of between 860 and 3,440 billion USD. The loss of labour income will translate into lower consumption of goods and services, which is detrimental to the continuity of businesses and ensuring that economies are resilient. Working poverty is also likely to increase significantly. The strain on incomes resulting from the decline in economic activity will devastate workers close to or below the poverty line. The growth impacts of the virus used for the unemployment estimates above suggest an additional 8.8 million people in working poverty around the world than originally estimated (i.e. an overall decline of 5.2 million working poor in 2020 compared to a decline of 14 million estimated pre-COVID-19). Under the mid and high scenarios, there will be between 20.1 million and 35.0 million more people in working poverty than before the pre-COVID-19 estimate for 2020.\n",
      "Who are particularly vulnerable?Epidemics and economic crises can have a disproportionate impact on certain segments of the population, which can trigger worsening inequality. Based on past experience and current information on the COVID-19 pandemic and insights from previous crises, a number of groups can be identified:\n",
      "Those with underlying health conditions and older people are most at risk of developing serious health issues.Young persons, already facing higher rates of unemployment and underemployment, are more vulnerable to falling labor demand, as witnessed during the global financial crisis. Women are over-represented in more affected sectors (such as services) or in occupations that are at the front line of dealing with the pandemic (e.g. nurses). The ILO estimates that 58.6 percent of employed women work in the services sector around the world, compared to 45.4 percent of men.Unprotected workers, including the self-employed, casual, and gig workers, are likely to be disproportionately hit by the virus as they do not have access to paid or sick leave mechanisms, and are less protected by conventional social protection mechanisms and other forms of income smoothing.Migrant workers are particularly vulnerable to the impact of the COVID-19 crisis, which will constrain both their ability to access their places of work in destination countries and return to their families.\n",
      "The extent and severity to which the coronavirus pandemic will impact the fight to end extreme poverty is still unknown, but it is expected that the crisis will devastate the world’s most vulnerable people including the world of work. The virus is already disproportionately impacting the poor in wealthy countries, where the most known cases are concentrated. Experts are urging the world to prepare to lend extra support to low-income countries to address the pandemic. COVID-19 cases are more likely to go undetected or to be under-detected in developing countries that have fewer resources available to tackle a pandemic. Countries with large poor populations including Brazil, India, Indonesia, Nigeria, and Pakistan have confirmed few cases, but have been slow to respond to the threat, according to NPR. Preventative care and health education are less accessible to low-income people who are more likely to have pre-existing conditions, catch COVID-19, and die from it. People living in poverty are also more likely to hold insecure jobs and cannot afford to stay home sick from work.\n",
      "In times of crisis, International Labour Standards provide a strong foundation for key policy responses that focus on the crucial role of decent work in achieving a sustained and equitable recovery to mitigate the impacts of COVID-19 on the world of work. These standards, adopted by representatives of governments, workers’ and employers’ organizations, provide a human-centered approach to growth and development, including by triggering policy levers that both stimulate demand and protect workers and enterprises.\n",
      "Policy responses should focus on two immediate goals: Health protection measures and economic support on both the demand- and supply-side of the associated cause.\n",
      "First, workers and employers and their families should be protected from the health risks of COVID-19. Protective measures at the workplace and across communities should be introduced and strengthened, requiring large-scale public support and investment.Second, timely, large-scale, and coordinated policy efforts should be taken to provide employment and income support and to stimulate the economy and labor demand. These measures not only cushion enterprises and workers against immediate employment and income losses, but they also help prevent a chain of supply shocks (e.g. losses in workers’ productivity capacities) and demand shocks (e.g. suppressing consumption among workers and their families) that could lead to a prolonged economic recession.\n",
      "In such challenging times, many countries have come forward to protect their workers in the workplace with decisive measures to combat the spread of the disease, while ameliorating its pernicious effect on the economy and labor market across the three policy pillars: protecting workers in the workplace, stimulating the economy and labor demand, and supporting employment and income. Some of the policies include Working arrangements, including telework; Occupational Safety and Health (OSH) advice; Expanded access to paid sick leave; Prevention of discrimination and exclusion. While these measures will no doubt help to contain the pandemic, to respond to the emergency needs it has generated and to pave the way to a gradual recovery, it is clear that more needs to be done. Past crises and the experiences of countries, which have reacted too late in the context of the current COVID-19 crisis, show that preparedness and early action is critical.\n",
      "The coronavirus pandemic is a test. It’s a test of medical capacity and political will. It’s a test of endurance and forbearance, for believers a test of religious faith. It’s a test, too, of a different kind of faith, in the strength of the ideas humans choose to help them form moral judgments and guide personal and social behavior. The epidemic forces everyone to confront deep questions of human existence, questions so profound that they have previously been answered, in many different ways, by the greatest philosophers. It’s a test of where all humans stand. What is right and what is wrong? What can individuals expect from society, and what can society expect of them? Should others make sacrifices for me, and vice versa? Is it just to set economic limits to fighting a deadly disease? How long will we stay that way? And as the epidemic grows worse and brings the disease within fewer degrees of separation for everyone, we may well find that the notion of loving thy neighbor as thyself becomes far more potent.At last I would like to conclude by saying that COVID-19 is something we all face as a community, and thus something that we have to solve as a community, not with weapons, but with goodwill and common efforts.\n",
      "Blackcoffer Insights 17:-Adamya Patel, Vellore Institute of Technology\n",
      "\n",
      "\n",
      "\n"
     ]
    }
   ],
   "source": [
    "links=soup.find_all('div',attrs={'class':'td-post-content tagdiv-type'})\n",
    "for i in links:\n",
    "    print(i.text)\n",
    "    print(\"\\n\")"
   ]
  },
  {
   "cell_type": "code",
   "execution_count": 10,
   "id": "8c67e86e",
   "metadata": {},
   "outputs": [
    {
     "name": "stdout",
     "output_type": "stream",
     "text": [
      "Total positive score: 40\n"
     ]
    }
   ],
   "source": [
    "def count_positive_words(main_dataset_file, positive_words_file):\n",
    "    \n",
    "    \n",
    "\n",
    "    with open(main_dataset_file, 'r', encoding='utf-8') as main_file:\n",
    "        main_data = main_file.read()\n",
    "\n",
    "   \n",
    "    with open(positive_words_file, 'r', encoding='utf-8') as positive_file:\n",
    "        positive_words = positive_file.read().splitlines()\n",
    "\n",
    "    \n",
    "    words = main_data.split()\n",
    "\n",
    "    \n",
    "    count = 0\n",
    "\n",
    "   \n",
    "    for word in words:\n",
    "      \n",
    "        if word in positive_words:\n",
    "            count += 1\n",
    "\n",
    "    \n",
    "    print(\"Total positive score:\", count)\n",
    "\n",
    "\n",
    "main_dataset_file = '127.txt'\n",
    "positive_words_file = 'positive.txt'\n",
    "\n",
    "\n",
    "count_positive_words(main_dataset_file, positive_words_file)\n"
   ]
  },
  {
   "cell_type": "code",
   "execution_count": 11,
   "id": "da0cbe2f",
   "metadata": {},
   "outputs": [
    {
     "name": "stdout",
     "output_type": "stream",
     "text": [
      "Total positive score: 75\n"
     ]
    }
   ],
   "source": [
    "def count_positive_words(main_dataset_file, positive_words_file):\n",
    "    \n",
    "    \n",
    "\n",
    "    with open(main_dataset_file, 'r', encoding='latin-1') as main_file:\n",
    "        main_data = main_file.read()\n",
    "\n",
    "   \n",
    "    with open(positive_words_file, 'r', encoding='latin-1') as positive_file:\n",
    "        positive_words = positive_file.read().splitlines()\n",
    "\n",
    "    \n",
    "    words = main_data.split()\n",
    "\n",
    "    \n",
    "    count = 0\n",
    "\n",
    "   \n",
    "    for word in words:\n",
    "      \n",
    "        if word in positive_words:\n",
    "            count += 1\n",
    "\n",
    "    \n",
    "    print(\"Total positive score:\", count)\n",
    "\n",
    "\n",
    "main_dataset_file = '127.txt'\n",
    "positive_words_file = 'negative-words.txt'\n",
    "\n",
    "\n",
    "count_positive_words(main_dataset_file, positive_words_file)\n"
   ]
  },
  {
   "cell_type": "code",
   "execution_count": 12,
   "id": "725796f0",
   "metadata": {},
   "outputs": [
    {
     "name": "stdout",
     "output_type": "stream",
     "text": [
      "Total number of words: 1606\n"
     ]
    }
   ],
   "source": [
    "def count_total_words(dataset_file):\n",
    "   \n",
    "    with open(dataset_file, 'r', encoding='utf-8') as file:\n",
    "        content = file.read()\n",
    "\n",
    "    \n",
    "    words = content.split()\n",
    "\n",
    "    \n",
    "    total_words = len(words)\n",
    "\n",
    "    return total_words\n",
    "\n",
    "\n",
    "dataset_file = '127.txt'\n",
    "\n",
    "\n",
    "total_words = count_total_words(dataset_file)\n",
    "\n",
    "\n",
    "print(\"Total number of words:\", total_words)\n"
   ]
  },
  {
   "cell_type": "code",
   "execution_count": 13,
   "id": "db422278",
   "metadata": {},
   "outputs": [
    {
     "name": "stdout",
     "output_type": "stream",
     "text": [
      "Number of complex words: 229\n"
     ]
    }
   ],
   "source": [
    "import pyphen\n",
    "import re\n",
    "dataset_file = \"127.txt\"\n",
    "dictionary = pyphen.Pyphen(lang='en')\n",
    "def count_syllables(word):\n",
    "    return len(dictionary.inserted(word).split('-'))\n",
    "def count_complex_words(file):\n",
    "    complex_word_count = 0\n",
    "\n",
    "    with open(file, 'r', encoding='utf-8') as f:\n",
    "        data = f.read()\n",
    "        words = re.findall(r'\\b\\w+\\b', data)  \n",
    "\n",
    "        for word in words:\n",
    "            syllable_count = count_syllables(word)\n",
    "            if syllable_count > 2:\n",
    "                complex_word_count += 1\n",
    "\n",
    "    return complex_word_count\n",
    "complex_words_count = count_complex_words(dataset_file)\n",
    "print(\"Number of complex words:\", complex_words_count)\n",
    "\n",
    "\n",
    "\n"
   ]
  },
  {
   "cell_type": "code",
   "execution_count": 14,
   "id": "b90c3371",
   "metadata": {},
   "outputs": [
    {
     "name": "stdout",
     "output_type": "stream",
     "text": [
      "Number of sentences: 63\n"
     ]
    }
   ],
   "source": [
    "import re\n",
    "def count_sentences(file):\n",
    "    with open(file, 'r', encoding='utf-8') as f:\n",
    "        data = f.read()\n",
    "        sentences = re.split(r'(?<!\\w\\.\\w.)(?<![A-Z][a-z]\\.)(?<=\\.|\\?)\\s', data)\n",
    "        sentence_count = len(sentences)\n",
    "\n",
    "    return sentence_count\n",
    "dataset_file = \"127.txt\"\n",
    "sentence_count = count_sentences(dataset_file)\n",
    "print(\"Number of sentences:\", sentence_count)"
   ]
  },
  {
   "cell_type": "code",
   "execution_count": 15,
   "id": "9de71292",
   "metadata": {},
   "outputs": [
    {
     "name": "stdout",
     "output_type": "stream",
     "text": [
      "Sum of total number of characters: 8632\n"
     ]
    }
   ],
   "source": [
    "def calculate_total_character_count(file):\n",
    "    total_character_count = 0\n",
    "\n",
    "    with open(file, 'r', encoding='utf-8') as f:\n",
    "        data = f.read()\n",
    "        words = data.split() \n",
    "\n",
    "        for word in words:\n",
    "            total_character_count += len(word)\n",
    "\n",
    "    return total_character_count\n",
    "dataset_file = \"127.txt\"\n",
    "character_count = calculate_total_character_count(dataset_file)\n",
    "print(\"Sum of total number of characters:\", character_count)\n"
   ]
  },
  {
   "cell_type": "code",
   "execution_count": 16,
   "id": "1cb8ba2a",
   "metadata": {},
   "outputs": [
    {
     "name": "stdout",
     "output_type": "stream",
     "text": [
      "Total stop words present in data set: 723\n"
     ]
    }
   ],
   "source": [
    "def count_positive_words(main_dataset_file, positive_words_file):\n",
    "    \n",
    "    with open(main_dataset_file, 'r', encoding='utf-8') as main_file:\n",
    "        main_data = main_file.read()\n",
    "\n",
    "   \n",
    "    with open(positive_words_file, 'r', encoding='utf-8') as positive_file:\n",
    "        positive_words = positive_file.read().splitlines()\n",
    "\n",
    "    \n",
    "    words = main_data.split()\n",
    "\n",
    "    \n",
    "    count = 0\n",
    "\n",
    "   \n",
    "    for word in words:\n",
    "      \n",
    "        if word in positive_words:\n",
    "            count += 1\n",
    "\n",
    "    \n",
    "    print(\"Total stop words present in data set:\", count)\n",
    "\n",
    "\n",
    "main_dataset_file = '127.txt'\n",
    "positive_words_file = 'all-stop-words.txt'\n",
    "\n",
    "\n",
    "count_positive_words(main_dataset_file, positive_words_file)"
   ]
  },
  {
   "cell_type": "code",
   "execution_count": 17,
   "id": "02af9447",
   "metadata": {},
   "outputs": [
    {
     "name": "stdout",
     "output_type": "stream",
     "text": [
      "Total syllables in the dataset file: 2622\n"
     ]
    }
   ],
   "source": [
    "def count_syllables(word):\n",
    "    vowels = 'aeiouAEIOU'\n",
    "    exceptions = ['es', 'ed']\n",
    "    count = 0\n",
    "    prev_char_vowel = False\n",
    "\n",
    "    if word[-2:] in exceptions:\n",
    "        return count\n",
    "\n",
    "    for char in word:\n",
    "        if char in vowels:\n",
    "            if not prev_char_vowel:\n",
    "                count += 1\n",
    "            prev_char_vowel = True\n",
    "        else:\n",
    "            prev_char_vowel = False\n",
    "\n",
    "    return count\n",
    "\n",
    "def sum_syllables_in_file(file):\n",
    "    total_syllables = 0\n",
    "\n",
    "    with open(file, 'r', encoding='utf-8') as f:\n",
    "        data = f.read()\n",
    "        words = data.split()\n",
    "\n",
    "        for word in words:\n",
    "            total_syllables += count_syllables(word)\n",
    "\n",
    "    return total_syllables\n",
    "\n",
    "dataset_file = \"127.txt\"\n",
    "total_syllables = sum_syllables_in_file(dataset_file)\n",
    "print(\"Total syllables in the dataset file:\", total_syllables)\n"
   ]
  },
  {
   "cell_type": "code",
   "execution_count": 18,
   "id": "da3f57ee",
   "metadata": {},
   "outputs": [
    {
     "name": "stdout",
     "output_type": "stream",
     "text": [
      "Number of personal pronouns mentioned: 6\n"
     ]
    }
   ],
   "source": [
    "import re\n",
    "\n",
    "def count_personal_pronouns(file):\n",
    "    pronouns = ['I', 'we', 'my', 'ours', 'us']\n",
    "    count = 0\n",
    "\n",
    "    with open(file, 'r', encoding='utf-8') as f:\n",
    "        data = f.read()\n",
    "        words = re.findall(r'\\b(?:{})\\b'.format('|'.join(pronouns)), data)\n",
    "\n",
    "        for word in words:\n",
    "            # Exclude the word 'US' (country name)\n",
    "            if word.lower() != 'us':\n",
    "                count += 1\n",
    "\n",
    "    return count\n",
    "\n",
    "dataset_file = \"127.txt\"\n",
    "pronoun_count = count_personal_pronouns(dataset_file)\n",
    "print(\"Number of personal pronouns mentioned:\", pronoun_count)\n"
   ]
  },
  {
   "cell_type": "code",
   "execution_count": 19,
   "id": "a6cd5d75",
   "metadata": {},
   "outputs": [
    {
     "name": "stdout",
     "output_type": "stream",
     "text": [
      "Total characters: 8632\n",
      "Total words: 1606\n",
      "Average word length: 5.3748443337484435\n"
     ]
    }
   ],
   "source": [
    "def calculate_word_stats(file):\n",
    "    total_characters = 0\n",
    "    total_words = 0\n",
    "\n",
    "    with open(file, 'r', encoding='utf-8') as f:\n",
    "        data = f.read()\n",
    "        words = data.split()\n",
    "\n",
    "        for word in words:\n",
    "            total_characters += len(word)\n",
    "            total_words += 1\n",
    "\n",
    "    return total_characters, total_words\n",
    "\n",
    "dataset_file = \"127.txt\"\n",
    "char_count, word_count = calculate_word_stats(dataset_file)\n",
    "average_word_length = char_count / word_count if word_count != 0 else 0\n",
    "\n",
    "print(\"Total characters:\", char_count)\n",
    "print(\"Total words:\", word_count)\n",
    "print(\"Average word length:\", average_word_length)\n"
   ]
  },
  {
   "cell_type": "code",
   "execution_count": null,
   "id": "32094d55",
   "metadata": {},
   "outputs": [],
   "source": []
  },
  {
   "cell_type": "code",
   "execution_count": null,
   "id": "c9865def",
   "metadata": {},
   "outputs": [],
   "source": []
  },
  {
   "cell_type": "code",
   "execution_count": null,
   "id": "44890280",
   "metadata": {},
   "outputs": [],
   "source": []
  },
  {
   "cell_type": "code",
   "execution_count": null,
   "id": "ee549564",
   "metadata": {},
   "outputs": [],
   "source": []
  }
 ],
 "metadata": {
  "kernelspec": {
   "display_name": "Python 3 (ipykernel)",
   "language": "python",
   "name": "python3"
  },
  "language_info": {
   "codemirror_mode": {
    "name": "ipython",
    "version": 3
   },
   "file_extension": ".py",
   "mimetype": "text/x-python",
   "name": "python",
   "nbconvert_exporter": "python",
   "pygments_lexer": "ipython3",
   "version": "3.10.9"
  }
 },
 "nbformat": 4,
 "nbformat_minor": 5
}

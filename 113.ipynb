{
 "cells": [
  {
   "cell_type": "code",
   "execution_count": 1,
   "id": "d6e1fa39",
   "metadata": {},
   "outputs": [
    {
     "name": "stdout",
     "output_type": "stream",
     "text": [
      "Requirement already satisfied: beautifulsoup4 in c:\\users\\yg\\anaconda3\\lib\\site-packages (4.11.1)\n",
      "Requirement already satisfied: soupsieve>1.2 in c:\\users\\yg\\anaconda3\\lib\\site-packages (from beautifulsoup4) (2.3.2.post1)\n",
      "Requirement already satisfied: requests in c:\\users\\yg\\anaconda3\\lib\\site-packages (2.28.1)\n",
      "Requirement already satisfied: urllib3<1.27,>=1.21.1 in c:\\users\\yg\\anaconda3\\lib\\site-packages (from requests) (1.26.14)\n",
      "Requirement already satisfied: certifi>=2017.4.17 in c:\\users\\yg\\anaconda3\\lib\\site-packages (from requests) (2022.12.7)\n",
      "Requirement already satisfied: charset-normalizer<3,>=2 in c:\\users\\yg\\anaconda3\\lib\\site-packages (from requests) (2.0.4)\n",
      "Requirement already satisfied: idna<4,>=2.5 in c:\\users\\yg\\anaconda3\\lib\\site-packages (from requests) (3.4)\n"
     ]
    }
   ],
   "source": [
    "!pip install beautifulsoup4\n",
    "!pip install requests\n",
    "import sys\n",
    "import time \n",
    "from bs4 import BeautifulSoup\n",
    "import requests\n",
    "try:\n",
    "    \n",
    "    \n",
    "    page=requests.get('https://insights.blackcoffer.com/coronavirus-impact-on-the-hospitality-industry-3/')\n",
    "    \n",
    "    \n",
    "except Exception as e:\n",
    "    error_type, error_obj, error_info = sys.exc_info()\n",
    "    print('Error for link :',url)\n",
    "    print(error_type,'Line :',error_info.tb_lineno)\n",
    "    \n",
    "    \n",
    "time.sleep(2)\n",
    "soup=BeautifulSoup(page.text,'html.parser')\n",
    "links=soup.find_all('h1',attrs={'class':'entry-title'})   \n"
   ]
  },
  {
   "cell_type": "code",
   "execution_count": 2,
   "id": "a4c2dbdb",
   "metadata": {},
   "outputs": [
    {
     "name": "stdout",
     "output_type": "stream",
     "text": [
      "Coronavirus: Effect on the Hospitality Industry\n",
      "\n",
      "\n"
     ]
    }
   ],
   "source": [
    "for i in links:\n",
    "    print(i.text)\n",
    "    print(\"\\n\")"
   ]
  },
  {
   "cell_type": "code",
   "execution_count": 3,
   "id": "38f2efff",
   "metadata": {},
   "outputs": [
    {
     "name": "stdout",
     "output_type": "stream",
     "text": [
      "\n",
      "The hospitality sector in India has witnessed unprecedented deceleration this year in the wake of the COVID-19 pandemic. The Indian hotel sector has been hit hard, tussling with significantly low demand, with very few future bookings. Since the outbreak of COVID-19, companies have been canceling interviews at the top hotel management colleges in India. The overall hiring sentiment in the country is witnessing a negative impact in the short term with 60-65 percent of interviews getting postponed, especially in the hospitality services sector, following the slowdown across industries triggered by the coronavirus pandemic. Even the students who were aspiring for a career in the hospitality industry are on the verge of full swing. Currently, with the imposition of Section 144, there are barely any bookings being made for the future, and the current ones all stand canceled. In this scenario, there is limited scope for quick revival.\n",
      "\n",
      "\n",
      "\n",
      "It’s proud to see that this sector shows its maturity level: in working together, showing their true hospitality commitments in helping out our society where they can. For example by making their venue available for hospital beds and hospital employees. The situation we are in also brings new business models and opportunities, in defining, for instance, new delivery concepts, human capital sharing platforms, initiatives in promoting the “staycation or holiday concept” and the use of the less productive time to work on activities that were normally pushed forward like asset counts, security plans, defining standard operating procedures, social media plans, etc.\n",
      "WHAT HAS CAUSED THE PANIC?\n",
      "This may seem obvious, but it’s worth looking at this a bit closer. The main reason there was such widespread panic was that the government announced its advice to avoid public meeting places like restaurants, bars, and pubs without simultaneously announcing a complete ban or a plan to support the businesses whose revenue streams they’d just denied. Many of these businesses operate on low margins and very fragile cash flow already so the prospect of survival for an indefinite period of time without income seemed very bleak indeed. This has taken a mental toll on already stressed business owners and their worried staff.\n",
      "\n",
      "\n",
      "\n",
      "FACTS & FIGURES – Coronavirus Effect on the Hospitality:\n",
      "The impact of the novel coronavirus on India’s hospitality sector jobs is nothing short of severe. While most economists expect things to rebound in the latter half of the year, uncertainty still lurks. A sheer job trauma is staring at the hospitality industry in the near future. This is as the chances of losing a job are at high risk. Furthermore the entry-level has postponed the hiring for the near future. Let us check here some of the facts concerning the drop in the various hotel occupancy sectors.\n",
      "\n",
      "The country’s daily hotel occupancy dropped to 11% during 23-29 March, according to preliminary data from STR, Department of Revenue, Ministry of Finance, Government of India due to COVID-19 concerns, and limitations that have intensified in India.\n",
      "Along with a steep downward trend in occupancy, the average daily rate (ADR), and revenue per available room (RevPAR) have also dropped significantly in India. ADR, which has dropped year over year by around 20% or more for eight consecutive days, went as low as INR4, 924.18 on 28 March. RevPAR attained its least absolute level (INR537.54) on 22 March.\n",
      "In India, both luxury and budget hotels are running at just 10 percent of occupancy levels as thousands of people have canceled their trips. This may further worsen in the times to come at least till the end of this year. For instance, Airbnb announced its guests could cancel their reservations for a full refund.\n",
      "The overall revenue of the Indian hotel sector is set to decline by anywhere between US$ 8.85 billion to US$ 10 billion, reflecting an erosion of 39% to 45% compared to last year.\n",
      "Besides the actual business loss, the hotel owners will also incur losses due to fixed operating expenses, debt repayments, interest payments, and several other compliances required to be undertaken as part of the sector.\n",
      "With hospitality and travel sectors among the worst affected by COVID-19, OYO’s entire executive leadership (CXOs) team has taken a voluntary pay cut, starting at 25%, with many opting for a supplementary untapped amount, and some going up to 50% to enable constructing the runway for the company.\n",
      "Ritesh Agarwal, the Founder & Group CEO, OYO Hotels & Homes, has decided to forego 100% of his salary for the rest of the year in the wake of the novel coronavirus crisis.\n",
      "\n",
      "\n",
      "\n",
      "\n",
      "Proposed Action Plans -Coronavirus Effect on the Hospitality\n",
      "The hospitality industry can use this chasm to prepare for the upcoming demand by focusing on marketing and up-gradation. This ‘Stop Gap Plan’ is about maintaining a thread of communication, using social media and advertisements, with the consumers. It’s also about strengthening the communication within the company, making a budget and plan for re-opening, and utilizing this period to fix and upgrade whatever is possible. Another step is where all the action is required by the sector. Once the outbreak of the virus is contained and the world is set to travel again, it is suggested that any plan of re-opening must be done keeping long-term benefits and safety compliances in mind. It is imperative that hospitality companies reach out to deferred and canceled bookings and give due attention to domestic travelers. The hotels and airlines must slowly roll out their services rather than starting everything instantly and not get caught up in spending.This way Coronavirus Effect on the Hospitality\n",
      "A Way Forward: Recommendations for the Government of India\n",
      "The government is already taking measures to combat the effects of the pandemic on the country. Here are the multiple measures, if taken by the government of India, can help the Indian hotel industry weather the current storm.\n",
      "\n",
      "Stimulus package to stabilize and support the hospitality sector in the near term, including a workforce support fund to ensure that there are no job losses.\n",
      "Provide a moratorium of ~ 6 – 12 months on all loans (principal & interest), including working capital payments and overdrafts.\n",
      "Ensure that credit rating agencies do not downgrade ratings of businesses, due to the expected volatility of the business in the short to medium term.\n",
      "Provide a 12-month corporate tax holiday to travel, tourism, and hospitality sectors.\n",
      "Defer all statutory dues such as advance tax, custom duties, excise duties, PF, bank charges, etc. at the central and state level for 12 months.\n",
      "The government authorities must ensure that there is adequate availability of collateral-free and interest-free credit for organizations in the hospitality, travel, and tourism industries.\n",
      "\n",
      "WHAT WILL CORONAVIRUS LEAVE BEHIND?\n",
      "\n",
      "\n",
      "\n",
      "Really this is anyone’s guess. We don’t yet know how long it will take for the epidemic to peak and for us to be allowed out again, but one thing I am sure of is that we’ll all be desperate to meet up with friends over dinner or have a pint in the pub! With proper support from the government I think the hospitality industry stands a good chance of bouncing back quickly, but perhaps not in its former form. It is likely that we will see a kind of natural selection take place among restaurants, leaving space for innovative new entrants. The crisis has already forced several restaurants to innovate by developing new services and perhaps, if regulation allows, these will stick, becoming new models for restaurants in the future and offering them a more diverse and resilient set of revenue streams. Thus Coronavirus Effect on the Hospitality and other sectors.\n",
      "Blackcoffer Insights 17:-Radhika Kejriwal,IMT Nagpur\n",
      "\n",
      "\n",
      "\n"
     ]
    }
   ],
   "source": [
    "links=soup.find_all('div',attrs={'class':'td-post-content tagdiv-type'})\n",
    "for i in links:\n",
    "    print(i.text)\n",
    "    print(\"\\n\")"
   ]
  },
  {
   "cell_type": "code",
   "execution_count": 1,
   "id": "e2f647d2",
   "metadata": {},
   "outputs": [
    {
     "name": "stdout",
     "output_type": "stream",
     "text": [
      "Total positive score: 25\n"
     ]
    }
   ],
   "source": [
    "def count_positive_words(main_dataset_file, positive_words_file):\n",
    "    \n",
    "    \n",
    "\n",
    "    with open(main_dataset_file, 'r', encoding='utf-8') as main_file:\n",
    "        main_data = main_file.read()\n",
    "\n",
    "   \n",
    "    with open(positive_words_file, 'r', encoding='utf-8') as positive_file:\n",
    "        positive_words = positive_file.read().splitlines()\n",
    "\n",
    "    \n",
    "    words = main_data.split()\n",
    "\n",
    "    \n",
    "    count = 0\n",
    "\n",
    "   \n",
    "    for word in words:\n",
    "      \n",
    "        if word in positive_words:\n",
    "            count += 1\n",
    "\n",
    "    \n",
    "    print(\"Total positive score:\", count)\n",
    "\n",
    "\n",
    "main_dataset_file = '113.txt'\n",
    "positive_words_file = 'positive.txt'\n",
    "\n",
    "\n",
    "count_positive_words(main_dataset_file, positive_words_file)\n"
   ]
  },
  {
   "cell_type": "code",
   "execution_count": 2,
   "id": "e1b230fd",
   "metadata": {},
   "outputs": [
    {
     "name": "stdout",
     "output_type": "stream",
     "text": [
      "Total negative score: 27\n"
     ]
    }
   ],
   "source": [
    "def count_positive_words(main_dataset_file, positive_words_file):\n",
    "    \n",
    "    \n",
    "\n",
    "    with open(main_dataset_file, 'r', encoding='latin-1') as main_file:\n",
    "        main_data = main_file.read()\n",
    "\n",
    "   \n",
    "    with open(positive_words_file, 'r', encoding='latin-1') as positive_file:\n",
    "        positive_words = positive_file.read().splitlines()\n",
    "\n",
    "    \n",
    "    words = main_data.split()\n",
    "\n",
    "    \n",
    "    count = 0\n",
    "\n",
    "   \n",
    "    for word in words:\n",
    "      \n",
    "        if word in positive_words:\n",
    "            count += 1\n",
    "\n",
    "    \n",
    "    print(\"Total negative score:\", count)\n",
    "\n",
    "\n",
    "main_dataset_file = '113.txt'\n",
    "positive_words_file = 'negative-words.txt'\n",
    "\n",
    "\n",
    "count_positive_words(main_dataset_file, positive_words_file)\n"
   ]
  },
  {
   "cell_type": "code",
   "execution_count": 3,
   "id": "f3275178",
   "metadata": {},
   "outputs": [
    {
     "name": "stdout",
     "output_type": "stream",
     "text": [
      "Total number of words: 1271\n"
     ]
    }
   ],
   "source": [
    "def count_total_words(dataset_file):\n",
    "   \n",
    "    with open(dataset_file, 'r', encoding='utf-8') as file:\n",
    "        content = file.read()\n",
    "\n",
    "    \n",
    "    words = content.split()\n",
    "\n",
    "    \n",
    "    total_words = len(words)\n",
    "\n",
    "    return total_words\n",
    "\n",
    "\n",
    "dataset_file = '113.txt'\n",
    "\n",
    "\n",
    "total_words = count_total_words(dataset_file)\n",
    "\n",
    "\n",
    "print(\"Total number of words:\", total_words)\n"
   ]
  },
  {
   "cell_type": "code",
   "execution_count": 4,
   "id": "aa3a27ca",
   "metadata": {},
   "outputs": [
    {
     "name": "stdout",
     "output_type": "stream",
     "text": [
      "Number of complex words: 168\n"
     ]
    }
   ],
   "source": [
    "import pyphen\n",
    "import re\n",
    "dataset_file = \"113.txt\"\n",
    "dictionary = pyphen.Pyphen(lang='en')\n",
    "def count_syllables(word):\n",
    "    return len(dictionary.inserted(word).split('-'))\n",
    "def count_complex_words(file):\n",
    "    complex_word_count = 0\n",
    "\n",
    "    with open(file, 'r', encoding='utf-8') as f:\n",
    "        data = f.read()\n",
    "        words = re.findall(r'\\b\\w+\\b', data)  \n",
    "\n",
    "        for word in words:\n",
    "            syllable_count = count_syllables(word)\n",
    "            if syllable_count > 2:\n",
    "                complex_word_count += 1\n",
    "\n",
    "    return complex_word_count\n",
    "complex_words_count = count_complex_words(dataset_file)\n",
    "print(\"Number of complex words:\", complex_words_count)\n",
    "\n",
    "\n",
    "\n"
   ]
  },
  {
   "cell_type": "code",
   "execution_count": 5,
   "id": "b836e49d",
   "metadata": {},
   "outputs": [
    {
     "name": "stdout",
     "output_type": "stream",
     "text": [
      "Number of sentences: 54\n"
     ]
    }
   ],
   "source": [
    "import re\n",
    "def count_sentences(file):\n",
    "    with open(file, 'r', encoding='utf-8') as f:\n",
    "        data = f.read()\n",
    "        sentences = re.split(r'(?<!\\w\\.\\w.)(?<![A-Z][a-z]\\.)(?<=\\.|\\?)\\s', data)\n",
    "        sentence_count = len(sentences)\n",
    "\n",
    "    return sentence_count\n",
    "dataset_file = \"113.txt\"\n",
    "sentence_count = count_sentences(dataset_file)\n",
    "print(\"Number of sentences:\", sentence_count)"
   ]
  },
  {
   "cell_type": "code",
   "execution_count": 6,
   "id": "699896d8",
   "metadata": {},
   "outputs": [
    {
     "name": "stdout",
     "output_type": "stream",
     "text": [
      "Sum of total number of characters: 6576\n"
     ]
    }
   ],
   "source": [
    "def calculate_total_character_count(file):\n",
    "    total_character_count = 0\n",
    "\n",
    "    with open(file, 'r', encoding='utf-8') as f:\n",
    "        data = f.read()\n",
    "        words = data.split() \n",
    "\n",
    "        for word in words:\n",
    "            total_character_count += len(word)\n",
    "\n",
    "    return total_character_count\n",
    "dataset_file = \"113.txt\"\n",
    "character_count = calculate_total_character_count(dataset_file)\n",
    "print(\"Sum of total number of characters:\", character_count)\n"
   ]
  },
  {
   "cell_type": "code",
   "execution_count": 7,
   "id": "5ab9600c",
   "metadata": {},
   "outputs": [
    {
     "name": "stdout",
     "output_type": "stream",
     "text": [
      "Total stop words present in data set: 569\n"
     ]
    }
   ],
   "source": [
    "def count_positive_words(main_dataset_file, positive_words_file):\n",
    "    \n",
    "    with open(main_dataset_file, 'r', encoding='utf-8') as main_file:\n",
    "        main_data = main_file.read()\n",
    "\n",
    "   \n",
    "    with open(positive_words_file, 'r', encoding='utf-8') as positive_file:\n",
    "        positive_words = positive_file.read().splitlines()\n",
    "\n",
    "    \n",
    "    words = main_data.split()\n",
    "\n",
    "    \n",
    "    count = 0\n",
    "\n",
    "   \n",
    "    for word in words:\n",
    "      \n",
    "        if word in positive_words:\n",
    "            count += 1\n",
    "\n",
    "    \n",
    "    print(\"Total stop words present in data set:\", count)\n",
    "\n",
    "\n",
    "main_dataset_file = '113.txt'\n",
    "positive_words_file = 'all-stop-words.txt'\n",
    "\n",
    "\n",
    "count_positive_words(main_dataset_file, positive_words_file)"
   ]
  },
  {
   "cell_type": "code",
   "execution_count": 8,
   "id": "57973c03",
   "metadata": {},
   "outputs": [
    {
     "name": "stdout",
     "output_type": "stream",
     "text": [
      "Total syllables in the dataset file: 2030\n"
     ]
    }
   ],
   "source": [
    "def count_syllables(word):\n",
    "    vowels = 'aeiouAEIOU'\n",
    "    exceptions = ['es', 'ed']\n",
    "    count = 0\n",
    "    prev_char_vowel = False\n",
    "\n",
    "    if word[-2:] in exceptions:\n",
    "        return count\n",
    "\n",
    "    for char in word:\n",
    "        if char in vowels:\n",
    "            if not prev_char_vowel:\n",
    "                count += 1\n",
    "            prev_char_vowel = True\n",
    "        else:\n",
    "            prev_char_vowel = False\n",
    "\n",
    "    return count\n",
    "\n",
    "def sum_syllables_in_file(file):\n",
    "    total_syllables = 0\n",
    "\n",
    "    with open(file, 'r', encoding='utf-8') as f:\n",
    "        data = f.read()\n",
    "        words = data.split()\n",
    "\n",
    "        for word in words:\n",
    "            total_syllables += count_syllables(word)\n",
    "\n",
    "    return total_syllables\n",
    "\n",
    "dataset_file = \"113.txt\"\n",
    "total_syllables = sum_syllables_in_file(dataset_file)\n",
    "print(\"Total syllables in the dataset file:\", total_syllables)\n"
   ]
  },
  {
   "cell_type": "code",
   "execution_count": 9,
   "id": "0f7d373a",
   "metadata": {},
   "outputs": [
    {
     "name": "stdout",
     "output_type": "stream",
     "text": [
      "Number of personal pronouns mentioned: 5\n"
     ]
    }
   ],
   "source": [
    "import re\n",
    "\n",
    "def count_personal_pronouns(file):\n",
    "    pronouns = ['I', 'we', 'my', 'ours', 'us']\n",
    "    count = 0\n",
    "\n",
    "    with open(file, 'r', encoding='utf-8') as f:\n",
    "        data = f.read()\n",
    "        words = re.findall(r'\\b(?:{})\\b'.format('|'.join(pronouns)), data)\n",
    "\n",
    "        for word in words:\n",
    "            # Exclude the word 'US' (country name)\n",
    "            if word.lower() != 'us':\n",
    "                count += 1\n",
    "\n",
    "    return count\n",
    "\n",
    "dataset_file = \"113.txt\"\n",
    "pronoun_count = count_personal_pronouns(dataset_file)\n",
    "print(\"Number of personal pronouns mentioned:\", pronoun_count)\n"
   ]
  },
  {
   "cell_type": "code",
   "execution_count": 10,
   "id": "bda2a161",
   "metadata": {},
   "outputs": [
    {
     "name": "stdout",
     "output_type": "stream",
     "text": [
      "Total characters: 6576\n",
      "Total words: 1271\n",
      "Average word length: 5.173878835562549\n"
     ]
    }
   ],
   "source": [
    "def calculate_word_stats(file):\n",
    "    total_characters = 0\n",
    "    total_words = 0\n",
    "\n",
    "    with open(file, 'r', encoding='utf-8') as f:\n",
    "        data = f.read()\n",
    "        words = data.split()\n",
    "\n",
    "        for word in words:\n",
    "            total_characters += len(word)\n",
    "            total_words += 1\n",
    "\n",
    "    return total_characters, total_words\n",
    "\n",
    "dataset_file = \"113.txt\"\n",
    "char_count, word_count = calculate_word_stats(dataset_file)\n",
    "average_word_length = char_count / word_count if word_count != 0 else 0\n",
    "\n",
    "print(\"Total characters:\", char_count)\n",
    "print(\"Total words:\", word_count)\n",
    "print(\"Average word length:\", average_word_length)\n"
   ]
  },
  {
   "cell_type": "code",
   "execution_count": null,
   "id": "ded49f67",
   "metadata": {},
   "outputs": [],
   "source": []
  },
  {
   "cell_type": "code",
   "execution_count": null,
   "id": "aaee6bc1",
   "metadata": {},
   "outputs": [],
   "source": []
  },
  {
   "cell_type": "code",
   "execution_count": null,
   "id": "f7c0446c",
   "metadata": {},
   "outputs": [],
   "source": []
  },
  {
   "cell_type": "code",
   "execution_count": null,
   "id": "795a26cb",
   "metadata": {},
   "outputs": [],
   "source": []
  }
 ],
 "metadata": {
  "kernelspec": {
   "display_name": "Python 3 (ipykernel)",
   "language": "python",
   "name": "python3"
  },
  "language_info": {
   "codemirror_mode": {
    "name": "ipython",
    "version": 3
   },
   "file_extension": ".py",
   "mimetype": "text/x-python",
   "name": "python",
   "nbconvert_exporter": "python",
   "pygments_lexer": "ipython3",
   "version": "3.10.9"
  }
 },
 "nbformat": 4,
 "nbformat_minor": 5
}

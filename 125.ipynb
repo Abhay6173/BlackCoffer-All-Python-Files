{
 "cells": [
  {
   "cell_type": "code",
   "execution_count": 1,
   "id": "970fbc2b",
   "metadata": {},
   "outputs": [
    {
     "name": "stdout",
     "output_type": "stream",
     "text": [
      "Requirement already satisfied: beautifulsoup4 in c:\\users\\yg\\anaconda3\\lib\\site-packages (4.11.1)\n",
      "Requirement already satisfied: soupsieve>1.2 in c:\\users\\yg\\anaconda3\\lib\\site-packages (from beautifulsoup4) (2.3.2.post1)\n",
      "Requirement already satisfied: requests in c:\\users\\yg\\anaconda3\\lib\\site-packages (2.28.1)\n",
      "Requirement already satisfied: certifi>=2017.4.17 in c:\\users\\yg\\anaconda3\\lib\\site-packages (from requests) (2022.12.7)\n",
      "Requirement already satisfied: charset-normalizer<3,>=2 in c:\\users\\yg\\anaconda3\\lib\\site-packages (from requests) (2.0.4)\n",
      "Requirement already satisfied: idna<4,>=2.5 in c:\\users\\yg\\anaconda3\\lib\\site-packages (from requests) (3.4)\n",
      "Requirement already satisfied: urllib3<1.27,>=1.21.1 in c:\\users\\yg\\anaconda3\\lib\\site-packages (from requests) (1.26.14)\n"
     ]
    }
   ],
   "source": [
    "!pip install beautifulsoup4\n",
    "!pip install requests\n",
    "import sys\n",
    "import time \n",
    "from bs4 import BeautifulSoup\n",
    "import requests\n",
    "try:\n",
    "    \n",
    "    \n",
    "    page=requests.get('https://insights.blackcoffer.com/should-celebrities-be-allowed-to-join-politics/')\n",
    "    \n",
    "    \n",
    "except Exception as e:\n",
    "    error_type, error_obj, error_info = sys.exc_info()\n",
    "    print('Error for link :',url)\n",
    "    print(error_type,'Line :',error_info.tb_lineno)\n",
    "    \n",
    "    \n",
    "time.sleep(2)\n",
    "soup=BeautifulSoup(page.text,'html.parser')\n",
    "links=soup.find_all('h1',attrs={'class':'entry-title'})   \n"
   ]
  },
  {
   "cell_type": "code",
   "execution_count": 2,
   "id": "118235af",
   "metadata": {},
   "outputs": [
    {
     "name": "stdout",
     "output_type": "stream",
     "text": [
      "Should celebrities be allowed to join politics?\n",
      "\n",
      "\n"
     ]
    }
   ],
   "source": [
    "for i in links:\n",
    "    print(i.text)\n",
    "    print(\"\\n\")"
   ]
  },
  {
   "cell_type": "code",
   "execution_count": 3,
   "id": "c004e150",
   "metadata": {},
   "outputs": [
    {
     "name": "stdout",
     "output_type": "stream",
     "text": [
      "\n",
      "In today’s day and age of hyper-connectivity, celebrities – dubbed by Fraser and Brown (2002) as people who are famous for being famous and may or may not always serve others sacrificially – live in glass houses that are open to the prying eyes of the public. Notification bars are ever abuzz with news about when these celebrities wake up, what they wear to the gym, what they eat, and where they go on their vacations. In the idealized and idolized eyes with which society views celebrities, this unceasing visibility gives them an all-pervasive influence. The dominance of celebrities in swaying opinions of their acolyte is well-established – from advertisements in the print and pixel mediums, brand endorsements, and integrations, the evidence of exploiting celebrity influence is vast. However, today more than ever before, this influence is creeping away from the world of consumerism and into governance, policy, and politics. With an increasing number of public figures overtly taking strong and stronger political stances, making moves charged with a political motive, and eventually entering the sphere of legislature and bureaucracy, the scope of having a public influence has come to mean much more than it used to, thereby begging the question – how well-placed are personage in the world of politics? Should celebrities be allowed to join politics?\n",
      "The interplay between the seemingly contrasting worlds of celebrities and policy-makers have come into increasing contact, in India and the rest of the world-leading pop-music artists back presidential candidates, internationally acclaimed actors attempt international diplomacy, films are claimed to be vehicles of political messaging, Prime Ministerial banquets engage celluloid stars, and so on. The ‘influence’ that stars exert on the world of politics seems to encapsulate an entire spectrum of involvement – at the zenith of which are the celebrities who actually set foot into parliamentary assemblies and councils, to represent the public that they once only influenced.\n",
      "Although the phenomenon of the seeping of public influence into public policy has stretched through much of the 20th century, Choi and Berger (2001) suggest that the celebrity-politics connect continues to strengthen, much more than it did a few decades ago, as we trudge further into the century. Of the myriad causalities that underlie this circumstance, the global internet, where fame isn’t restricted to the confines of tangible achievement has been theorized to be a significant driver. In her 2009 book, Hyde labels this spectacle as a ‘mission creep’, where the enterprise of celebrities is expanding beyond its primary goals.\n",
      "A prodigious public following seems to be the parallel between the worlds of politics and personage, which paves the path for celebrities to cross over to politics. Celebrities seem to be able to transition into politics with a certain grace, having already learned to live in the public’s eye, and established themselves, allowing the carry-over of their already-known traits as celebrities into their role as policy-makers. The visibility that autochthonous politicians work years to nurture, celebrities already have as they descend into the political sphere. In one of the best-known instances of a celebrity transitioning into politics, Ronald Reagan walked away from Hollywood and into the White House, carrying with him his trademark charismatic on-screen personality that spilled over into his politics. Initially serving as the governor of California for 15 years in the late 1960s, Reagan served two terms at the Oval Office. The voters knew who Ronald was – those who closely followed the trends of the red and blue – but also those who did not, giving Reagan the edge that propelled him towards success. On the other side of the globe, India saw much the same trend as an on-screen persona aiding the creation of an off-screen political career. Ramanand Sagar’s television series ‘Ramayan’, based on the Hindu mythological epic, was revolutionary in the pious Indian society of the 1980s when television shows were still novel. It has been recounted on many an occasion that audiences would often offer their prayers to the television screen, every time Arun Govil, who portrayed the deity ‘Ram’ made an appearance on screen. Having garnered a devout, dutiful fan following, Govil, and his other co-actors from the show turned to the world of politics, where their godly association in the public’s eyes helped them make a mark. Even the Philippines has shown ample evidence of celebrities time and again swooping in to claim political victory with their stardom and popularity, that their opponents lack.\n",
      "Very often, the sentiment of anti-incumbency seems to be the golden ticket that lets celebrity politicians snatch political power from consummate politicians. Indeed, various political theorists suggest that anti-incumbency happens to be amongst the more effective strategies to secure vote banks. Until 31st December 2018, Ukrainian actor, screenwriter, and director Volodymyr Zelensky only played the lead in a sitcom that tells the story of a schoolteacher who accidentally becomes the president. It was that winter that Zelensky claimed that he was contesting the presidential elections to “change the mood and timbre of the political establishment” and to “bring professional, decent people to power”. Zelensky took the premise of his wildly popular show from the reel to the real, as he crushed rival, a seasoned politician, and incumbent Poroshenko in a landslide victory. Has Zelensky proved a better representative of his people than his predecessor? Time is yet to deliver its verdict. But the gushes that he invoked in the people of Ukraine, and his plea to oust ‘the ruling class’ played their role in assuring Zelensky 73% of the plebiscite. In the early 2010s in India, similar anti-incumbent sentimentalities were played into by the many celebrities including musician Vishal Dadlani, hockey legend Dhanraj Pillay, singer Jaspinder Narula, and others – all of whom joined hands with Arvind Kejriwal’s  ‘Aam Aadmi’ movement that aimed to rid the existing political system of its ills.\n",
      "And so, innumerable celebrities across countries and cultures claim the throne. In fact, a Wikipedia page that maintains an inventory of actor-politician spanning the atlas claims that it ‘may never be able to satisfy particular standards for completeness’ – depicting the sheer number of celebrities who reroute to politics. This begets questioning the congruence of the world of personage and that of politics. \n",
      "In a research article published in 1995, Meyer and Gamson articulated the possibility of celebrities choosing to politically address only broadly acceptable social causes because they understand their power rests with staying popular, thereby failing to make any appreciable difference. This seems to ring true with some celebrity politicians in India, especially ones who are nominated to the Upper House of the Parliament but fail abysmally to leave a mark. One of many such representatives is Gautam Gambhir, a cricketer-turned-politician who has mostly been shunned for his abject performance in the parliament. Hema Malini, another popular actress who turned to politics, came under heavy criticism when her claim to be a protector of women’s rights wasn’t backed by an effort to fulfill her promises. Owing to such instances, research findings such as those by Nisbett and DeWalt (2016) find that the public often questions the intentions of the celebrities who venture into politics. It may also seem that in entering politics and failing to deliver, celebrity politicians often deprive grass-root political workers of the chance to enter the mainstream of politics.\n",
      "However, there is ample evidence from around the globe that goes to prove that celebrities can, in fact, make their mark in the world of governance, independent of their primary identities. Take the South Indian state of Tamil Nadu, for instance, where the political ethos has been consistently overshadowed by celebrities from the world of showbiz, for at least the last 40 years. As per data from the Ministry of Statistics & Programme Implementation, Tamil Nadu is amongst the top-performing states in the country, having the second-highest GDP. Most celebrities in Tamil Nadu who approached politics have exhibited extraordinary political will and caliber. The late actor-politician J. Jayalalithaa, or ‘Amma’, ran successful terms as chief minister and is still considered a mother figure by hordes of her followers. Another stalwart in the landscape of Tamil Nadu, Dr. MG Ramachandran, continues to be celebrated as one of the most influential chief ministers and is lauded for his large-scale reforms. In being the forerunner of some of the changes that propelled the state towards progress, including easing caste tensions and other communal violence, ‘MGR’ as he is better known, is remembered as much for his governance as he is for his innings on screen.\n",
      "More often than not, celebrity engagement in politics has been used to woo voters from the younger strata of the population. Empirical studies such as the one by Austin, Vord, Pinkleton, and Epstein (2008), have conclusively shown to enhance political engagement by younger voters.  Along similar lines, Jackson (2008) found that young people are more likely to agree with political positions that are endorsed by politicians. In fact, many modern political theorists are of the belief that the involvement of celebrities in politics allows for otherwise uninvolved or apathetic veins of the demographic, to be active participants in democracy. Hillary Clinton aimed to do just that when she got the Billboard-topping artists Beyonce and Jay-Z to take center-stage at her rally in Cleveland, in the weeks leading up to the 2016 US presidential elections – in fact, as multiple sources suggest, this rally did see a surge in millennial supporters. In such a case, it might be in the benefit of the community to have more celebrities endorse and engage in politics in order to nurture a more vibrant and engaged youth.   \n",
      "From our vantage point today, the relationship between personage and politics seems to be a central fixture in society and is here to stay. What remains to be done, however, is to ensure the symbiotic course of this relationship – to scrutinize and critique the celebrities who knock the doors of politics and to secure their promises of beneficence and non-maleficence to the public that it seeks to serve. Yet, it may seem that these are benchmarks that need to be met by any and all servants of the people – celebrity or not, but in the world that we live in, this is certainly not the case. Politicians – celebrity or not, largely happen upon the sphere of governance without a lot of experience backing them and learn to navigate the maze of politics on the job. Ultimately, like all things in democracy, the government is of the people and its representatives are of them, and for them. The eventual endorsement of its leaders – celebrity or not – can come, not from data-based analyses and elaborate critique, but from the people. Should celebrities be allowed to enter politics? The question remains unanswered. Or rather, is answered by the democratic exercise itself – with the beeps of electronic ballots election after election, when the people – the real ‘influencers’, choose.\n",
      "Blackcoffer Insights 16:-Guhan Narayanan(IIT Madras)and Preeti Kodancha(CHRIST Bangalore)\n",
      "\n",
      "\n",
      "\n"
     ]
    }
   ],
   "source": [
    "links=soup.find_all('div',attrs={'class':'td-post-content tagdiv-type'})\n",
    "for i in links:\n",
    "    print(i.text)\n",
    "    print(\"\\n\")"
   ]
  },
  {
   "cell_type": "code",
   "execution_count": 1,
   "id": "46cd7a12",
   "metadata": {},
   "outputs": [
    {
     "name": "stdout",
     "output_type": "stream",
     "text": [
      "Total positive score: 52\n"
     ]
    }
   ],
   "source": [
    "def count_positive_words(main_dataset_file, positive_words_file):\n",
    "    \n",
    "    \n",
    "\n",
    "    with open(main_dataset_file, 'r', encoding='utf-8') as main_file:\n",
    "        main_data = main_file.read()\n",
    "\n",
    "   \n",
    "    with open(positive_words_file, 'r', encoding='utf-8') as positive_file:\n",
    "        positive_words = positive_file.read().splitlines()\n",
    "\n",
    "    \n",
    "    words = main_data.split()\n",
    "\n",
    "    \n",
    "    count = 0\n",
    "\n",
    "   \n",
    "    for word in words:\n",
    "      \n",
    "        if word in positive_words:\n",
    "            count += 1\n",
    "\n",
    "    \n",
    "    print(\"Total positive score:\", count)\n",
    "\n",
    "\n",
    "main_dataset_file = '125.txt'\n",
    "positive_words_file = 'positive.txt'\n",
    "\n",
    "\n",
    "count_positive_words(main_dataset_file, positive_words_file)\n"
   ]
  },
  {
   "cell_type": "code",
   "execution_count": 2,
   "id": "ab835f7e",
   "metadata": {},
   "outputs": [
    {
     "name": "stdout",
     "output_type": "stream",
     "text": [
      "Total positive score: 15\n"
     ]
    }
   ],
   "source": [
    "def count_positive_words(main_dataset_file, positive_words_file):\n",
    "    \n",
    "    \n",
    "\n",
    "    with open(main_dataset_file, 'r', encoding='latin-1') as main_file:\n",
    "        main_data = main_file.read()\n",
    "\n",
    "   \n",
    "    with open(positive_words_file, 'r', encoding='latin-1') as positive_file:\n",
    "        positive_words = positive_file.read().splitlines()\n",
    "\n",
    "    \n",
    "    words = main_data.split()\n",
    "\n",
    "    \n",
    "    count = 0\n",
    "\n",
    "   \n",
    "    for word in words:\n",
    "      \n",
    "        if word in positive_words:\n",
    "            count += 1\n",
    "\n",
    "    \n",
    "    print(\"Total positive score:\", count)\n",
    "\n",
    "\n",
    "main_dataset_file = '125.txt'\n",
    "positive_words_file = 'negative-words.txt'\n",
    "\n",
    "\n",
    "count_positive_words(main_dataset_file, positive_words_file)\n"
   ]
  },
  {
   "cell_type": "code",
   "execution_count": 3,
   "id": "64db5e35",
   "metadata": {},
   "outputs": [
    {
     "name": "stdout",
     "output_type": "stream",
     "text": [
      "Total number of words: 1838\n"
     ]
    }
   ],
   "source": [
    "def count_total_words(dataset_file):\n",
    "   \n",
    "    with open(dataset_file, 'r', encoding='utf-8') as file:\n",
    "        content = file.read()\n",
    "\n",
    "    \n",
    "    words = content.split()\n",
    "\n",
    "    \n",
    "    total_words = len(words)\n",
    "\n",
    "    return total_words\n",
    "\n",
    "\n",
    "dataset_file = '125.txt'\n",
    "\n",
    "\n",
    "total_words = count_total_words(dataset_file)\n",
    "\n",
    "\n",
    "print(\"Total number of words:\", total_words)\n"
   ]
  },
  {
   "cell_type": "code",
   "execution_count": 4,
   "id": "314c1a0e",
   "metadata": {},
   "outputs": [
    {
     "name": "stdout",
     "output_type": "stream",
     "text": [
      "Number of complex words: 222\n"
     ]
    }
   ],
   "source": [
    "import pyphen\n",
    "import re\n",
    "dataset_file = \"125.txt\"\n",
    "dictionary = pyphen.Pyphen(lang='en')\n",
    "def count_syllables(word):\n",
    "    return len(dictionary.inserted(word).split('-'))\n",
    "def count_complex_words(file):\n",
    "    complex_word_count = 0\n",
    "\n",
    "    with open(file, 'r', encoding='utf-8') as f:\n",
    "        data = f.read()\n",
    "        words = re.findall(r'\\b\\w+\\b', data)  \n",
    "\n",
    "        for word in words:\n",
    "            syllable_count = count_syllables(word)\n",
    "            if syllable_count > 2:\n",
    "                complex_word_count += 1\n",
    "\n",
    "    return complex_word_count\n",
    "complex_words_count = count_complex_words(dataset_file)\n",
    "print(\"Number of complex words:\", complex_words_count)\n",
    "\n",
    "\n",
    "\n"
   ]
  },
  {
   "cell_type": "code",
   "execution_count": 5,
   "id": "ae0777ef",
   "metadata": {},
   "outputs": [
    {
     "name": "stdout",
     "output_type": "stream",
     "text": [
      "Number of sentences: 66\n"
     ]
    }
   ],
   "source": [
    "import re\n",
    "def count_sentences(file):\n",
    "    with open(file, 'r', encoding='utf-8') as f:\n",
    "        data = f.read()\n",
    "        sentences = re.split(r'(?<!\\w\\.\\w.)(?<![A-Z][a-z]\\.)(?<=\\.|\\?)\\s', data)\n",
    "        sentence_count = len(sentences)\n",
    "\n",
    "    return sentence_count\n",
    "dataset_file = \"125.txt\"\n",
    "sentence_count = count_sentences(dataset_file)\n",
    "print(\"Number of sentences:\", sentence_count)"
   ]
  },
  {
   "cell_type": "code",
   "execution_count": 6,
   "id": "1026f6cf",
   "metadata": {},
   "outputs": [
    {
     "name": "stdout",
     "output_type": "stream",
     "text": [
      "Sum of total number of characters: 9770\n"
     ]
    }
   ],
   "source": [
    "def calculate_total_character_count(file):\n",
    "    total_character_count = 0\n",
    "\n",
    "    with open(file, 'r', encoding='utf-8') as f:\n",
    "        data = f.read()\n",
    "        words = data.split() \n",
    "\n",
    "        for word in words:\n",
    "            total_character_count += len(word)\n",
    "\n",
    "    return total_character_count\n",
    "dataset_file = \"125.txt\"\n",
    "character_count = calculate_total_character_count(dataset_file)\n",
    "print(\"Sum of total number of characters:\", character_count)\n"
   ]
  },
  {
   "cell_type": "code",
   "execution_count": 7,
   "id": "cf012b63",
   "metadata": {},
   "outputs": [
    {
     "name": "stdout",
     "output_type": "stream",
     "text": [
      "Total stop words present in data set: 871\n"
     ]
    }
   ],
   "source": [
    "def count_positive_words(main_dataset_file, positive_words_file):\n",
    "    \n",
    "    with open(main_dataset_file, 'r', encoding='utf-8') as main_file:\n",
    "        main_data = main_file.read()\n",
    "\n",
    "   \n",
    "    with open(positive_words_file, 'r', encoding='utf-8') as positive_file:\n",
    "        positive_words = positive_file.read().splitlines()\n",
    "\n",
    "    \n",
    "    words = main_data.split()\n",
    "\n",
    "    \n",
    "    count = 0\n",
    "\n",
    "   \n",
    "    for word in words:\n",
    "      \n",
    "        if word in positive_words:\n",
    "            count += 1\n",
    "\n",
    "    \n",
    "    print(\"Total stop words present in data set:\", count)\n",
    "\n",
    "\n",
    "main_dataset_file = '125.txt'\n",
    "positive_words_file = 'all-stop-words.txt'\n",
    "\n",
    "\n",
    "count_positive_words(main_dataset_file, positive_words_file)"
   ]
  },
  {
   "cell_type": "code",
   "execution_count": 8,
   "id": "d017304c",
   "metadata": {},
   "outputs": [
    {
     "name": "stdout",
     "output_type": "stream",
     "text": [
      "Total syllables in the dataset file: 2919\n"
     ]
    }
   ],
   "source": [
    "def count_syllables(word):\n",
    "    vowels = 'aeiouAEIOU'\n",
    "    exceptions = ['es', 'ed']\n",
    "    count = 0\n",
    "    prev_char_vowel = False\n",
    "\n",
    "    if word[-2:] in exceptions:\n",
    "        return count\n",
    "\n",
    "    for char in word:\n",
    "        if char in vowels:\n",
    "            if not prev_char_vowel:\n",
    "                count += 1\n",
    "            prev_char_vowel = True\n",
    "        else:\n",
    "            prev_char_vowel = False\n",
    "\n",
    "    return count\n",
    "\n",
    "def sum_syllables_in_file(file):\n",
    "    total_syllables = 0\n",
    "\n",
    "    with open(file, 'r', encoding='utf-8') as f:\n",
    "        data = f.read()\n",
    "        words = data.split()\n",
    "\n",
    "        for word in words:\n",
    "            total_syllables += count_syllables(word)\n",
    "\n",
    "    return total_syllables\n",
    "\n",
    "dataset_file = \"125.txt\"\n",
    "total_syllables = sum_syllables_in_file(dataset_file)\n",
    "print(\"Total syllables in the dataset file:\", total_syllables)\n"
   ]
  },
  {
   "cell_type": "code",
   "execution_count": 9,
   "id": "ee033262",
   "metadata": {},
   "outputs": [
    {
     "name": "stdout",
     "output_type": "stream",
     "text": [
      "Number of personal pronouns mentioned: 2\n"
     ]
    }
   ],
   "source": [
    "import re\n",
    "\n",
    "def count_personal_pronouns(file):\n",
    "    pronouns = ['I', 'we', 'my', 'ours', 'us']\n",
    "    count = 0\n",
    "\n",
    "    with open(file, 'r', encoding='utf-8') as f:\n",
    "        data = f.read()\n",
    "        words = re.findall(r'\\b(?:{})\\b'.format('|'.join(pronouns)), data)\n",
    "\n",
    "        for word in words:\n",
    "            \n",
    "            if word.lower() != 'us':\n",
    "                count += 1\n",
    "\n",
    "    return count\n",
    "\n",
    "dataset_file = \"125.txt\"\n",
    "pronoun_count = count_personal_pronouns(dataset_file)\n",
    "print(\"Number of personal pronouns mentioned:\", pronoun_count)\n"
   ]
  },
  {
   "cell_type": "code",
   "execution_count": 10,
   "id": "98c66961",
   "metadata": {},
   "outputs": [
    {
     "name": "stdout",
     "output_type": "stream",
     "text": [
      "Total characters: 9770\n",
      "Total words: 1838\n",
      "Average word length: 5.315560391730141\n"
     ]
    }
   ],
   "source": [
    "def calculate_word_stats(file):\n",
    "    total_characters = 0\n",
    "    total_words = 0\n",
    "\n",
    "    with open(file, 'r', encoding='utf-8') as f:\n",
    "        data = f.read()\n",
    "        words = data.split()\n",
    "\n",
    "        for word in words:\n",
    "            total_characters += len(word)\n",
    "            total_words += 1\n",
    "\n",
    "    return total_characters, total_words\n",
    "\n",
    "dataset_file = \"125.txt\"\n",
    "char_count, word_count = calculate_word_stats(dataset_file)\n",
    "average_word_length = char_count / word_count if word_count != 0 else 0\n",
    "\n",
    "print(\"Total characters:\", char_count)\n",
    "print(\"Total words:\", word_count)\n",
    "print(\"Average word length:\", average_word_length)\n"
   ]
  },
  {
   "cell_type": "code",
   "execution_count": null,
   "id": "2049ba19",
   "metadata": {},
   "outputs": [],
   "source": []
  },
  {
   "cell_type": "code",
   "execution_count": null,
   "id": "25f6b5a3",
   "metadata": {},
   "outputs": [],
   "source": []
  },
  {
   "cell_type": "code",
   "execution_count": null,
   "id": "0956ce79",
   "metadata": {},
   "outputs": [],
   "source": []
  }
 ],
 "metadata": {
  "kernelspec": {
   "display_name": "Python 3 (ipykernel)",
   "language": "python",
   "name": "python3"
  },
  "language_info": {
   "codemirror_mode": {
    "name": "ipython",
    "version": 3
   },
   "file_extension": ".py",
   "mimetype": "text/x-python",
   "name": "python",
   "nbconvert_exporter": "python",
   "pygments_lexer": "ipython3",
   "version": "3.10.9"
  }
 },
 "nbformat": 4,
 "nbformat_minor": 5
}

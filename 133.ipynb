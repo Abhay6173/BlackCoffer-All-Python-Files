{
 "cells": [
  {
   "cell_type": "code",
   "execution_count": 1,
   "id": "bbf5a97c",
   "metadata": {},
   "outputs": [
    {
     "name": "stdout",
     "output_type": "stream",
     "text": [
      "Requirement already satisfied: beautifulsoup4 in c:\\users\\yg\\anaconda3\\lib\\site-packages (4.11.1)\n",
      "Requirement already satisfied: soupsieve>1.2 in c:\\users\\yg\\anaconda3\\lib\\site-packages (from beautifulsoup4) (2.3.2.post1)\n",
      "Requirement already satisfied: requests in c:\\users\\yg\\anaconda3\\lib\\site-packages (2.28.1)\n",
      "Requirement already satisfied: charset-normalizer<3,>=2 in c:\\users\\yg\\anaconda3\\lib\\site-packages (from requests) (2.0.4)\n",
      "Requirement already satisfied: idna<4,>=2.5 in c:\\users\\yg\\anaconda3\\lib\\site-packages (from requests) (3.4)\n",
      "Requirement already satisfied: urllib3<1.27,>=1.21.1 in c:\\users\\yg\\anaconda3\\lib\\site-packages (from requests) (1.26.14)\n",
      "Requirement already satisfied: certifi>=2017.4.17 in c:\\users\\yg\\anaconda3\\lib\\site-packages (from requests) (2022.12.7)\n"
     ]
    }
   ],
   "source": [
    "!pip install beautifulsoup4\n",
    "!pip install requests\n",
    "import sys\n",
    "import time \n",
    "from bs4 import BeautifulSoup\n",
    "import requests\n",
    "try:\n",
    "    \n",
    "    \n",
    "    page=requests.get('https://insights.blackcoffer.com/continued-demand-for-sustainability/')\n",
    "    \n",
    "    \n",
    "except Exception as e:\n",
    "    error_type, error_obj, error_info = sys.exc_info()\n",
    "    print('Error for link :',url)\n",
    "    print(error_type,'Line :',error_info.tb_lineno)\n",
    "    \n",
    "    \n",
    "time.sleep(2)\n",
    "soup=BeautifulSoup(page.text,'html.parser')\n",
    "links=soup.find_all('h1',attrs={'class':'entry-title'})   \n"
   ]
  },
  {
   "cell_type": "code",
   "execution_count": 2,
   "id": "4a8fdd46",
   "metadata": {},
   "outputs": [
    {
     "name": "stdout",
     "output_type": "stream",
     "text": [
      "Continued Demand for Sustainability\n",
      "\n",
      "\n"
     ]
    }
   ],
   "source": [
    "for i in links:\n",
    "    print(i.text)\n",
    "    print(\"\\n\")"
   ]
  },
  {
   "cell_type": "code",
   "execution_count": 3,
   "id": "c80cf92c",
   "metadata": {},
   "outputs": [
    {
     "name": "stdout",
     "output_type": "stream",
     "text": [
      "\n",
      "The business of business is no longer to do just business\n",
      "or increase the bottom line to maximize shareholder value. Rather, the concept\n",
      "of business is moving towards a new dimension of sustainable business, the\n",
      "triple bottom line. People, planet, and profits are the core\n",
      "ideologies that are rooted in sustainable business. Sustainability is taken\n",
      "into account when companies want to create long-term value creation along with\n",
      "strategies that promote the longevity of the company. As corporate\n",
      "accountability rises, expectations and need for transparency among stakeholders\n",
      "increases therefore companies have started to recognize the need to be\n",
      "sustainable to stay alert and alive. \n",
      "Business\n",
      "globalization that has happened over the previous few decades has made some\n",
      "companies more powerful than some national governments, making it easy for them\n",
      "to exploit inexpensive labor, plunder natural resources, causing severe impacts\n",
      "through pollution on the natural environment, human health, and biodiversity.\n",
      "Unfortunately for them, their horrible past has been catching up with them like\n",
      "in the case of child labor issues of IKEA & Nike, Rana Plaza accident in\n",
      "Bangladesh affecting Zara, H&M and other clothing brands, environment\n",
      "pollution by BP, Shell, Exxon Mobil etc. With the emergence of internet and\n",
      "social media these practices can no longer be covered up and silenced, the\n",
      "world has become more educated and less tolerant and therefore with every\n",
      "misdemeanor that is committed brand equity takes a hit. The media is fast\n",
      "picking up on cover-ups, half-truths, and bad corporate behavior and demanding\n",
      "accountability and transparency from corporates. Therefore to survive, companies\n",
      "are compelled to adopt sustainability and bring forth the rules for their\n",
      "suppliers as well. \n",
      "Many\n",
      "of the irresponsible company practices and disasters that are witnessed in that\n",
      "last couple of decades were motivated solely by short-termism- the desire\n",
      "for instant gratification- and the appeal of short-term performance\n",
      "incentives. For instance, deferred maintenance and slack leadership were to\n",
      "blame for the 1984 leaks from the pesticide plant Union Carbide India Ltd in\n",
      "Bhopal. Estimates placed more than half a million casualties from the gas\n",
      "discharge of the plant. Finally, Union Carbide Corporation’s 1989 litigation\n",
      "payout came out to today’s equivalent of nearly one billion US dollars. Another\n",
      "example where the company was forced to shut down operations was Coca Cola at\n",
      "its Plachimada plant in Kerala. The local communities faced acute water\n",
      "shortage after the commissioning of the plant and the company authorities\n",
      "blatantly ignored the community woes. These businesses stated above didn’t\n",
      "respect stakeholder engagement which ultimately lead to their untimely demise.\n",
      "Today’s\n",
      "issues cannot be solved without participation from all stakeholders, and\n",
      "companies with influence should be the torchbearers of change. They need to\n",
      "engage with regulators, communities, societies, suppliers, and NGOs for\n",
      "effective and desired outcomes. Issues where engagement are required include\n",
      "population growth; global middle-class growth; decline in ecosystems; water\n",
      "scarcity; food safety; material resource security; higher global energy demand;\n",
      "changes in geographic patterns of energy consumption; and increasing climate\n",
      "change regulatory interventions.\n",
      "By actively pursuing the triple\n",
      "bottom line, the essential possibilities available are:\n",
      "save expenses\n",
      "by reducing environmental effects; motivate\n",
      "employees and decreased employee turnover;decrease risk\n",
      "through engaging with stakeholders; create a\n",
      "reputation by improving environmental effectiveness ;\n",
      "In order for companies to commit\n",
      "to sustainability they should have the below objectives in place:\n",
      "Strategy alignment and sustainability: management should ensure alignment between the company’s strategy and its sustainability initiatives. Sometimes, there is a divergence between the two concepts making sustainability attempts to look fragile and lacking real dedication and prioritization. For example, Toyota is well known for hybrid engine development, but less so for decreasing its reliance on rare earth minerals. Toyota decreased its dependence on imports and operational risk, thus reducing its economic hazards in the event of price rises.Compliance first, then competitive advantage: Compliance must be addressed first and foremost by businesses, which often involves laws on waste management, pollution, and energy efficiency as well as human rights and labor accountability. Recent reports show that investors are shying away from compliance hazards progressively. Reactive to proactive: As a result of a crisis, many of today’s leading sustainability businesses such as Nike, Coca-Cola, Telenor, IKEA, Siemens, and Nestlé have stepped up mainly. For instance, in locations like Indonesia throughout the 90s, Nike confronted boycotts and government anger for abusive labor practices but turned the tide around. It became a pioneer in the establishment of transparency in 2005 by releasing a full list of the factories with which it contracts and a comprehensive 108-page report revealing conditions and payment in its factories. It also recognized huge problems, especially in its factories in South Asia. These businesses have all created more proactive sustainability approaches by acknowledging the effect of sustainability in a crisis.\n",
      "Quantify,\n",
      "including the company situation:\n",
      "all businesses are struggling to quantify their sustainability investment\n",
      "returns. This is a straightforward problem with respect to compliance. \n",
      "Transparency\n",
      "is a precondition for assessing and enhancing sustainability practices. The only way for companies to achieve transparency is through\n",
      "open communication with all key stakeholders based on high levels of\n",
      "information disclosure, clarity, and accuracy as well as an openness to\n",
      "recognize faults and improve practices.\n",
      "Sustainability -triple bottom line- can drive a company’s achievement beyond shareholder value creation by building corporate shared value at its core and help in addressing social &environmental problems. Several investors today use ESG metrics to evaluate the ethical effect and sustainability practices of an organization. Investors are looking at variables like the carbon footprint of a company, water use, community development efforts, and diversity board before investing. Companies have started responding to investors by publishing their annual sustainability reports. Research indicates that businesses with elevated ESG scores have reduced debt and equity costs and that sustainability projects can contribute to improving economic efficiency while encouraging government assistance. It’s only a matter of time, the flow of sustainability nourishes businesses in achieving holistic development for the environment, people and its profits.\n",
      "Blackcoffer Insights 12 | Sanjana Jose Varghese | IIM Lucknow \n",
      "\n",
      "\n",
      "\n"
     ]
    }
   ],
   "source": [
    "links=soup.find_all('div',attrs={'class':'td-post-content tagdiv-type'})\n",
    "for i in links:\n",
    "    print(i.text)\n",
    "    print(\"\\n\")"
   ]
  },
  {
   "cell_type": "code",
   "execution_count": 12,
   "id": "756f4840",
   "metadata": {},
   "outputs": [
    {
     "name": "stdout",
     "output_type": "stream",
     "text": [
      "Total positive score: 50\n"
     ]
    }
   ],
   "source": [
    "def count_positive_words(main_dataset_file, positive_words_file):\n",
    "    \n",
    "    \n",
    "\n",
    "    with open(main_dataset_file, 'r', encoding='utf-8') as main_file:\n",
    "        main_data = main_file.read()\n",
    "\n",
    "   \n",
    "    with open(positive_words_file, 'r', encoding='utf-8') as positive_file:\n",
    "        positive_words = positive_file.read().splitlines()\n",
    "\n",
    "    \n",
    "    words = main_data.split()\n",
    "\n",
    "    \n",
    "    count = 0\n",
    "\n",
    "   \n",
    "    for word in words:\n",
    "      \n",
    "        if word in positive_words:\n",
    "            count += 1\n",
    "\n",
    "    \n",
    "    print(\"Total positive score:\", count)\n",
    "\n",
    "\n",
    "main_dataset_file = '133.txt'\n",
    "positive_words_file = 'positive.txt'\n",
    "\n",
    "\n",
    "count_positive_words(main_dataset_file, positive_words_file)\n"
   ]
  },
  {
   "cell_type": "code",
   "execution_count": 13,
   "id": "fbb4110f",
   "metadata": {},
   "outputs": [
    {
     "name": "stdout",
     "output_type": "stream",
     "text": [
      "Total negative score: 25\n"
     ]
    }
   ],
   "source": [
    "def count_positive_words(main_dataset_file, positive_words_file):\n",
    "    \n",
    "    \n",
    "\n",
    "    with open(main_dataset_file, 'r', encoding='latin-1') as main_file:\n",
    "        main_data = main_file.read()\n",
    "\n",
    "   \n",
    "    with open(positive_words_file, 'r', encoding='latin-1') as positive_file:\n",
    "        positive_words = positive_file.read().splitlines()\n",
    "\n",
    "    \n",
    "    words = main_data.split()\n",
    "\n",
    "    \n",
    "    count = 0\n",
    "\n",
    "   \n",
    "    for word in words:\n",
    "      \n",
    "        if word in positive_words:\n",
    "            count += 1\n",
    "\n",
    "    \n",
    "    print(\"Total negative score:\", count)\n",
    "\n",
    "\n",
    "main_dataset_file = '133.txt'\n",
    "positive_words_file = 'negative-words.txt'\n",
    "\n",
    "\n",
    "count_positive_words(main_dataset_file, positive_words_file)\n"
   ]
  },
  {
   "cell_type": "code",
   "execution_count": 14,
   "id": "b13bb68b",
   "metadata": {},
   "outputs": [
    {
     "name": "stdout",
     "output_type": "stream",
     "text": [
      "Total number of words: 1003\n"
     ]
    }
   ],
   "source": [
    "def count_total_words(dataset_file):\n",
    "   \n",
    "    with open(dataset_file, 'r', encoding='utf-8') as file:\n",
    "        content = file.read()\n",
    "\n",
    "    \n",
    "    words = content.split()\n",
    "\n",
    "    \n",
    "    total_words = len(words)\n",
    "\n",
    "    return total_words\n",
    "\n",
    "\n",
    "dataset_file = '133.txt'\n",
    "\n",
    "\n",
    "total_words = count_total_words(dataset_file)\n",
    "\n",
    "\n",
    "print(\"Total number of words:\", total_words)\n"
   ]
  },
  {
   "cell_type": "code",
   "execution_count": 15,
   "id": "524d2328",
   "metadata": {},
   "outputs": [
    {
     "name": "stdout",
     "output_type": "stream",
     "text": [
      "Number of complex words: 201\n"
     ]
    }
   ],
   "source": [
    "import pyphen\n",
    "import re\n",
    "dataset_file = \"133.txt\"\n",
    "dictionary = pyphen.Pyphen(lang='en')\n",
    "def count_syllables(word):\n",
    "    return len(dictionary.inserted(word).split('-'))\n",
    "def count_complex_words(file):\n",
    "    complex_word_count = 0\n",
    "\n",
    "    with open(file, 'r', encoding='utf-8') as f:\n",
    "        data = f.read()\n",
    "        words = re.findall(r'\\b\\w+\\b', data)  \n",
    "\n",
    "        for word in words:\n",
    "            syllable_count = count_syllables(word)\n",
    "            if syllable_count > 2:\n",
    "                complex_word_count += 1\n",
    "\n",
    "    return complex_word_count\n",
    "complex_words_count = count_complex_words(dataset_file)\n",
    "print(\"Number of complex words:\", complex_words_count)\n",
    "\n"
   ]
  },
  {
   "cell_type": "code",
   "execution_count": 16,
   "id": "cf8db5b6",
   "metadata": {},
   "outputs": [
    {
     "name": "stdout",
     "output_type": "stream",
     "text": [
      "Number of sentences: 41\n"
     ]
    }
   ],
   "source": [
    "import re\n",
    "def count_sentences(file):\n",
    "    with open(file, 'r', encoding='utf-8') as f:\n",
    "        data = f.read()\n",
    "        sentences = re.split(r'(?<!\\w\\.\\w.)(?<![A-Z][a-z]\\.)(?<=\\.|\\?)\\s', data)\n",
    "        sentence_count = len(sentences)\n",
    "\n",
    "    return sentence_count\n",
    "dataset_file = \"133.txt\"\n",
    "sentence_count = count_sentences(dataset_file)\n",
    "print(\"Number of sentences:\", sentence_count)"
   ]
  },
  {
   "cell_type": "code",
   "execution_count": 17,
   "id": "76d22809",
   "metadata": {},
   "outputs": [
    {
     "name": "stdout",
     "output_type": "stream",
     "text": [
      "Sum of total number of characters: 5976\n"
     ]
    }
   ],
   "source": [
    "def calculate_total_character_count(file):\n",
    "    total_character_count = 0\n",
    "\n",
    "    with open(file, 'r', encoding='utf-8') as f:\n",
    "        data = f.read()\n",
    "        words = data.split() \n",
    "\n",
    "        for word in words:\n",
    "            total_character_count += len(word)\n",
    "\n",
    "    return total_character_count\n",
    "dataset_file = \"133.txt\"\n",
    "character_count = calculate_total_character_count(dataset_file)\n",
    "print(\"Sum of total number of characters:\", character_count)\n"
   ]
  },
  {
   "cell_type": "code",
   "execution_count": 18,
   "id": "e71ca70e",
   "metadata": {},
   "outputs": [
    {
     "name": "stdout",
     "output_type": "stream",
     "text": [
      "Total stop words present in data set: 406\n"
     ]
    }
   ],
   "source": [
    "def count_positive_words(main_dataset_file, positive_words_file):\n",
    "    \n",
    "    with open(main_dataset_file, 'r', encoding='utf-8') as main_file:\n",
    "        main_data = main_file.read()\n",
    "\n",
    "   \n",
    "    with open(positive_words_file, 'r', encoding='utf-8') as positive_file:\n",
    "        positive_words = positive_file.read().splitlines()\n",
    "\n",
    "    \n",
    "    words = main_data.split()\n",
    "\n",
    "    \n",
    "    count = 0\n",
    "\n",
    "   \n",
    "    for word in words:\n",
    "      \n",
    "        if word in positive_words:\n",
    "            count += 1\n",
    "\n",
    "    \n",
    "    print(\"Total stop words present in data set:\", count)\n",
    "\n",
    "\n",
    "main_dataset_file = '133.txt'\n",
    "positive_words_file = 'all-stop-words.txt'\n",
    "\n",
    "\n",
    "count_positive_words(main_dataset_file, positive_words_file)"
   ]
  },
  {
   "cell_type": "code",
   "execution_count": 19,
   "id": "54e35058",
   "metadata": {},
   "outputs": [
    {
     "name": "stdout",
     "output_type": "stream",
     "text": [
      "Total syllables in the dataset file: 1810\n"
     ]
    }
   ],
   "source": [
    "def count_syllables(word):\n",
    "    vowels = 'aeiouAEIOU'\n",
    "    exceptions = ['es', 'ed']\n",
    "    count = 0\n",
    "    prev_char_vowel = False\n",
    "\n",
    "    if word[-2:] in exceptions:\n",
    "        return count\n",
    "\n",
    "    for char in word:\n",
    "        if char in vowels:\n",
    "            if not prev_char_vowel:\n",
    "                count += 1\n",
    "            prev_char_vowel = True\n",
    "        else:\n",
    "            prev_char_vowel = False\n",
    "\n",
    "    return count\n",
    "\n",
    "def sum_syllables_in_file(file):\n",
    "    total_syllables = 0\n",
    "\n",
    "    with open(file, 'r', encoding='utf-8') as f:\n",
    "        data = f.read()\n",
    "        words = data.split()\n",
    "\n",
    "        for word in words:\n",
    "            total_syllables += count_syllables(word)\n",
    "\n",
    "    return total_syllables\n",
    "\n",
    "dataset_file = \"133.txt\"\n",
    "total_syllables = sum_syllables_in_file(dataset_file)\n",
    "print(\"Total syllables in the dataset file:\", total_syllables)\n"
   ]
  },
  {
   "cell_type": "code",
   "execution_count": 20,
   "id": "aafa5a92",
   "metadata": {},
   "outputs": [
    {
     "name": "stdout",
     "output_type": "stream",
     "text": [
      "Number of personal pronouns mentioned: 0\n"
     ]
    }
   ],
   "source": [
    "import re\n",
    "\n",
    "def count_personal_pronouns(file):\n",
    "    pronouns = ['I', 'we', 'my', 'ours', 'us']\n",
    "    count = 0\n",
    "\n",
    "    with open(file, 'r', encoding='utf-8') as f:\n",
    "        data = f.read()\n",
    "        words = re.findall(r'\\b(?:{})\\b'.format('|'.join(pronouns)), data)\n",
    "\n",
    "        for word in words:\n",
    "           \n",
    "            if word.lower() != 'us':\n",
    "                count += 1\n",
    "\n",
    "    return count\n",
    "\n",
    "dataset_file = \"133.txt\"\n",
    "pronoun_count = count_personal_pronouns(dataset_file)\n",
    "print(\"Number of personal pronouns mentioned:\", pronoun_count)\n"
   ]
  },
  {
   "cell_type": "code",
   "execution_count": null,
   "id": "564c59f7",
   "metadata": {},
   "outputs": [],
   "source": []
  },
  {
   "cell_type": "code",
   "execution_count": null,
   "id": "5e292d0d",
   "metadata": {},
   "outputs": [],
   "source": []
  },
  {
   "cell_type": "code",
   "execution_count": null,
   "id": "52c5077e",
   "metadata": {},
   "outputs": [],
   "source": []
  },
  {
   "cell_type": "code",
   "execution_count": null,
   "id": "cc9fc878",
   "metadata": {},
   "outputs": [],
   "source": []
  }
 ],
 "metadata": {
  "kernelspec": {
   "display_name": "Python 3 (ipykernel)",
   "language": "python",
   "name": "python3"
  },
  "language_info": {
   "codemirror_mode": {
    "name": "ipython",
    "version": 3
   },
   "file_extension": ".py",
   "mimetype": "text/x-python",
   "name": "python",
   "nbconvert_exporter": "python",
   "pygments_lexer": "ipython3",
   "version": "3.10.9"
  }
 },
 "nbformat": 4,
 "nbformat_minor": 5
}

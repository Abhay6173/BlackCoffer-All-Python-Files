{
 "cells": [
  {
   "cell_type": "code",
   "execution_count": 1,
   "id": "a372a27e",
   "metadata": {},
   "outputs": [
    {
     "name": "stdout",
     "output_type": "stream",
     "text": [
      "Requirement already satisfied: beautifulsoup4 in c:\\users\\yg\\anaconda3\\lib\\site-packages (4.11.1)\n",
      "Requirement already satisfied: soupsieve>1.2 in c:\\users\\yg\\anaconda3\\lib\\site-packages (from beautifulsoup4) (2.3.2.post1)\n",
      "Requirement already satisfied: requests in c:\\users\\yg\\anaconda3\\lib\\site-packages (2.28.1)\n",
      "Requirement already satisfied: idna<4,>=2.5 in c:\\users\\yg\\anaconda3\\lib\\site-packages (from requests) (3.4)\n",
      "Requirement already satisfied: urllib3<1.27,>=1.21.1 in c:\\users\\yg\\anaconda3\\lib\\site-packages (from requests) (1.26.14)\n",
      "Requirement already satisfied: charset-normalizer<3,>=2 in c:\\users\\yg\\anaconda3\\lib\\site-packages (from requests) (2.0.4)\n",
      "Requirement already satisfied: certifi>=2017.4.17 in c:\\users\\yg\\anaconda3\\lib\\site-packages (from requests) (2022.12.7)\n"
     ]
    }
   ],
   "source": [
    "!pip install beautifulsoup4\n",
    "!pip install requests\n",
    "import sys\n",
    "import time \n",
    "from bs4 import BeautifulSoup\n",
    "import requests\n",
    "try:\n",
    "    \n",
    "    \n",
    "    page=requests.get('https://insights.blackcoffer.com/what-are-the-key-policies-that-will-mitigate-the-impacts-of-covid-19-on-the-world-of-work/')\n",
    "    \n",
    "    \n",
    "except Exception as e:\n",
    "    error_type, error_obj, error_info = sys.exc_info()\n",
    "    print('Error for link :',url)\n",
    "    print(error_type,'Line :',error_info.tb_lineno)\n",
    "    \n",
    "    \n",
    "time.sleep(2)\n",
    "soup=BeautifulSoup(page.text,'html.parser')\n",
    "links=soup.find_all('h1',attrs={'class':'entry-title'})   \n"
   ]
  },
  {
   "cell_type": "code",
   "execution_count": 2,
   "id": "d8707ada",
   "metadata": {},
   "outputs": [
    {
     "name": "stdout",
     "output_type": "stream",
     "text": [
      "What are the key policies that will mitigate the impacts of COVID-19 on the world of work?\n",
      "\n",
      "\n"
     ]
    }
   ],
   "source": [
    "for i in links:\n",
    "    print(i.text)\n",
    "    print(\"\\n\")"
   ]
  },
  {
   "cell_type": "code",
   "execution_count": 3,
   "id": "05e75eb8",
   "metadata": {},
   "outputs": [
    {
     "name": "stdout",
     "output_type": "stream",
     "text": [
      "\n",
      "From Alibaba to Ping An and Google to Ford, companies around the globe are telling staff to figure from directly from home in a bid to stem the spread of COVID-19. Such remote functioning at scale is unprecedented and can leave a long-lasting impression on the way people live and work for several years to return. China, which felt the primary impact of the pandemic, was an early mover during this space. As home to a number of the world’s largest firms, it offers lessons for people who are just commencing to embrace the shift. Working from home skyrocketed in China within the wake of the COVID-19 crisis as companies told their employees to remain home. Around 200 million people were working remotely by the tip of the Chinese New Year holiday. While this arrangement has some benefits, like avoiding long commutes, many employees and firms found it challenging. One employee at a web company quipped his workday changed from ‘996’ to ‘007,’ meaning from nine to nine, 6 days every week, to all or any the time. On the private front, employees found it difficult to manage kids’ home-schooling via video conference while coordinating with remote colleagues. At an organization level, many felt that productivity rapidly tailed off if not managed properly. If done right, remote working can boost productivity and morale; done badly, it can breed inefficiency, damage work relationships, and demotivate employees. These kind of things are happening due to the impacts of COVID-19 on the world of work\n",
      "Here are a few of the learnings from China that will be applicable around the world, looking at the circumstances:\n",
      "\n",
      "\n",
      "Designing an effective structure due to the impacts of COVID-19 on the world of work\n",
      "\n",
      "\n",
      "Teams or whole business units working remotely can quickly end in confusion and a scarcity of clarity. Being isolated ends up in uncertainty about who to speak to on specific issues and the way and when to approach them, resulting in hold-ups and delays. That’s why establishing a structure and architecture for deciding and effective communication is vital. Here, smaller cross-functional teams are helpful, each with a transparent mission and reporting line, where directions and tasks are easy to implement. This also simplifies onboarding new hires, who can integrate faster in a very tight-knit group, at a time when the broad sweep of the organization isn’t visible or easy to feel. With fewer in each team, there’s longer to urge to understand one another and build the trust that will grow more organically within the office. At Ping An Insurance, workers are typically grouped in project teams of, at most, 30 members, while larger business units are divided to assist them to stay agile. Strong company-wide foundations underpin this, like having a typical purpose and unified goals. Providing clarity on what decisions to escalate and which of them is tackled at the team level helps drive progress. To mitigate the consequences of closed retail stores, one leading fashion company founded a technique room and redeployed staff into four cross-functional squads to support its front-line. It designed standard ways for live broadcasting and established internal best practices to encourage front-line staff to use new retail tools to drive sales remotely.\n",
      " The lesson: putting in small, cross-functional teams with clear objectives and a typical purpose keeps everyone on the identical strategic course.\n",
      "\n",
      "\n",
      "Leading from afar due to impacts of COVID-19 on the world of work\n",
      "\n",
      "\n",
      "Managing people is one of the foremost difficult elements of remote working, not least because everyone will respond differently to the cultural shift and challenges of the home-working environment. Leaders have to energize the entire company by setting a transparent direction and communicating it effectively. Offering a powerful vision and a sensible outlook can have a strong effect on motivation across the organization. It’s essential to foster an outcome-driven culture that empowers and holds teams answerable for getting things done while encouraging open, honest, and productive communication. Empowering your team in this way pays dividends.WeSure, a part of leading internet company Tencent, assembled a COVID-19 response team5 at the beginning of the year to supply amount, freed from charge to front-line medical workers.\n",
      "Alan Lau, CEO of WeSure, credited his team, saying that they had worked nonstop, many from remote locations while inactive during the Chinese New Year break, demonstrating how responsive they were to the vision.\n",
      "For managers, the challenge is to guide, inspire, and direct their team in their daily course of labor, while being physically remote. Upping the amount of interaction can even work well here. One chief information officer, responding to a McKinsey survey, said he’s texting the whole company with regular updates because it’s a more human way of communicating than via the official corporate channels. When working within distributed teams, e-commerce giant Alibaba increases the frequency of its one-to-one communications with employees to a weekly basis and, in some teams, members submit a weekly report for his or her colleagues, complete with plans for the week ahead. Alibaba’s productivity app DingTalk (Ding Ding) has features inbuilt to facilitate this by allowing managers to send voice-to-text messages to their teams, and to test in on progress.\n",
      "The lesson: Determining how you communicate is simply as important as what’s being said, and it has to be done confidently, consistently, and reliably\n",
      "\n",
      "\n",
      "Instilling a caring culture\n",
      "\n",
      "\n",
      "As companies transition to the new normal, it’s important to acknowledge that some employees are also facing other pressures reception, including caring for his or her children when schools are shut, resulting in feelings of isolation and insecurity. Business leaders must respect and address these additional needs. Empathy may be a crucial tool here, offering how to attach, promote inclusiveness, and make a way of community in a very barren of physical interaction. Increasing social interactions within the team, particularly through one-on-one catch-up, guards against feelings of isolation and demoralization and creates space for people to talk up and share their thoughts. By creating a way of psychological safety for his or her colleagues, being inclusive in deciding, and offering perspective in challenging moments, managers can stay closer to what’s occurring, surface issues, and help their teams solve problems effectively. A similar approach is very important when coping with customers and clients, providing valuable stability and enabling them to navigate unknown waters confidently. As an example, one global bank asked their relationship managers to attach with small-business customers via WeChat and video calls to know their situation and help them weather the crisis. To try and do so effectively at scale, the managers are supported through dedicated product programs, online articles, scripts for communicating with clients, and internal training. Inclusion is that the ultimate show of empathy. Creating outlets for sharing best practices, success stories, challenges, and water-cooler chat are significant to making a person’s connection. Giving employees space to pursue personal or social endeavors, providing a transparent span of control, and assigning meaningful tasks also can spur motivation. \n",
      "The lesson: Connecting on a private level and instilling empathy within the culture is doubly important when working remotely.\n",
      "\n",
      "\n",
      "Finding a new routine\n",
      "\n",
      "\n",
      "Moving to remote working risks disrupting the office-based flows and rhythms and it will be easy to hit the incorrect note or miss important virtual meetings thanks to packed schedules. Spend time along with your team addressing the nuts and bolts of how you’ll work together. Cover the daily rhythm, individual constraints, and specific norms you’ll decide to and anticipate what might get it wrong and the way you’ll mitigate it. How companies plan and review their workflows has to change to reflect this. The challenges of the new working pattern and of not being in one room together will be overcome by creating a digitally facilitated cadence of meetings.\n",
      "One leading insurance firm adopted agile practices across its teams, with a daily and weekly ritual of check-ins, sprint planning, and review sessions. As Alibaba embraced remote working, it also made sure its meetings were more tightly run. One person is assigned to trace time and manage the outcomes. Team members can rate a meeting’s usefulness by employing a five-star system that gives immediate feedback and positive ways forward. To address the challenge of launching a digital business with an oversized remote team, one company created a replacement workflow for product requirements that clearly outlined the use of digital tools, roles, and responsibilities as requirements moved from ideation to validation to delivery stages. Reiteration of decision-making structures like this isn’t always necessary when people can communicate directly, but their absence will be keenly felt when remote working kicks in. \n",
      "The lesson: Establishing robust working norms, workflows, and features of authority is critical, but only too easy to stint on.\n",
      "\n",
      "\n",
      "Adopting a test and learn the strategy \n",
      "\n",
      "\n",
      "The final lesson: Being able to recognize what isn’t working and changing it fast.\n",
      "These are the impacts of COVID-19 on the world of work. Leadership teams that continuously learn actively identify best practices, and rapidly founded mechanisms to share ideas across the organization tend to be most successful within the future. R&D teams at one leading high-tech manufacturer created a productivity target for remote work by estimating their productivity hebdomadally relative to onsite work and identifying levers to enhance it. Within four weeks, they had progressed from 50 percent to 88 percent of their baseline. As China’s workforce begins to return to offices, these lessons from a number of its leading companies help as an example of how—with the correct structure, culture, processes, and technology—working remotely can boost productivity and morale. Employees who spend less time traveling or commuting and have a much better work-life balance are likely to be happier, more motivated, and prepared to mobilize in extreme situations. Embracing remote working allows companies to define a brand new normal that drives productivity and employee satisfaction into the longer term. Alibaba launched TaoBao, by now the world’s biggest e-commerce website, while the staff was working remotely on quarantine during the 2003 SARS outbreak. For Trip.com, an overseas working experiment in 20147 established the foundations for nice customer service and versatile working culture. Hence, bringing together all the weather can enable a brand new way of working that may make your company suited the future—whatever which will hold. These are policies that will mitigate the impacts of COVID-19 on the world of work\n",
      "Blackcoffer Insights 17:- Harsh Kapadia, Nagindas Khandwala college\n",
      "\n",
      "\n",
      "\n"
     ]
    }
   ],
   "source": [
    "links=soup.find_all('div',attrs={'class':'td-post-content tagdiv-type'})\n",
    "for i in links:\n",
    "    print(i.text)\n",
    "    print(\"\\n\")"
   ]
  },
  {
   "cell_type": "code",
   "execution_count": 12,
   "id": "8b705e90",
   "metadata": {},
   "outputs": [
    {
     "name": "stdout",
     "output_type": "stream",
     "text": [
      "Total positive score: 79\n"
     ]
    }
   ],
   "source": [
    "def count_positive_words(main_dataset_file, positive_words_file):\n",
    "    \n",
    "    \n",
    "\n",
    "    with open(main_dataset_file, 'r', encoding='utf-8') as main_file:\n",
    "        main_data = main_file.read()\n",
    "\n",
    "   \n",
    "    with open(positive_words_file, 'r', encoding='utf-8') as positive_file:\n",
    "        positive_words = positive_file.read().splitlines()\n",
    "\n",
    "    \n",
    "    words = main_data.split()\n",
    "\n",
    "    \n",
    "    count = 0\n",
    "\n",
    "   \n",
    "    for word in words:\n",
    "      \n",
    "        if word in positive_words:\n",
    "            count += 1\n",
    "\n",
    "    \n",
    "    print(\"Total positive score:\", count)\n",
    "\n",
    "\n",
    "main_dataset_file = '131.txt'\n",
    "positive_words_file = 'positive.txt'\n",
    "\n",
    "\n",
    "count_positive_words(main_dataset_file, positive_words_file)\n"
   ]
  },
  {
   "cell_type": "code",
   "execution_count": 13,
   "id": "23b1dad2",
   "metadata": {},
   "outputs": [
    {
     "name": "stdout",
     "output_type": "stream",
     "text": [
      "Total negative score: 20\n"
     ]
    }
   ],
   "source": [
    "def count_positive_words(main_dataset_file, positive_words_file):\n",
    "    \n",
    "    \n",
    "\n",
    "    with open(main_dataset_file, 'r', encoding='latin-1') as main_file:\n",
    "        main_data = main_file.read()\n",
    "\n",
    "   \n",
    "    with open(positive_words_file, 'r', encoding='latin-1') as positive_file:\n",
    "        positive_words = positive_file.read().splitlines()\n",
    "\n",
    "    \n",
    "    words = main_data.split()\n",
    "\n",
    "    \n",
    "    count = 0\n",
    "\n",
    "   \n",
    "    for word in words:\n",
    "      \n",
    "        if word in positive_words:\n",
    "            count += 1\n",
    "\n",
    "    \n",
    "    print(\"Total negative score:\", count)\n",
    "\n",
    "\n",
    "main_dataset_file = '131.txt'\n",
    "positive_words_file = 'negative-words.txt'\n",
    "\n",
    "\n",
    "count_positive_words(main_dataset_file, positive_words_file)\n"
   ]
  },
  {
   "cell_type": "code",
   "execution_count": 14,
   "id": "ee068c3a",
   "metadata": {},
   "outputs": [
    {
     "name": "stdout",
     "output_type": "stream",
     "text": [
      "Total number of words: 1748\n"
     ]
    }
   ],
   "source": [
    "def count_total_words(dataset_file):\n",
    "   \n",
    "    with open(dataset_file, 'r', encoding='utf-8') as file:\n",
    "        content = file.read()\n",
    "\n",
    "    \n",
    "    words = content.split()\n",
    "\n",
    "    \n",
    "    total_words = len(words)\n",
    "\n",
    "    return total_words\n",
    "\n",
    "\n",
    "dataset_file = '131.txt'\n",
    "\n",
    "\n",
    "total_words = count_total_words(dataset_file)\n",
    "\n",
    "\n",
    "print(\"Total number of words:\", total_words)\n"
   ]
  },
  {
   "cell_type": "code",
   "execution_count": 15,
   "id": "50f944d1",
   "metadata": {},
   "outputs": [
    {
     "name": "stdout",
     "output_type": "stream",
     "text": [
      "Number of complex words: 237\n"
     ]
    }
   ],
   "source": [
    "import pyphen\n",
    "import re\n",
    "dataset_file = \"131.txt\"\n",
    "dictionary = pyphen.Pyphen(lang='en')\n",
    "def count_syllables(word):\n",
    "    return len(dictionary.inserted(word).split('-'))\n",
    "def count_complex_words(file):\n",
    "    complex_word_count = 0\n",
    "\n",
    "    with open(file, 'r', encoding='utf-8') as f:\n",
    "        data = f.read()\n",
    "        words = re.findall(r'\\b\\w+\\b', data)  \n",
    "\n",
    "        for word in words:\n",
    "            syllable_count = count_syllables(word)\n",
    "            if syllable_count > 2:\n",
    "                complex_word_count += 1\n",
    "\n",
    "    return complex_word_count\n",
    "complex_words_count = count_complex_words(dataset_file)\n",
    "print(\"Number of complex words:\", complex_words_count)\n",
    "\n"
   ]
  },
  {
   "cell_type": "code",
   "execution_count": 16,
   "id": "170824f4",
   "metadata": {},
   "outputs": [
    {
     "name": "stdout",
     "output_type": "stream",
     "text": [
      "Number of sentences: 71\n"
     ]
    }
   ],
   "source": [
    "import re\n",
    "def count_sentences(file):\n",
    "    with open(file, 'r', encoding='utf-8') as f:\n",
    "        data = f.read()\n",
    "        sentences = re.split(r'(?<!\\w\\.\\w.)(?<![A-Z][a-z]\\.)(?<=\\.|\\?)\\s', data)\n",
    "        sentence_count = len(sentences)\n",
    "\n",
    "    return sentence_count\n",
    "dataset_file = \"131.txt\"\n",
    "sentence_count = count_sentences(dataset_file)\n",
    "print(\"Number of sentences:\", sentence_count)"
   ]
  },
  {
   "cell_type": "code",
   "execution_count": 17,
   "id": "be2e3f09",
   "metadata": {},
   "outputs": [
    {
     "name": "stdout",
     "output_type": "stream",
     "text": [
      "Sum of total number of characters: 9447\n"
     ]
    }
   ],
   "source": [
    "def calculate_total_character_count(file):\n",
    "    total_character_count = 0\n",
    "\n",
    "    with open(file, 'r', encoding='utf-8') as f:\n",
    "        data = f.read()\n",
    "        words = data.split() \n",
    "\n",
    "        for word in words:\n",
    "            total_character_count += len(word)\n",
    "\n",
    "    return total_character_count\n",
    "dataset_file = \"131.txt\"\n",
    "character_count = calculate_total_character_count(dataset_file)\n",
    "print(\"Sum of total number of characters:\", character_count)\n"
   ]
  },
  {
   "cell_type": "code",
   "execution_count": 18,
   "id": "571e525a",
   "metadata": {},
   "outputs": [
    {
     "name": "stdout",
     "output_type": "stream",
     "text": [
      "Total stop words present in data set: 749\n"
     ]
    }
   ],
   "source": [
    "def count_positive_words(main_dataset_file, positive_words_file):\n",
    "    \n",
    "    with open(main_dataset_file, 'r', encoding='utf-8') as main_file:\n",
    "        main_data = main_file.read()\n",
    "\n",
    "   \n",
    "    with open(positive_words_file, 'r', encoding='utf-8') as positive_file:\n",
    "        positive_words = positive_file.read().splitlines()\n",
    "\n",
    "    \n",
    "    words = main_data.split()\n",
    "\n",
    "    \n",
    "    count = 0\n",
    "\n",
    "   \n",
    "    for word in words:\n",
    "      \n",
    "        if word in positive_words:\n",
    "            count += 1\n",
    "\n",
    "    \n",
    "    print(\"Total stop words present in data set:\", count)\n",
    "\n",
    "\n",
    "main_dataset_file = '131.txt'\n",
    "positive_words_file = 'all-stop-words.txt'\n",
    "\n",
    "\n",
    "count_positive_words(main_dataset_file, positive_words_file)"
   ]
  },
  {
   "cell_type": "code",
   "execution_count": 19,
   "id": "8c55ea4e",
   "metadata": {},
   "outputs": [
    {
     "name": "stdout",
     "output_type": "stream",
     "text": [
      "Total syllables in the dataset file: 2928\n"
     ]
    }
   ],
   "source": [
    "def count_syllables(word):\n",
    "    vowels = 'aeiouAEIOU'\n",
    "    exceptions = ['es', 'ed']\n",
    "    count = 0\n",
    "    prev_char_vowel = False\n",
    "\n",
    "    if word[-2:] in exceptions:\n",
    "        return count\n",
    "\n",
    "    for char in word:\n",
    "        if char in vowels:\n",
    "            if not prev_char_vowel:\n",
    "                count += 1\n",
    "            prev_char_vowel = True\n",
    "        else:\n",
    "            prev_char_vowel = False\n",
    "\n",
    "    return count\n",
    "\n",
    "def sum_syllables_in_file(file):\n",
    "    total_syllables = 0\n",
    "\n",
    "    with open(file, 'r', encoding='utf-8') as f:\n",
    "        data = f.read()\n",
    "        words = data.split()\n",
    "\n",
    "        for word in words:\n",
    "            total_syllables += count_syllables(word)\n",
    "\n",
    "    return total_syllables\n",
    "\n",
    "dataset_file = \"131.txt\"\n",
    "total_syllables = sum_syllables_in_file(dataset_file)\n",
    "print(\"Total syllables in the dataset file:\", total_syllables)\n"
   ]
  },
  {
   "cell_type": "code",
   "execution_count": 20,
   "id": "7ab43cf5",
   "metadata": {},
   "outputs": [
    {
     "name": "stdout",
     "output_type": "stream",
     "text": [
      "Number of personal pronouns mentioned: 0\n"
     ]
    }
   ],
   "source": [
    "import re\n",
    "\n",
    "def count_personal_pronouns(file):\n",
    "    pronouns = ['I', 'we', 'my', 'ours', 'us']\n",
    "    count = 0\n",
    "\n",
    "    with open(file, 'r', encoding='utf-8') as f:\n",
    "        data = f.read()\n",
    "        words = re.findall(r'\\b(?:{})\\b'.format('|'.join(pronouns)), data)\n",
    "\n",
    "        for word in words:\n",
    "           \n",
    "            if word.lower() != 'us':\n",
    "                count += 1\n",
    "\n",
    "    return count\n",
    "\n",
    "dataset_file = \"131.txt\"\n",
    "pronoun_count = count_personal_pronouns(dataset_file)\n",
    "print(\"Number of personal pronouns mentioned:\", pronoun_count)\n"
   ]
  },
  {
   "cell_type": "code",
   "execution_count": null,
   "id": "8834069f",
   "metadata": {},
   "outputs": [],
   "source": []
  },
  {
   "cell_type": "code",
   "execution_count": null,
   "id": "7abf3906",
   "metadata": {},
   "outputs": [],
   "source": []
  },
  {
   "cell_type": "code",
   "execution_count": null,
   "id": "a81b4a85",
   "metadata": {},
   "outputs": [],
   "source": []
  }
 ],
 "metadata": {
  "kernelspec": {
   "display_name": "Python 3 (ipykernel)",
   "language": "python",
   "name": "python3"
  },
  "language_info": {
   "codemirror_mode": {
    "name": "ipython",
    "version": 3
   },
   "file_extension": ".py",
   "mimetype": "text/x-python",
   "name": "python",
   "nbconvert_exporter": "python",
   "pygments_lexer": "ipython3",
   "version": "3.10.9"
  }
 },
 "nbformat": 4,
 "nbformat_minor": 5
}

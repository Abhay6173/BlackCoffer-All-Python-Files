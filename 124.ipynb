{
 "cells": [
  {
   "cell_type": "code",
   "execution_count": 1,
   "id": "3dc8a062",
   "metadata": {},
   "outputs": [
    {
     "name": "stdout",
     "output_type": "stream",
     "text": [
      "Requirement already satisfied: beautifulsoup4 in c:\\users\\yg\\anaconda3\\lib\\site-packages (4.11.1)\n",
      "Requirement already satisfied: soupsieve>1.2 in c:\\users\\yg\\anaconda3\\lib\\site-packages (from beautifulsoup4) (2.3.2.post1)\n",
      "Requirement already satisfied: requests in c:\\users\\yg\\anaconda3\\lib\\site-packages (2.28.1)\n",
      "Requirement already satisfied: idna<4,>=2.5 in c:\\users\\yg\\anaconda3\\lib\\site-packages (from requests) (3.4)\n",
      "Requirement already satisfied: certifi>=2017.4.17 in c:\\users\\yg\\anaconda3\\lib\\site-packages (from requests) (2022.12.7)\n",
      "Requirement already satisfied: urllib3<1.27,>=1.21.1 in c:\\users\\yg\\anaconda3\\lib\\site-packages (from requests) (1.26.14)\n",
      "Requirement already satisfied: charset-normalizer<3,>=2 in c:\\users\\yg\\anaconda3\\lib\\site-packages (from requests) (2.0.4)\n"
     ]
    }
   ],
   "source": [
    "!pip install beautifulsoup4\n",
    "!pip install requests\n",
    "import sys\n",
    "import time \n",
    "from bs4 import BeautifulSoup\n",
    "import requests\n",
    "try:\n",
    "    \n",
    "    \n",
    "    page=requests.get('https://insights.blackcoffer.com/impact-of-covid-19-coronavirus-on-the-indian-economy-3/')\n",
    "    \n",
    "except Exception as e:\n",
    "    error_type, error_obj, error_info = sys.exc_info()\n",
    "    print('Error for link :',url)\n",
    "    print(error_type,'Line :',error_info.tb_lineno)\n",
    "    \n",
    "    \n",
    "time.sleep(2)\n",
    "soup=BeautifulSoup(page.text,'html.parser')\n",
    "links=soup.find_all('h1',attrs={'class':'entry-title'})   \n"
   ]
  },
  {
   "cell_type": "code",
   "execution_count": 2,
   "id": "a9411d76",
   "metadata": {},
   "outputs": [
    {
     "name": "stdout",
     "output_type": "stream",
     "text": [
      "Impact of COVID-19 (Coronavirus) on the Indian Economy\n",
      "\n",
      "\n"
     ]
    }
   ],
   "source": [
    "for i in links:\n",
    "    print(i.text)\n",
    "    print(\"\\n\")"
   ]
  },
  {
   "cell_type": "code",
   "execution_count": 3,
   "id": "df2f689d",
   "metadata": {},
   "outputs": [
    {
     "name": "stdout",
     "output_type": "stream",
     "text": [
      "\n",
      "From the economic point of\n",
      "view, India is confronted today with perhaps its greatest emergency since independence. The global financial\n",
      "crisis in 2008-09 was a gigantic demand shock, but our workers could still get-up-and-go to work, our firms were coming off years of steady growth, our financial system was largely sound, and our government finances were blooming. None of this is true today as\n",
      "we fight the\n",
      "coronavirus pandemic. Yet\n",
      "there is also no reason to\n",
      "despair. With the right undertakings and\n",
      "priorities, and drawing on India’s many sources of strength, it can kill this virus back, and even set the stage for a much more hopeful tomorrow.\n",
      "The rampant spread of COVID-19 outbreak, across borders and geographies, has severely impacted almost the whole world and triggered significant downside risks to the overall global economic outlook. Steps taken to contain its spread, such as the nationwide lockdown announced by the Indian Government, have brought economic activity to a near – standstill with impacts on both consumption and investment. India’s real GDP growth decelerated to its lowest in over 6 years in 3Q 2019 – 2020 and the outbreak of COVID – 19 posted fresh challenges. For most businesses, the slowdown could be in the form of supply disruptions, fall in consumption demand, and stress on the banking and financial sectors. In sum the three major contributors to GDP will all get affected i.e. Private Consumption, Investment and External Trade.\n",
      "\n",
      "Figure 1.1: Showing quarterly growth in GDP (in %). Source: MoSPI\n",
      "Assessing the exact impact for India is hard\n",
      "with uncertainty on how long the pandemic would last. Three likely scenarios for India’s economic situation could be:\n",
      "An\n",
      "optimistic situation that shows a temporary impact of COVID-19 and a V-shaped recovery: Under this forecast scenario, the COVID-19\n",
      "pandemic in India could be controlled efficiently by June 2020. The\n",
      "government’s effective interventions may improve healthcare resources and\n",
      "services, and India’s economy could revive from Q2 FY2021 onwards.         \n",
      "\n",
      "Scenario 1\n",
      "\n",
      "Quarters\n",
      "\n",
      "  Q4 FY20\n",
      "  \n",
      "  Q1 FY21\n",
      "  \n",
      "  Q2 FY21\n",
      "  \n",
      "  Q3 FY21–Q4 FY22\n",
      "  \n",
      "GDP growth\n",
      "\n",
      "  4.0–4.2% \n",
      "  \n",
      "  2.5–2.8%\n",
      "  \n",
      "  4.1–4.3% \n",
      "  \n",
      "  5.5–6.8%\n",
      "  \n",
      "Inflation\n",
      "\n",
      "  Moderate\n",
      "     Low around the target rate    \n",
      "  Low\n",
      "  \n",
      "  Rises but moderate\n",
      "  \n",
      "            Figure 1.2: Showing an optimistic situation. Source: Deloitte\n",
      "A\n",
      "somewhat optimistic scenario with a severe and extended impact of COVID-19 and\n",
      "a U-shaped recovery:\n",
      "In the second scenario, India may see limited success in controlling the spread\n",
      "despite the focus on public health-related measures and fiscal policies. With\n",
      "stringent restrictions on movement, the current lockdown may extend until\n",
      "September 2020. Some industries will face pressure as rising debt and defaults\n",
      "affect market sentiments, stress the financial sector, and reduce domestic demand.\n",
      "\n",
      "Scenario 2\n",
      "\n",
      "Quarters\n",
      "\n",
      "  Q4 FY20\n",
      "  \n",
      "  Q1–Q3 FY21\n",
      "  \n",
      "  Q4 FY21\n",
      "  \n",
      "  Q1 FY22– Q4 FY23\n",
      "  \n",
      "GDP growth\n",
      "\n",
      "  4.0–4.2% \n",
      "  \n",
      "  2.2–3.0%\n",
      "  \n",
      "  4.2–4.4% \n",
      "  \n",
      "  5.5–7.5%\n",
      "  \n",
      "Inflation\n",
      "\n",
      "  Moderate\n",
      "  \n",
      "  Low moderates by Q4 FY21  \n",
      "  \n",
      "  Moderate\n",
      "  \n",
      "  Rises above 4 %\n",
      "  \n",
      "Figure 1.3: Showing an optimistic scenario with a severe and extended impact of COVID-19. Source: Deloitte\n",
      "In scenario 2, inflation picks up in H2 FY\n",
      "2021 as demand revives faster than supply. Inflation may increase above the\n",
      "target range (4 percent) for a short time in FY 2021 because of economic\n",
      "overheating. In this scenario, inflation remains 3-4 percent during this period\n",
      "despite weak demand because of a sharper fall in production.\n",
      "A pessimistic situation, with a prolonged severe downturn leading to a new low-level normal: Under the third scenario, the pandemic may spread rapidly (amidst strict movement restrictions) until Q4 FY2021. Due to the steep decline in demand, the economy will witness production cuts. The situation will ease only in Q1 FY2022 after medical interventions. Subsequently, the economy will revive modestly as consumers will continue to be wary of spending, which will affect long-term spending. Over the next two years, the model predicts the economy to grow by 1.5–2%, lower than it would have grown otherwise, with unequal recovery across sectors.\n",
      "\n",
      "Scenario\n",
      "  3\n",
      "\n",
      "Quarters\n",
      "\n",
      "  Q4 FY20\n",
      "  \n",
      "  Q1–Q4 FY21\n",
      "  \n",
      "  Q1–Q4 FY22\n",
      "  \n",
      "  Q1 FY23–Q4 FY23\n",
      "  \n",
      "GDP\n",
      "  growth\n",
      "\n",
      "  4.0–4.2% \n",
      "  \n",
      "  2.2–3.5%\n",
      "  \n",
      "  4.4–4.5% \n",
      "  \n",
      "  5–6%\n",
      "  \n",
      "Inflation\n",
      "\n",
      "  Moderate\n",
      "  \n",
      "  Moderate  \n",
      "  \n",
      "  Moderate\n",
      "  \n",
      "Figure 1.4: Showing pessimistic situation, with a\n",
      "prolonged severe downturn. \n",
      "Source: Deloitte.\n",
      "Impact on the Demand side:\n",
      "Private\n",
      "Consumption: The\n",
      "lockdown is likely to have a sizeable impact on the economy, most significantly\n",
      "on consumption, which is the biggest component of GDP.\n",
      "Steep fall in the consumption of non-essential goods due to a significant reduction in urban transactions.Severe impact on the domestic supply chain disruptions due to the 21 –day lockdown can affect the availability of essential commodities. Weak domestic consumption and consumer sentiment will have firms delay their investment and putting additional pressure on growth.\n",
      "Informal sector: Rajasthan, Punjab, Andhra Pradesh, Chhattisgarh, and Gujarat are among the top five states with the highest urban informal workers (non–agriculture)\n",
      "Around 37 percent of regular salaried employees in urban India are informal workers, who will face uncertain income following the stalling of urban activity.INR 1.7 trillion stimulus package, focused majorly on cash transfer and food security was unveiled.The income shock to migrant workers has resulted in a massive reverse migration, the effect of which will only unravel over time.\n",
      "Impact on the Supply side:\n",
      "The shutdown of factories and the resultant delay in the supply of goods in China could result in the supply chain of both raw materials and intermediate goods for Indian companies importing from there.While disruption in output in China could impact some Indian Industries, the economy at large may be relatively insulated given its low reliance on intermediate goods from China as well as the common practice in Indian firms of stockpiling inventory.Another challenge is the disruptions of the domestic supply chain due to the lockdown, which may create a shortage of inputs for Indian firms when they restart their operations.\n",
      "\n",
      "           \n",
      "Figure 1.5: Showing supply\n",
      "chain disruptions. Source: The Economic\n",
      "Times.\n",
      "What has been done so far?\n",
      "India has already undertaken the following\n",
      "measures to counter the impact from of the pandemic:\n",
      "A three-week countrywide lockdown and fiscal steps, coupled with monetary measures from the RBI, to provide relief for all, especially the vulnerable and the disadvantaged A government has directed the employers to not terminate or cut wages, particularly that of casual or contractual workers, and low-paid workers to also take paid sick leave and unemployment allowance through the insurance cover Government to contribute to both employees’ and employers’ share in the Employees’ employees’ Provident Fund RBI relaxes lending norms for banks, injects cash into the system, slashes interest rates, and relaxes repayments for three months Managing the pandemic and the resultant public health crisis  Protecting income and employment, particularly for the disadvantaged and vulnerable sections of the society\n",
      "What can the Corporates do?\n",
      "The crisis is a story with an uncertain ending. However, what is clear that the COVID-19 has introduced new challenges to the business environment which called for a measured, practical and informed approach from political and business leaders. A company needs to think and act across five horizons:\n",
      "Resolve: Address the immediate challenges that COVID -19 represents the institution’s workforce, customers, technology, and business partners.Resilience: Address near-term cash management challenges and broader resiliency issues during virus-related shutdowns and economy Knock-on-effect.Return: Create a detailed plan to return the business to scale quickly as COVID -19 situation evolves and knock-on-effects become clearer.Reimagination: Re-imagine the next normal: What a discontinuous shift looks like and implications for how institutions should re-invent Reform: Be clear about how regulatory and competitive environments in India may shift.\n",
      "\n",
      "Figure\n",
      "1.6: Showing the\n",
      "crisis as a lesson to businessmen in assessing risk to their business. Source: The Economic Times \n",
      "Collectively, these five stages epitomize the inescapable of our time: the battle\n",
      "against COVID-19 is one that leaders today must win in order to find an economically\n",
      "and socially feasible path to the next normal.\n",
      "What can the government do?\n",
      "The government should consider certain measures in order to manage the pandemic. The following steps and the recognition of the likely scenarios for the Indian economy can enable policymakers to identify appropriate countermeasures to stem the spread of the pandemic:\n",
      "Build a national database of the reachable physical health infrastructure and medical and para-medical resources The public and private health care facilities can be segregated by labeling a section of accessible hospital beds for treating COVID-19 patients only Extend additional one-time budgetary support to augment the public health care system in terms of facilities, equipment, and human resources capacity Earmark financial resources to provide one-time grants/financial support to research institutions and leading pharmaceutical/biotechnology/medical equipment companies Extend the coverage of Ayushman Bharat and other applicable insurance schemes to COVID-19 if not already included Tweak the existing customs duty structure for select components, which are essential for manufacturing testing kits, ventilators, etc.Enable access to funds for businesses to run their day to day operations and service their debt Ensure the smooth supply of essential products and commodities to contain the economic impact of the COVID-19 outbreak Provide credit support to Medium and Small Enterprises Encourage investments such as one-time set off of capital investments made by corporates for income-tax computations\n",
      "Therefore, the question remains whether the stimulus is enough or not – both quantitatively and qualitatively? Would it be able to help the economy absorb the shock of the lockdown? Compared to what the USA (2 trillion USD), Germany (610 billion USD), UK (424 billion USD), France (335 billion USD), Spain (218 billion USD), China (78.8 billion USD) and Italy (27.3 billion USD), the spending by India (1, 70,000 crore – 22.5 billion USD) may prima facie appear to be insufficient. However, such a comparison is not easy and straightforward because a lot of factors are to be taken into account. In addition, the important factor that needs to be considered is whether at this point in time the country is able to spend more than this or not. Against a revised budget estimate of Rs. 21,63,000 crore for 2019-20 towards Tax collections, the collection as on 31st Dec 2019 was to the tune of Rs. 13,83,000 crore only with a clearly huge shortfall. In addition, a substantial amount would also have to be spent now to tackle the pandemic which is of utmost priority. On top of it, huge additional spending would jeopardize the fiscal deficit discipline although, at times of emergency, fiscal deficit should not be a matter of concern at all.\n",
      " It would also have to be seen how long this virus continues to affect India and going by the hygiene standard and herd mentality that we have, the virus continues to affect us beyond 3 months and extends to 6-8 months, quite obviously these packages would be grossly insufficient and more money will have to be pumped into the economy. If the need arises, currency notes will have to be printed and circulated and concerns about higher fiscal deficit should be simply pushed to the backseat. The corporate sector and a section of large-hearted people have also come forward at this time of distress to support the government initiatives in fighting this menace which should provide some financial comfort to the Government.\n",
      "The pandemic has appeared from nowhere as a potential death knell to the World economy which is already under stress and India is no exception. There is no second opinion that this pandemic has hit the world very hard and would continue to do so in the foreseeable future. Whether India can emerge from the medical pandemic as well as the economic pandemic relatively unscathed remains to be seen. We will have to take care of our lives as well as the livelihoods of our citizens. As Indians, we hope, we shall overcome.  Together we can do this and we will.\n",
      "Blackcoffer Insights 16:- Radhika Kejriwal, IMT Nagpur\n",
      "\n",
      "\n",
      "\n"
     ]
    }
   ],
   "source": [
    "links=soup.find_all('div',attrs={'class':'td-post-content tagdiv-type'})\n",
    "for i in links:\n",
    "    print(i.text)\n",
    "    print(\"\\n\")"
   ]
  },
  {
   "cell_type": "code",
   "execution_count": 1,
   "id": "80527489",
   "metadata": {},
   "outputs": [
    {
     "name": "stdout",
     "output_type": "stream",
     "text": [
      "Total positive score: 37\n"
     ]
    }
   ],
   "source": [
    "def count_positive_words(main_dataset_file, positive_words_file):\n",
    "    \n",
    "    \n",
    "\n",
    "    with open(main_dataset_file, 'r', encoding='utf-8') as main_file:\n",
    "        main_data = main_file.read()\n",
    "\n",
    "   \n",
    "    with open(positive_words_file, 'r', encoding='utf-8') as positive_file:\n",
    "        positive_words = positive_file.read().splitlines()\n",
    "\n",
    "    \n",
    "    words = main_data.split()\n",
    "\n",
    "    \n",
    "    count = 0\n",
    "\n",
    "   \n",
    "    for word in words:\n",
    "      \n",
    "        if word in positive_words:\n",
    "            count += 1\n",
    "\n",
    "    \n",
    "    print(\"Total positive score:\", count)\n",
    "\n",
    "\n",
    "main_dataset_file = '124.txt'\n",
    "positive_words_file = 'positive.txt'\n",
    "\n",
    "\n",
    "count_positive_words(main_dataset_file, positive_words_file)\n"
   ]
  },
  {
   "cell_type": "code",
   "execution_count": 2,
   "id": "abb1cb31",
   "metadata": {},
   "outputs": [
    {
     "name": "stdout",
     "output_type": "stream",
     "text": [
      "Total positive score: 61\n"
     ]
    }
   ],
   "source": [
    "def count_positive_words(main_dataset_file, positive_words_file):\n",
    "    \n",
    "    \n",
    "\n",
    "    with open(main_dataset_file, 'r', encoding='latin-1') as main_file:\n",
    "        main_data = main_file.read()\n",
    "\n",
    "   \n",
    "    with open(positive_words_file, 'r', encoding='latin-1') as positive_file:\n",
    "        positive_words = positive_file.read().splitlines()\n",
    "\n",
    "    \n",
    "    words = main_data.split()\n",
    "\n",
    "    \n",
    "    count = 0\n",
    "\n",
    "   \n",
    "    for word in words:\n",
    "      \n",
    "        if word in positive_words:\n",
    "            count += 1\n",
    "\n",
    "    \n",
    "    print(\"Total positive score:\", count)\n",
    "\n",
    "\n",
    "main_dataset_file = '124.txt'\n",
    "positive_words_file = 'negative-words.txt'\n",
    "\n",
    "\n",
    "count_positive_words(main_dataset_file, positive_words_file)\n"
   ]
  },
  {
   "cell_type": "code",
   "execution_count": 3,
   "id": "8a1784c4",
   "metadata": {},
   "outputs": [
    {
     "name": "stdout",
     "output_type": "stream",
     "text": [
      "Total number of words: 1934\n"
     ]
    }
   ],
   "source": [
    "def count_total_words(dataset_file):\n",
    "   \n",
    "    with open(dataset_file, 'r', encoding='utf-8') as file:\n",
    "        content = file.read()\n",
    "\n",
    "    \n",
    "    words = content.split()\n",
    "\n",
    "    \n",
    "    total_words = len(words)\n",
    "\n",
    "    return total_words\n",
    "\n",
    "\n",
    "dataset_file = '124.txt'\n",
    "\n",
    "\n",
    "total_words = count_total_words(dataset_file)\n",
    "\n",
    "\n",
    "print(\"Total number of words:\", total_words)\n"
   ]
  },
  {
   "cell_type": "code",
   "execution_count": 4,
   "id": "20dbaa02",
   "metadata": {},
   "outputs": [
    {
     "name": "stdout",
     "output_type": "stream",
     "text": [
      "Number of complex words: 258\n"
     ]
    }
   ],
   "source": [
    "import pyphen\n",
    "import re\n",
    "dataset_file = \"124.txt\"\n",
    "dictionary = pyphen.Pyphen(lang='en')\n",
    "def count_syllables(word):\n",
    "    return len(dictionary.inserted(word).split('-'))\n",
    "def count_complex_words(file):\n",
    "    complex_word_count = 0\n",
    "\n",
    "    with open(file, 'r', encoding='utf-8') as f:\n",
    "        data = f.read()\n",
    "        words = re.findall(r'\\b\\w+\\b', data)  \n",
    "\n",
    "        for word in words:\n",
    "            syllable_count = count_syllables(word)\n",
    "            if syllable_count > 2:\n",
    "                complex_word_count += 1\n",
    "\n",
    "    return complex_word_count\n",
    "complex_words_count = count_complex_words(dataset_file)\n",
    "print(\"Number of complex words:\", complex_words_count)\n",
    "\n",
    "\n",
    "\n"
   ]
  },
  {
   "cell_type": "code",
   "execution_count": 5,
   "id": "e86d2bda",
   "metadata": {},
   "outputs": [
    {
     "name": "stdout",
     "output_type": "stream",
     "text": [
      "Number of sentences: 72\n"
     ]
    }
   ],
   "source": [
    "import re\n",
    "def count_sentences(file):\n",
    "    with open(file, 'r', encoding='utf-8') as f:\n",
    "        data = f.read()\n",
    "        sentences = re.split(r'(?<!\\w\\.\\w.)(?<![A-Z][a-z]\\.)(?<=\\.|\\?)\\s', data)\n",
    "        sentence_count = len(sentences)\n",
    "\n",
    "    return sentence_count\n",
    "dataset_file = \"124.txt\"\n",
    "sentence_count = count_sentences(dataset_file)\n",
    "print(\"Number of sentences:\", sentence_count)"
   ]
  },
  {
   "cell_type": "code",
   "execution_count": 6,
   "id": "4388f5a3",
   "metadata": {},
   "outputs": [
    {
     "name": "stdout",
     "output_type": "stream",
     "text": [
      "Sum of total number of characters: 10329\n"
     ]
    }
   ],
   "source": [
    "def calculate_total_character_count(file):\n",
    "    total_character_count = 0\n",
    "\n",
    "    with open(file, 'r', encoding='utf-8') as f:\n",
    "        data = f.read()\n",
    "        words = data.split() \n",
    "\n",
    "        for word in words:\n",
    "            total_character_count += len(word)\n",
    "\n",
    "    return total_character_count\n",
    "dataset_file = \"124.txt\"\n",
    "character_count = calculate_total_character_count(dataset_file)\n",
    "print(\"Sum of total number of characters:\", character_count)\n"
   ]
  },
  {
   "cell_type": "code",
   "execution_count": 7,
   "id": "2309f3aa",
   "metadata": {},
   "outputs": [
    {
     "name": "stdout",
     "output_type": "stream",
     "text": [
      "Total stop words present in data set: 823\n"
     ]
    }
   ],
   "source": [
    "def count_positive_words(main_dataset_file, positive_words_file):\n",
    "    \n",
    "    with open(main_dataset_file, 'r', encoding='utf-8') as main_file:\n",
    "        main_data = main_file.read()\n",
    "\n",
    "   \n",
    "    with open(positive_words_file, 'r', encoding='utf-8') as positive_file:\n",
    "        positive_words = positive_file.read().splitlines()\n",
    "\n",
    "    \n",
    "    words = main_data.split()\n",
    "\n",
    "    \n",
    "    count = 0\n",
    "\n",
    "   \n",
    "    for word in words:\n",
    "      \n",
    "        if word in positive_words:\n",
    "            count += 1\n",
    "\n",
    "    \n",
    "    print(\"Total stop words present in data set:\", count)\n",
    "\n",
    "\n",
    "main_dataset_file = '124.txt'\n",
    "positive_words_file = 'all-stop-words.txt'\n",
    "\n",
    "\n",
    "count_positive_words(main_dataset_file, positive_words_file)"
   ]
  },
  {
   "cell_type": "code",
   "execution_count": 9,
   "id": "a38d75af",
   "metadata": {},
   "outputs": [
    {
     "name": "stdout",
     "output_type": "stream",
     "text": [
      "Total syllables in the dataset file: 2996\n"
     ]
    }
   ],
   "source": [
    "def count_syllables(word):\n",
    "    vowels = 'aeiouAEIOU'\n",
    "    exceptions = ['es', 'ed']\n",
    "    count = 0\n",
    "    prev_char_vowel = False\n",
    "\n",
    "    if word[-2:] in exceptions:\n",
    "        return count\n",
    "\n",
    "    for char in word:\n",
    "        if char in vowels:\n",
    "            if not prev_char_vowel:\n",
    "                count += 1\n",
    "            prev_char_vowel = True\n",
    "        else:\n",
    "            prev_char_vowel = False\n",
    "\n",
    "    return count\n",
    "\n",
    "def sum_syllables_in_file(file):\n",
    "    total_syllables = 0\n",
    "\n",
    "    with open(file, 'r', encoding='utf-8') as f:\n",
    "        data = f.read()\n",
    "        words = data.split()\n",
    "\n",
    "        for word in words:\n",
    "            total_syllables += count_syllables(word)\n",
    "\n",
    "    return total_syllables\n",
    "\n",
    "dataset_file = \"124.txt\"\n",
    "total_syllables = sum_syllables_in_file(dataset_file)\n",
    "print(\"Total syllables in the dataset file:\", total_syllables)\n"
   ]
  },
  {
   "cell_type": "code",
   "execution_count": 10,
   "id": "5df9b122",
   "metadata": {},
   "outputs": [
    {
     "name": "stdout",
     "output_type": "stream",
     "text": [
      "Number of personal pronouns mentioned: 5\n"
     ]
    }
   ],
   "source": [
    "import re\n",
    "\n",
    "def count_personal_pronouns(file):\n",
    "    pronouns = ['I', 'we', 'my', 'ours', 'us']\n",
    "    count = 0\n",
    "\n",
    "    with open(file, 'r', encoding='utf-8') as f:\n",
    "        data = f.read()\n",
    "        words = re.findall(r'\\b(?:{})\\b'.format('|'.join(pronouns)), data)\n",
    "\n",
    "        for word in words:\n",
    "            # Exclude the word 'US' (country name)\n",
    "            if word.lower() != 'us':\n",
    "                count += 1\n",
    "\n",
    "    return count\n",
    "\n",
    "dataset_file = \"124.txt\"\n",
    "pronoun_count = count_personal_pronouns(dataset_file)\n",
    "print(\"Number of personal pronouns mentioned:\", pronoun_count)\n"
   ]
  },
  {
   "cell_type": "code",
   "execution_count": 1,
   "id": "fe9c2c0e",
   "metadata": {},
   "outputs": [
    {
     "name": "stdout",
     "output_type": "stream",
     "text": [
      "Total characters: 10585\n",
      "Total words: 1949\n",
      "Average word length: 5.43099025141098\n"
     ]
    }
   ],
   "source": [
    "def calculate_word_stats(file):\n",
    "    total_characters = 0\n",
    "    total_words = 0\n",
    "\n",
    "    with open(file, 'r', encoding='utf-8') as f:\n",
    "        data = f.read()\n",
    "        words = data.split()\n",
    "\n",
    "        for word in words:\n",
    "            total_characters += len(word)\n",
    "            total_words += 1\n",
    "\n",
    "    return total_characters, total_words\n",
    "\n",
    "dataset_file = \"124.txt\"\n",
    "char_count, word_count = calculate_word_stats(dataset_file)\n",
    "average_word_length = char_count / word_count if word_count != 0 else 0\n",
    "\n",
    "print(\"Total characters:\", char_count)\n",
    "print(\"Total words:\", word_count)\n",
    "print(\"Average word length:\", average_word_length)\n"
   ]
  },
  {
   "cell_type": "code",
   "execution_count": null,
   "id": "7fd0b594",
   "metadata": {},
   "outputs": [],
   "source": []
  }
 ],
 "metadata": {
  "kernelspec": {
   "display_name": "Python 3 (ipykernel)",
   "language": "python",
   "name": "python3"
  },
  "language_info": {
   "codemirror_mode": {
    "name": "ipython",
    "version": 3
   },
   "file_extension": ".py",
   "mimetype": "text/x-python",
   "name": "python",
   "nbconvert_exporter": "python",
   "pygments_lexer": "ipython3",
   "version": "3.10.9"
  }
 },
 "nbformat": 4,
 "nbformat_minor": 5
}

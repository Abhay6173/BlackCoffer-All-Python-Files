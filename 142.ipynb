{
 "cells": [
  {
   "cell_type": "code",
   "execution_count": 1,
   "id": "e22ee62d",
   "metadata": {},
   "outputs": [
    {
     "name": "stdout",
     "output_type": "stream",
     "text": [
      "Requirement already satisfied: beautifulsoup4 in c:\\users\\yg\\anaconda3\\lib\\site-packages (4.11.1)\n",
      "Requirement already satisfied: soupsieve>1.2 in c:\\users\\yg\\anaconda3\\lib\\site-packages (from beautifulsoup4) (2.3.2.post1)\n",
      "Requirement already satisfied: requests in c:\\users\\yg\\anaconda3\\lib\\site-packages (2.28.1)\n",
      "Requirement already satisfied: charset-normalizer<3,>=2 in c:\\users\\yg\\anaconda3\\lib\\site-packages (from requests) (2.0.4)\n",
      "Requirement already satisfied: certifi>=2017.4.17 in c:\\users\\yg\\anaconda3\\lib\\site-packages (from requests) (2022.12.7)\n",
      "Requirement already satisfied: idna<4,>=2.5 in c:\\users\\yg\\anaconda3\\lib\\site-packages (from requests) (3.4)\n",
      "Requirement already satisfied: urllib3<1.27,>=1.21.1 in c:\\users\\yg\\anaconda3\\lib\\site-packages (from requests) (1.26.14)\n"
     ]
    }
   ],
   "source": [
    "!pip install beautifulsoup4\n",
    "!pip install requests\n",
    "import sys\n",
    "import time \n",
    "from bs4 import BeautifulSoup\n",
    "import requests\n",
    "try:\n",
    "    \n",
    "    \n",
    "    page=requests.get('https://insights.blackcoffer.com/impact-of-covid-19coronavirus-on-the-indian-economy/')\n",
    "    \n",
    "    \n",
    "except Exception as e:\n",
    "    error_type, error_obj, error_info = sys.exc_info()\n",
    "    print('Error for link :',url)\n",
    "    print(error_type,'Line :',error_info.tb_lineno)\n",
    "    \n",
    "    \n",
    "time.sleep(2)\n",
    "soup=BeautifulSoup(page.text,'html.parser')\n",
    "links=soup.find_all('h1',attrs={'class':'entry-title'})   \n"
   ]
  },
  {
   "cell_type": "code",
   "execution_count": 2,
   "id": "46d89d9e",
   "metadata": {},
   "outputs": [
    {
     "name": "stdout",
     "output_type": "stream",
     "text": [
      "Impact of Indian Economy due to COVID-19\n",
      "\n",
      "\n"
     ]
    }
   ],
   "source": [
    "for i in links:\n",
    "    print(i.text)\n",
    "    print(\"\\n\")"
   ]
  },
  {
   "cell_type": "code",
   "execution_count": 3,
   "id": "b33da312",
   "metadata": {},
   "outputs": [
    {
     "name": "stdout",
     "output_type": "stream",
     "text": [
      "\n",
      "COVID-19: INTRODUCTION\n",
      "The Novel Coronavirus (COVID-19),\n",
      "Initially emerged in China at the end of  2019 and by the end of January\n",
      "2020, The World Health Organization declared this pandemic as a Public Health\n",
      "Emergency of International Concern. This virus\n",
      "causes respiratory illness (like the flu) with symptoms such as a cough, fever,\n",
      "and in more severe cases, difficulty in breathing or may cause lung disease.\n",
      "Senior Citizens or people under some medical treatment are more likely to\n",
      "acclimate to this virus.\n",
      "The impact of this\n",
      "outbreak is rapidly increasing at a higher rate than anything else in the\n",
      "economies of various countries of the world. This outbreak is considered a\n",
      "situation like recession or slowdown of the overall economy after the great\n",
      "recession in the year 2008. \n",
      "India is the\n",
      "fifth-largest economy in the world with a population of 133.92 Crores. India is\n",
      "still in its developing phase and its uneven development across regions and\n",
      "communities adds various complexities in coping up with this kind of pandemic.\n",
      "It also reflects that there is a huge scope for social schism among the people\n",
      "of different communities.\n",
      "In India, the first\n",
      "case was reported at the end of January month because people travel from China\n",
      "to India. The government of India made special arrangements for the students\n",
      "and people who were there in Wuhan for studies and work so that India can save\n",
      "their people from the effect of this novel coronavirus. The infection rate of\n",
      "this virus is relatively low in India as compared to its population size\n",
      "because of the rapid actions taken by the government to quarantine people and\n",
      "shut borders.\n",
      "Also, the government\n",
      "of India announces the suspension of various activities in the country like\n",
      "shut down of educational institutes and corporate houses, deferring all tourist\n",
      "visas and postal services, cease all the interstate and intrastate borders\n",
      "within the country, and terminate all the transportation facilities. The drive\n",
      "of social distancing and isolation of infected people also takes place. \n",
      "The initiatives taken\n",
      "by the government of India in accordance with this pandemic outbreak affect the\n",
      "economy in a very drastic way. It changes the way in which the country is\n",
      "developing. A lot of disruption is happening all around the nation which\n",
      "challenges the “unimaginably ambitious” aim of the Modi government for\n",
      "achieving “$5 Trillion Economy” by 2024.\n",
      "COVID-19: ECONOMIC IMPACT\n",
      "The Indian economy is\n",
      "deemed as the fastest developing economies in the world. India has now emerged\n",
      "as a global preeminent player in the world’s economies and at the third-largest\n",
      "economy in terms of purchasing power parity. It consists of numerous sectors or\n",
      "channels such as Hospitality, Education, Retail, E-Commerce, Aviation,\n",
      "Petroleum, Banking, Automobiles, Pharma or Healthcare, Insurance, and Railways,\n",
      "etc. which are going unfavourably influenced by this disruption and through\n",
      "which the economy is getting affected.\n",
      "COVID-19: HOSPITALITY\n",
      "The Hotel industry of India has a very vast contribution towards India’s Total Gross Domestic Product. It is the most prominent service sector with market size of $22 Billion in 2019 & the proposed rate of growth by 8.6% till 2025 now becomes a challenge because of this pandemic. The intact turnover of the Indian hospitality sector was sunk between $8.85 billion to $10 billion which reflects depletion of 39% – 45% as correlated to last year’s revenues. The hospitality sector needs to take proactive financial steps to mitigate the impact of COVID 19. It is wholly based on travel, trade, and tourism for its subsistence or existence. This extensive outbreak leads to huge cancellations of bookings in the last months’ leads to the miserable position of hotels in the worrisome declines.\n",
      " Hotels are\n",
      "grappling from crisis amid stringent government restrictions and also\n",
      "emphasizing on isolation and social distancing. The impact is very huge and is\n",
      "unpredictable but the sector is at its maturity level and focusing on their\n",
      "hospitality commitment to and for the society in the best way they can. The big\n",
      "hotel chains in India propose their rooms and venues for free of cost or at\n",
      "very highly subsidized rates to the government for the purpose of quarantine\n",
      "people who came back from abroad and to the medical fraternity to use rooms as\n",
      "the isolation infirmaries. Also, the pantries are used for preparing feeds for\n",
      "the needy ones in a proper sanitized manner. \n",
      "The industry\n",
      "professionals have to keep an eye on their rivals to check their surviving\n",
      "policies at this consequence and they have to sustain their public image in the\n",
      "market after analysing the after-effects on their pricing and preservation of\n",
      "their assets. This industry may exceed after witnessing remarkable assurance in\n",
      "the economy.\n",
      "COVID-19: EDUCATION\n",
      "Education is a pretty essential aspect\n",
      "in an underdeveloped country like India. India’s Education sector proposes a\n",
      "glorious opportunity to 29% of India’s population which is between the ages of\n",
      "0-14 years. There is a foreseen rise in India’s higher education sector of Rs\n",
      "2,44,824 crore by 2025 but as the occurrence of the Virus that’s a troublesome\n",
      "challenge. \n",
      "The COVID-19 outbreak has set off alarm\n",
      "bells across the country for the 250 million school going students along with\n",
      "students enrolled in universities in India. India’s education sector is not\n",
      "unaffected, it has given shut down of school, Colleges and other institutions\n",
      "this is basically for social distancing to prevent the cause-effect of the\n",
      "spreading virus and be precaution beforehand of the disruption. India has\n",
      "resulted in 49.86% of the increase in internet penetration utilized to remit\n",
      "learning. So to permeate the pauses the virtual classes and online classes are\n",
      "catching the drift i.e. a merge turn to the digital learning platform.\n",
      "In the wake of this dilemma and\n",
      "gripping the student safety in mind and their scholarly concern, most of the\n",
      "institutes have taken the action to accommodate the convenience of\n",
      "telecommunication, Skype call, zoom call and admittance to other virtual\n",
      "prospects to fill the gap of learning. The examinations are being suspended or\n",
      "postponed keeping the concerns of the burgeoning COVID-19 on the masses\n",
      "extensively in the consultation. \n",
      "Undoubtedly, this is a very crucial\n",
      "time for students. Ironically, it has taken the COVID-19 outbreak to get the\n",
      "whole education sector to slip to digital mode and with both humanistic and\n",
      "technological support. The impact on education is likely to induce losses in\n",
      "terms of dropout rates and learning outcomes, especially in regions with low shock\n",
      "resilience.\n",
      "COVID-19: TRAVEL & TOURISM\n",
      "The Coronavirus outbreak had a\n",
      "debilitating influence on India’s travel and tourism sector with the industry\n",
      "assessing an overall deterioration of ₹ 5 lakh crore with witnessing a 4-5\n",
      "crore people job cuts. It was also scrutinized that online travel agencies were\n",
      "set to suffer as much as  ₹ 4,312 crores, tour operators (inbound and\n",
      "domestic) ₹ 25,000 crores, adventure tour operators nearly ₹ 19,000 crores and\n",
      "cruise tourism ₹419 crores. This sector engages employment to the extensive\n",
      "segment of the civilization like miniature homestays and regular wage\n",
      "earners. \n",
      "The time period from December to May is\n",
      "very crucial and important for this sector to attract its customers as people\n",
      "come from outside the country in this time span and also people within the\n",
      "country travel a lot to spend their summer holidays and also the people who\n",
      "travel abroad. According to ICC, Foreign Tourist Arrivals (FTA) has got fluff\n",
      "by about 67% seasonally in January-March, while for domestic tourists, the\n",
      "value is lower by almost 40%.\n",
      "According to The World Economic Forum\n",
      "(WEF), this pandemic is putting up to 50 million jobs in the global Travel and\n",
      "Tourism sector at risk and out of this, around 30 million would be in Asia.\n",
      "Indian Chamber of Commerce (ICC) counsels fixing up of a ‘Travel & Tourism\n",
      "Stabilisation Fund’ with direct gain transfer to each unit to prevent\n",
      "commercial loss and sequential job loss. It is presumed that it would take up\n",
      "to 10 months for the tourism sector to get back to its sustainable level.\n",
      "Travel and Tourism sector bodies had\n",
      "communicated to the government for interim aid to pay EMIs, instalments, taxes,\n",
      "and salaries to operators as the tourism industry is eyeing destitution,\n",
      "cessation of industries and mass lay-off. The unskilled people of the industry\n",
      "are perceived as the most vulnerable link in the whole industry concatenation.\n",
      "COVID-19: BANKING & FINANCIAL\n",
      "The Indian Banking sector has an\n",
      "influential pivotal role in the development of an economy as it is considered a\n",
      "necessary service sector in society. India’s banking sector is sufficiently\n",
      "capitalized and well regulated by the regulatory body The Reserve Bank of India\n",
      "(RBI). Currently, Indian banking and financial industry is at the fifth-largest\n",
      "in the world and has the potential to become third-largest by 2024 and\n",
      "contributing approx 7.7% towards the GDP of India. Although the banking and\n",
      "financial sector were previously suffering a lot and are on the struggling\n",
      "plank because of scams like Nirav Modi, VUCA disruptions like demonetization,\n",
      "the enlightenment of GST in the nation and now with this pandemic.\n",
      "This disruption causes so many problems\n",
      "to the retail as well as corporate customers. Indian Banking Association, said\n",
      "to bank customers that they should visit the bank branches only in the\n",
      "situation of extreme emergency. The Bank branch cut-offs the working hours in a\n",
      "day. Many branches were sanitized under the orders of the state government and\n",
      "the services are kept limited which are most essential in the branches. RBI\n",
      "asked customers to use digital platforms for most of the operations and banks\n",
      "are operating round-the-clock to assure all digital channels are up to date.\n",
      "However, an appropriate fiscal policy\n",
      "response should be implemented to uplift the economy from drowsiness to a\n",
      "vigorous state. From boosting bank’s liquidity to providing financial relief to\n",
      "its customers, RBI announced various guidelines to stabilize the concern of\n",
      "corporate houses as well as MSMEs and retail customers in the wake of this\n",
      "outbreak.\n",
      "Banks are now being allowed for a three\n",
      "months moratorium on payment of instalments regarding all term loans prominent\n",
      "as on 01.03.2020. Also, the repayment schedule and tenure of such loans can be\n",
      "shifted by 3 months. Further to tackle financially this industry and its\n",
      "valuable customers the RBI also slashed the repo rate by 75 basis points.\n",
      "COVID-19: CONCLUSION\n",
      "The Government of India mobilized various committees or task force specifically for COVID-19 and National Disaster Management Authority (NDMA) to overcome from this pandemic. These committees are here to ensure a harmonized response against this outbreak. The government took all necessary steps to fight against the coronavirus such as introducing a new app for the population named as “AAROGYA SETU APP” which gives essential information about the virus. Such crises also heal the earth back to its natural state with fewer disruptions by humans. It could also be stated that such crises also seed some opportunities in the nation for the better development of the whole economy.\n",
      "\n",
      "Blackcoffer Insights 16:- Adarsh Agrawal,University of Petroleum and Energy Studies, Dehradun, Uttarakhand\n",
      "\n",
      "\n",
      "\n"
     ]
    }
   ],
   "source": [
    "links=soup.find_all('div',attrs={'class':'td-post-content tagdiv-type'})\n",
    "for i in links:\n",
    "    print(i.text)\n",
    "    print(\"\\n\")"
   ]
  },
  {
   "cell_type": "code",
   "execution_count": 9,
   "id": "a4a9c675",
   "metadata": {},
   "outputs": [
    {
     "name": "stdout",
     "output_type": "stream",
     "text": [
      "Total positive score: 46\n"
     ]
    }
   ],
   "source": [
    "def count_positive_words(main_dataset_file, positive_words_file):\n",
    "    \n",
    "    \n",
    "\n",
    "    with open(main_dataset_file, 'r', encoding='utf-8') as main_file:\n",
    "        main_data = main_file.read()\n",
    "\n",
    "   \n",
    "    with open(positive_words_file, 'r', encoding='utf-8') as positive_file:\n",
    "        positive_words = positive_file.read().splitlines()\n",
    "\n",
    "    \n",
    "    words = main_data.split()\n",
    "\n",
    "    \n",
    "    count = 0\n",
    "\n",
    "   \n",
    "    for word in words:\n",
    "      \n",
    "        if word in positive_words:\n",
    "            count += 1\n",
    "\n",
    "    \n",
    "    print(\"Total positive score:\", count)\n",
    "\n",
    "\n",
    "main_dataset_file = '142.txt'\n",
    "positive_words_file = 'positive.txt'\n",
    "\n",
    "\n",
    "count_positive_words(main_dataset_file, positive_words_file)\n"
   ]
  },
  {
   "cell_type": "code",
   "execution_count": 10,
   "id": "a8a341f2",
   "metadata": {},
   "outputs": [
    {
     "name": "stdout",
     "output_type": "stream",
     "text": [
      "Total negative score: 53\n"
     ]
    }
   ],
   "source": [
    "def count_positive_words(main_dataset_file, positive_words_file):\n",
    "    \n",
    "    \n",
    "\n",
    "    with open(main_dataset_file, 'r', encoding='latin-1') as main_file:\n",
    "        main_data = main_file.read()\n",
    "\n",
    "   \n",
    "    with open(positive_words_file, 'r', encoding='latin-1') as positive_file:\n",
    "        positive_words = positive_file.read().splitlines()\n",
    "\n",
    "    \n",
    "    words = main_data.split()\n",
    "\n",
    "    \n",
    "    count = 0\n",
    "\n",
    "   \n",
    "    for word in words:\n",
    "      \n",
    "        if word in positive_words:\n",
    "            count += 1\n",
    "\n",
    "    \n",
    "    print(\"Total negative score:\", count)\n",
    "\n",
    "\n",
    "main_dataset_file = '142.txt'\n",
    "positive_words_file = 'negative-words.txt'\n",
    "\n",
    "\n",
    "count_positive_words(main_dataset_file, positive_words_file)\n"
   ]
  },
  {
   "cell_type": "code",
   "execution_count": 11,
   "id": "2a15b2b3",
   "metadata": {},
   "outputs": [
    {
     "name": "stdout",
     "output_type": "stream",
     "text": [
      "Total number of words: 1828\n"
     ]
    }
   ],
   "source": [
    "def count_total_words(dataset_file):\n",
    "   \n",
    "    with open(dataset_file, 'r', encoding='utf-8') as file:\n",
    "        content = file.read()\n",
    "\n",
    "    \n",
    "    words = content.split()\n",
    "\n",
    "    \n",
    "    total_words = len(words)\n",
    "\n",
    "    return total_words\n",
    "\n",
    "\n",
    "dataset_file = '142.txt'\n",
    "\n",
    "\n",
    "total_words = count_total_words(dataset_file)\n",
    "\n",
    "\n",
    "print(\"Total number of words:\", total_words)\n"
   ]
  },
  {
   "cell_type": "code",
   "execution_count": 12,
   "id": "391aa812",
   "metadata": {},
   "outputs": [
    {
     "name": "stdout",
     "output_type": "stream",
     "text": [
      "Number of complex words: 272\n"
     ]
    }
   ],
   "source": [
    "import pyphen\n",
    "import re\n",
    "dataset_file = \"142.txt\"\n",
    "dictionary = pyphen.Pyphen(lang='en')\n",
    "def count_syllables(word):\n",
    "    return len(dictionary.inserted(word).split('-'))\n",
    "def count_complex_words(file):\n",
    "    complex_word_count = 0\n",
    "\n",
    "    with open(file, 'r', encoding='utf-8') as f:\n",
    "        data = f.read()\n",
    "        words = re.findall(r'\\b\\w+\\b', data)  \n",
    "\n",
    "        for word in words:\n",
    "            syllable_count = count_syllables(word)\n",
    "            if syllable_count > 2:\n",
    "                complex_word_count += 1\n",
    "\n",
    "    return complex_word_count\n",
    "complex_words_count = count_complex_words(dataset_file)\n",
    "print(\"Number of complex words:\", complex_words_count)\n",
    "\n"
   ]
  },
  {
   "cell_type": "code",
   "execution_count": null,
   "id": "4efd668a",
   "metadata": {},
   "outputs": [],
   "source": []
  },
  {
   "cell_type": "code",
   "execution_count": 13,
   "id": "7fda3aab",
   "metadata": {},
   "outputs": [
    {
     "name": "stdout",
     "output_type": "stream",
     "text": [
      "Number of sentences: 74\n"
     ]
    }
   ],
   "source": [
    "import re\n",
    "def count_sentences(file):\n",
    "    with open(file, 'r', encoding='utf-8') as f:\n",
    "        data = f.read()\n",
    "        sentences = re.split(r'(?<!\\w\\.\\w.)(?<![A-Z][a-z]\\.)(?<=\\.|\\?)\\s', data)\n",
    "        sentence_count = len(sentences)\n",
    "\n",
    "    return sentence_count\n",
    "dataset_file = \"142.txt\"\n",
    "sentence_count = count_sentences(dataset_file)\n",
    "print(\"Number of sentences:\", sentence_count)"
   ]
  },
  {
   "cell_type": "code",
   "execution_count": 14,
   "id": "3236fbb1",
   "metadata": {},
   "outputs": [
    {
     "name": "stdout",
     "output_type": "stream",
     "text": [
      "Sum of total number of characters: 9546\n"
     ]
    }
   ],
   "source": [
    "def calculate_total_character_count(file):\n",
    "    total_character_count = 0\n",
    "\n",
    "    with open(file, 'r', encoding='utf-8') as f:\n",
    "        data = f.read()\n",
    "        words = data.split() \n",
    "\n",
    "        for word in words:\n",
    "            total_character_count += len(word)\n",
    "\n",
    "    return total_character_count\n",
    "dataset_file = \"142.txt\"\n",
    "character_count = calculate_total_character_count(dataset_file)\n",
    "print(\"Sum of total number of characters:\", character_count)\n"
   ]
  },
  {
   "cell_type": "code",
   "execution_count": 15,
   "id": "bd2555c1",
   "metadata": {},
   "outputs": [
    {
     "name": "stdout",
     "output_type": "stream",
     "text": [
      "Total stop words present in data set: 830\n"
     ]
    }
   ],
   "source": [
    "def count_positive_words(main_dataset_file, positive_words_file):\n",
    "    \n",
    "    with open(main_dataset_file, 'r', encoding='utf-8') as main_file:\n",
    "        main_data = main_file.read()\n",
    "\n",
    "   \n",
    "    with open(positive_words_file, 'r', encoding='utf-8') as positive_file:\n",
    "        positive_words = positive_file.read().splitlines()\n",
    "\n",
    "    \n",
    "    words = main_data.split()\n",
    "\n",
    "    \n",
    "    count = 0\n",
    "\n",
    "   \n",
    "    for word in words:\n",
    "      \n",
    "        if word in positive_words:\n",
    "            count += 1\n",
    "\n",
    "    \n",
    "    print(\"Total stop words present in data set:\", count)\n",
    "\n",
    "\n",
    "main_dataset_file = '142.txt'\n",
    "positive_words_file = 'all-stop-words.txt'\n",
    "\n",
    "\n",
    "count_positive_words(main_dataset_file, positive_words_file)"
   ]
  },
  {
   "cell_type": "code",
   "execution_count": 16,
   "id": "46971e1a",
   "metadata": {},
   "outputs": [
    {
     "name": "stdout",
     "output_type": "stream",
     "text": [
      "Total syllables in the dataset file: 2922\n"
     ]
    }
   ],
   "source": [
    "def count_syllables(word):\n",
    "    vowels = 'aeiouAEIOU'\n",
    "    exceptions = ['es', 'ed']\n",
    "    count = 0\n",
    "    prev_char_vowel = False\n",
    "\n",
    "    if word[-2:] in exceptions:\n",
    "        return count\n",
    "\n",
    "    for char in word:\n",
    "        if char in vowels:\n",
    "            if not prev_char_vowel:\n",
    "                count += 1\n",
    "            prev_char_vowel = True\n",
    "        else:\n",
    "            prev_char_vowel = False\n",
    "\n",
    "    return count\n",
    "\n",
    "def sum_syllables_in_file(file):\n",
    "    total_syllables = 0\n",
    "\n",
    "    with open(file, 'r', encoding='utf-8') as f:\n",
    "        data = f.read()\n",
    "        words = data.split()\n",
    "\n",
    "        for word in words:\n",
    "            total_syllables += count_syllables(word)\n",
    "\n",
    "    return total_syllables\n",
    "\n",
    "dataset_file = \"142.txt\"\n",
    "total_syllables = sum_syllables_in_file(dataset_file)\n",
    "print(\"Total syllables in the dataset file:\", total_syllables)\n"
   ]
  },
  {
   "cell_type": "code",
   "execution_count": 17,
   "id": "40725e09",
   "metadata": {},
   "outputs": [
    {
     "name": "stdout",
     "output_type": "stream",
     "text": [
      "Number of personal pronouns mentioned: 0\n"
     ]
    }
   ],
   "source": [
    "import re\n",
    "\n",
    "def count_personal_pronouns(file):\n",
    "    pronouns = ['I', 'we', 'my', 'ours', 'us']\n",
    "    count = 0\n",
    "\n",
    "    with open(file, 'r', encoding='utf-8') as f:\n",
    "        data = f.read()\n",
    "        words = re.findall(r'\\b(?:{})\\b'.format('|'.join(pronouns)), data)\n",
    "\n",
    "        for word in words:\n",
    "           \n",
    "            if word.lower() != 'us':\n",
    "                count += 1\n",
    "\n",
    "    return count\n",
    "\n",
    "dataset_file = \"142.txt\"\n",
    "pronoun_count = count_personal_pronouns(dataset_file)\n",
    "print(\"Number of personal pronouns mentioned:\", pronoun_count)\n"
   ]
  },
  {
   "cell_type": "code",
   "execution_count": null,
   "id": "2d59b1e2",
   "metadata": {},
   "outputs": [],
   "source": []
  }
 ],
 "metadata": {
  "kernelspec": {
   "display_name": "Python 3 (ipykernel)",
   "language": "python",
   "name": "python3"
  },
  "language_info": {
   "codemirror_mode": {
    "name": "ipython",
    "version": 3
   },
   "file_extension": ".py",
   "mimetype": "text/x-python",
   "name": "python",
   "nbconvert_exporter": "python",
   "pygments_lexer": "ipython3",
   "version": "3.10.9"
  }
 },
 "nbformat": 4,
 "nbformat_minor": 5
}

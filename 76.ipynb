{
 "cells": [
  {
   "cell_type": "code",
   "execution_count": 1,
   "id": "994b3dd1",
   "metadata": {},
   "outputs": [
    {
     "name": "stdout",
     "output_type": "stream",
     "text": [
      "Requirement already satisfied: beautifulsoup4 in c:\\users\\yg\\anaconda3\\lib\\site-packages (4.11.1)\n",
      "Requirement already satisfied: soupsieve>1.2 in c:\\users\\yg\\anaconda3\\lib\\site-packages (from beautifulsoup4) (2.3.2.post1)\n",
      "Requirement already satisfied: requests in c:\\users\\yg\\anaconda3\\lib\\site-packages (2.28.1)\n",
      "Requirement already satisfied: urllib3<1.27,>=1.21.1 in c:\\users\\yg\\anaconda3\\lib\\site-packages (from requests) (1.26.14)\n",
      "Requirement already satisfied: charset-normalizer<3,>=2 in c:\\users\\yg\\anaconda3\\lib\\site-packages (from requests) (2.0.4)\n",
      "Requirement already satisfied: idna<4,>=2.5 in c:\\users\\yg\\anaconda3\\lib\\site-packages (from requests) (3.4)\n",
      "Requirement already satisfied: certifi>=2017.4.17 in c:\\users\\yg\\anaconda3\\lib\\site-packages (from requests) (2022.12.7)\n"
     ]
    }
   ],
   "source": [
    "!pip install beautifulsoup4\n",
    "!pip install requests\n",
    "import sys\n",
    "import time \n",
    "from bs4 import BeautifulSoup\n",
    "import requests\n",
    "try:\n",
    "    \n",
    "    \n",
    "    page=requests.get('https://insights.blackcoffer.com/how-you-lead-a-project-or-a-team-without-any-technical-expertise/')\n",
    "    \n",
    "    \n",
    "except Exception as e:\n",
    "    error_type, error_obj, error_info = sys.exc_info()\n",
    "    print('Error for link :',url)\n",
    "    print(error_type,'Line :',error_info.tb_lineno)\n",
    "    \n",
    "    \n",
    "time.sleep(2)\n",
    "soup=BeautifulSoup(page.text,'html.parser')\n",
    "links=soup.find_all('h1',attrs={'class':'entry-title'})   \n"
   ]
  },
  {
   "cell_type": "code",
   "execution_count": 6,
   "id": "9501fa6f",
   "metadata": {},
   "outputs": [
    {
     "name": "stdout",
     "output_type": "stream",
     "text": [
      "How you lead a project or a team without any technical expertise?\n",
      "\n",
      "\n"
     ]
    }
   ],
   "source": [
    "\n",
    "for i in links:\n",
    "    print(i.text)\n",
    "    print(\"\\n\")"
   ]
  },
  {
   "cell_type": "code",
   "execution_count": 4,
   "id": "e1ef72ab",
   "metadata": {},
   "outputs": [
    {
     "name": "stdout",
     "output_type": "stream",
     "text": [
      "\n",
      "Have you ever wondered what’s common between Sir Alex Ferguson, Pep Guardiola, and Jose Mourinho? I know it might look a lame question, especially to the ardent football followers. At first instinct, the answer is that they are regarded as the top managers in the football universe. #UCLwinners. But when given a closer look, these managers, weren’t that great when it came to their careers as football players. Any naïve observer can build a fallacy of causation and correlation that those who don’t have a great career as a football player will go on to become a great football manager. But is this restricted just to football? Mike Brearley, one of the greatest captains in the history of cricket and the author of the book the art of captaincy, wasn’t the prolific batsman of his time. Our former President, A P J Abdul Kalam didn’t have a political background, but was still appointed as the president of our country and went to become one of the finest presidents our country has ever had. So, can it be stated with confidence that great leaders need not be the expert in their respective fields?Let’s understand the leadership role, types of leaders, and explore a few more perspectives before we arrive at a conclusion. \n",
      "Let’s start by first understanding what or who is a leader. A leader is not a position or a designation. It’s a virtue if employed correctly. From a janitor to the CEO, from a student to a researcher, from a content writer to a philosopher everybody is a leader. (#leadersareeverywhere) So, what are the virtues of a leader? One of the famous personality trait theories, the Big 5 personality trait theory is always linked closely with leadership. As per the various researches, the personality traits of extraversion, openness, and conscientiousness are associated with leaders more often than the other two traits. Not just these humble and empathetic are also considered as the adjectives that are frequently associated with leaders. But nowhere is technical expertise related to a leader. #NOTSOTECHNICAL\n",
      "As stated by Colin Powell Leadership is the art of accomplishing more than the science of management says is possible. #It’sART If leadership is an art and leaders are the artists then more or less the leaders can be viewed as directors of the films who are organizing, arranging, managing, and directing the scenes. Another analogy for that can be the orchestra where the conductor is using the baton/stick to set the rhythm of the band. So, is it necessary for the conductor to himself or herself by a great violinist? No. When it comes to the corporate sector the leader need not be an expert on the technology but should know how the technology functions so that he/she can utilize it in the best possible way. They can allocate the task of building technology to the right technical experts. And how do the leaders identify the right person for that job? Or how do leaders know what qualities to look for in a person? #Experience. Every great leader once started off as one of the frontline workers or at the bottom of the pyramid in the hierarchical structure. Even though they might not have had the technical expertise in their respective fields, their visionary outlook, their management skills, and the experience they gathered helped them in achieving their targets. Leaders can always take the assistance of the subject matter experts to guide them in situations of technical difficulties. As per the great man, situational and trait theory of leadership, leadership is innate to the person. Leadership though can be conditioned or can be brought out in a person by rewarding him, great leaders show unconditional attachment towards their vision. Everyone knows how to read a map, but which path to choose isn’t something that can be taught. Leaders give the direction or vision to the company and drive it closer to the target that the company wants to achieve. Leadership theories don’t focus on the technical knowledge of the leaders, but rather more on people skills, their approach towards a problem, and how well they guide and hire others to get the job done, which is also evident as per the managerial skills required as per Robert Katz.\n",
      "\n",
      "Though it can be argued that technical experts are also the great leaders in their areas, but these leaders are generally at the middle management level. As per the different leadership styles, a servant leader is the one who always tries to achieve the goal of the team. These leaders are the ones who have a management objective laid out in front of them and they drive the team closer to achieving the target by having the people-first mindset, a collaborative approach towards solving the problem. These are the people or the leaders needed at the execution level of the project or those who are too close to the employees at the bottom-most level. Since the managers at the top of the pyramid don’t get much time to invest in people they appoint the right people on their behalf to get the job done.  \n",
      "Consider an IT firm. So as per the points mentioned above, does it mean that a leader or the manager shouldn’t know how to code? Depends. If the person is the first line manager then he or she should probably know how to code so that he or she can help the team in achieving the target of producing less garbage which might be one of the project’s KPIs. The project manager, who might be an operations manager, (#MBA) from an IT background, probably need not know what line of code is to be written but should know the algorithms or the logic behind the code so that he or she can validate the code from the client’s perspective. The CEO, might not be from an IT background but should know how to run an IT firm rather than the syntax of the code.\n",
      "But in today’s competitive world leaders can’t be one dimensional. They need to have expertise in multiple areas to be at the top. Mike Brearley if got a chance to play a T20 match, won’t even get picked into aside, not because of his age, but because of his not so great looking batting statistics(#Thegamehaschanged). His leadership skills won’t be enough to get him into the squad. But he can be a great leader if selected to coach the top 15 captains in the world today. As we have already discussed the film directors, their job isn’t to teach the cameramen on how to set up or operate (lens settings, etc) the camera. Their job is to guide the cameramen on what angle it should be held and how he or she should coordinate with the lights crew so that a perfect shot is captured. So even if a leader may not be a technical expert of his field, but if he or she has the right approach and mindset, understands the system and its process, then he or she can hire the best talent for the job and can get the work done by guiding the talent, with his or her vision.\n",
      "\n",
      "So, the answer to the question, which we came across in the first paragraph, is yes and no. Depending upon the position in the hierarchy (yes for a front-line manager and no for a CXO) and the type of the leader you are, the level of technical expertise needed varies. Though as stated earlier by Robert Katz, the CXO’s need to have the least amount of technical expertise, the CXO should know how the technology functions or what are the applications. What processes are to be followed to build the technology.  He or she should now what is to be done rather than how it is to be done, (#itsnothowitswhat). Otherwise, even though the company might be sitting on a gold mine but If the leader isn’t aware of that or isn’t learned enough to know what to do with it, no company can succeed even with having all the resources at their disposal. Leaders command respect and don’t demand it and that’s possible when they give value to their front-line employees, seek timely advice from the technical experts, and put the resources to the best of its uses. Otherwise, you will be surrounded by technical experts like dilberts. (#dilbert)\n",
      "Blackcoffer Insights 20: Rohan Mehta, Symbiosis Institute of Operations Management\n",
      "\n",
      "\n",
      "\n"
     ]
    }
   ],
   "source": [
    "links=soup.find_all('div',attrs={'class':'td-post-content tagdiv-type'})\n",
    "for i in links:\n",
    "    print(i.text)\n",
    "    print(\"\\n\")"
   ]
  },
  {
   "cell_type": "code",
   "execution_count": 5,
   "id": "2276929d",
   "metadata": {},
   "outputs": [
    {
     "name": "stdout",
     "output_type": "stream",
     "text": [
      "Total positive score: 46\n"
     ]
    }
   ],
   "source": [
    "def count_positive_words(main_dataset_file, positive_words_file):\n",
    "    \n",
    "    with open(main_dataset_file, 'r') as main_file:\n",
    "        main_data = main_file.read()\n",
    "\n",
    "   \n",
    "    with open(positive_words_file, 'r') as positive_file:\n",
    "        positive_words = positive_file.read().splitlines()\n",
    "\n",
    "    \n",
    "    words = main_data.split()\n",
    "\n",
    "    \n",
    "    count = 0\n",
    "\n",
    "   \n",
    "    for word in words:\n",
    "      \n",
    "        if word in positive_words:\n",
    "            count += 1\n",
    "\n",
    "    \n",
    "    print(\"Total positive score:\", count)\n",
    "\n",
    "\n",
    "main_dataset_file = '76.txt'\n",
    "positive_words_file = 'positive.txt'\n",
    "\n",
    "\n",
    "count_positive_words(main_dataset_file, positive_words_file)"
   ]
  },
  {
   "cell_type": "code",
   "execution_count": 6,
   "id": "66a71f0c",
   "metadata": {},
   "outputs": [
    {
     "name": "stdout",
     "output_type": "stream",
     "text": [
      "Total negative score: 4\n"
     ]
    }
   ],
   "source": [
    "def count_positive_words(main_dataset_file, positive_words_file):\n",
    "    \n",
    "    with open(main_dataset_file, 'r') as main_file:\n",
    "        main_data = main_file.read()\n",
    "\n",
    "   \n",
    "    with open(positive_words_file, 'r') as positive_file:\n",
    "        positive_words = positive_file.read().splitlines()\n",
    "\n",
    "    \n",
    "    words = main_data.split()\n",
    "\n",
    "    \n",
    "    count = 0\n",
    "\n",
    "   \n",
    "    for word in words:\n",
    "      \n",
    "        if word in positive_words:\n",
    "            count += 1\n",
    "\n",
    "    \n",
    "    print(\"Total negative score:\", count)\n",
    "\n",
    "\n",
    "main_dataset_file = '76.txt'\n",
    "positive_words_file = 'negative-words.txt'\n",
    "\n",
    "\n",
    "count_positive_words(main_dataset_file, positive_words_file)"
   ]
  },
  {
   "cell_type": "code",
   "execution_count": 7,
   "id": "0ce0e983",
   "metadata": {},
   "outputs": [
    {
     "name": "stdout",
     "output_type": "stream",
     "text": [
      "Total number of words: 1424\n"
     ]
    }
   ],
   "source": [
    "def count_total_words(dataset_file):\n",
    "   \n",
    "    with open(dataset_file, 'r') as file:\n",
    "        content = file.read()\n",
    "\n",
    "    \n",
    "    words = content.split()\n",
    "\n",
    "    \n",
    "    total_words = len(words)\n",
    "\n",
    "    return total_words\n",
    "\n",
    "\n",
    "dataset_file = '76.txt'\n",
    "\n",
    "\n",
    "total_words = count_total_words(dataset_file)\n",
    "\n",
    "\n",
    "print(\"Total number of words:\", total_words)\n"
   ]
  },
  {
   "cell_type": "code",
   "execution_count": 8,
   "id": "ebc42f17",
   "metadata": {},
   "outputs": [
    {
     "name": "stdout",
     "output_type": "stream",
     "text": [
      "Number of complex words: 138\n"
     ]
    }
   ],
   "source": [
    "import pyphen\n",
    "import re\n",
    "dataset_file = \"76.txt\"\n",
    "dictionary = pyphen.Pyphen(lang='en')\n",
    "def count_syllables(word):\n",
    "    return len(dictionary.inserted(word).split('-'))\n",
    "def count_complex_words(file):\n",
    "    complex_word_count = 0\n",
    "\n",
    "    with open(file, 'r') as f:\n",
    "        data = f.read()\n",
    "        words = re.findall(r'\\b\\w+\\b', data)  # Extract words using regex\n",
    "\n",
    "        for word in words:\n",
    "            syllable_count = count_syllables(word)\n",
    "            if syllable_count > 2:\n",
    "                complex_word_count += 1\n",
    "\n",
    "    return complex_word_count\n",
    "complex_words_count = count_complex_words(dataset_file)\n",
    "print(\"Number of complex words:\", complex_words_count)\n",
    "\n",
    "\n",
    "\n"
   ]
  },
  {
   "cell_type": "code",
   "execution_count": 9,
   "id": "c8827219",
   "metadata": {},
   "outputs": [
    {
     "name": "stdout",
     "output_type": "stream",
     "text": [
      "Number of sentences: 64\n"
     ]
    }
   ],
   "source": [
    "import re\n",
    "def count_sentences(file):\n",
    "    with open(file, 'r') as f:\n",
    "        data = f.read()\n",
    "        sentences = re.split(r'(?<!\\w\\.\\w.)(?<![A-Z][a-z]\\.)(?<=\\.|\\?)\\s', data)\n",
    "        sentence_count = len(sentences)\n",
    "\n",
    "    return sentence_count\n",
    "dataset_file = \"76.txt\"\n",
    "sentence_count = count_sentences(dataset_file)\n",
    "print(\"Number of sentences:\", sentence_count)\n"
   ]
  },
  {
   "cell_type": "code",
   "execution_count": 10,
   "id": "05561c20",
   "metadata": {},
   "outputs": [
    {
     "name": "stdout",
     "output_type": "stream",
     "text": [
      "Sum of total number of characters: 6739\n"
     ]
    }
   ],
   "source": [
    "def calculate_total_character_count(file):\n",
    "    total_character_count = 0\n",
    "\n",
    "    with open(file, 'r') as f:\n",
    "        data = f.read()\n",
    "        words = data.split()  # Split the data into words\n",
    "\n",
    "        for word in words:\n",
    "            total_character_count += len(word)\n",
    "\n",
    "    return total_character_count\n",
    "dataset_file = \"76.txt\"\n",
    "character_count = calculate_total_character_count(dataset_file)\n",
    "print(\"Sum of total number of characters:\", character_count)"
   ]
  },
  {
   "cell_type": "code",
   "execution_count": 11,
   "id": "f3470ab8",
   "metadata": {},
   "outputs": [
    {
     "name": "stdout",
     "output_type": "stream",
     "text": [
      "Total stop words present in data set: 817\n"
     ]
    }
   ],
   "source": [
    "def count_positive_words(main_dataset_file, positive_words_file):\n",
    "    \n",
    "    with open(main_dataset_file, 'r') as main_file:\n",
    "        main_data = main_file.read()\n",
    "\n",
    "   \n",
    "    with open(positive_words_file, 'r') as positive_file:\n",
    "        positive_words = positive_file.read().splitlines()\n",
    "\n",
    "    \n",
    "    words = main_data.split()\n",
    "\n",
    "    \n",
    "    count = 0\n",
    "\n",
    "   \n",
    "    for word in words:\n",
    "      \n",
    "        if word in positive_words:\n",
    "            count += 1\n",
    "\n",
    "    \n",
    "    print(\"Total stop words present in data set:\", count)\n",
    "\n",
    "\n",
    "main_dataset_file = '76.txt'\n",
    "positive_words_file = 'all-stop-words.txt'\n",
    "\n",
    "\n",
    "count_positive_words(main_dataset_file, positive_words_file)"
   ]
  },
  {
   "cell_type": "code",
   "execution_count": 12,
   "id": "65391d5e",
   "metadata": {},
   "outputs": [
    {
     "name": "stdout",
     "output_type": "stream",
     "text": [
      "Total syllables in the dataset file: 2109\n"
     ]
    }
   ],
   "source": [
    "def count_syllables(word):\n",
    "    vowels = 'aeiouAEIOU'\n",
    "    exceptions = ['es', 'ed']\n",
    "    count = 0\n",
    "    prev_char_vowel = False\n",
    "\n",
    "    if word[-2:] in exceptions:\n",
    "        return count\n",
    "\n",
    "    for char in word:\n",
    "        if char in vowels:\n",
    "            if not prev_char_vowel:\n",
    "                count += 1\n",
    "            prev_char_vowel = True\n",
    "        else:\n",
    "            prev_char_vowel = False\n",
    "\n",
    "    return count\n",
    "\n",
    "def sum_syllables_in_file(file):\n",
    "    total_syllables = 0\n",
    "\n",
    "    with open(file, 'r') as f:\n",
    "        data = f.read()\n",
    "        words = data.split()\n",
    "\n",
    "        for word in words:\n",
    "            total_syllables += count_syllables(word)\n",
    "\n",
    "    return total_syllables\n",
    "\n",
    "dataset_file = \"76.txt\"\n",
    "total_syllables = sum_syllables_in_file(dataset_file)\n",
    "print(\"Total syllables in the dataset file:\", total_syllables)\n"
   ]
  },
  {
   "cell_type": "code",
   "execution_count": null,
   "id": "e2c70ec0",
   "metadata": {},
   "outputs": [],
   "source": []
  },
  {
   "cell_type": "code",
   "execution_count": 13,
   "id": "cf72cc36",
   "metadata": {},
   "outputs": [
    {
     "name": "stdout",
     "output_type": "stream",
     "text": [
      "Number of personal pronouns mentioned: 4\n"
     ]
    }
   ],
   "source": [
    "import re\n",
    "\n",
    "def count_personal_pronouns(file):\n",
    "    pronouns = ['I', 'we', 'my', 'ours', 'us']\n",
    "    count = 0\n",
    "\n",
    "    with open(file, 'r') as f:\n",
    "        data = f.read()\n",
    "        words = re.findall(r'\\b(?:{})\\b'.format('|'.join(pronouns)), data)\n",
    "\n",
    "        for word in words:\n",
    "            # Exclude the word 'US' (country name)\n",
    "            if word.lower() != 'us':\n",
    "                count += 1\n",
    "\n",
    "    return count\n",
    "\n",
    "dataset_file = \"76.txt\"\n",
    "pronoun_count = count_personal_pronouns(dataset_file)\n",
    "print(\"Number of personal pronouns mentioned:\", pronoun_count)\n"
   ]
  },
  {
   "cell_type": "code",
   "execution_count": 14,
   "id": "6a136689",
   "metadata": {},
   "outputs": [
    {
     "name": "stdout",
     "output_type": "stream",
     "text": [
      "Total characters: 6739\n",
      "Total words: 1424\n",
      "Average word length: 4.732443820224719\n"
     ]
    }
   ],
   "source": [
    "def calculate_word_stats(file):\n",
    "    total_characters = 0\n",
    "    total_words = 0\n",
    "\n",
    "    with open(file, 'r') as f:\n",
    "        data = f.read()\n",
    "        words = data.split()\n",
    "\n",
    "        for word in words:\n",
    "            total_characters += len(word)\n",
    "            total_words += 1\n",
    "\n",
    "    return total_characters, total_words\n",
    "\n",
    "dataset_file = \"76.txt\"\n",
    "char_count, word_count = calculate_word_stats(dataset_file)\n",
    "average_word_length = char_count / word_count if word_count != 0 else 0\n",
    "\n",
    "print(\"Total characters:\", char_count)\n",
    "print(\"Total words:\", word_count)\n",
    "print(\"Average word length:\", average_word_length)\n"
   ]
  },
  {
   "cell_type": "code",
   "execution_count": null,
   "id": "de367d19",
   "metadata": {},
   "outputs": [],
   "source": []
  },
  {
   "cell_type": "code",
   "execution_count": null,
   "id": "a116f338",
   "metadata": {},
   "outputs": [],
   "source": []
  }
 ],
 "metadata": {
  "kernelspec": {
   "display_name": "Python 3 (ipykernel)",
   "language": "python",
   "name": "python3"
  },
  "language_info": {
   "codemirror_mode": {
    "name": "ipython",
    "version": 3
   },
   "file_extension": ".py",
   "mimetype": "text/x-python",
   "name": "python",
   "nbconvert_exporter": "python",
   "pygments_lexer": "ipython3",
   "version": "3.10.9"
  }
 },
 "nbformat": 4,
 "nbformat_minor": 5
}

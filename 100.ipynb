{
 "cells": [
  {
   "cell_type": "code",
   "execution_count": 6,
   "id": "8ed99473",
   "metadata": {},
   "outputs": [
    {
     "name": "stdout",
     "output_type": "stream",
     "text": [
      "Requirement already satisfied: beautifulsoup4 in c:\\users\\yg\\anaconda3\\lib\\site-packages (4.11.1)\n",
      "Requirement already satisfied: soupsieve>1.2 in c:\\users\\yg\\anaconda3\\lib\\site-packages (from beautifulsoup4) (2.3.2.post1)\n"
     ]
    }
   ],
   "source": [
    "!pip install beautifulsoup4"
   ]
  },
  {
   "cell_type": "code",
   "execution_count": 7,
   "id": "35b68577",
   "metadata": {},
   "outputs": [
    {
     "name": "stdout",
     "output_type": "stream",
     "text": [
      "Requirement already satisfied: requests in c:\\users\\yg\\anaconda3\\lib\\site-packages (2.28.1)\n",
      "Requirement already satisfied: urllib3<1.27,>=1.21.1 in c:\\users\\yg\\anaconda3\\lib\\site-packages (from requests) (1.26.14)\n",
      "Requirement already satisfied: charset-normalizer<3,>=2 in c:\\users\\yg\\anaconda3\\lib\\site-packages (from requests) (2.0.4)\n",
      "Requirement already satisfied: idna<4,>=2.5 in c:\\users\\yg\\anaconda3\\lib\\site-packages (from requests) (3.4)\n",
      "Requirement already satisfied: certifi>=2017.4.17 in c:\\users\\yg\\anaconda3\\lib\\site-packages (from requests) (2022.12.7)\n"
     ]
    }
   ],
   "source": [
    "!pip install requests"
   ]
  },
  {
   "cell_type": "code",
   "execution_count": 14,
   "id": "33b7be47",
   "metadata": {},
   "outputs": [],
   "source": [
    "import sys\n",
    "import time \n",
    "from bs4 import BeautifulSoup\n",
    "import requests\n",
    "try:\n",
    "    \n",
    "    \n",
    "    page=requests.get('https://insights.blackcoffer.com/estimating-the-impact-of-covid-19-on-the-world-of-work-3/')\n",
    "    \n",
    "    \n",
    "except Exception as e:\n",
    "    error_type, error_obj, error_info = sys.exc_info()\n",
    "    print('Error for link :',url)\n",
    "    print(error_type,'Line :',error_info.tb_lineno)\n",
    "    \n",
    "    \n",
    "time.sleep(2)\n",
    "soup=BeautifulSoup(page.text,'html.parser')\n",
    "links=soup.find_all('h1',attrs={'class':'tdb-title-text'})   \n"
   ]
  },
  {
   "cell_type": "code",
   "execution_count": 15,
   "id": "593a21c1",
   "metadata": {},
   "outputs": [
    {
     "name": "stdout",
     "output_type": "stream",
     "text": [
      "Estimating the impact of COVID-19 on the world of work\n",
      "\n",
      "\n"
     ]
    }
   ],
   "source": [
    "for i in links:\n",
    "    print(i.text)\n",
    "    print(\"\\n\")"
   ]
  },
  {
   "cell_type": "code",
   "execution_count": 18,
   "id": "e699ce9b",
   "metadata": {},
   "outputs": [
    {
     "name": "stdout",
     "output_type": "stream",
     "text": [
      "\n",
      "\n",
      "\n",
      "\n",
      "\n",
      "\n",
      "\n",
      "\n",
      "\n",
      "Thursday, June 8, 2023\n",
      "\n",
      "\n",
      "Sign in / Join\n",
      "\n",
      "\n",
      "\n",
      "\n",
      "\n",
      "Search\n",
      "\n",
      "\n",
      "HomeBlackcofferEstimating the impact of COVID-19 on the world of work\n",
      "\n",
      "\n",
      "Estimating the impact of COVID-19 on the world of work\n",
      "\n",
      "\n",
      "By Ajay Bidyarthy\n",
      "\n",
      "\n",
      "May 1, 2020\n",
      "\n",
      "\n",
      "0\n",
      "\n",
      "\n",
      "8163\n",
      "\n",
      "\n",
      "\n",
      "\n",
      "\n",
      "\n",
      "\n",
      "\n",
      "\n",
      "\n",
      "\n",
      "\n",
      "Will COVID19 END Globalization?\n",
      "Globalization:\n",
      "Globalization envisages a borderless world or seeks the world as a global village • It is attributed to the accelerated flow of goods, people, capital, information, and energy across borders, often enabled by technological developments.\n",
      "\n",
      "Globalization Trends:\n",
      "Starting from 1990s globalization dominated world’s economic order.\n",
      "Anti-Globalization Wave:\n",
      "Globalization had already begun to stagnate since the 2008-09 Global Financial Crisis.\n",
      "Slowing Down of Trade:\n",
      "Trade as a percentage of global GDP increased from 39% in 1991 to 61% in 2008 but has stagnated over the past decade.\n",
      "\n",
      "Countries Policies Reflecting the Reverse Globalization:\n",
      "The following polices and steps of various countries shows the protactinium\n",
      "1.USA\n",
      "We reject Globalism, President trump took ‘American First to the United States – Trump\n",
      "2. Brexit\n",
      "Brexit is a rejection of globalization-Larry Elliott\n",
      "Slowing Movement of People:\n",
      "Though number of tourists increased in the last decade.\n",
      "1.Indian IT’s H-1B Visa woes could worsen in 2020\n",
      "\n",
      "The above article reveals that Under the Trump administration, Indian IT services companies have seen rejection rates jump from 6% in 2015 to 24% in 2019.\n",
      "2.Racism study finds one in three school students are victims of discrimination\n",
      "Trade Wars and Halting of WTO Talks: Retreat of Globalization:\n",
      "1.Chinese-US trade war threatens globalization\n",
      "2.Protectionists put brakes on trade liberalization\n",
      "Due to These Factors, International Media Is Referring to The Process of Globalization By The Term ‘SLOWBALISATION’\n",
      "The ongoing phase of globalization has not fully recovered, and the recent coronavirus has pushed forward the trends of reverse globalization\n",
      "Globalization Is Responsible for The Spread Of Coronavirus:\n",
      "The virus started in Wuhan, ChinaChina, being a hub of many industries. People from all over the world are travelling in and out of ChinaItaly itself a tourist and business hub, the man in Delhi who tested positive for coronavirus had travelled to ItalyOther countries get the virus because of the movement of people and goods\n",
      "Corona Virus Has Halted The Movement Of People, Goods, Service, And Capital.\n",
      "More than a fifth of the world’s population has been under lockdown in the global fight against coronavirus with early sign of success.\n",
      "Due to Supply Chain Break Down In China because of Coronavirus\n",
      "Countries Providing Incentives To Shift Production To Their Native Country\n",
      "Amid Covid-19 World Trade Has Halted, Investors Are Pulling Out Money from The Market\n",
      "Other Side Of The Coin!!\n",
      "Corona Virus Won’t End Globalization, But Change It Hugely for The A Better\n",
      "Will Hutton\n",
      "An unregulated world can be blamed for its spread, but collective action based on evidence could be the best way to stop it.\n",
      "Trade During Coronavirus:\n",
      "1.India Readies list of 13 countries to send hydroxychloroquine.\n",
      "2.China Sends doctors and masks overseas domestic coronavirus infection drop.\n",
      "Movement of Ideas\n",
      "Countries are converging virtually to share best practice to fight pandemic\n",
      "International meeting such as G-20, SAARC summit organized virtually\n",
      "Living apart, we must stand together’ to battle coronavirus pandemic-UN Rights chief.\n",
      "China’s BRI Project after COVID-19\n",
      "BRI Project:\n",
      "The Belt and Road Initiative is a global development strategy adopted by the Chinese government in 2013 involving infrastructure development and investments in nearly 70 countries and international organizations in Asia, Europe, and Africa.\n",
      "\n",
      "Curtailed Connectivity after Covid19:\n",
      "A devastating economic collapse of potentially historic proportions after Covid19, leading to social and political turmoil in a number of countries, and curtailed connectivity. Interestingly, the pandemic has exposed the risks and weaknesses of global interconnectedness, which will affect China’s BRI.\n",
      "Funding Shortfall for BRI\n",
      "So far, BRI has been powered primarily by China, whose growth rates were decreasing even before the outbreak. Exports Hit: With the United States and Europe reeling from the pandemic, Chinese exports will take a big hit.\n",
      "China confronts major Risk of debt on belt and road due to pandemic\n",
      "China’s growth hit a near 30-year low of 6.1%\n",
      "Roughly 5 Million people in china lost their jobs in the first 2 months of 2020.\n",
      "Last February, China’s official urban unemployment jumped to an unprecedented 6.2 percent. Unemployed Number may go up to 9 million by the end of 2020.\n",
      "China will have to choose out of two competing priorities:\n",
      "avoiding the middle-income trap,while at the same time posturing as a superpower abroad.\n",
      "So, not only may BRI be short of cash, but it will also be hard to sell at home\n",
      "All Economies along BRI routes affected\n",
      "Pakistan, host to the biggest BRI megaproject in the world, is poised to sustain a $8.2 billion loss, according to ADB. The respective figure for Bangladesh is $3 billion. Thailand is now bracing up for a recession. Africa is equally vulnerable, as China is the continent’s largest market.\n",
      "Covid19 hit Chinese companies executing BRI contracts can rely on support from the CDB in the form of low-cost financing. Yet, Chinese policy banks will be increasingly picky and inclined to stay away from new projects that may turn out to be loss-makers.\n",
      "China Development Bank to support Belt and road companies hit by coronavirus -Xinhua\n",
      "The Coronavirus and Xi Jinping’s Worldview\n",
      "Priority list:\n",
      "No. 1 preserving the CCP’s power\n",
      "No. 2 maintaining national unity\n",
      "No. 3 the expansion of the economy No. 4 environmental sustainability\n",
      "No. 5 modernize the Chinese military\n",
      "No. 6 China’s 14 neighboring states\n",
      "No. 7 weaken America’s longstanding security alliances No. 8 terrestrial Silk Road Economic Belt No. 9 Maritime Silk Road\n",
      "No 10 reshape the global order\n",
      "Under extreme circumstances, Beijing will not consider the BRI as important.\n",
      "Is the BRI Finished then? Short Term: Yes, BRI will Face Trouble\n",
      "In particular, the summer of 2020 may be a period of hibernation for several BRI projects.\n",
      "The outbreak has brought Chinese labor supplies and equipment imports along BRI routes down to a trickle\n",
      "Not Exactly!!! In fact, the initiative’s fuzzy content is being further enriched with the “Health Silk Road” add-on narrative and “mask diplomacy” in a major soft-power push.\n",
      "Long Term: A Changed BRI will Emerge\n",
      "The BRI is bound to change. Strategies will change.\n",
      "It might even be Defined Properly\n",
      "Seven years after this ambitious initiative was announced it remains a blurred vision in need of a comprehensive conceptual framework, international standards, and a coherent implementation strategy.\n",
      "This is one of the reasons why the BRI has become controversial and has caused a backlash in many countries.\n",
      "A Shift away from Roads and Bridges\n",
      "BRI expenditure up to 2019 stood at $545 billion. (WB Estimate) About two-thirds of spending on BRI projects has gone into the energy sector and transport\n",
      "However, developing countries in need of infrastructure will be terribly cash-strapped, there may be a shift away from roads, bridges, and coalfired power plants funded through Chinese loans.\n",
      "New BRI projects will probably be more strategically chosen. \n",
      "Beijing has been investing in the creation of a globe-spanning network of economic corridors, logistics zones, and financial centers, with stress laid on seaports and adjacent areas. Egypt’s Suez Canal Economic Zone and Sri Lanka’s Colombo Port City clearly show this trend.\n",
      "In addition, projects are likely to focus on more sophisticated forms of connectivity, such as 5G networks or, in the wake of the pandemic, disaster management, public health-related high-tech, and even remote surgery. China will surely use the BRI for the projection of its soft power, an increasingly important battlefield in international relations.\n",
      "The world has become aware of the risks of overwhelming reliance on China.\n",
      "Amid of Coronavirus outbreak we can see the major economies are strengthening their authorities with their major concern\n",
      "The USA is conducting space miningChina’s maritime AggressionIndia USA $155 Million Defense Deal, US Approves sale of Anti-Ship Missiles and torpedoes to India.\n",
      "Blackcoffer Insights 17: V.Jagan, IIM Kashipur\n",
      "\n",
      "\n",
      "\n",
      "Previous articleEstimating the impact of COVID-19 on the world of workNext articleTravel and Tourism Outlook\n",
      "\n",
      "\n",
      "Ajay Bidyarthy\n",
      "\n",
      "\n",
      "\n",
      "\n",
      "\n",
      "\n",
      "\n",
      "\n"
     ]
    }
   ],
   "source": [
    "links=soup.find_all('div',attrs={'class':'tdb-block-inner td-fix-index'})\n",
    "for i in links:\n",
    "    print(i.text)\n",
    "    print(\"\\n\")"
   ]
  },
  {
   "cell_type": "code",
   "execution_count": 15,
   "id": "8c117756",
   "metadata": {},
   "outputs": [
    {
     "name": "stdout",
     "output_type": "stream",
     "text": [
      "Total positive score: 20\n"
     ]
    }
   ],
   "source": [
    "def count_positive_words(main_dataset_file, positive_words_file):\n",
    "    \n",
    "    \n",
    "\n",
    "    with open(main_dataset_file, 'r', encoding='utf-8') as main_file:\n",
    "        main_data = main_file.read()\n",
    "\n",
    "   \n",
    "    with open(positive_words_file, 'r', encoding='utf-8') as positive_file:\n",
    "        positive_words = positive_file.read().splitlines()\n",
    "\n",
    "    \n",
    "    words = main_data.split()\n",
    "\n",
    "    \n",
    "    count = 0\n",
    "\n",
    "   \n",
    "    for word in words:\n",
    "      \n",
    "        if word in positive_words:\n",
    "            count += 1\n",
    "\n",
    "    \n",
    "    print(\"Total positive score:\", count)\n",
    "\n",
    "\n",
    "main_dataset_file = '100.txt'\n",
    "positive_words_file = 'positive.txt'\n",
    "\n",
    "\n",
    "count_positive_words(main_dataset_file, positive_words_file)\n"
   ]
  },
  {
   "cell_type": "code",
   "execution_count": 17,
   "id": "60d09123",
   "metadata": {},
   "outputs": [
    {
     "name": "stdout",
     "output_type": "stream",
     "text": [
      "Total negative score: 31\n"
     ]
    }
   ],
   "source": [
    "def count_positive_words(main_dataset_file, positive_words_file):\n",
    "    \n",
    "    \n",
    "\n",
    "    with open(main_dataset_file, 'r', encoding='latin-1') as main_file:\n",
    "        main_data = main_file.read()\n",
    "\n",
    "   \n",
    "    with open(positive_words_file, 'r', encoding='latin-1') as positive_file:\n",
    "        positive_words = positive_file.read().splitlines()\n",
    "\n",
    "    \n",
    "    words = main_data.split()\n",
    "\n",
    "    \n",
    "    count = 0\n",
    "\n",
    "   \n",
    "    for word in words:\n",
    "      \n",
    "        if word in positive_words:\n",
    "            count += 1\n",
    "\n",
    "    \n",
    "    print(\"Total negative score:\", count)\n",
    "\n",
    "\n",
    "main_dataset_file = '100.txt'\n",
    "positive_words_file = 'negative-words.txt'\n",
    "\n",
    "\n",
    "count_positive_words(main_dataset_file, positive_words_file)\n"
   ]
  },
  {
   "cell_type": "code",
   "execution_count": 18,
   "id": "803a1801",
   "metadata": {},
   "outputs": [
    {
     "name": "stdout",
     "output_type": "stream",
     "text": [
      "Total number of words: 1300\n"
     ]
    }
   ],
   "source": [
    "def count_total_words(dataset_file):\n",
    "   \n",
    "    with open(dataset_file, 'r', encoding='utf-8') as file:\n",
    "        content = file.read()\n",
    "\n",
    "    \n",
    "    words = content.split()\n",
    "\n",
    "    \n",
    "    total_words = len(words)\n",
    "\n",
    "    return total_words\n",
    "\n",
    "\n",
    "dataset_file = '100.txt'\n",
    "\n",
    "\n",
    "total_words = count_total_words(dataset_file)\n",
    "\n",
    "\n",
    "print(\"Total number of words:\", total_words)\n"
   ]
  },
  {
   "cell_type": "code",
   "execution_count": 19,
   "id": "940174ce",
   "metadata": {},
   "outputs": [
    {
     "name": "stdout",
     "output_type": "stream",
     "text": [
      "Number of complex words: 179\n"
     ]
    }
   ],
   "source": [
    "import pyphen\n",
    "import re\n",
    "dataset_file = \"100.txt\"\n",
    "dictionary = pyphen.Pyphen(lang='en')\n",
    "def count_syllables(word):\n",
    "    return len(dictionary.inserted(word).split('-'))\n",
    "def count_complex_words(file):\n",
    "    complex_word_count = 0\n",
    "\n",
    "    with open(file, 'r', encoding='utf-8') as f:\n",
    "        data = f.read()\n",
    "        words = re.findall(r'\\b\\w+\\b', data)  \n",
    "\n",
    "        for word in words:\n",
    "            syllable_count = count_syllables(word)\n",
    "            if syllable_count > 2:\n",
    "                complex_word_count += 1\n",
    "\n",
    "    return complex_word_count\n",
    "complex_words_count = count_complex_words(dataset_file)\n",
    "print(\"Number of complex words:\", complex_words_count)\n",
    "\n",
    "\n",
    "\n"
   ]
  },
  {
   "cell_type": "code",
   "execution_count": 20,
   "id": "317d503f",
   "metadata": {},
   "outputs": [
    {
     "name": "stdout",
     "output_type": "stream",
     "text": [
      "Number of sentences: 48\n"
     ]
    }
   ],
   "source": [
    "import re\n",
    "def count_sentences(file):\n",
    "    with open(file, 'r', encoding='utf-8') as f:\n",
    "        data = f.read()\n",
    "        sentences = re.split(r'(?<!\\w\\.\\w.)(?<![A-Z][a-z]\\.)(?<=\\.|\\?)\\s', data)\n",
    "        sentence_count = len(sentences)\n",
    "\n",
    "    return sentence_count\n",
    "dataset_file = \"100.txt\"\n",
    "sentence_count = count_sentences(dataset_file)\n",
    "print(\"Number of sentences:\", sentence_count)"
   ]
  },
  {
   "cell_type": "code",
   "execution_count": 22,
   "id": "d1871be1",
   "metadata": {},
   "outputs": [
    {
     "name": "stdout",
     "output_type": "stream",
     "text": [
      "Sum of total number of characters: 7043\n"
     ]
    }
   ],
   "source": [
    "def calculate_total_character_count(file):\n",
    "    total_character_count = 0\n",
    "\n",
    "    with open(file, 'r', encoding='utf-8') as f:\n",
    "        data = f.read()\n",
    "        words = data.split() \n",
    "\n",
    "        for word in words:\n",
    "            total_character_count += len(word)\n",
    "\n",
    "    return total_character_count\n",
    "dataset_file = \"100.txt\"\n",
    "character_count = calculate_total_character_count(dataset_file)\n",
    "print(\"Sum of total number of characters:\", character_count)\n"
   ]
  },
  {
   "cell_type": "code",
   "execution_count": 23,
   "id": "767e2aa5",
   "metadata": {},
   "outputs": [
    {
     "name": "stdout",
     "output_type": "stream",
     "text": [
      "Total stop words present in data set: 455\n"
     ]
    }
   ],
   "source": [
    "def count_positive_words(main_dataset_file, positive_words_file):\n",
    "    \n",
    "    with open(main_dataset_file, 'r', encoding='utf-8') as main_file:\n",
    "        main_data = main_file.read()\n",
    "\n",
    "   \n",
    "    with open(positive_words_file, 'r', encoding='utf-8') as positive_file:\n",
    "        positive_words = positive_file.read().splitlines()\n",
    "\n",
    "    \n",
    "    words = main_data.split()\n",
    "\n",
    "    \n",
    "    count = 0\n",
    "\n",
    "   \n",
    "    for word in words:\n",
    "      \n",
    "        if word in positive_words:\n",
    "            count += 1\n",
    "\n",
    "    \n",
    "    print(\"Total stop words present in data set:\", count)\n",
    "\n",
    "\n",
    "main_dataset_file = '100.txt'\n",
    "positive_words_file = 'all-stop-words.txt'\n",
    "\n",
    "\n",
    "count_positive_words(main_dataset_file, positive_words_file)"
   ]
  },
  {
   "cell_type": "code",
   "execution_count": 24,
   "id": "0728463e",
   "metadata": {},
   "outputs": [
    {
     "name": "stdout",
     "output_type": "stream",
     "text": [
      "Total syllables in the dataset file: 2100\n"
     ]
    }
   ],
   "source": [
    "def count_syllables(word):\n",
    "    vowels = 'aeiouAEIOU'\n",
    "    exceptions = ['es', 'ed']\n",
    "    count = 0\n",
    "    prev_char_vowel = False\n",
    "\n",
    "    if word[-2:] in exceptions:\n",
    "        return count\n",
    "\n",
    "    for char in word:\n",
    "        if char in vowels:\n",
    "            if not prev_char_vowel:\n",
    "                count += 1\n",
    "            prev_char_vowel = True\n",
    "        else:\n",
    "            prev_char_vowel = False\n",
    "\n",
    "    return count\n",
    "\n",
    "def sum_syllables_in_file(file):\n",
    "    total_syllables = 0\n",
    "\n",
    "    with open(file, 'r', encoding='utf-8') as f:\n",
    "        data = f.read()\n",
    "        words = data.split()\n",
    "\n",
    "        for word in words:\n",
    "            total_syllables += count_syllables(word)\n",
    "\n",
    "    return total_syllables\n",
    "\n",
    "dataset_file = \"100.txt\"\n",
    "total_syllables = sum_syllables_in_file(dataset_file)\n",
    "print(\"Total syllables in the dataset file:\", total_syllables)\n"
   ]
  },
  {
   "cell_type": "code",
   "execution_count": 25,
   "id": "2d2028dd",
   "metadata": {},
   "outputs": [
    {
     "name": "stdout",
     "output_type": "stream",
     "text": [
      "Number of personal pronouns mentioned: 2\n"
     ]
    }
   ],
   "source": [
    "import re\n",
    "\n",
    "def count_personal_pronouns(file):\n",
    "    pronouns = ['I', 'we', 'my', 'ours', 'us']\n",
    "    count = 0\n",
    "\n",
    "    with open(file, 'r', encoding='utf-8') as f:\n",
    "        data = f.read()\n",
    "        words = re.findall(r'\\b(?:{})\\b'.format('|'.join(pronouns)), data)\n",
    "\n",
    "        for word in words:\n",
    "            # Exclude the word 'US' (country name)\n",
    "            if word.lower() != 'us':\n",
    "                count += 1\n",
    "\n",
    "    return count\n",
    "\n",
    "dataset_file = \"100.txt\"\n",
    "pronoun_count = count_personal_pronouns(dataset_file)\n",
    "print(\"Number of personal pronouns mentioned:\", pronoun_count)\n"
   ]
  },
  {
   "cell_type": "code",
   "execution_count": 27,
   "id": "ea4e184b",
   "metadata": {},
   "outputs": [
    {
     "name": "stdout",
     "output_type": "stream",
     "text": [
      "Total characters: 7043\n",
      "Total words: 1300\n",
      "Average word length: 5.417692307692308\n"
     ]
    }
   ],
   "source": [
    "def calculate_word_stats(file):\n",
    "    total_characters = 0\n",
    "    total_words = 0\n",
    "\n",
    "    with open(file, 'r', encoding='utf-8') as f:\n",
    "        data = f.read()\n",
    "        words = data.split()\n",
    "\n",
    "        for word in words:\n",
    "            total_characters += len(word)\n",
    "            total_words += 1\n",
    "\n",
    "    return total_characters, total_words\n",
    "\n",
    "dataset_file = \"100.txt\"\n",
    "char_count, word_count = calculate_word_stats(dataset_file)\n",
    "average_word_length = char_count / word_count if word_count != 0 else 0\n",
    "\n",
    "print(\"Total characters:\", char_count)\n",
    "print(\"Total words:\", word_count)\n",
    "print(\"Average word length:\", average_word_length)\n"
   ]
  },
  {
   "cell_type": "code",
   "execution_count": null,
   "id": "fa5ce86f",
   "metadata": {},
   "outputs": [],
   "source": []
  }
 ],
 "metadata": {
  "kernelspec": {
   "display_name": "Python 3 (ipykernel)",
   "language": "python",
   "name": "python3"
  },
  "language_info": {
   "codemirror_mode": {
    "name": "ipython",
    "version": 3
   },
   "file_extension": ".py",
   "mimetype": "text/x-python",
   "name": "python",
   "nbconvert_exporter": "python",
   "pygments_lexer": "ipython3",
   "version": "3.10.9"
  }
 },
 "nbformat": 4,
 "nbformat_minor": 5
}

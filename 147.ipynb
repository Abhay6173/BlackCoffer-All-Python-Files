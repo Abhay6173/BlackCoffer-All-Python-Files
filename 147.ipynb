{
 "cells": [
  {
   "cell_type": "code",
   "execution_count": 1,
   "id": "5492d0ac",
   "metadata": {},
   "outputs": [
    {
     "name": "stdout",
     "output_type": "stream",
     "text": [
      "Requirement already satisfied: beautifulsoup4 in c:\\users\\yg\\anaconda3\\lib\\site-packages (4.11.1)\n",
      "Requirement already satisfied: soupsieve>1.2 in c:\\users\\yg\\anaconda3\\lib\\site-packages (from beautifulsoup4) (2.3.2.post1)\n",
      "Requirement already satisfied: requests in c:\\users\\yg\\anaconda3\\lib\\site-packages (2.28.1)\n",
      "Requirement already satisfied: urllib3<1.27,>=1.21.1 in c:\\users\\yg\\anaconda3\\lib\\site-packages (from requests) (1.26.14)\n",
      "Requirement already satisfied: charset-normalizer<3,>=2 in c:\\users\\yg\\anaconda3\\lib\\site-packages (from requests) (2.0.4)\n",
      "Requirement already satisfied: idna<4,>=2.5 in c:\\users\\yg\\anaconda3\\lib\\site-packages (from requests) (3.4)\n",
      "Requirement already satisfied: certifi>=2017.4.17 in c:\\users\\yg\\anaconda3\\lib\\site-packages (from requests) (2022.12.7)\n"
     ]
    }
   ],
   "source": [
    "!pip install beautifulsoup4\n",
    "!pip install requests\n",
    "import sys\n",
    "import time \n",
    "from bs4 import BeautifulSoup\n",
    "import requests\n",
    "try:\n",
    "    \n",
    "    \n",
    "    page=requests.get('https://insights.blackcoffer.com/the-future-of-investing/')\n",
    "    \n",
    "    \n",
    "except Exception as e:\n",
    "    error_type, error_obj, error_info = sys.exc_info()\n",
    "    print('Error for link :',url)\n",
    "    print(error_type,'Line :',error_info.tb_lineno)\n",
    "    \n",
    "    \n",
    "time.sleep(2)\n",
    "soup=BeautifulSoup(page.text,'html.parser')\n",
    "links=soup.find_all('h1',attrs={'class':'entry-title'})   \n"
   ]
  },
  {
   "cell_type": "code",
   "execution_count": 2,
   "id": "c5eb4c65",
   "metadata": {},
   "outputs": [
    {
     "name": "stdout",
     "output_type": "stream",
     "text": [
      "The future of Investing\n",
      "\n",
      "\n"
     ]
    }
   ],
   "source": [
    "for i in links:\n",
    "    print(i.text)\n",
    "    print(\"\\n\")"
   ]
  },
  {
   "cell_type": "code",
   "execution_count": 3,
   "id": "73e4a63f",
   "metadata": {},
   "outputs": [
    {
     "name": "stdout",
     "output_type": "stream",
     "text": [
      "\n",
      "What Is an Investment?\n",
      "An investment is a resource or thing procured with the objective of producing pay or appreciation. Economically, investment is to buy products that are not expended nowadays but are utilized within the future to make riches. Financially, an investment can be a money related resource acquired with the idea that the resource will give wage within the future or will afterward be sold at the next cost for a benefit. \n",
      "\n",
      "The desire of a return within the frame of wage or cost appreciation is the center preface of investment. The range of resources in which one can contribute and earn a return may be an exceptionally wide one. Hazard and return go hand-in-hand in contributing; moo chance, for the most part, implies moo anticipated returns, whereas higher returns are ordinarily went with by higher chance. At the low-risk conclusion of the range are essential ventures such as Certificates of Store; bonds or fixed-income rebellious are higher up on the hazard scale, whereas stocks or values are respected as less secure still, with commodities and subordinates for the most part considered to be among the least secure ventures. One can too contribute in something as ordinary as arrive or genuine bequest, whereas those with a taste for the obscure – and profound pockets – seem to contribute in fine craftsmanship and collectibles.\n",
      "\n",
      "Key\n",
      "Takeaways\n",
      "In contributing, hazard and return are two sides of the same coin; less chance, for the most part, implies low anticipated returns, whereas higher returns are more often than not went with by higher risk.Risk and return desires can shift broadly inside the same resource course; a blue-chip that exchanges on the NYSE and a micro-cap that exchanges over-the-counter will have exceptionally diverse risk-return profiles.The sort of returns produced depends on the resource; numerous stocks pay quarterly profits, whereas bonds pay intrigued each quarter and genuine domain gives rental income.Whether buying security qualifies as contributing or hypothesis depends on three components – the sum of the chance taken, the holding period, and the source of returns.\n",
      "\n",
      "Some of the current investments in India\n",
      " India Investment (%GDP) \n",
      "Resources beneath administration (AUM) by shared stores in India come to Rs 23.16 trillion (US$ 334.82 billion) in February 2019.Indian vehicle industry start-ups have gotten speculations of US$ 491 million in 2018, driven by Essel Green Mobility’s US$ 300 million venture in Zipgo. As of Walk 2019, the Oil and Normal Gas Corp (ONGC) is arranging to contribute over US$ 500 million in its lead resource, Mumbai High. In Walk 2019, the Tata bunch entered the air terminals segment in India by concurring to contribute Rs 8,000 crore (US$ 1.16 billion) within the GMR gather together with two other investors. Oyo Rooms will contribute around US$ 200 million towards capital consumption, innovation and administration in its India and South Asia commerce over 2019. Proceeds through Initial Public Offers (IPO) in India come to US$ 5.5 billion in 2018 and US$ 0.9 billion in Q1 2018-19. The total number of bargain action in India come to 1,640 in 2018. Mergers and acquisitions (M&A) movement within the nation has come to US$ 71.3 billion in 2018.Companies in India have raised around US$ 5.52 billion through Introductory Open Offers (IPO) in 2018 (up to November). In November 2018, resources overseen by common stores come to Rs 24.03 trillion (US$ 344.31 billion). Investments by Elective Speculation Reserves (AIFs) expanded 90 percent year-on-year between April-June 2018 to Rs 74,893 crore (US$ 10.26 billion).Reliance Industries Limited (RIL) is arranging to contribute over Rs 10,000 crore (US$ 1.37 billion) in Uttar Pradesh and Rs 5,000 crore (US$ 687 million) in West Bengal over another three years.Vedanta Assets Plc is arranging to contribute approximately US$ 9 billion in India over the following few a long time to extend its hydrocarbons and metals and mining businesses. Coal India (CIL) plans to contribute US$ 20-25 billion in the following five a long time to attain a yearly yield of 1 billion tons by 2019-20.\n",
      "Road ahead\n",
      "Investing in green technology – Worldwide fresh investment in renewable vitality expanded by 2% in 2017 with add up to exchanges moreover expanding 1%. The industry finished 2018 with modern ventures of $279.8 billion and exchanges totaling $393.8 billion. 2018 is on track to be another solid year for venture with add up to unused ventures within the industry at $211.4 billion through the third quarter.\n",
      "Green innovation ventures are taking an assortment of shapes, with increments in wind control and electric vehicle improvements, the establishment of renewable control capacity coming to unused highs and noteworthy increments in open showcase speculations around the world. Over the globe in 2018, Asia-Pac is driving venture with solar-powered developments drawing within the most noteworthy financing. Thus, what was once unimportant see into the long-run has without a doubt presently gotten to be a reality as nations around the world are making considerable ventures year over year in green innovation.\n",
      "\n",
      "Green innovation contributing, too alluded to as clean innovation contributing, regularly includes the choice of ventures in companies with maintainable and naturally neighborly hones and products/services. Whereas a few clean advances offer advancements that increment asset efficiency and proficiency, others diminish the natural effect. As green innovation proceeds to rise as a developing drive, a few solid industry clusters have developed with shifting levels of speculation as development patterns rise and alter.\n",
      "\n",
      "Micro-investing – Investment isn’t saved for those with parts of additional cash or associations to money related proficient. Anybody can contribute, and you don’t need much to urge begun. In reality, pennies will do fair fine. How you inquire? A progressively prevalent way is through a developing drift, made a difference by the most recent in-app innovation, called miniaturized scale investing. As the title infers, small scale contributing permits you to contribute cash in little sums, regularly automatically. Most smaller-scale contributing happens through mobile-based stages. You’ll make investments—you truly do invest money, and more on that fair ahead—or check your account on the go along with your cellphone or tablet. The thought is that little speculations made at frequent intervals can include up without much exertion or wallet torment. We are a “right here, right presently” culture, and in case we are able to arrange a modern combine of shoes whereas strolling down the street.\n",
      "\n",
      "Depending on the sort of app you employ, smaller-scale contributing can cruel distinctive things. One way to miniaturized scale contribute is to utilize an app that rounds up the dollar sums on buys you make on a credit or charge card and redirects the additional cash to a speculation account. (There are too miniaturized scale reserve funds apps that occupy additional alter to a reserve funds account. These accounts are for the most part FDIC safety net provider and, not at all like venture accounts, are not subject to showcase risk.) Using an app on your phone, you enter a few individual data, counting your credit or charge card number or multiple account numbers, since you’re frequently able to interface various cards to your account. You must reply a few extra questions planned to decide the sort of investments that fit your venture objectives and work together with your chance resistance. A few small scale contributing apps utilize calculations to make a hazard profile based on your reactions to different questions, at that point make suggestions on how and where you ought to invest your money.\n",
      "\n",
      "At that point, you ended up as an investor. After you spend $7.50 for a sandwich at lunch, the app rounds up your buy to the closest dollar ($8) and naturally exchanges $0.50 to a venture account. Once your round-ups are large enough (say $5), you’ll be able to utilize that cash to buy stocks or other ventures, or the app might make buys for you naturally based on your venture profile.\n",
      "\n",
      "Artificial Intelligence-Driven Investing – The chart underneath visualizes how an AI procedure can select stocks based on a better dimensional see of the world.\n",
      "\n",
      "In this case, the target could be a portfolio of developing markets equities that shows cautious, esteem characteristics. The chart maps all recorded values within the rising advertise values (MSCI EM IMI) universe. Each security is plotted on the surface based on its facilitates to tall dimensional esteem and profit highlights, which are each characterized as a portion of the AI approach. \n",
      "The vertical pivot appears how protective these include combinations have been on normal between 2013 and 2017. The higher the crest, the more cautious in down markets. The more profound the trough, by differentiate, the less cautious. On the proper side of the visualization, a two-dimensional cut appears where well-known developing showcase names — portrayed by their esteem and profit characteristics — finished this period.\n",
      "\n",
      "This approach characterizes a complex and advancing choice boundary, outlined by the maroon form, inside which stocks are chosen to develop a portfolio. This choice boundary speaks to a steady, defensive/value locale of the outline. It may be a nonlinear locale that’s tall dimensional and advances as showcase conditions alter. Stocks inside the choice boundary tend to display protective characteristics per se, but the strategy moreover recognizes stocks that tend to have future profit pay development potential as well.\n",
      "Blackcoffer Insights 11 | Vishnu Bajpai - International Management Institute, New Delhi\n",
      "\n",
      "\n",
      "\n"
     ]
    }
   ],
   "source": [
    "links=soup.find_all('div',attrs={'class':'td-post-content tagdiv-type'})\n",
    "for i in links:\n",
    "    print(i.text)\n",
    "    print(\"\\n\")"
   ]
  },
  {
   "cell_type": "code",
   "execution_count": 9,
   "id": "a32f2db7",
   "metadata": {},
   "outputs": [
    {
     "name": "stdout",
     "output_type": "stream",
     "text": [
      "Total positive score: 38\n"
     ]
    }
   ],
   "source": [
    "def count_positive_words(main_dataset_file, positive_words_file):\n",
    "    \n",
    "    \n",
    "\n",
    "    with open(main_dataset_file, 'r', encoding='utf-8') as main_file:\n",
    "        main_data = main_file.read()\n",
    "\n",
    "   \n",
    "    with open(positive_words_file, 'r', encoding='utf-8') as positive_file:\n",
    "        positive_words = positive_file.read().splitlines()\n",
    "\n",
    "    \n",
    "    words = main_data.split()\n",
    "\n",
    "    \n",
    "    count = 0\n",
    "\n",
    "   \n",
    "    for word in words:\n",
    "      \n",
    "        if word in positive_words:\n",
    "            count += 1\n",
    "\n",
    "    \n",
    "    print(\"Total positive score:\", count)\n",
    "\n",
    "\n",
    "main_dataset_file = '147.txt'\n",
    "positive_words_file = 'positive.txt'\n",
    "\n",
    "\n",
    "count_positive_words(main_dataset_file, positive_words_file)\n"
   ]
  },
  {
   "cell_type": "code",
   "execution_count": 10,
   "id": "516e677e",
   "metadata": {},
   "outputs": [
    {
     "name": "stdout",
     "output_type": "stream",
     "text": [
      "Total negative score: 9\n"
     ]
    }
   ],
   "source": [
    "def count_positive_words(main_dataset_file, positive_words_file):\n",
    "    \n",
    "    \n",
    "\n",
    "    with open(main_dataset_file, 'r', encoding='latin-1') as main_file:\n",
    "        main_data = main_file.read()\n",
    "\n",
    "   \n",
    "    with open(positive_words_file, 'r', encoding='latin-1') as positive_file:\n",
    "        positive_words = positive_file.read().splitlines()\n",
    "\n",
    "    \n",
    "    words = main_data.split()\n",
    "\n",
    "    \n",
    "    count = 0\n",
    "\n",
    "   \n",
    "    for word in words:\n",
    "      \n",
    "        if word in positive_words:\n",
    "            count += 1\n",
    "\n",
    "    \n",
    "    print(\"Total negative score:\", count)\n",
    "\n",
    "\n",
    "main_dataset_file = '147.txt'\n",
    "positive_words_file = 'negative-words.txt'\n",
    "\n",
    "\n",
    "count_positive_words(main_dataset_file, positive_words_file)\n"
   ]
  },
  {
   "cell_type": "code",
   "execution_count": 11,
   "id": "086138a2",
   "metadata": {},
   "outputs": [
    {
     "name": "stdout",
     "output_type": "stream",
     "text": [
      "Total number of words: 1558\n"
     ]
    }
   ],
   "source": [
    "def count_total_words(dataset_file):\n",
    "   \n",
    "    with open(dataset_file, 'r', encoding='utf-8') as file:\n",
    "        content = file.read()\n",
    "\n",
    "    \n",
    "    words = content.split()\n",
    "\n",
    "    \n",
    "    total_words = len(words)\n",
    "\n",
    "    return total_words\n",
    "\n",
    "\n",
    "dataset_file = '147.txt'\n",
    "\n",
    "\n",
    "total_words = count_total_words(dataset_file)\n",
    "\n",
    "\n",
    "print(\"Total number of words:\", total_words)\n"
   ]
  },
  {
   "cell_type": "code",
   "execution_count": 12,
   "id": "6327b61b",
   "metadata": {},
   "outputs": [
    {
     "name": "stdout",
     "output_type": "stream",
     "text": [
      "Number of complex words: 180\n"
     ]
    }
   ],
   "source": [
    "import pyphen\n",
    "import re\n",
    "dataset_file = \"130.txt\"\n",
    "dictionary = pyphen.Pyphen(lang='en')\n",
    "def count_syllables(word):\n",
    "    return len(dictionary.inserted(word).split('-'))\n",
    "def count_complex_words(file):\n",
    "    complex_word_count = 0\n",
    "\n",
    "    with open(file, 'r', encoding='utf-8') as f:\n",
    "        data = f.read()\n",
    "        words = re.findall(r'\\b\\w+\\b', data)  \n",
    "\n",
    "        for word in words:\n",
    "            syllable_count = count_syllables(word)\n",
    "            if syllable_count > 2:\n",
    "                complex_word_count += 1\n",
    "\n",
    "    return complex_word_count\n",
    "complex_words_count = count_complex_words(dataset_file)\n",
    "print(\"Number of complex words:\", complex_words_count)\n",
    "\n"
   ]
  },
  {
   "cell_type": "code",
   "execution_count": 13,
   "id": "2787a27e",
   "metadata": {},
   "outputs": [
    {
     "name": "stdout",
     "output_type": "stream",
     "text": [
      "Number of sentences: 61\n"
     ]
    }
   ],
   "source": [
    "import re\n",
    "def count_sentences(file):\n",
    "    with open(file, 'r', encoding='utf-8') as f:\n",
    "        data = f.read()\n",
    "        sentences = re.split(r'(?<!\\w\\.\\w.)(?<![A-Z][a-z]\\.)(?<=\\.|\\?)\\s', data)\n",
    "        sentence_count = len(sentences)\n",
    "\n",
    "    return sentence_count\n",
    "dataset_file = \"147.txt\"\n",
    "sentence_count = count_sentences(dataset_file)\n",
    "print(\"Number of sentences:\", sentence_count)"
   ]
  },
  {
   "cell_type": "code",
   "execution_count": 14,
   "id": "f98fd6d3",
   "metadata": {},
   "outputs": [
    {
     "name": "stdout",
     "output_type": "stream",
     "text": [
      "Sum of total number of characters: 8266\n"
     ]
    }
   ],
   "source": [
    "def calculate_total_character_count(file):\n",
    "    total_character_count = 0\n",
    "\n",
    "    with open(file, 'r', encoding='utf-8') as f:\n",
    "        data = f.read()\n",
    "        words = data.split() \n",
    "\n",
    "        for word in words:\n",
    "            total_character_count += len(word)\n",
    "\n",
    "    return total_character_count\n",
    "dataset_file = \"147.txt\"\n",
    "character_count = calculate_total_character_count(dataset_file)\n",
    "print(\"Sum of total number of characters:\", character_count)\n"
   ]
  },
  {
   "cell_type": "code",
   "execution_count": 15,
   "id": "bafd9eb7",
   "metadata": {},
   "outputs": [
    {
     "name": "stdout",
     "output_type": "stream",
     "text": [
      "Total stop words present in data set: 627\n"
     ]
    }
   ],
   "source": [
    "def count_positive_words(main_dataset_file, positive_words_file):\n",
    "    \n",
    "    with open(main_dataset_file, 'r', encoding='utf-8') as main_file:\n",
    "        main_data = main_file.read()\n",
    "\n",
    "   \n",
    "    with open(positive_words_file, 'r', encoding='utf-8') as positive_file:\n",
    "        positive_words = positive_file.read().splitlines()\n",
    "\n",
    "    \n",
    "    words = main_data.split()\n",
    "\n",
    "    \n",
    "    count = 0\n",
    "\n",
    "   \n",
    "    for word in words:\n",
    "      \n",
    "        if word in positive_words:\n",
    "            count += 1\n",
    "\n",
    "    \n",
    "    print(\"Total stop words present in data set:\", count)\n",
    "\n",
    "\n",
    "main_dataset_file = '147.txt'\n",
    "positive_words_file = 'all-stop-words.txt'\n",
    "\n",
    "\n",
    "count_positive_words(main_dataset_file, positive_words_file)"
   ]
  },
  {
   "cell_type": "code",
   "execution_count": 16,
   "id": "42181f2c",
   "metadata": {},
   "outputs": [
    {
     "name": "stdout",
     "output_type": "stream",
     "text": [
      "Total syllables in the dataset file: 2458\n"
     ]
    }
   ],
   "source": [
    "def count_syllables(word):\n",
    "    vowels = 'aeiouAEIOU'\n",
    "    exceptions = ['es', 'ed']\n",
    "    count = 0\n",
    "    prev_char_vowel = False\n",
    "\n",
    "    if word[-2:] in exceptions:\n",
    "        return count\n",
    "\n",
    "    for char in word:\n",
    "        if char in vowels:\n",
    "            if not prev_char_vowel:\n",
    "                count += 1\n",
    "            prev_char_vowel = True\n",
    "        else:\n",
    "            prev_char_vowel = False\n",
    "\n",
    "    return count\n",
    "\n",
    "def sum_syllables_in_file(file):\n",
    "    total_syllables = 0\n",
    "\n",
    "    with open(file, 'r', encoding='utf-8') as f:\n",
    "        data = f.read()\n",
    "        words = data.split()\n",
    "\n",
    "        for word in words:\n",
    "            total_syllables += count_syllables(word)\n",
    "\n",
    "    return total_syllables\n",
    "\n",
    "dataset_file = \"147.txt\"\n",
    "total_syllables = sum_syllables_in_file(dataset_file)\n",
    "print(\"Total syllables in the dataset file:\", total_syllables)\n"
   ]
  },
  {
   "cell_type": "code",
   "execution_count": 17,
   "id": "eb5f0cb9",
   "metadata": {},
   "outputs": [
    {
     "name": "stdout",
     "output_type": "stream",
     "text": [
      "Number of personal pronouns mentioned: 1\n"
     ]
    }
   ],
   "source": [
    "import re\n",
    "\n",
    "def count_personal_pronouns(file):\n",
    "    pronouns = ['I', 'we', 'my', 'ours', 'us']\n",
    "    count = 0\n",
    "\n",
    "    with open(file, 'r', encoding='utf-8') as f:\n",
    "        data = f.read()\n",
    "        words = re.findall(r'\\b(?:{})\\b'.format('|'.join(pronouns)), data)\n",
    "\n",
    "        for word in words:\n",
    "           \n",
    "            if word.lower() != 'us':\n",
    "                count += 1\n",
    "\n",
    "    return count\n",
    "\n",
    "dataset_file = \"147.txt\"\n",
    "pronoun_count = count_personal_pronouns(dataset_file)\n",
    "print(\"Number of personal pronouns mentioned:\", pronoun_count)\n"
   ]
  },
  {
   "cell_type": "code",
   "execution_count": null,
   "id": "7cfca8a1",
   "metadata": {},
   "outputs": [],
   "source": []
  },
  {
   "cell_type": "code",
   "execution_count": null,
   "id": "b8e72fc7",
   "metadata": {},
   "outputs": [],
   "source": []
  },
  {
   "cell_type": "code",
   "execution_count": null,
   "id": "d8fc824f",
   "metadata": {},
   "outputs": [],
   "source": []
  }
 ],
 "metadata": {
  "kernelspec": {
   "display_name": "Python 3 (ipykernel)",
   "language": "python",
   "name": "python3"
  },
  "language_info": {
   "codemirror_mode": {
    "name": "ipython",
    "version": 3
   },
   "file_extension": ".py",
   "mimetype": "text/x-python",
   "name": "python",
   "nbconvert_exporter": "python",
   "pygments_lexer": "ipython3",
   "version": "3.10.9"
  }
 },
 "nbformat": 4,
 "nbformat_minor": 5
}

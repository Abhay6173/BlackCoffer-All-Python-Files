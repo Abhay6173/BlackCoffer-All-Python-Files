{
 "cells": [
  {
   "cell_type": "code",
   "execution_count": 7,
   "id": "38c81a07",
   "metadata": {},
   "outputs": [
    {
     "name": "stdout",
     "output_type": "stream",
     "text": [
      "Requirement already satisfied: beautifulsoup4 in c:\\users\\yg\\anaconda3\\lib\\site-packages (4.11.1)\n",
      "Requirement already satisfied: soupsieve>1.2 in c:\\users\\yg\\anaconda3\\lib\\site-packages (from beautifulsoup4) (2.3.2.post1)\n",
      "Requirement already satisfied: requests in c:\\users\\yg\\anaconda3\\lib\\site-packages (2.28.1)\n",
      "Requirement already satisfied: idna<4,>=2.5 in c:\\users\\yg\\anaconda3\\lib\\site-packages (from requests) (3.4)\n",
      "Requirement already satisfied: urllib3<1.27,>=1.21.1 in c:\\users\\yg\\anaconda3\\lib\\site-packages (from requests) (1.26.14)\n",
      "Requirement already satisfied: charset-normalizer<3,>=2 in c:\\users\\yg\\anaconda3\\lib\\site-packages (from requests) (2.0.4)\n",
      "Requirement already satisfied: certifi>=2017.4.17 in c:\\users\\yg\\anaconda3\\lib\\site-packages (from requests) (2022.12.7)\n"
     ]
    }
   ],
   "source": [
    "!pip install beautifulsoup4\n",
    "!pip install requests\n",
    "import sys\n",
    "import time \n",
    "from bs4 import BeautifulSoup\n",
    "import requests\n",
    "try:\n",
    "    \n",
    "    \n",
    "    page=requests.get('https://insights.blackcoffer.com/future-of-work-how-ai-has-entered-the-workplace/')\n",
    "    \n",
    "    \n",
    "except Exception as e:\n",
    "    error_type, error_obj, error_info = sys.exc_info()\n",
    "    print('Error for link :',url)\n",
    "    print(error_type,'Line :',error_info.tb_lineno)\n",
    "    \n",
    "    \n",
    "time.sleep(2)\n",
    "soup=BeautifulSoup(page.text,'html.parser')\n",
    "links=soup.find_all('h1',attrs={'class':'tdb-title-text'})   \n"
   ]
  },
  {
   "cell_type": "code",
   "execution_count": 8,
   "id": "15a0f437",
   "metadata": {},
   "outputs": [
    {
     "name": "stdout",
     "output_type": "stream",
     "text": [
      "Future of Work: How AI Has Entered the Workplace\n",
      "\n",
      "\n"
     ]
    }
   ],
   "source": [
    "\n",
    "for i in links:\n",
    "    print(i.text)\n",
    "    print(\"\\n\")"
   ]
  },
  {
   "cell_type": "code",
   "execution_count": 11,
   "id": "406f8e73",
   "metadata": {},
   "outputs": [
    {
     "name": "stdout",
     "output_type": "stream",
     "text": [
      "\n",
      "\n",
      "\n",
      "\n",
      "\n",
      "\n",
      "\n",
      "\n",
      "\n",
      "Friday, June 9, 2023\n",
      "\n",
      "\n",
      "Sign in / Join\n",
      "\n",
      "\n",
      "\n",
      "\n",
      "\n",
      "Search\n",
      "\n",
      "\n",
      "HomeWhat We ThinkFuture of Work: How AI Has Entered the Workplace\n",
      "\n",
      "\n",
      "Future of Work: How AI Has Entered the Workplace\n",
      "\n",
      "\n",
      "By Ajay Bidyarthy\n",
      "\n",
      "\n",
      "May 28, 2021\n",
      "\n",
      "\n",
      "0\n",
      "\n",
      "\n",
      "8994\n",
      "\n",
      "\n",
      "\n",
      "\n",
      "\n",
      "\n",
      "\n",
      "\n",
      "\n",
      "Abstract\n",
      "Artificial intelligence and employment are the burning issues nowadays workers need clarity on as we head into the longer term. This article focuses on the various impact of AI on our jobs and explains the benefits of AI in our workplace. That right there must have hit a nerve. However, everything is about to change because this article highlights some of the reasons we should not fear AI.\n",
      "What is AI?\n",
      "AI is the abbreviation of Artificial Intelligence. Artificial intelligence is often defined as a set of various technologies which will be brought together to permit machines to act with what appears to be human-like levels of intelligence. This includes learning rules required to make certain decisions and reasoning to arrive at certain conclusions, learning from past experiences, and self-correction.\n",
      "AI is of two types.\n",
      "Narrow/Weak AI – AI solution designed and trained for a specific task.Strong AI – An AI solution whose intelligence matches that of a human brain across multiple & differentiated task.\n",
      "Key Moments in the AI Journey\n",
      "1940\n",
      "Expectations that machines could match humans in terms of general intelligence. By that, we mean machines could have the capability to find out, Reason, and React.\n",
      "1950\n",
      "Alan Turing develops the Turing Test; a test to determine whether a machine is intelligent.However, it wasn’t for another 60 years or so that any program was deemed to have passed.\n",
      "1955\n",
      "The first time a computer virus defeats a person’s World Champion during a parlor game.\n",
      "1956\n",
      "John McCarthy invents the new term ‘Artificial Intelligence’ when he held the primary Academic Conference on the subject of AI.\n",
      "1962\n",
      "Arthur Samuel‘s machine learning checkers (draughts) program, beat a checkers master.\n",
      "1980\n",
      "Reinforcement Learning is introduced. This is a kind of programming that uses rewards and punishments to coach a machine to interact with its environment.\n",
      "2012\n",
      "A research group led by Geoffrey Hinton wins the Image Net competition – this competition requires AI to categorize about 1.2 million images into any of 10,000 different categories. The level of accuracy was adequate to that of the typical human completing an equivalent task manually.\n",
      "2014\n",
      "Eugene Goostman’s chatbot, a bot pretending to be a 13-year-old boy, supposedly passes the Turing Test, a test which nobody has passed before! But controversy arose with this claim as:\n",
      "1. Experts claim it only lasted five minutes.\n",
      "2. It had been deemed biased as Eugene’s mother tongue (Ukrainian) wasn’t equivalent to the judge’s (English), which is a plus as language is one among the few ways we will tell the difference between a person’s and machine.\n",
      "2018\n",
      "Alibaba’s AI Model performs better than humans during a reading and comprehension test at Stanford University, scoring 82.44 against the 82.304 scored by humans!\n",
      "Concerns about AI\n",
      "Artificial Intelligence (AI) is here to remain, and lots of people aren’t happy. After all, it’s hard to embrace something that would displace about 40 percent of human jobs within the next 15 years. In an interview for CBS’s hour, Kai-Fu Lee (a Chinese AI expert) also mentioned truck drivers, chauffeurs, waiters, and chefs as a number of the professions that will be disrupted.\n",
      "But if you were to ask the experts, they might unwaveringly confirm that no matter all the noise, AI is here to profit us all. Case in point, an executive briefing by the McKinsey Global Institute revealed that AI and automation are creating opportunities for the economy, society, and business.\n",
      "That said, it’s time to repress the widespread idea of artificial intelligence taking jobs. So, let’s highlight a number of the useful developments you’ll expect from this technological phenomenon.\n",
      "AI will create jobs\n",
      "While the relationship between artificial intelligence and jobs is a matter of hot debate, it is still safe to say that AI will indeed offer new opportunities. According to the planet Economic Forum report, robots and AI will create as many AI jobs as they displace. This conclusion is entirely viable as it is easy to identify some of the many careers in artificial intelligence, for example, data scientists, who evaluate the decisions made by AI algorithms to eliminate any biases. Apart from that, some other AI occupations include:\n",
      "Transparency analysts: people tasked with classifying the varied sorts of opacity for algorithms. Smart-system interaction modelers: experts who develop machine behavior based on employee behavior. Machine-relations managers: people that champion the greater use of algorithms that perform well. As far because the competition for jobs between humans and robots goes, worth noting is that there are jobs that AI can’t replace. Roles that need leadership, empathy, and delegation are samples of the various jobs that are safe from automation.\n",
      "AI will eliminate bias and a variety of challenges at work\n",
      "Automation will stir positive change in the workplace. When AI is employed during recruitment or maybe performance management, all workers are going to be evaluated in an unbiased, fact-based manner. In turn, Human Resources managers can get to consider other essential strategic undertakings that ensure balance within the workplace.\n",
      "AI can help HR departments to use machine learning (ML) in discovering where issues like bias stem from and assist them to act accordingly faster. ML shines in identifying instances of bias. In turn, this may promote fairness and variety within the work setting.\n",
      "AI in the workplace will steer business-outcome strategies\n",
      "The impact of AI in business is already felt, and this is often expected to continue through to the longer term. A few years from now, AI-oriented architecture is forecasted to require the lead in assisting businesses to hold out operations in additional comprehensive ways, thus shifting them from traditional data science and machine learning models. It will be necessary to maneuver to business outcomes because AI will play an important role in multiple aspects of the business. While there is no way of telling the future of artificial intelligence in business for sure, it makes sense for owners to keep up with the evolution to avoid being left behind.\n",
      "AI will boost innovation within the workplace in the longer term\n",
      "The workforce of the longer term will lean more towards innovation and creativity. Businesses have spent higher a part of the previous couple of years studying AI automation and the way they will leverage it to realize results fast. With statistics showing that workers spend up to 40 percent of their hours at work performing repetitive tasks, every business should consider automating any functions which will be automated. Automation is not new; machines have been replacing human labor in different areas for decades.\n",
      "However, within the coming years, mundane daily tasks will become fully automated. Already, 39 percent of organizations were completely reliant on automation in 2018. With repetitive tasks taken care of, employees can focus their energies on high-value customer-oriented tasks and collaboration. The designs of workplaces and workflows will also change with the implementation of AI technology. More people will begin to figure more closely with machines as companies will strive to become more agile.\n",
      "Companies that implement AI in their business strategy will experience dramatic improvements in their customer experiences, and their employees are going to be more motivated. Encouraging creativity rather than the performance of repetitive tasks gives workers more fulfillment in their jobs as well.\n",
      "With another technology, AI will positively impact the world\n",
      "With the web of things and AI working hand in hand, identifying trends and solving problems within the business world will become more convenient and also sustainable. AI, alongside other technologies, is predicted to vary the planet by impacting the way businesses run. With time, we’ll be ready to combine both human and artificial brains to seek out solutions to major global problems.\n",
      "It will even be easier to foresee problems with more accuracy and nip them at the bud with the help of AI. But these positive impacts can only be felt if stakeholders are transparent and mindful in their use of the technology for the greater good of everyone else.\n",
      "Robotics and AI will boost productivity\n",
      "According to a report by PWC, 54 percent of companies confirm that the implementation of AI-driven solutions in their companies has already improved productivity. AI and automation, even once they are implemented partially, have unlimited potential for any business. Workers’ skills, attitude, training, command chain, and workflows protocols are a number of the leading productivity challenges that companies face.\n",
      "Apart from increasing productivity, AI systems will help businesses to chop down on costs, improve the standard of their products or services, and make better customer profiles. As a result, companies also will get higher profits, which may be shared among stakeholders as dividends, or reinvest it back within the business. Improved productivity also means firms are going to be ready to sell their products at lower prices, thereby creating more demand among customers and more job opportunities for workers. Businesses can, therefore, use human labor to take up those jobs that have been created by AI and cannot be automated.\n",
      "Final thoughts on the impact of AI on jobs\n",
      "Artificial Intelligence isn’t showing any signs of slowing down. Soon, it’ll become another necessity of life, a bit like the web. But for now, more and more businesses are beginning to realize how invaluable AI automation and data interpretation are. Though machines will take some jobs initially, the roles created by automation will also keep soaring within the next few years.\n",
      "Will, we’ve reached the purpose of accelerating human intelligence by artificial means? Who knows? What we all know, however, is that those that are going to be sought-after in AI and employment are individuals who have the relevant skills. There’s work that not even the machines can do; so, we should make ourselves as valuable as we can be in our field and we will be irreplaceable.\n",
      "Blackcoffer Insights 28: Adrita Anan, Holy Cross College, Tejgaon, Dhaka\n",
      "\n",
      "\n",
      "\n",
      "\n",
      "TagsAIChatbootMachine learning.roboticstechnology\n",
      "\n",
      "\n",
      "Previous articleHow machine learning used in finance and banking?Next articleHow AI will change the World?\n",
      "\n",
      "\n",
      "Ajay Bidyarthy\n",
      "\n",
      "\n",
      "\n",
      "\n",
      "\n",
      "\n",
      "\n",
      "\n"
     ]
    }
   ],
   "source": [
    "links=soup.find_all('div',attrs={'class':'tdb-block-inner td-fix-index'})\n",
    "for i in links:\n",
    "    print(i.text)\n",
    "    print(\"\\n\")"
   ]
  },
  {
   "cell_type": "code",
   "execution_count": 10,
   "id": "ec5fce0d",
   "metadata": {},
   "outputs": [
    {
     "name": "stdout",
     "output_type": "stream",
     "text": [
      "Total positive score: 59\n"
     ]
    }
   ],
   "source": [
    "def count_positive_words(main_dataset_file, positive_words_file):\n",
    "    \n",
    "    \n",
    "\n",
    "    with open(main_dataset_file, 'r', encoding='utf-8') as main_file:\n",
    "        main_data = main_file.read()\n",
    "\n",
    "   \n",
    "    with open(positive_words_file, 'r', encoding='utf-8') as positive_file:\n",
    "        positive_words = positive_file.read().splitlines()\n",
    "\n",
    "    \n",
    "    words = main_data.split()\n",
    "\n",
    "    \n",
    "    count = 0\n",
    "\n",
    "   \n",
    "    for word in words:\n",
    "      \n",
    "        if word in positive_words:\n",
    "            count += 1\n",
    "\n",
    "    \n",
    "    print(\"Total positive score:\", count)\n",
    "\n",
    "\n",
    "main_dataset_file = '51.txt'\n",
    "positive_words_file = 'positive.txt'\n",
    "\n",
    "\n",
    "count_positive_words(main_dataset_file, positive_words_file)\n"
   ]
  },
  {
   "cell_type": "code",
   "execution_count": 11,
   "id": "52b3979d",
   "metadata": {},
   "outputs": [
    {
     "name": "stdout",
     "output_type": "stream",
     "text": [
      "Total negative score: 18\n"
     ]
    }
   ],
   "source": [
    "def count_positive_words(main_dataset_file, positive_words_file):\n",
    "    \n",
    "    \n",
    "\n",
    "    with open(main_dataset_file, 'r', encoding='latin-1') as main_file:\n",
    "        main_data = main_file.read()\n",
    "\n",
    "   \n",
    "    with open(positive_words_file, 'r', encoding='latin-1') as positive_file:\n",
    "        positive_words = positive_file.read().splitlines()\n",
    "\n",
    "    \n",
    "    words = main_data.split()\n",
    "\n",
    "    \n",
    "    count = 0\n",
    "\n",
    "   \n",
    "    for word in words:\n",
    "      \n",
    "        if word in positive_words:\n",
    "            count += 1\n",
    "\n",
    "    \n",
    "    print(\"Total negative score:\", count)\n",
    "\n",
    "\n",
    "main_dataset_file = '51.txt'\n",
    "positive_words_file = 'negative-words.txt'\n",
    "\n",
    "\n",
    "count_positive_words(main_dataset_file, positive_words_file)\n"
   ]
  },
  {
   "cell_type": "code",
   "execution_count": 12,
   "id": "b92138c0",
   "metadata": {},
   "outputs": [
    {
     "name": "stdout",
     "output_type": "stream",
     "text": [
      "Total number of words: 1671\n"
     ]
    }
   ],
   "source": [
    "def count_total_words(dataset_file):\n",
    "   \n",
    "    with open(dataset_file, 'r', encoding='utf-8') as file:\n",
    "        content = file.read()\n",
    "\n",
    "    \n",
    "    words = content.split()\n",
    "\n",
    "    \n",
    "    total_words = len(words)\n",
    "\n",
    "    return total_words\n",
    "\n",
    "\n",
    "dataset_file = '51.txt'\n",
    "\n",
    "\n",
    "total_words = count_total_words(dataset_file)\n",
    "\n",
    "\n",
    "print(\"Total number of words:\", total_words)\n"
   ]
  },
  {
   "cell_type": "code",
   "execution_count": 13,
   "id": "bcc14766",
   "metadata": {},
   "outputs": [
    {
     "name": "stdout",
     "output_type": "stream",
     "text": [
      "Number of complex words: 222\n"
     ]
    }
   ],
   "source": [
    "import pyphen\n",
    "import re\n",
    "dataset_file = \"51.txt\"\n",
    "dictionary = pyphen.Pyphen(lang='en')\n",
    "def count_syllables(word):\n",
    "    return len(dictionary.inserted(word).split('-'))\n",
    "def count_complex_words(file):\n",
    "    complex_word_count = 0\n",
    "\n",
    "    with open(file, 'r', encoding='utf-8') as f:\n",
    "        data = f.read()\n",
    "        words = re.findall(r'\\b\\w+\\b', data)  \n",
    "\n",
    "        for word in words:\n",
    "            syllable_count = count_syllables(word)\n",
    "            if syllable_count > 2:\n",
    "                complex_word_count += 1\n",
    "\n",
    "    return complex_word_count\n",
    "complex_words_count = count_complex_words(dataset_file)\n",
    "print(\"Number of complex words:\", complex_words_count)\n",
    "\n"
   ]
  },
  {
   "cell_type": "code",
   "execution_count": 14,
   "id": "bd3a50ad",
   "metadata": {},
   "outputs": [
    {
     "name": "stdout",
     "output_type": "stream",
     "text": [
      "Number of sentences: 82\n"
     ]
    }
   ],
   "source": [
    "import re\n",
    "def count_sentences(file):\n",
    "    with open(file, 'r', encoding='utf-8') as f:\n",
    "        data = f.read()\n",
    "        sentences = re.split(r'(?<!\\w\\.\\w.)(?<![A-Z][a-z]\\.)(?<=\\.|\\?)\\s', data)\n",
    "        sentence_count = len(sentences)\n",
    "\n",
    "    return sentence_count\n",
    "dataset_file = \"51.txt\"\n",
    "sentence_count = count_sentences(dataset_file)\n",
    "print(\"Number of sentences:\", sentence_count)"
   ]
  },
  {
   "cell_type": "code",
   "execution_count": 15,
   "id": "c02090e8",
   "metadata": {},
   "outputs": [
    {
     "name": "stdout",
     "output_type": "stream",
     "text": [
      "Sum of total number of characters: 8815\n"
     ]
    }
   ],
   "source": [
    "def calculate_total_character_count(file):\n",
    "    total_character_count = 0\n",
    "\n",
    "    with open(file, 'r', encoding='utf-8') as f:\n",
    "        data = f.read()\n",
    "        words = data.split() \n",
    "\n",
    "        for word in words:\n",
    "            total_character_count += len(word)\n",
    "\n",
    "    return total_character_count\n",
    "dataset_file = \"51.txt\"\n",
    "character_count = calculate_total_character_count(dataset_file)\n",
    "print(\"Sum of total number of characters:\", character_count)\n"
   ]
  },
  {
   "cell_type": "code",
   "execution_count": 16,
   "id": "c1fe2209",
   "metadata": {},
   "outputs": [
    {
     "name": "stdout",
     "output_type": "stream",
     "text": [
      "Total stop words present in data set: 784\n"
     ]
    }
   ],
   "source": [
    "def count_positive_words(main_dataset_file, positive_words_file):\n",
    "    \n",
    "    with open(main_dataset_file, 'r', encoding='utf-8') as main_file:\n",
    "        main_data = main_file.read()\n",
    "\n",
    "   \n",
    "    with open(positive_words_file, 'r', encoding='utf-8') as positive_file:\n",
    "        positive_words = positive_file.read().splitlines()\n",
    "\n",
    "    \n",
    "    words = main_data.split()\n",
    "\n",
    "    \n",
    "    count = 0\n",
    "\n",
    "   \n",
    "    for word in words:\n",
    "      \n",
    "        if word in positive_words:\n",
    "            count += 1\n",
    "\n",
    "    \n",
    "    print(\"Total stop words present in data set:\", count)\n",
    "\n",
    "\n",
    "main_dataset_file = '51.txt'\n",
    "positive_words_file = 'all-stop-words.txt'\n",
    "\n",
    "\n",
    "count_positive_words(main_dataset_file, positive_words_file)"
   ]
  },
  {
   "cell_type": "code",
   "execution_count": 17,
   "id": "adadfe68",
   "metadata": {},
   "outputs": [
    {
     "name": "stdout",
     "output_type": "stream",
     "text": [
      "Total syllables in the dataset file: 2725\n"
     ]
    }
   ],
   "source": [
    "def count_syllables(word):\n",
    "    vowels = 'aeiouAEIOU'\n",
    "    exceptions = ['es', 'ed']\n",
    "    count = 0\n",
    "    prev_char_vowel = False\n",
    "\n",
    "    if word[-2:] in exceptions:\n",
    "        return count\n",
    "\n",
    "    for char in word:\n",
    "        if char in vowels:\n",
    "            if not prev_char_vowel:\n",
    "                count += 1\n",
    "            prev_char_vowel = True\n",
    "        else:\n",
    "            prev_char_vowel = False\n",
    "\n",
    "    return count\n",
    "\n",
    "def sum_syllables_in_file(file):\n",
    "    total_syllables = 0\n",
    "\n",
    "    with open(file, 'r', encoding='utf-8') as f:\n",
    "        data = f.read()\n",
    "        words = data.split()\n",
    "\n",
    "        for word in words:\n",
    "            total_syllables += count_syllables(word)\n",
    "\n",
    "    return total_syllables\n",
    "\n",
    "dataset_file = \"51.txt\"\n",
    "total_syllables = sum_syllables_in_file(dataset_file)\n",
    "print(\"Total syllables in the dataset file:\", total_syllables)\n"
   ]
  },
  {
   "cell_type": "code",
   "execution_count": 18,
   "id": "397f14b7",
   "metadata": {},
   "outputs": [
    {
     "name": "stdout",
     "output_type": "stream",
     "text": [
      "Number of personal pronouns mentioned: 10\n"
     ]
    }
   ],
   "source": [
    "import re\n",
    "\n",
    "def count_personal_pronouns(file):\n",
    "    pronouns = ['I', 'we', 'my', 'ours', 'us']\n",
    "    count = 0\n",
    "\n",
    "    with open(file, 'r', encoding='utf-8') as f:\n",
    "        data = f.read()\n",
    "        words = re.findall(r'\\b(?:{})\\b'.format('|'.join(pronouns)), data)\n",
    "\n",
    "        for word in words:\n",
    "           \n",
    "            if word.lower() != 'us':\n",
    "                count += 1\n",
    "\n",
    "    return count\n",
    "\n",
    "dataset_file = \"51.txt\"\n",
    "pronoun_count = count_personal_pronouns(dataset_file)\n",
    "print(\"Number of personal pronouns mentioned:\", pronoun_count)"
   ]
  },
  {
   "cell_type": "code",
   "execution_count": null,
   "id": "4e9ceb53",
   "metadata": {},
   "outputs": [],
   "source": []
  },
  {
   "cell_type": "code",
   "execution_count": null,
   "id": "d24b5482",
   "metadata": {},
   "outputs": [],
   "source": []
  },
  {
   "cell_type": "code",
   "execution_count": null,
   "id": "8ca8653e",
   "metadata": {},
   "outputs": [],
   "source": []
  },
  {
   "cell_type": "code",
   "execution_count": null,
   "id": "7ee229e5",
   "metadata": {},
   "outputs": [],
   "source": []
  }
 ],
 "metadata": {
  "kernelspec": {
   "display_name": "Python 3 (ipykernel)",
   "language": "python",
   "name": "python3"
  },
  "language_info": {
   "codemirror_mode": {
    "name": "ipython",
    "version": 3
   },
   "file_extension": ".py",
   "mimetype": "text/x-python",
   "name": "python",
   "nbconvert_exporter": "python",
   "pygments_lexer": "ipython3",
   "version": "3.10.9"
  }
 },
 "nbformat": 4,
 "nbformat_minor": 5
}

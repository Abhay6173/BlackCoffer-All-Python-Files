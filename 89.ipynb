{
 "cells": [
  {
   "cell_type": "code",
   "execution_count": 6,
   "id": "c02c2e5a",
   "metadata": {},
   "outputs": [
    {
     "name": "stdout",
     "output_type": "stream",
     "text": [
      "Requirement already satisfied: beautifulsoup4 in c:\\users\\yg\\anaconda3\\lib\\site-packages (4.11.1)\n",
      "Requirement already satisfied: soupsieve>1.2 in c:\\users\\yg\\anaconda3\\lib\\site-packages (from beautifulsoup4) (2.3.2.post1)\n",
      "Requirement already satisfied: requests in c:\\users\\yg\\anaconda3\\lib\\site-packages (2.28.1)\n",
      "Requirement already satisfied: certifi>=2017.4.17 in c:\\users\\yg\\anaconda3\\lib\\site-packages (from requests) (2022.12.7)\n",
      "Requirement already satisfied: urllib3<1.27,>=1.21.1 in c:\\users\\yg\\anaconda3\\lib\\site-packages (from requests) (1.26.14)\n",
      "Requirement already satisfied: idna<4,>=2.5 in c:\\users\\yg\\anaconda3\\lib\\site-packages (from requests) (3.4)\n",
      "Requirement already satisfied: charset-normalizer<3,>=2 in c:\\users\\yg\\anaconda3\\lib\\site-packages (from requests) (2.0.4)\n"
     ]
    }
   ],
   "source": [
    "!pip install beautifulsoup4\n",
    "!pip install requests\n",
    "import sys\n",
    "import time \n",
    "from bs4 import BeautifulSoup\n",
    "import requests\n",
    "try:\n",
    "    \n",
    "    \n",
    "    page=requests.get('https://insights.blackcoffer.com/changing-landscape-and-emerging-trends-in-the-indian-it-ites-industry/')\n",
    "    \n",
    "    \n",
    "except Exception as e:\n",
    "    error_type, error_obj, error_info = sys.exc_info()\n",
    "    print('Error for link :',url)\n",
    "    print(error_type,'Line :',error_info.tb_lineno)\n",
    "    \n",
    "    \n",
    "time.sleep(2)\n",
    "soup=BeautifulSoup(page.text,'html.parser')\n",
    "links=soup.find_all('h1',attrs={'class':'entry-title'})   \n"
   ]
  },
  {
   "cell_type": "code",
   "execution_count": 7,
   "id": "d19d4037",
   "metadata": {},
   "outputs": [
    {
     "name": "stdout",
     "output_type": "stream",
     "text": [
      "Changing landscape and emerging trends in the Indian IT/ITeS Industry.\n",
      "\n",
      "\n"
     ]
    }
   ],
   "source": [
    "\n",
    "for i in links:\n",
    "    print(i.text)\n",
    "    print(\"\\n\")"
   ]
  },
  {
   "cell_type": "code",
   "execution_count": 8,
   "id": "fd853c80",
   "metadata": {},
   "outputs": [
    {
     "name": "stdout",
     "output_type": "stream",
     "text": [
      "\n",
      "The COVID 19 pandemic has reshaped the fundamental fabric of our world. Initiating in China in late December 2019, the virus has since then spread to every corner of the world, infecting millions in its wake. Countries around the world have responded by shutting down their economies and advocating lockdowns of varying degrees. India has arguably had one of the most stringent lockdowns of all countries, restricting the movement of people, goods and effectively transforming every city into a ghost town.\n",
      "Due to such stringent restrictions on movement, the economy has received a fatal blow. The virus arrived in India at a time when the country was already in strife, dealing with a slowing GDP growth rate and an ever-increasing fiscal deficit. The lockdown has simply exacerbated the economic predicament; pushing multiple businesses and industries to a moribund state. Other countries have also faced a similar predicament, particularly in the US and Europe, both being hotspots for virus transmission.\n",
      "However, upon taking a closer look at the global economy, there seems to have been an upward mobilization in some of the sectors in the IT domain. These sectors seem to have exorbitantly increased their scale of operations and have overall reaped hefty profits. So what is it that differentiates these areas from the rest and what can we learn from them?\n",
      "A path to victory\n",
      "If we look at the evolving IT/ITeS industry around the world, the domains that have flourished in this strenuous time all have had one key characteristic in common; flexibility. These sectors have adopted a more flexible approach to dealing with the lockdown. Be it flexible working procedures or adopting newer, more advanced ways of working in line with the requirements of our time, they haven’t shied away from changing the rules of the game. Let’s look at some of these areas within the tech domain that have been successful in conquering the lockdown.\n",
      "Social Media\n",
      "Lockdowns around the globe have confined people inside their homes, with nothing much to do of significance. As a result, social networking sites have reported a gigantic rise in user engagement over the lockdown period. Reportedly, there has been close to a 50% rise in daily text transmissions across messaging platforms such as Facebook, Instagram, and WhatsApp in the hardest-hit economies. Twitter has reported a 23% increase in its user base as compared to last year. The data makes it evident that social media platforms are here to reap the benefits of a lockdown situation.\n",
      "Video consumption sites such as YouTube, Instagram, and TikTok are in line to reap massive profits. It’s no wonder that viewership on these platforms has increased manifolds due to lockdowns. These platforms serve to be a distraction from the tragedies of the real world in such stressing times and offer an easy escape. Be it rumors regarding the cure for COVID 19, gossips, or rap battles; these platforms provide viewers with their much-needed dose of distractions. As they say, “ignorance is bliss”.\n",
      "Data-Mining Enterprises\n",
      "The lockdown has proven to be a miracle for data-mining companies. With such an exorbitant increase in the number of hours spent online globally, these firms now have access to significantly larger sets of data than they otherwise could ever have. Widespread implementation of data-mining has been seen recently with most countries opting for Government-regulated surveillance applications that monitor your movement at all times. Moreover, these applications have access to your personal information as well as medical records. Countries such as South Korea and Singapore are at the helm of relying on such means to control the outbreak.\n",
      "Although noble, such initiatives do raise a red flag with regards to user privacy. The public has been provided with very little information about how these applications operate and what goes on behind the scenes. This creates an atmosphere of obscurity that is frankly harmful to the premise of a democracy.\n",
      "Cloud Computing\n",
      "Cloud computing has been on the rise for the last couple of years. However, the pandemic has made it the de facto king in terms of computational services. With an increasing reliance on remote working, the ability to store data in one secure location has turned out to be critical.\n",
      "The cloud computing services such as Amazon Web Services, Microsoft Azure, and Google Cloud have reaped hefty profits in the process. The emerging landscape in the tech world seems to suggest an upward trend in reliability on these services as far as large scale data storage and computing is concerned.\n",
      "E-Commerce\n",
      "Social distancing measures have made it practically impossible for people to physically go shopping for groceries and other necessities. Moreover, a majority of retail outlets in cities have reported negligible engagement, for the fear of transmission of the virus. E-commerce sites have been the real winners in this predicament of global consumerism.\n",
      "With high standards of hygiene and at-home delivery, these sites have provided an easy alternative to retail stores. Other similar businesses include food delivery apps and grocery sites that are also flourishing today amidst the pandemic. Recent weeks have made it evident that E-commerce websites are well on their way to abolish traditional shopping methods.\n",
      "OTT Platforms\n",
      "Online streaming platforms consist of a relatively newer approach to entertainment; having only been in existence for the past couple of years. They had already, however, established a name for themselves before the lockdowns. Sites such as Netflix and Amazon Prime had been dominating a chunk of the market share and competing heavily with movie theatres for new releases, for a while now. Now with the lockdown practically deleting theatres and cable TV from the collective psyche of the entertainment industry, they are well on their way to becoming the platform of choice as far as entertainment for the masses is concerned.\n",
      "This has already become evident, with Zee5 India reporting a whopping 80% increase in subscriptions and a 50% increase in the time spent on their site, within the first couple of weeks of the lockdown itself. Another such platform MUBI reported a 28% rise in its viewership in India only a week after lockdown commenced. These facts are a clear indication of the exponential growth that is in store for these platforms, which is unlikely to change anytime soon.\n",
      "Video-Conferencing Platforms\n",
      "The idea of working from home is all set to be the new norm in our professional culture, which requires an easy and effective way to communicate over the internet. Not just audio or text, but video conferencing is the need today. Hence it’s understandable why multiple video conferencing services are set to reap massive profits off of the new norm.\n",
      "Arguably the most popular of these, Zoom has reported a 130% increase in its price share since the beginning of 2020. Another such platform known as the Microsoft Teams collaboration suite, operated by Microsoft, has reported a whopping 12 million increase in its user base in the very first week of the lockdown in the US. This data is only likely to have an upwards trajectory considering the increasing pace at which industries are going online.\n",
      "The Indian Picture\n",
      "The Indian IT landscape has also undergone massive cultural changes. According to Rajesh Gopinathan, chief executive officer and managing director of Tata Consultancy Services Ltd., the “work from home” model of operations is here to stay. He also claimed that the firms only requires a 25% workforce to be physically present for any project at any of the locations.\n",
      "Tata Consultancy Services which is one of the major players in the Indian IT landscape has shifted almost 90% of its workforce into a remote borderless workspace model, and other smaller firms have followed suit. What it tells us is that we’re headed in a direction we’re unlikely to return from. Remote working appears to be the modern protocol for operations and is unlikely to change anytime soon.\n",
      "However, a major challenge often overlooked in such circumstances is that of an adaptable culture. The culture of workspaces has to be drastically altered and members of the workforce have to dive headfirst into the new way of doing business. This is critical to ensure that the industry can combat the pandemic and recover gloriously.\n",
      "A duality unlike any other\n",
      "The lockdown has presented us with a stark contrast unlike any other we’ve witnessed. Where on the one hand, the industries mentioned above seem to be exhibiting exponential growth with their people thriving and having every possible resource at their disposal, the unorganized sector and the MSMEs (Micro, Small and Medium Enterprises) seem to be at the crux of death.\n",
      "The sector that consists of people for whom having guidelines to work from home is irrelevant as that was never really an option; people with no fixed wages or social security to fall back on during this time of crisis. As a result of the lockdown, several of these MSMEs have effectively become inoperable and have resorted to massive layoffs just to survive. This has resulted in thousands of workers losing their jobs with nowhere to go to for refuge. A chunk of these people includes migrant workers who have lost their jobs and are left with little to no avenue to feed themselves. Not receiving significant support from the government, these people have been initiating treks back to their villages. What is witnessed is a massive influx of migrant workers flooding the highways, walking weeks to find shelter and food. Truck drivers responsible for delivering goods have also resigned stating that they have no means to eat because of the closure of every food joint on the highways. Both these realities present a stark contrast and expose a deep crack in our societal framework. One I reckon won’t heal anytime soon.\n",
      "A train Unlikely to Halt\n",
      "The COVID 19 pandemic has restructured our social fabric in a way that is unlikely to change anytime soon. The areas that we’ve discussed are likely to become the flagbearers of the digital revolution of the decade. An upward mobilization with regards to massive scale movement of industries online seems pertinent today being led by these domains in the IT industry. An unfortunate consequence of it is that a majority of the MSMEs may soon cease to exist, having been replaced by some of the other alternatives that we’ve discussed. It seems to be a never-ending circle where the ones who are making a profit out of this situation will continue to do so, while the others will be washed out from our collective memory.\n",
      "Blackcoffer Insights 18: Souvik Chakraborty,Indian Institute of Engineering Science and Technology, Shibpur\n",
      "\n",
      "\n",
      "\n"
     ]
    }
   ],
   "source": [
    "links=soup.find_all('div',attrs={'class':'td-post-content tagdiv-type'})\n",
    "for i in links:\n",
    "    print(i.text)\n",
    "    print(\"\\n\")"
   ]
  },
  {
   "cell_type": "code",
   "execution_count": 17,
   "id": "c6dd552b",
   "metadata": {},
   "outputs": [
    {
     "name": "stdout",
     "output_type": "stream",
     "text": [
      "Total positive score: 35\n"
     ]
    }
   ],
   "source": [
    "def count_positive_words(main_dataset_file, positive_words_file):\n",
    "    \n",
    "    \n",
    "\n",
    "    with open(main_dataset_file, 'r', encoding='utf-8') as main_file:\n",
    "        main_data = main_file.read()\n",
    "\n",
    "   \n",
    "    with open(positive_words_file, 'r', encoding='utf-8') as positive_file:\n",
    "        positive_words = positive_file.read().splitlines()\n",
    "\n",
    "    \n",
    "    words = main_data.split()\n",
    "\n",
    "    \n",
    "    count = 0\n",
    "\n",
    "   \n",
    "    for word in words:\n",
    "      \n",
    "        if word in positive_words:\n",
    "            count += 1\n",
    "\n",
    "    \n",
    "    print(\"Total positive score:\", count)\n",
    "\n",
    "\n",
    "main_dataset_file = '89.txt'\n",
    "positive_words_file = 'positive.txt'\n",
    "\n",
    "\n",
    "count_positive_words(main_dataset_file, positive_words_file)\n"
   ]
  },
  {
   "cell_type": "code",
   "execution_count": 18,
   "id": "c6bee4c2",
   "metadata": {},
   "outputs": [
    {
     "name": "stdout",
     "output_type": "stream",
     "text": [
      "Total negative score: 38\n"
     ]
    }
   ],
   "source": [
    "def count_positive_words(main_dataset_file, positive_words_file):\n",
    "    \n",
    "    \n",
    "\n",
    "    with open(main_dataset_file, 'r', encoding='latin-1') as main_file:\n",
    "        main_data = main_file.read()\n",
    "\n",
    "   \n",
    "    with open(positive_words_file, 'r', encoding='latin-1') as positive_file:\n",
    "        positive_words = positive_file.read().splitlines()\n",
    "\n",
    "    \n",
    "    words = main_data.split()\n",
    "\n",
    "    \n",
    "    count = 0\n",
    "\n",
    "   \n",
    "    for word in words:\n",
    "      \n",
    "        if word in positive_words:\n",
    "            count += 1\n",
    "\n",
    "    \n",
    "    print(\"Total negative score:\", count)\n",
    "\n",
    "\n",
    "main_dataset_file = '89.txt'\n",
    "positive_words_file = 'negative-words.txt'\n",
    "\n",
    "\n",
    "count_positive_words(main_dataset_file, positive_words_file)\n"
   ]
  },
  {
   "cell_type": "code",
   "execution_count": 19,
   "id": "2e34a02f",
   "metadata": {},
   "outputs": [
    {
     "name": "stdout",
     "output_type": "stream",
     "text": [
      "Total number of words: 1776\n"
     ]
    }
   ],
   "source": [
    "def count_total_words(dataset_file):\n",
    "   \n",
    "    with open(dataset_file, 'r', encoding='utf-8') as file:\n",
    "        content = file.read()\n",
    "\n",
    "    \n",
    "    words = content.split()\n",
    "\n",
    "    \n",
    "    total_words = len(words)\n",
    "\n",
    "    return total_words\n",
    "\n",
    "\n",
    "dataset_file = '89.txt'\n",
    "\n",
    "\n",
    "total_words = count_total_words(dataset_file)\n",
    "\n",
    "\n",
    "print(\"Total number of words:\", total_words)\n"
   ]
  },
  {
   "cell_type": "code",
   "execution_count": 20,
   "id": "b74b0694",
   "metadata": {},
   "outputs": [
    {
     "name": "stdout",
     "output_type": "stream",
     "text": [
      "Number of complex words: 209\n"
     ]
    }
   ],
   "source": [
    "import pyphen\n",
    "import re\n",
    "dataset_file = \"89.txt\"\n",
    "dictionary = pyphen.Pyphen(lang='en')\n",
    "def count_syllables(word):\n",
    "    return len(dictionary.inserted(word).split('-'))\n",
    "def count_complex_words(file):\n",
    "    complex_word_count = 0\n",
    "\n",
    "    with open(file, 'r', encoding='utf-8') as f:\n",
    "        data = f.read()\n",
    "        words = re.findall(r'\\b\\w+\\b', data)  \n",
    "\n",
    "        for word in words:\n",
    "            syllable_count = count_syllables(word)\n",
    "            if syllable_count > 2:\n",
    "                complex_word_count += 1\n",
    "\n",
    "    return complex_word_count\n",
    "complex_words_count = count_complex_words(dataset_file)\n",
    "print(\"Number of complex words:\", complex_words_count)\n"
   ]
  },
  {
   "cell_type": "code",
   "execution_count": 21,
   "id": "1bfc9b28",
   "metadata": {},
   "outputs": [
    {
     "name": "stdout",
     "output_type": "stream",
     "text": [
      "Number of sentences: 84\n"
     ]
    }
   ],
   "source": [
    "import re\n",
    "def count_sentences(file):\n",
    "    with open(file, 'r', encoding='utf-8') as f:\n",
    "        data = f.read()\n",
    "        sentences = re.split(r'(?<!\\w\\.\\w.)(?<![A-Z][a-z]\\.)(?<=\\.|\\?)\\s', data)\n",
    "        sentence_count = len(sentences)\n",
    "\n",
    "    return sentence_count\n",
    "dataset_file = \"89.txt\"\n",
    "sentence_count = count_sentences(dataset_file)\n",
    "print(\"Number of sentences:\", sentence_count)"
   ]
  },
  {
   "cell_type": "code",
   "execution_count": 22,
   "id": "0613ae44",
   "metadata": {},
   "outputs": [
    {
     "name": "stdout",
     "output_type": "stream",
     "text": [
      "Sum of total number of characters: 9083\n"
     ]
    }
   ],
   "source": [
    "def calculate_total_character_count(file):\n",
    "    total_character_count = 0\n",
    "\n",
    "    with open(file, 'r', encoding='utf-8') as f:\n",
    "        data = f.read()\n",
    "        words = data.split() \n",
    "\n",
    "        for word in words:\n",
    "            total_character_count += len(word)\n",
    "\n",
    "    return total_character_count\n",
    "dataset_file = \"89.txt\"\n",
    "character_count = calculate_total_character_count(dataset_file)\n",
    "print(\"Sum of total number of characters:\", character_count)\n"
   ]
  },
  {
   "cell_type": "code",
   "execution_count": 23,
   "id": "a3fb7e5a",
   "metadata": {},
   "outputs": [
    {
     "name": "stdout",
     "output_type": "stream",
     "text": [
      "Total stop words present in data set: 858\n"
     ]
    }
   ],
   "source": [
    "def count_positive_words(main_dataset_file, positive_words_file):\n",
    "    \n",
    "    with open(main_dataset_file, 'r', encoding='utf-8') as main_file:\n",
    "        main_data = main_file.read()\n",
    "\n",
    "   \n",
    "    with open(positive_words_file, 'r', encoding='utf-8') as positive_file:\n",
    "        positive_words = positive_file.read().splitlines()\n",
    "\n",
    "    \n",
    "    words = main_data.split()\n",
    "\n",
    "    \n",
    "    count = 0\n",
    "\n",
    "   \n",
    "    for word in words:\n",
    "      \n",
    "        if word in positive_words:\n",
    "            count += 1\n",
    "\n",
    "    \n",
    "    print(\"Total stop words present in data set:\", count)\n",
    "\n",
    "\n",
    "main_dataset_file = '89.txt'\n",
    "positive_words_file = 'all-stop-words.txt'\n",
    "\n",
    "\n",
    "count_positive_words(main_dataset_file, positive_words_file)"
   ]
  },
  {
   "cell_type": "code",
   "execution_count": 24,
   "id": "a0ee61c0",
   "metadata": {},
   "outputs": [
    {
     "name": "stdout",
     "output_type": "stream",
     "text": [
      "Total syllables in the dataset file: 2827\n"
     ]
    }
   ],
   "source": [
    "def count_syllables(word):\n",
    "    vowels = 'aeiouAEIOU'\n",
    "    exceptions = ['es', 'ed']\n",
    "    count = 0\n",
    "    prev_char_vowel = False\n",
    "\n",
    "    if word[-2:] in exceptions:\n",
    "        return count\n",
    "\n",
    "    for char in word:\n",
    "        if char in vowels:\n",
    "            if not prev_char_vowel:\n",
    "                count += 1\n",
    "            prev_char_vowel = True\n",
    "        else:\n",
    "            prev_char_vowel = False\n",
    "\n",
    "    return count\n",
    "\n",
    "def sum_syllables_in_file(file):\n",
    "    total_syllables = 0\n",
    "\n",
    "    with open(file, 'r', encoding='utf-8') as f:\n",
    "        data = f.read()\n",
    "        words = data.split()\n",
    "\n",
    "        for word in words:\n",
    "            total_syllables += count_syllables(word)\n",
    "\n",
    "    return total_syllables\n",
    "\n",
    "dataset_file = \"89.txt\"\n",
    "total_syllables = sum_syllables_in_file(dataset_file)\n",
    "print(\"Total syllables in the dataset file:\", total_syllables)\n"
   ]
  },
  {
   "cell_type": "code",
   "execution_count": 25,
   "id": "89ab9796",
   "metadata": {},
   "outputs": [
    {
     "name": "stdout",
     "output_type": "stream",
     "text": [
      "Number of personal pronouns mentioned: 8\n"
     ]
    }
   ],
   "source": [
    "import re\n",
    "\n",
    "def count_personal_pronouns(file):\n",
    "    pronouns = ['I', 'we', 'my', 'ours', 'us']\n",
    "    count = 0\n",
    "\n",
    "    with open(file, 'r', encoding='utf-8') as f:\n",
    "        data = f.read()\n",
    "        words = re.findall(r'\\b(?:{})\\b'.format('|'.join(pronouns)), data)\n",
    "\n",
    "        for word in words:\n",
    "           \n",
    "            if word.lower() != 'us':\n",
    "                count += 1\n",
    "\n",
    "    return count\n",
    "\n",
    "dataset_file = \"89.txt\"\n",
    "pronoun_count = count_personal_pronouns(dataset_file)\n",
    "print(\"Number of personal pronouns mentioned:\", pronoun_count)\n"
   ]
  },
  {
   "cell_type": "code",
   "execution_count": null,
   "id": "b93a0053",
   "metadata": {},
   "outputs": [],
   "source": []
  },
  {
   "cell_type": "code",
   "execution_count": null,
   "id": "c4c6f6f0",
   "metadata": {},
   "outputs": [],
   "source": []
  },
  {
   "cell_type": "code",
   "execution_count": null,
   "id": "10272784",
   "metadata": {},
   "outputs": [],
   "source": []
  }
 ],
 "metadata": {
  "kernelspec": {
   "display_name": "Python 3 (ipykernel)",
   "language": "python",
   "name": "python3"
  },
  "language_info": {
   "codemirror_mode": {
    "name": "ipython",
    "version": 3
   },
   "file_extension": ".py",
   "mimetype": "text/x-python",
   "name": "python",
   "nbconvert_exporter": "python",
   "pygments_lexer": "ipython3",
   "version": "3.10.9"
  }
 },
 "nbformat": 4,
 "nbformat_minor": 5
}

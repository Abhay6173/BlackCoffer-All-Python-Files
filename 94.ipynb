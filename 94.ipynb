{
 "cells": [
  {
   "cell_type": "code",
   "execution_count": 1,
   "id": "f9d43c6d",
   "metadata": {},
   "outputs": [
    {
     "name": "stdout",
     "output_type": "stream",
     "text": [
      "Requirement already satisfied: beautifulsoup4 in c:\\users\\yg\\anaconda3\\lib\\site-packages (4.11.1)\n",
      "Requirement already satisfied: soupsieve>1.2 in c:\\users\\yg\\anaconda3\\lib\\site-packages (from beautifulsoup4) (2.3.2.post1)\n",
      "Requirement already satisfied: requests in c:\\users\\yg\\anaconda3\\lib\\site-packages (2.28.1)\n",
      "Requirement already satisfied: certifi>=2017.4.17 in c:\\users\\yg\\anaconda3\\lib\\site-packages (from requests) (2022.12.7)\n",
      "Requirement already satisfied: charset-normalizer<3,>=2 in c:\\users\\yg\\anaconda3\\lib\\site-packages (from requests) (2.0.4)\n",
      "Requirement already satisfied: urllib3<1.27,>=1.21.1 in c:\\users\\yg\\anaconda3\\lib\\site-packages (from requests) (1.26.14)\n",
      "Requirement already satisfied: idna<4,>=2.5 in c:\\users\\yg\\anaconda3\\lib\\site-packages (from requests) (3.4)\n"
     ]
    }
   ],
   "source": [
    "!pip install beautifulsoup4\n",
    "!pip install requests\n",
    "import sys\n",
    "import time \n",
    "from bs4 import BeautifulSoup\n",
    "import requests\n",
    "try:\n",
    "    \n",
    "    \n",
    "    page=requests.get('https://insights.blackcoffer.com/how-to-increase-social-media-engagement-for-marketers/')\n",
    "    \n",
    "    \n",
    "except Exception as e:\n",
    "    error_type, error_obj, error_info = sys.exc_info()\n",
    "    print('Error for link :',url)\n",
    "    print(error_type,'Line :',error_info.tb_lineno)\n",
    "    \n",
    "    \n",
    "time.sleep(2)\n",
    "soup=BeautifulSoup(page.text,'html.parser')\n",
    "links=soup.find_all('h1',attrs={'class':'entry-title'})   \n"
   ]
  },
  {
   "cell_type": "code",
   "execution_count": 2,
   "id": "c2d7a9b7",
   "metadata": {},
   "outputs": [
    {
     "name": "stdout",
     "output_type": "stream",
     "text": [
      "How to increase social media engagement for marketers?\n",
      "\n",
      "\n"
     ]
    }
   ],
   "source": [
    "for i in links:\n",
    "    print(i.text)\n",
    "    print(\"\\n\")"
   ]
  },
  {
   "cell_type": "code",
   "execution_count": 3,
   "id": "f65e28d5",
   "metadata": {},
   "outputs": [
    {
     "name": "stdout",
     "output_type": "stream",
     "text": [
      "\n",
      "Social media is such a staple of our evolving digital culture that it’s almost hard to imagine a time without updates, likes, comments, and shares. People are more concerned about how their food looks than about how it tastes. Thus, it has become necessary for any brand to have a social media presence. The phrase “Out of sight, out of mind” has never been so apt than in today’s time. Social media is as much about engagement with other people as it is about sharing content. It’s why we call it “social” media.\n",
      "Social media engagement simply is the interaction between the customer and the brand on social media platforms. Where else are you going to find a huge database of your target demographic who are already in the mind frame to read, click on, and share your message?\n",
      "In practicality it is not about a one-off communication but more about the construction of a long-term relationship with your target customers. Hence, when we talk about such a relationship it is imperative to consider the positive actions of users as a reaction of any brand’s engagement tactics.\n",
      "A fundamental customer journey can be envisaged in the form of customer funnel. The touchpoints available at every step can be shown as: \n",
      "AwarenessConsideration DecisionPurchase Post-purchase Touchpoints Word of mouth, social media, regular advertisements on the customer journey map Congruence with perceived and offered benefits, cost-benefit analysis, value propositionPlace and time utility, loyalty towards product, switching costs Retail/on-portal conversion levers, customer schemes Dissonance, purchase complexity \n",
      "To understand the reach of social media by the use of numbers\n",
      "\n",
      "Most popular social networks worldwide as of July 2020, ranked by number of active users (in millions)\n",
      "How many retweets on Twitter? How many reactions to the post on Facebook? How many likes on Instagram? How many shares on Linked In? This seems to be the new age Resume.\n",
      "Thus, a good question or mystery for any brand is how to measure their social media engagement. As with most online actions, it’s often difficult to measure offline benefits. More often than not the online campaigns do not drive any conversions on the same day/week, but a user may see those posts and become more familiar with the brand. That familiarity, later on, might result in him choosing that brand over an unknown competitor. Social media engagement as a result helps businesses in developing their brand’s personality, improves visibility, and becomes its voice.\n",
      "Customers exhibit dynamic behavior based on the type of product. It could range from picking and variety-seeking to high involvement processes comprising extensive information search. Top of the mind recall rules due to this purchasing behavior implies that targeted advertising and marketing is extremely important. No one engagement strategy can be applied across brands. Each brand’s strategy must differ based on what the brand is trying to sell, its target customers, and the beliefs of the brand.\n",
      "Some of the key aspects of marketing strategy that we have influenced as vital cogs in the digital marketing wheel are:\n",
      "Influencer Marketing\n",
      "Influencer marketing involves a brand collaborating with an online influencer to market one of its products or services. Here the audience doesn’t care much about your brand but the opinions of the influencers.\n",
      "An influencer as being someone who has:\n",
      "The power to affect the purchasing decisions of others because of their knowledge, position, authority, or relationship with their audience.\n",
      "a following in a distinct niche, with whom they regularly engage. The size of the following depends on the size of their topic of the niche.\n",
      "2017 saw Chanel being named as the most influential luxury brand on social media. Since then, it has continued to grow and diversify its portfolio, while providing constant engagement to its plethora of followers, especially on Instagram. \n",
      "Cross-Channel Marketing\n",
      "Cross-channel marketing or multi-channel marketing is the practice of using multiple channels to reach an audience. Because not everyone uses every single platform, it’s a good idea to have a presence on a few, and share some of the same content across the different networks. What makes a difference in this marketing strategy is the choice of platforms. Apart from using basics like Facebook, Instagram, and Twitter a clever use of Spotify, YouTube, or IGTV to showcase the brand can make a real difference.\n",
      "The luxury vehicle brand, Land Rover’s cross-channel marketing includes the Google Display Network, homepage masthead and Masthead in Lightbox ads on YouTube, and visibility through mobile, search, and Google+. The brand’s digital campaign included four different influencers who created visual content for their blogs by taking trips to places like Glacier National Park and the Appalachian Mountains and Land Rover’s microsite. Their cross-channel efforts resulted in 100 million impressions from YouTube, and a 10% increase in search ad CTR. Further results found that online leads from its digital channel efforts now account for 15% of the brand’s total sales.\n",
      "Informative\n",
      "The content created on social media must add some value addition to the customers. The brand must constantly keep informing the customers about their existing products, new products, achievements of the brands, or even casual content. There should be “Wow, I didn’t know this” factor. Only then will they become regular followers of the brand.\n",
      "An example of this would be a cosmetic brand posting make-up tutorials. Fenty Beauty is one such prime example, which has built up to 1.4m followers within just 4 days of its launch, eventually garnering close to 10m followers, with Rihanna being one of their icons.\n",
      "Involving customers & engaging them:\n",
      "“Customer is King” is a known concept. It is the foundation of traditional marketing. So while we shift to Social platforms brands must not forget them. Understanding their needs, addressing them, inviting them to respond and take part in the brand’s online activities while keeping it interesting and entertaining for the customer is the key.\n",
      "Founder and CEO of Glossier, Emily Weiss, described the brand as, “the first socially-driven beauty brand.” Glossier was certainly the pioneer in the term ‘Instagram brands’ – using the platform not only to build awareness but also to have focused conversation with the customer. Glossier often crowdsources product development, asking its Instagram followers what they’d like to see next. \n",
      "Dynamic\n",
      "The content creation must be dynamic and suitable for the current season, festival, or event that is happening. People must be able to relate to the posts and they must get excited after seeing it.\n",
      "Starbucks does a marvelous job when it comes to being dynamic. Their one-off recipes and continuous hype around seasonal events and related drinks have won them a silver IPA Effectiveness award for its social strategy in 2018. The launch of its now iconic ‘Unicorn Frappuccino’, spurred on the trend of brands deliberately creating ‘Instagrammable’ food and drink. As a result, there are now 557,232 posts using the hashtag #PumpkinSpiceLatte.\n",
      "Product focussed\n",
      "Now of course the real motive behind any marketing activity is to eventually sell the product. So it becomes extremely important to not lose the essence of the product while marketing. In simple terms, the content or strategy must not leave the customer confused about what the brand actually does or what it is trying to sell.\n",
      "To support the product-centric statement, Oreo is the best example. Oreo’s social media strategy has never diverged from its original formula. Completely product-focused and yet always creative, the brand continuously finds ways to put its cookies center stage. The ‘Daily Twist’ campaign to mark its 100th birthday, saw the brand turn its Oreo cookie into something of cultural relevance for 100 days, including Elvis Presley, a baseball, and a rainbow flag in support of Pride. \n",
      "Visuals\n",
      "“A picture is worth 1,000 words”. This adage has never been more apt than in the age of social media.  This is why visuals are so important in any marketing strategy. You can talk about a product all day, but until you’re able to put it in front of someone’s eyes, it’s not going to have nearly the same effect. Visual content marketing is a great way to make this happen and can be broken down into six basic types- comics, memes, infographics, photos, videos and visual note-taking.\n",
      "Coca-Cola has been a leader and trendsetter in the visual content marketing space for years. The 2020 initiative video paved the way for multiway communication, as opposed to the single way process that was prevalent. \n",
      "Product demonstration:\n",
      "The barrier for electronic platforms has always been the loss of touch. Customers often complain that till they don’t touch, try or test the product they are not convinced if they want to purchase it. This can also be true for products that are new and the customers need to be educated about its use. Hence it becomes important for brands to bridge this gap as far as possible through their online medium.\n",
      "Product demonstrations are considered one of the most promising and upcoming applications of AR technology, giving brands a way to provide an immersive experience to consumers. Gucci partnered with Snapchat for the first global branded AR shoe try on the lens, hugely increasing fanfare!\n",
      "Social message\n",
      "Corporate Social Responsibility should not be missed when it comes to social media engagement. If a brand has the reach to spread awareness then they must use it. Creating content to spread social awareness adds an emotional touch too. If a customer connects with a brand on an emotional level its hard for competitors to break it.\n",
      "Dove’s steady and impactful social message still stands out as marketing that’s more than just marketing. The ‘Real Beauty’ campaign has been refreshed multiple times since it first launched in 2004. Dove’s latest campaign once again highlighted the core message, going far beyond surface aesthetic to focus on the beauty of real human values. The ‘Courage is Beautiful’ campaign successfully honored the healthcare workers who have been working selflessly throughout the 2020 pandemic.\n",
      "The fact remains that the share of mind and voice are key elements to being the dominant force in the world today. Social media marketing has leveraged all the elements and made its presence felt in every customer engagement. Finding unique ways to really stand out among the competition is key to a successful digital marketing strategy. Newer and more customized tools to feel the pulse of the market come up every single day, to meet the ever-changing needs of marketing heads. At the end of the day, ‘customer is indeed king’. And companies would do well to remember it! \n",
      "Blackcoffer Insights 19: Debmalya Banik Chowdhury(XLRI Jamshedpur)& Tanisha Gupta(XLRI Delhi)\n",
      "\n",
      "\n",
      "\n"
     ]
    }
   ],
   "source": [
    "links=soup.find_all('div',attrs={'class':'td-post-content tagdiv-type'})\n",
    "for i in links:\n",
    "    print(i.text)\n",
    "    print(\"\\n\")"
   ]
  },
  {
   "cell_type": "code",
   "execution_count": 9,
   "id": "b7e970c6",
   "metadata": {},
   "outputs": [
    {
     "name": "stdout",
     "output_type": "stream",
     "text": [
      "Total positive score: 45\n"
     ]
    }
   ],
   "source": [
    "def count_positive_words(main_dataset_file, positive_words_file):\n",
    "    \n",
    "    \n",
    "\n",
    "    with open(main_dataset_file, 'r', encoding='utf-8') as main_file:\n",
    "        main_data = main_file.read()\n",
    "\n",
    "   \n",
    "    with open(positive_words_file, 'r', encoding='utf-8') as positive_file:\n",
    "        positive_words = positive_file.read().splitlines()\n",
    "\n",
    "    \n",
    "    words = main_data.split()\n",
    "\n",
    "    \n",
    "    count = 0\n",
    "\n",
    "   \n",
    "    for word in words:\n",
    "      \n",
    "        if word in positive_words:\n",
    "            count += 1\n",
    "\n",
    "    \n",
    "    print(\"Total positive score:\", count)\n",
    "\n",
    "\n",
    "main_dataset_file = '94.txt'\n",
    "positive_words_file = 'positive.txt'\n",
    "\n",
    "\n",
    "count_positive_words(main_dataset_file, positive_words_file)\n"
   ]
  },
  {
   "cell_type": "code",
   "execution_count": 10,
   "id": "1d160a91",
   "metadata": {},
   "outputs": [
    {
     "name": "stdout",
     "output_type": "stream",
     "text": [
      "Total negative score: 14\n"
     ]
    }
   ],
   "source": [
    "def count_positive_words(main_dataset_file, positive_words_file):\n",
    "    \n",
    "    \n",
    "\n",
    "    with open(main_dataset_file, 'r', encoding='latin-1') as main_file:\n",
    "        main_data = main_file.read()\n",
    "\n",
    "   \n",
    "    with open(positive_words_file, 'r', encoding='latin-1') as positive_file:\n",
    "        positive_words = positive_file.read().splitlines()\n",
    "\n",
    "    \n",
    "    words = main_data.split()\n",
    "\n",
    "    \n",
    "    count = 0\n",
    "\n",
    "   \n",
    "    for word in words:\n",
    "      \n",
    "        if word in positive_words:\n",
    "            count += 1\n",
    "\n",
    "    \n",
    "    print(\"Total negative score:\", count)\n",
    "\n",
    "\n",
    "main_dataset_file = '94.txt'\n",
    "positive_words_file = 'negative-words.txt'\n",
    "\n",
    "\n",
    "count_positive_words(main_dataset_file, positive_words_file)\n"
   ]
  },
  {
   "cell_type": "code",
   "execution_count": 11,
   "id": "c825a710",
   "metadata": {},
   "outputs": [
    {
     "name": "stdout",
     "output_type": "stream",
     "text": [
      "Total number of words: 1769\n"
     ]
    }
   ],
   "source": [
    "def count_total_words(dataset_file):\n",
    "   \n",
    "    with open(dataset_file, 'r', encoding='utf-8') as file:\n",
    "        content = file.read()\n",
    "\n",
    "    \n",
    "    words = content.split()\n",
    "\n",
    "    \n",
    "    total_words = len(words)\n",
    "\n",
    "    return total_words\n",
    "\n",
    "\n",
    "dataset_file = '94.txt'\n",
    "\n",
    "\n",
    "total_words = count_total_words(dataset_file)\n",
    "\n",
    "\n",
    "print(\"Total number of words:\", total_words)\n"
   ]
  },
  {
   "cell_type": "code",
   "execution_count": 12,
   "id": "f5d29ad5",
   "metadata": {},
   "outputs": [
    {
     "name": "stdout",
     "output_type": "stream",
     "text": [
      "Number of complex words: 230\n"
     ]
    }
   ],
   "source": [
    "import pyphen\n",
    "import re\n",
    "dataset_file = \"94.txt\"\n",
    "dictionary = pyphen.Pyphen(lang='en')\n",
    "def count_syllables(word):\n",
    "    return len(dictionary.inserted(word).split('-'))\n",
    "def count_complex_words(file):\n",
    "    complex_word_count = 0\n",
    "\n",
    "    with open(file, 'r', encoding='utf-8') as f:\n",
    "        data = f.read()\n",
    "        words = re.findall(r'\\b\\w+\\b', data)  \n",
    "\n",
    "        for word in words:\n",
    "            syllable_count = count_syllables(word)\n",
    "            if syllable_count > 2:\n",
    "                complex_word_count += 1\n",
    "\n",
    "    return complex_word_count\n",
    "complex_words_count = count_complex_words(dataset_file)\n",
    "print(\"Number of complex words:\", complex_words_count)\n",
    "\n"
   ]
  },
  {
   "cell_type": "code",
   "execution_count": 13,
   "id": "e62aed06",
   "metadata": {},
   "outputs": [
    {
     "name": "stdout",
     "output_type": "stream",
     "text": [
      "Number of sentences: 93\n"
     ]
    }
   ],
   "source": [
    "import re\n",
    "def count_sentences(file):\n",
    "    with open(file, 'r', encoding='utf-8') as f:\n",
    "        data = f.read()\n",
    "        sentences = re.split(r'(?<!\\w\\.\\w.)(?<![A-Z][a-z]\\.)(?<=\\.|\\?)\\s', data)\n",
    "        sentence_count = len(sentences)\n",
    "\n",
    "    return sentence_count\n",
    "dataset_file = \"94.txt\"\n",
    "sentence_count = count_sentences(dataset_file)\n",
    "print(\"Number of sentences:\", sentence_count)"
   ]
  },
  {
   "cell_type": "code",
   "execution_count": 14,
   "id": "14d6d017",
   "metadata": {},
   "outputs": [
    {
     "name": "stdout",
     "output_type": "stream",
     "text": [
      "Sum of total number of characters: 9223\n"
     ]
    }
   ],
   "source": [
    "def calculate_total_character_count(file):\n",
    "    total_character_count = 0\n",
    "\n",
    "    with open(file, 'r', encoding='utf-8') as f:\n",
    "        data = f.read()\n",
    "        words = data.split() \n",
    "\n",
    "        for word in words:\n",
    "            total_character_count += len(word)\n",
    "\n",
    "    return total_character_count\n",
    "dataset_file = \"94.txt\"\n",
    "character_count = calculate_total_character_count(dataset_file)\n",
    "print(\"Sum of total number of characters:\", character_count)\n"
   ]
  },
  {
   "cell_type": "code",
   "execution_count": 15,
   "id": "e65def31",
   "metadata": {},
   "outputs": [
    {
     "name": "stdout",
     "output_type": "stream",
     "text": [
      "Total stop words present in data set: 806\n"
     ]
    }
   ],
   "source": [
    "def count_positive_words(main_dataset_file, positive_words_file):\n",
    "    \n",
    "    with open(main_dataset_file, 'r', encoding='utf-8') as main_file:\n",
    "        main_data = main_file.read()\n",
    "\n",
    "   \n",
    "    with open(positive_words_file, 'r', encoding='utf-8') as positive_file:\n",
    "        positive_words = positive_file.read().splitlines()\n",
    "\n",
    "    \n",
    "    words = main_data.split()\n",
    "\n",
    "    \n",
    "    count = 0\n",
    "\n",
    "   \n",
    "    for word in words:\n",
    "      \n",
    "        if word in positive_words:\n",
    "            count += 1\n",
    "\n",
    "    \n",
    "    print(\"Total stop words present in data set:\", count)\n",
    "\n",
    "\n",
    "main_dataset_file = '94.txt'\n",
    "positive_words_file = 'all-stop-words.txt'\n",
    "\n",
    "\n",
    "count_positive_words(main_dataset_file, positive_words_file)"
   ]
  },
  {
   "cell_type": "code",
   "execution_count": 16,
   "id": "fc30699b",
   "metadata": {},
   "outputs": [
    {
     "name": "stdout",
     "output_type": "stream",
     "text": [
      "Total syllables in the dataset file: 2858\n"
     ]
    }
   ],
   "source": [
    "def count_syllables(word):\n",
    "    vowels = 'aeiouAEIOU'\n",
    "    exceptions = ['es', 'ed']\n",
    "    count = 0\n",
    "    prev_char_vowel = False\n",
    "\n",
    "    if word[-2:] in exceptions:\n",
    "        return count\n",
    "\n",
    "    for char in word:\n",
    "        if char in vowels:\n",
    "            if not prev_char_vowel:\n",
    "                count += 1\n",
    "            prev_char_vowel = True\n",
    "        else:\n",
    "            prev_char_vowel = False\n",
    "\n",
    "    return count\n",
    "\n",
    "def sum_syllables_in_file(file):\n",
    "    total_syllables = 0\n",
    "\n",
    "    with open(file, 'r', encoding='utf-8') as f:\n",
    "        data = f.read()\n",
    "        words = data.split()\n",
    "\n",
    "        for word in words:\n",
    "            total_syllables += count_syllables(word)\n",
    "\n",
    "    return total_syllables\n",
    "\n",
    "dataset_file = \"94.txt\"\n",
    "total_syllables = sum_syllables_in_file(dataset_file)\n",
    "print(\"Total syllables in the dataset file:\", total_syllables)\n"
   ]
  },
  {
   "cell_type": "code",
   "execution_count": 17,
   "id": "ef9d741d",
   "metadata": {},
   "outputs": [
    {
     "name": "stdout",
     "output_type": "stream",
     "text": [
      "Number of personal pronouns mentioned: 5\n"
     ]
    }
   ],
   "source": [
    "import re\n",
    "\n",
    "def count_personal_pronouns(file):\n",
    "    pronouns = ['I', 'we', 'my', 'ours', 'us']\n",
    "    count = 0\n",
    "\n",
    "    with open(file, 'r', encoding='utf-8') as f:\n",
    "        data = f.read()\n",
    "        words = re.findall(r'\\b(?:{})\\b'.format('|'.join(pronouns)), data)\n",
    "\n",
    "        for word in words:\n",
    "           \n",
    "            if word.lower() != 'us':\n",
    "                count += 1\n",
    "\n",
    "    return count\n",
    "\n",
    "dataset_file = \"94.txt\"\n",
    "pronoun_count = count_personal_pronouns(dataset_file)\n",
    "print(\"Number of personal pronouns mentioned:\", pronoun_count)"
   ]
  },
  {
   "cell_type": "code",
   "execution_count": null,
   "id": "29438698",
   "metadata": {},
   "outputs": [],
   "source": []
  },
  {
   "cell_type": "code",
   "execution_count": null,
   "id": "bcf5ccd1",
   "metadata": {},
   "outputs": [],
   "source": []
  },
  {
   "cell_type": "code",
   "execution_count": null,
   "id": "a774df2a",
   "metadata": {},
   "outputs": [],
   "source": []
  }
 ],
 "metadata": {
  "kernelspec": {
   "display_name": "Python 3 (ipykernel)",
   "language": "python",
   "name": "python3"
  },
  "language_info": {
   "codemirror_mode": {
    "name": "ipython",
    "version": 3
   },
   "file_extension": ".py",
   "mimetype": "text/x-python",
   "name": "python",
   "nbconvert_exporter": "python",
   "pygments_lexer": "ipython3",
   "version": "3.10.9"
  }
 },
 "nbformat": 4,
 "nbformat_minor": 5
}

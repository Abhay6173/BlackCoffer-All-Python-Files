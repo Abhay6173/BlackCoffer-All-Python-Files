{
 "cells": [
  {
   "cell_type": "code",
   "execution_count": 1,
   "id": "8ed87033",
   "metadata": {
    "scrolled": true
   },
   "outputs": [
    {
     "name": "stdout",
     "output_type": "stream",
     "text": [
      "Requirement already satisfied: beautifulsoup4 in c:\\users\\yg\\anaconda3\\lib\\site-packages (4.11.1)\n",
      "Requirement already satisfied: soupsieve>1.2 in c:\\users\\yg\\anaconda3\\lib\\site-packages (from beautifulsoup4) (2.3.2.post1)\n",
      "Requirement already satisfied: requests in c:\\users\\yg\\anaconda3\\lib\\site-packages (2.28.1)\n",
      "Requirement already satisfied: urllib3<1.27,>=1.21.1 in c:\\users\\yg\\anaconda3\\lib\\site-packages (from requests) (1.26.14)\n",
      "Requirement already satisfied: certifi>=2017.4.17 in c:\\users\\yg\\anaconda3\\lib\\site-packages (from requests) (2022.12.7)\n",
      "Requirement already satisfied: idna<4,>=2.5 in c:\\users\\yg\\anaconda3\\lib\\site-packages (from requests) (3.4)\n",
      "Requirement already satisfied: charset-normalizer<3,>=2 in c:\\users\\yg\\anaconda3\\lib\\site-packages (from requests) (2.0.4)\n"
     ]
    }
   ],
   "source": [
    "!pip install beautifulsoup4\n",
    "!pip install requests\n",
    "import sys\n",
    "import time \n",
    "from bs4 import BeautifulSoup\n",
    "import requests\n",
    "try:\n",
    "    \n",
    "    \n",
    "    page=requests.get('https://insights.blackcoffer.com/marketing-drives-results-with-a-focus-on-problems/')\n",
    "    \n",
    "    \n",
    "except Exception as e:\n",
    "    error_type, error_obj, error_info = sys.exc_info()\n",
    "    print('Error for link :',url)\n",
    "    print(error_type,'Line :',error_info.tb_lineno)\n",
    "    \n",
    "    \n",
    "time.sleep(2)\n",
    "soup=BeautifulSoup(page.text,'html.parser')\n",
    "links=soup.find_all('h1',attrs={'class':'entry-title'})   \n"
   ]
  },
  {
   "cell_type": "code",
   "execution_count": 2,
   "id": "15a7c6b1",
   "metadata": {},
   "outputs": [
    {
     "name": "stdout",
     "output_type": "stream",
     "text": [
      "Marketing Drives Results With A Focus On Problems\n",
      "\n",
      "\n"
     ]
    }
   ],
   "source": [
    "for i in links:\n",
    "    print(i.text)\n",
    "    print(\"\\n\")"
   ]
  },
  {
   "cell_type": "code",
   "execution_count": 3,
   "id": "ea0195b9",
   "metadata": {},
   "outputs": [
    {
     "name": "stdout",
     "output_type": "stream",
     "text": [
      "\n",
      "When\n",
      "the British ruled India, many Indians\n",
      "accepted to work under their policy, and they did not try to rebel against the British for\n",
      "their presence in Indian lands; They recognized the benefits of British rule. What\n",
      "was the factor that made Indians accept the\n",
      "British government? The perception about\n",
      "British-policies (about trading, pay-scale, and positioning in the military) had been\n",
      "done through various marketing channels in such a way that it brainwashed people of the nation, and many were ready to accept the British. So the Marketing is like fire when smartly\n",
      "handled; it can destroy your enemies, but when not it can burn you.  \n",
      "Marketing is to design and develop a pathway from product or service to the customer through a product, price, place and promotion strategies. Marketing depends on a variety of parameters that can be classified broadly, boiling down to vital three. These are ‘What type of customer are marketing team is focusing on (based on gender, age, location, customer-class) (W1)’, ‘What are Product Specification or Applications you need to bring in front of customer (W2)’, ‘What is your Product Promotion flow path (W3)’, ‘How much time it takes to convey product information to customer (H1)’. These criteria are what I call ‘3W1H’ forms. These basics need to be taken care of while developing a marketing strategy for the upcoming product. However, are they enough? No. There is one more parameter called the Feedback mechanism (FM). Generally, machines use the feedback mechanism to check output generated is as per input is given or not and if it is not, the input is corrected to get the required output. When it comes to human beings, he/she is surrounded by multiple products daily through social media, TV advertising and so forth. Slight uncertainties on either side in observation can make a positive or negative impact on the product on the consumer’s mind. In the feedback mechanism, the marketing team needs to answer only one question “What kind of product image built in the customer mind through promotional activities?” If the product image not built as per expectation, then management has to review and work on 3W1H, as discussed earlier. So let’s elaborate how 3W1H approach works along with feedback mechanism. \n",
      "\n",
      "          Fig.1- 3W1H with FM process can target customer effectively          \n",
      "After deciding the customer range, you can work on other\n",
      "activities. Since the customer is\n",
      "conscious about purchasing the product and\n",
      "when the product promoted, the first thing the customer will check is its\n",
      "usefulness, and if his/her answer is ‘Yes,’\n",
      "then the customer will start comparing with similar alternative products in the\n",
      "market. Therefore, one should present the\n",
      "product along with some unique thought\n",
      "and express the product in such a way that its image imprinted into the consumer\n",
      "mind. For example, the polio campaign in\n",
      "India. The government had taken the initiative to make India polio-free by\n",
      "spreading awareness through all types of social communication mediums, in which\n",
      "Television played a vital role. Legendary\n",
      "cinema actor ‘Amitabh Bachchan’ was selected as an ambassador for this campaign.\n",
      "Initially, the advertisement published in which Amitabh pleaded people for vaccinating\n",
      "the children within a fixed schedule. The advertisement circulated throughout the nation, and\n",
      "no stone was kept unturned by the government\n",
      "to make this campaign successful. However,\n",
      "much to the surprise, advertising failed miserably to attract a deprived community in polio booth. This promotion failure was because of\n",
      "non-consideration of the customer (W1)\n",
      "and how advertise impacted its application on the customer (W2)? So after analysing failure, experts recommended changes\n",
      "in their marketing campaign like, to focus on major customer (Here mainly\n",
      "village woman who generally spend their time in home by watching TV), type of\n",
      "impact on people (People who watched TV during that era, had an image of\n",
      "Amitabh as ‘Angry young man’). So the campaign\n",
      "improved their advertising by bringing out the same angry Amitabh instead of\n",
      "his soft-image, which used in the earlier campaign. So in a very next polio\n",
      "campaign number of people in the polio booth suddenly increased and when\n",
      "feedback is taken from people about such a sudden change, they replied that we\n",
      "don’t want to watch ‘Amitabh sir’ getting angry because of us.[i]\n",
      "In\n",
      "W3, organisation must focus on what kind of channel use to attract the customer. Currently,\n",
      "there are a lot of platforms available by\n",
      "which you can market your product. The main\n",
      "agenda you should keep in mind is that how effectively you can engage the customer\n",
      "through marketing, at very first, if you make an\n",
      "impact on customer then only, he can show interest in your product. For\n",
      "example, changes in launching trailers of\n",
      "the upcoming films. Till 20th\n",
      "century Television and newspaper were crucial\n",
      "factors, but now along with television, marketing team take help of internet\n",
      "resources like Youtube, Facebook,\n",
      "introducing an article on the pre-trailer phenomenon. Increasing the range of promotional devices, broadcast formats and publishing platforms provide a broad range to promote the film and choosing right platform may lead to a massive hit in the box-office.    \n",
      "For\n",
      "the last factor (H1) time, the obvious question that comes to mind is that ‘Is time for advertising matters?’, While\n",
      "watching the TV when an advertisement appears,\n",
      "many times we change the channel instead of\n",
      "watching the whole ad or ignore it altogether. You do have an option of ‘Skip ad’ when you watch anything online, so one must decide how much time is required\n",
      "to deliver product information during its\n",
      "promotion? Delivering product information\n",
      "in less time, may create the possibility that the customer will watch it so it\n",
      "can result in attracting more customers. So, the content will be the\n",
      "king in the marketing. However, as one\n",
      "must have guessed it, this will not work all the time. Other factors like the cost of the product,\n",
      "application range, type of customer can also affect\n",
      "the H1. For example, the customer would be\n",
      "more conscious while watching higher-priced\n",
      "product broadcast compare to the lower-priced one. So it would take more time\n",
      "for the marketing team to convince the\n",
      "customer to buy the expensive good than the lower-priced one.\n",
      "After\n",
      "implementing a marketing strategy as per 3W1H, we need to work on a feedback mechanism in which organization has to collect information about\n",
      "product image generated in customer’s minds through dealers and using feedback-form. Not using the feedback mechanism may lead to failure in achieving\n",
      "‘product sales target’ and can make the situation even worse. Take the example of ‘THE TATA Nano-MAKING OF WORLD’S\n",
      "CHEAPEST CAR,’ which was mind-blowing one-of-a-kind projects in Indian\n",
      "automobile industry. From the first phase of a marketing\n",
      "campaign, TATA Nano was on so much\n",
      "continuous limelight that this project was pleased by former American president\n",
      "Barack Obama.[ii]\n",
      "The curiosity about the product\n",
      "was so high that the sale of then-leading\n",
      "car model Maruti-800 was dropped by 20% immediately after unveiling the Nano.[iii]\n",
      "However, while marketing the product, an organization built “Affordable, Garibo Ki Car” image in customer’s mind,\n",
      "which made customers conscious about what will be their status-quo in society\n",
      "after buying Nano? Thus, they started giving preference to two-wheelers over Nano. During the same time, some instances of Nanos catching fire came\n",
      "into focus, which worsened the situation.\n",
      "This case even exacerbates when the team\n",
      "did not work on the feedback mechanism\n",
      "and hence, was not able to change customer\n",
      "perception about Nano. Later, when Nano fire problem was technically sorted out\n",
      "but even then, the marketing team did not\n",
      "make any impactful effort to market the improved safety of the car. Therefore, customer’s negative perception\n",
      "remained stuck and the organization did\n",
      "not even come close to achieving selling\n",
      "figures of Nano. If the organization had used\n",
      "feedback mechanism, it would have been an entirely different story. \n",
      "So\n",
      "3W1H can be an essential factor while\n",
      "developing a marketing strategy for the\n",
      "product along with a reversible FM\n",
      "method. This method can help us to\n",
      "monitor Product marketing throughout the phases and can help the marketing team to\n",
      "change strategy whenever it goes into the wrong\n",
      "path.\n",
      "\n",
      "[i]\n",
      "https://www.thehindu.com/news/cities/Delhi/when-amitabhs-voice-did-the-trick-to-make-india-polio-free/article6257123.ece\n",
      "[ii]  https://www.businesstoday.in/obamas-india-visit/nano-catches-worlds-most-powerful-mans-eyes/story/10144.html\n",
      "[iii]  https://www.businesstoday.in/obamas-india-visit/nano-catches-worlds-most-powerful-mans-eyes/story/10144.html\n",
      "\n",
      "\n",
      "\n"
     ]
    }
   ],
   "source": [
    "links=soup.find_all('div',attrs={'class':'td-post-content tagdiv-type'})\n",
    "for i in links:\n",
    "    print(i.text)\n",
    "    print(\"\\n\")"
   ]
  },
  {
   "cell_type": "code",
   "execution_count": 12,
   "id": "f9080786",
   "metadata": {},
   "outputs": [
    {
     "name": "stdout",
     "output_type": "stream",
     "text": [
      "Total positive score: 29\n"
     ]
    }
   ],
   "source": [
    "def count_positive_words(main_dataset_file, positive_words_file):\n",
    "    \n",
    "    \n",
    "\n",
    "    with open(main_dataset_file, 'r', encoding='utf-8') as main_file:\n",
    "        main_data = main_file.read()\n",
    "\n",
    "   \n",
    "    with open(positive_words_file, 'r', encoding='utf-8') as positive_file:\n",
    "        positive_words = positive_file.read().splitlines()\n",
    "\n",
    "    \n",
    "    words = main_data.split()\n",
    "\n",
    "    \n",
    "    count = 0\n",
    "\n",
    "   \n",
    "    for word in words:\n",
    "      \n",
    "        if word in positive_words:\n",
    "            count += 1\n",
    "\n",
    "    \n",
    "    print(\"Total positive score:\", count)\n",
    "\n",
    "\n",
    "main_dataset_file = '132.txt'\n",
    "positive_words_file = 'positive.txt'\n",
    "\n",
    "\n",
    "count_positive_words(main_dataset_file, positive_words_file)\n"
   ]
  },
  {
   "cell_type": "code",
   "execution_count": 13,
   "id": "0b6c6f95",
   "metadata": {},
   "outputs": [
    {
     "name": "stdout",
     "output_type": "stream",
     "text": [
      "Total negative score: 17\n"
     ]
    }
   ],
   "source": [
    "def count_positive_words(main_dataset_file, positive_words_file):\n",
    "    \n",
    "    \n",
    "\n",
    "    with open(main_dataset_file, 'r', encoding='latin-1') as main_file:\n",
    "        main_data = main_file.read()\n",
    "\n",
    "   \n",
    "    with open(positive_words_file, 'r', encoding='latin-1') as positive_file:\n",
    "        positive_words = positive_file.read().splitlines()\n",
    "\n",
    "    \n",
    "    words = main_data.split()\n",
    "\n",
    "    \n",
    "    count = 0\n",
    "\n",
    "   \n",
    "    for word in words:\n",
    "      \n",
    "        if word in positive_words:\n",
    "            count += 1\n",
    "\n",
    "    \n",
    "    print(\"Total negative score:\", count)\n",
    "\n",
    "\n",
    "main_dataset_file = '132.txt'\n",
    "positive_words_file = 'negative-words.txt'\n",
    "\n",
    "\n",
    "count_positive_words(main_dataset_file, positive_words_file)\n"
   ]
  },
  {
   "cell_type": "code",
   "execution_count": 14,
   "id": "07b720e3",
   "metadata": {},
   "outputs": [
    {
     "name": "stdout",
     "output_type": "stream",
     "text": [
      "Total number of words: 1361\n"
     ]
    }
   ],
   "source": [
    "def count_total_words(dataset_file):\n",
    "   \n",
    "    with open(dataset_file, 'r', encoding='utf-8') as file:\n",
    "        content = file.read()\n",
    "\n",
    "    \n",
    "    words = content.split()\n",
    "\n",
    "    \n",
    "    total_words = len(words)\n",
    "\n",
    "    return total_words\n",
    "\n",
    "\n",
    "dataset_file = '132.txt'\n",
    "\n",
    "\n",
    "total_words = count_total_words(dataset_file)\n",
    "\n",
    "\n",
    "print(\"Total number of words:\", total_words)\n"
   ]
  },
  {
   "cell_type": "code",
   "execution_count": null,
   "id": "3fc18195",
   "metadata": {},
   "outputs": [],
   "source": []
  },
  {
   "cell_type": "code",
   "execution_count": 15,
   "id": "eae43b9c",
   "metadata": {},
   "outputs": [
    {
     "name": "stdout",
     "output_type": "stream",
     "text": [
      "Number of complex words: 177\n"
     ]
    }
   ],
   "source": [
    "import pyphen\n",
    "import re\n",
    "dataset_file = \"132.txt\"\n",
    "dictionary = pyphen.Pyphen(lang='en')\n",
    "def count_syllables(word):\n",
    "    return len(dictionary.inserted(word).split('-'))\n",
    "def count_complex_words(file):\n",
    "    complex_word_count = 0\n",
    "\n",
    "    with open(file, 'r', encoding='utf-8') as f:\n",
    "        data = f.read()\n",
    "        words = re.findall(r'\\b\\w+\\b', data)  \n",
    "\n",
    "        for word in words:\n",
    "            syllable_count = count_syllables(word)\n",
    "            if syllable_count > 2:\n",
    "                complex_word_count += 1\n",
    "\n",
    "    return complex_word_count\n",
    "complex_words_count = count_complex_words(dataset_file)\n",
    "print(\"Number of complex words:\", complex_words_count)\n",
    "\n"
   ]
  },
  {
   "cell_type": "code",
   "execution_count": 16,
   "id": "f7a336a2",
   "metadata": {},
   "outputs": [
    {
     "name": "stdout",
     "output_type": "stream",
     "text": [
      "Number of sentences: 55\n"
     ]
    }
   ],
   "source": [
    "import re\n",
    "def count_sentences(file):\n",
    "    with open(file, 'r', encoding='utf-8') as f:\n",
    "        data = f.read()\n",
    "        sentences = re.split(r'(?<!\\w\\.\\w.)(?<![A-Z][a-z]\\.)(?<=\\.|\\?)\\s', data)\n",
    "        sentence_count = len(sentences)\n",
    "\n",
    "    return sentence_count\n",
    "dataset_file = \"132.txt\"\n",
    "sentence_count = count_sentences(dataset_file)\n",
    "print(\"Number of sentences:\", sentence_count)"
   ]
  },
  {
   "cell_type": "code",
   "execution_count": 17,
   "id": "192b13a8",
   "metadata": {},
   "outputs": [
    {
     "name": "stdout",
     "output_type": "stream",
     "text": [
      "Sum of total number of characters: 7385\n"
     ]
    }
   ],
   "source": [
    "def calculate_total_character_count(file):\n",
    "    total_character_count = 0\n",
    "\n",
    "    with open(file, 'r', encoding='utf-8') as f:\n",
    "        data = f.read()\n",
    "        words = data.split() \n",
    "\n",
    "        for word in words:\n",
    "            total_character_count += len(word)\n",
    "\n",
    "    return total_character_count\n",
    "dataset_file = \"132.txt\"\n",
    "character_count = calculate_total_character_count(dataset_file)\n",
    "print(\"Sum of total number of characters:\", character_count)\n"
   ]
  },
  {
   "cell_type": "code",
   "execution_count": 18,
   "id": "69019a17",
   "metadata": {},
   "outputs": [
    {
     "name": "stdout",
     "output_type": "stream",
     "text": [
      "Total stop words present in data set: 634\n"
     ]
    }
   ],
   "source": [
    "def count_positive_words(main_dataset_file, positive_words_file):\n",
    "    \n",
    "    with open(main_dataset_file, 'r', encoding='utf-8') as main_file:\n",
    "        main_data = main_file.read()\n",
    "\n",
    "   \n",
    "    with open(positive_words_file, 'r', encoding='utf-8') as positive_file:\n",
    "        positive_words = positive_file.read().splitlines()\n",
    "\n",
    "    \n",
    "    words = main_data.split()\n",
    "\n",
    "    \n",
    "    count = 0\n",
    "\n",
    "   \n",
    "    for word in words:\n",
    "      \n",
    "        if word in positive_words:\n",
    "            count += 1\n",
    "\n",
    "    \n",
    "    print(\"Total stop words present in data set:\", count)\n",
    "\n",
    "\n",
    "main_dataset_file = '132.txt'\n",
    "positive_words_file = 'all-stop-words.txt'\n",
    "\n",
    "\n",
    "count_positive_words(main_dataset_file, positive_words_file)"
   ]
  },
  {
   "cell_type": "code",
   "execution_count": 19,
   "id": "b75002cf",
   "metadata": {},
   "outputs": [
    {
     "name": "stdout",
     "output_type": "stream",
     "text": [
      "Total syllables in the dataset file: 2264\n"
     ]
    }
   ],
   "source": [
    "def count_syllables(word):\n",
    "    vowels = 'aeiouAEIOU'\n",
    "    exceptions = ['es', 'ed']\n",
    "    count = 0\n",
    "    prev_char_vowel = False\n",
    "\n",
    "    if word[-2:] in exceptions:\n",
    "        return count\n",
    "\n",
    "    for char in word:\n",
    "        if char in vowels:\n",
    "            if not prev_char_vowel:\n",
    "                count += 1\n",
    "            prev_char_vowel = True\n",
    "        else:\n",
    "            prev_char_vowel = False\n",
    "\n",
    "    return count\n",
    "\n",
    "def sum_syllables_in_file(file):\n",
    "    total_syllables = 0\n",
    "\n",
    "    with open(file, 'r', encoding='utf-8') as f:\n",
    "        data = f.read()\n",
    "        words = data.split()\n",
    "\n",
    "        for word in words:\n",
    "            total_syllables += count_syllables(word)\n",
    "\n",
    "    return total_syllables\n",
    "\n",
    "dataset_file = \"132.txt\"\n",
    "total_syllables = sum_syllables_in_file(dataset_file)\n",
    "print(\"Total syllables in the dataset file:\", total_syllables)\n"
   ]
  },
  {
   "cell_type": "code",
   "execution_count": 20,
   "id": "8cf7081b",
   "metadata": {},
   "outputs": [
    {
     "name": "stdout",
     "output_type": "stream",
     "text": [
      "Number of personal pronouns mentioned: 4\n"
     ]
    }
   ],
   "source": [
    "import re\n",
    "\n",
    "def count_personal_pronouns(file):\n",
    "    pronouns = ['I', 'we', 'my', 'ours', 'us']\n",
    "    count = 0\n",
    "\n",
    "    with open(file, 'r', encoding='utf-8') as f:\n",
    "        data = f.read()\n",
    "        words = re.findall(r'\\b(?:{})\\b'.format('|'.join(pronouns)), data)\n",
    "\n",
    "        for word in words:\n",
    "           \n",
    "            if word.lower() != 'us':\n",
    "                count += 1\n",
    "\n",
    "    return count\n",
    "\n",
    "dataset_file = \"132.txt\"\n",
    "pronoun_count = count_personal_pronouns(dataset_file)\n",
    "print(\"Number of personal pronouns mentioned:\", pronoun_count)\n"
   ]
  },
  {
   "cell_type": "code",
   "execution_count": null,
   "id": "09257261",
   "metadata": {},
   "outputs": [],
   "source": []
  },
  {
   "cell_type": "code",
   "execution_count": null,
   "id": "1acc297a",
   "metadata": {},
   "outputs": [],
   "source": []
  },
  {
   "cell_type": "code",
   "execution_count": null,
   "id": "2d42d665",
   "metadata": {},
   "outputs": [],
   "source": []
  },
  {
   "cell_type": "code",
   "execution_count": null,
   "id": "e269079c",
   "metadata": {},
   "outputs": [],
   "source": []
  }
 ],
 "metadata": {
  "kernelspec": {
   "display_name": "Python 3 (ipykernel)",
   "language": "python",
   "name": "python3"
  },
  "language_info": {
   "codemirror_mode": {
    "name": "ipython",
    "version": 3
   },
   "file_extension": ".py",
   "mimetype": "text/x-python",
   "name": "python",
   "nbconvert_exporter": "python",
   "pygments_lexer": "ipython3",
   "version": "3.10.9"
  }
 },
 "nbformat": 4,
 "nbformat_minor": 5
}

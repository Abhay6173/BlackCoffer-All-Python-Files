{
 "cells": [
  {
   "cell_type": "code",
   "execution_count": 3,
   "id": "dcbed5d8",
   "metadata": {},
   "outputs": [
    {
     "name": "stdout",
     "output_type": "stream",
     "text": [
      "Requirement already satisfied: beautifulsoup4 in c:\\users\\yg\\anaconda3\\lib\\site-packages (4.11.1)\n",
      "Requirement already satisfied: soupsieve>1.2 in c:\\users\\yg\\anaconda3\\lib\\site-packages (from beautifulsoup4) (2.3.2.post1)\n",
      "Requirement already satisfied: requests in c:\\users\\yg\\anaconda3\\lib\\site-packages (2.28.1)\n",
      "Requirement already satisfied: charset-normalizer<3,>=2 in c:\\users\\yg\\anaconda3\\lib\\site-packages (from requests) (2.0.4)\n",
      "Requirement already satisfied: certifi>=2017.4.17 in c:\\users\\yg\\anaconda3\\lib\\site-packages (from requests) (2022.12.7)\n",
      "Requirement already satisfied: urllib3<1.27,>=1.21.1 in c:\\users\\yg\\anaconda3\\lib\\site-packages (from requests) (1.26.14)\n",
      "Requirement already satisfied: idna<4,>=2.5 in c:\\users\\yg\\anaconda3\\lib\\site-packages (from requests) (3.4)\n"
     ]
    }
   ],
   "source": [
    "!pip install beautifulsoup4\n",
    "!pip install requests\n",
    "import sys\n",
    "import time \n",
    "from bs4 import BeautifulSoup\n",
    "import requests\n",
    "try:\n",
    "    \n",
    "    \n",
    "    page=requests.get('https://insights.blackcoffer.com/impact-of-covid-19coronavirus-on-the-indian-economy-2/')\n",
    "    \n",
    "    \n",
    "except Exception as e:\n",
    "    error_type, error_obj, error_info = sys.exc_info()\n",
    "    print('Error for link :',url)\n",
    "    print(error_type,'Line :',error_info.tb_lineno)\n",
    "    \n",
    "    \n",
    "time.sleep(2)\n",
    "soup=BeautifulSoup(page.text,'html.parser')\n",
    "links=soup.find_all('h1',attrs={'class':'entry-title'})   \n"
   ]
  },
  {
   "cell_type": "code",
   "execution_count": 4,
   "id": "c05a20d6",
   "metadata": {},
   "outputs": [
    {
     "name": "stdout",
     "output_type": "stream",
     "text": [
      "Impact of coronavirus on the Indian economy\n",
      "\n",
      "\n"
     ]
    }
   ],
   "source": [
    "for i in links:\n",
    "    print(i.text)\n",
    "    print(\"\\n\")"
   ]
  },
  {
   "cell_type": "code",
   "execution_count": 5,
   "id": "03dca95f",
   "metadata": {},
   "outputs": [
    {
     "name": "stdout",
     "output_type": "stream",
     "text": [
      "\n",
      "Nathan Wolfe Impact once said “There\n",
      "are commonalities among all the pandemics that occur and what we can learn from\n",
      "them. One commonality is that it comes from animals and the other one is that\n",
      "we wait too long.”\n",
      "In the year 1720\n",
      "plague, in the year 1820 cholera outbreak and the most recent pandemic was the\n",
      "Spanish flu of 1920. The researchers said that all of these pandemics above\n",
      "have exactly the same pattern as the coronavirus outbreak. However, the\n",
      "precision with which these pandemics occur at exactly 100 years of age makes us\n",
      "think better about this topic. \n",
      "Coronavirus disease (COVID-19) is one such infectious disease that has been declared a global pandemic by WHO. Most people infected with the COVID-19 virus experience mild to moderate illness and recover without requiring special treatment.  Older people, and those with underlying medical problems like cardiovascular disease, diabetes, chronic respiratory disease, and cancer are more likely to develop serious illnesses. The best way to prevent and slow down transmission is to be well informed about the COVID-19 virus, the disease it causes and how it spreads. People can protect themselves and others from infection by washing their hands or using an alcohol-based sanitizer frequently and by not touching their face. \n",
      "The COVID-19 virus spreads primarily through\n",
      "droplets of saliva or discharge from the nose when an infected person coughs or\n",
      "sneezes, so it’s important that you also practice respiratory etiquettes (for\n",
      "example, by coughing into a flexed elbow, etc). At this time, there are no\n",
      "specific vaccines or treatments for COVID-19. However, there are many ongoing\n",
      "clinical trials evaluating potential treatments.\n",
      "The first case of this pandemic in India was\n",
      "reported on January 30th,2020. After which it has increased\n",
      "substantially around the country to such an extent that the Indian Prime\n",
      "Minister announced a 21-day lockdown around the country.\n",
      "Rating agencies, both global and domestic, are unanimous that the COVID-19 pandemic will be an economic tsunami for India. Even though the country may not slip into a recession, unlike the Eurozone, the US, or Asia-Pacific that have stronger trade ties to China, analysts believe the impact on India’s GDP growth will be significant. The fallout of the move will spill over to the financial year 2021, which begins on April 1. \n",
      "Moody’s Investors Service, on March 27, sharply slashed its projection for India’s GDP growth in the calendar year 2020 from 5.3% to 2.5%. The markdown was the second in 10 days and came after prime minister Narendra Modi announced the 21-day lockdown. In its Global Macro Outlook 2020-21, Moody’s cited severe liquidity constraints in India’s banking and non-banking sectors as a hindrance to growth. The agency’s forecast for the global economy was even more stark—a contraction of 0.5% in the ongoing financial year.\n",
      "“Lower business volumes and occupancies, and\n",
      "sub-optimal efficiencies will impact the profitability of companies. While some\n",
      "affected companies may initiate cost-curtailment measures, these may not be\n",
      "enough given their high fixed costs. That could impair their credit files,”\n",
      "says Subodh Rai, senior director, CRISIL.\n",
      " Neeraj Kumar, a migrant worker, decided to\n",
      "flee. He and his family joined a throng of people leaving the city soon after the\n",
      "lockdown announcement was made. Public transport systems were stopped, leaving\n",
      "people with no choice but to walk. Mr. Kumar, his wife, and their 10-year-old\n",
      "daughter had already walked more than 40km (24 miles) when we spoke to him.\n",
      "“There is no work here, that is why we are running away. There are no\n",
      "buses, I have to walk another 260km to get to my village,” he said.\n",
      "The situation of workers following the lockdown is no better. Mohammad Alam is one of the thousands of workers standing in a food queue in India’s capital, Delhi.\n",
      "The\n",
      "factory where he worked has shut down after Prime Minister Narendra Modi\n",
      "announced a 21-day lockdown to stop the spread of coronavirus.\n",
      "A daily-wage laborer, he has no other source of income, so he has been forced to come to a government center for food. “I don’t know how I will survive; I will have to borrow to feed my family,” he says.\n",
      "India has announced a $23bn (£18bn) relief package to help people like Mr. Alam and Mr. Kumar who are part of India’s unorganized, informal industry that employs 94% of the population and contributes 45% to its overall output. This industry is already bearing the brunt of the lockdown with thousands of finding themselves unemployed overnight. “No-one will be allowed to go hungry,” Finance Minister Nirmala Sitharaman said while announcing the package – a combination of direct cash transfer benefits and food security measures.\n",
      "But the economic fallout of this unprecedented lockdown has been dire. Businesses have closed, unemployment has risen and productivity has fallen. India’s growth engine was actually sputtering well before the threat of the outbreak arrived. Once one of the fastest-growing economies in the world, its growth slowed to 4.7% last year – the lowest level in six years.\n",
      "Unemployment was at a 45-year high last year. The industrial output from the eight-core sectors at the end of last year fell by 5.2% – the worst in 14 years. Small businesses had only just begun to recover from the controversial 2016 currency ban that came as a body blow to the cash-consuming informal economy. Now, experts say the coronavirus outbreak is likely to further cripple the already frail economy.\n",
      "There is little finance minister Nirmala Sitharaman and RBI governor Shatikanta Das can do if COVID-19 forces a virtual lockdown of commercial hubs in India, like it had done in China and has in Italy. Lights out in Mumbai and Delhi alone, the nerve centers of India, will cause great damage to the Indian economy. Indeed, COVID-19 can be a massive blow to the slowing Indian economy, particularly small business, the SME sector which had recently shown improvement since demonetization took place.\n",
      "This is a war-like situation for the Indian economy as the malls and theatres are empty. Schools are shut for contingencies and some states have even announced a complete shutdown of all services. So while most welcome the government’s measures, they feel much more is needed to be done to minimize the economic impact. “While free extra rations have been sanctioned, how will the poor access what is due to them?” wonders economist Arun Kumar.\n",
      "“The government should\n",
      "devise a way of using the army and state machinery to physically distribute\n",
      "food to the poor.” With thousands of migrant workers stuck miles away from\n",
      "their homes, the seamless distribution of cash and food needs to be the\n",
      "government’s top priority, he adds. And it’s not just migrant workers at risk.\n",
      "Farmers are also vulnerable to a potential economic shock from the lockdown –\n",
      "the agriculture industry contributes nearly $265bn to GDP. The\n",
      "government says it will give farmers 2,000 rupees ($30) in April as an advance\n",
      "payment from an $80 annual pay-out to tide over the situation.\n",
      "“This money will be inadequate because exports have stopped. Prices\n",
      "in cities will rise because of profiteering and in rural areas they will drop\n",
      "because farmers won’t be able to sell their crop,” says economist Arun\n",
      "Kumar. The outbreak has happened at a critical farming time – the new crop is\n",
      "ready, waiting to be sold. \n",
      "Economists warn India’s challenge will be in transporting this food from\n",
      "villages to cities in the midst of the lockdown. If supply chains don’t work\n",
      "properly, a lot of food will be wasted and lead to massive losses for Indian\n",
      "farmers. Experts warn that India is also at the brink of a major unemployment\n",
      "crisis. Economist Vivek Kaul says people who work for small businesses may end\n",
      "up with job and salary losses. “I know of places where companies are\n",
      "actively discussing how many people they need to fire,” he says and that’s\n",
      "not all. \n",
      "While no sector is immune to COVID-19 disruption, some are more vulnerable. The tourism industry will see greater disruptions. The World Travel and Tourism Council calculated that tourism generated 9.2% of the GDP and supported 42.673 million jobs. Tourism dependent states like Kerala, Karnataka earn huge forex but if the disease continues many operators will be forced to go out of the business.\n",
      "In the exports industry While the gloom and doom surrounding COVID-19 are palpable, the crisis might also throw up some great opportunities for India. There are already reports of several Western manufacturers looking at moving their factories out of China. Many Indian chemical producers have gone on record at having received inquiries from Western manufacturers who earlier never used to look towards India as a source. Tapping these opportunities, however, will require some serious innovation on the policy front. Indian policymakers need to hunker down and plan economic assistance that will not only help India’s export sector survive the immediate crisis but also retain stability and resume growth in the medium to long-term.\n",
      "With flights suspended until mid-April, the shutdown is also\n",
      "bound to push India’s fast-growing aviation industry into peril. The Centre for\n",
      "Asia Pacific Aviation (CAPA) has assessed that the Indian aviation industry\n",
      "will post losses worth nearly $4bn this year. This will likely have a cascading\n",
      "effect, affecting the hospitality and tourism industries. Hotels and restaurant\n",
      "chains across the country are empty and are likely to remain so for several\n",
      "months, sparking worries of large-scale layoffs. The automobile industry, a key\n",
      "indicator of a country’s economic growth, has also been forced to hit the\n",
      "brakes – experts are estimating losses of nearly $2bn.\n",
      "So, is India’s relief package enough?\n",
      "Experts say it’s a drop in the ocean compared to bailouts in countries such as the US, China and Singapore The stimulus package constituting about 0.8 percent of FY20 GDP, is not at par to address the urgent needs of smaller businesses. Experts say that India definitely needs a larger stimulus package soon to help businesses this extraordinary crisis.\n",
      "Desperate times call for desperate measures. India has done well in containing this dangerous virus but should act swiftly and decisively, to protect its economy. Clearly there is a need for greater fiscal-monetary coordination to ensure an optimal policy response.\n",
      "\n",
      "Blackcoffer Insights 16:- Manan Batra(Delhi college of Arts and Commerce) and Akshat Mittal(Shri Guru Gobind Singh College Of Commerce,Delhi)\n",
      "\n",
      "\n",
      "\n"
     ]
    }
   ],
   "source": [
    "links=soup.find_all('div',attrs={'class':'td-post-content tagdiv-type'})\n",
    "for i in links:\n",
    "    print(i.text)\n",
    "    print(\"\\n\")"
   ]
  },
  {
   "cell_type": "code",
   "execution_count": 1,
   "id": "0a1e4736",
   "metadata": {},
   "outputs": [
    {
     "name": "stdout",
     "output_type": "stream",
     "text": [
      "Total positive score: 40\n"
     ]
    }
   ],
   "source": [
    "def count_positive_words(main_dataset_file, positive_words_file):\n",
    "    \n",
    "    \n",
    "\n",
    "    with open(main_dataset_file, 'r', encoding='utf-8') as main_file:\n",
    "        main_data = main_file.read()\n",
    "\n",
    "   \n",
    "    with open(positive_words_file, 'r', encoding='utf-8') as positive_file:\n",
    "        positive_words = positive_file.read().splitlines()\n",
    "\n",
    "    \n",
    "    words = main_data.split()\n",
    "\n",
    "    \n",
    "    count = 0\n",
    "\n",
    "   \n",
    "    for word in words:\n",
    "      \n",
    "        if word in positive_words:\n",
    "            count += 1\n",
    "\n",
    "    \n",
    "    print(\"Total positive score:\", count)\n",
    "\n",
    "\n",
    "main_dataset_file = '122.txt'\n",
    "positive_words_file = 'positive.txt'\n",
    "\n",
    "\n",
    "count_positive_words(main_dataset_file, positive_words_file)\n"
   ]
  },
  {
   "cell_type": "code",
   "execution_count": 2,
   "id": "80f3e98f",
   "metadata": {},
   "outputs": [
    {
     "name": "stdout",
     "output_type": "stream",
     "text": [
      "Total positive score: 51\n"
     ]
    }
   ],
   "source": [
    "def count_positive_words(main_dataset_file, positive_words_file):\n",
    "    \n",
    "    \n",
    "\n",
    "    with open(main_dataset_file, 'r', encoding='latin-1') as main_file:\n",
    "        main_data = main_file.read()\n",
    "\n",
    "   \n",
    "    with open(positive_words_file, 'r', encoding='latin-1') as positive_file:\n",
    "        positive_words = positive_file.read().splitlines()\n",
    "\n",
    "    \n",
    "    words = main_data.split()\n",
    "\n",
    "    \n",
    "    count = 0\n",
    "\n",
    "   \n",
    "    for word in words:\n",
    "      \n",
    "        if word in positive_words:\n",
    "            count += 1\n",
    "\n",
    "    \n",
    "    print(\"Total positive score:\", count)\n",
    "\n",
    "\n",
    "main_dataset_file = '122.txt'\n",
    "positive_words_file = 'negative-words.txt'\n",
    "\n",
    "\n",
    "count_positive_words(main_dataset_file, positive_words_file)\n"
   ]
  },
  {
   "cell_type": "code",
   "execution_count": 3,
   "id": "c185178f",
   "metadata": {},
   "outputs": [
    {
     "name": "stdout",
     "output_type": "stream",
     "text": [
      "Total number of words: 1722\n"
     ]
    }
   ],
   "source": [
    "def count_total_words(dataset_file):\n",
    "   \n",
    "    with open(dataset_file, 'r', encoding='utf-8') as file:\n",
    "        content = file.read()\n",
    "\n",
    "    \n",
    "    words = content.split()\n",
    "\n",
    "    \n",
    "    total_words = len(words)\n",
    "\n",
    "    return total_words\n",
    "\n",
    "\n",
    "dataset_file = '122.txt'\n",
    "\n",
    "\n",
    "total_words = count_total_words(dataset_file)\n",
    "\n",
    "\n",
    "print(\"Total number of words:\", total_words)\n"
   ]
  },
  {
   "cell_type": "code",
   "execution_count": 4,
   "id": "d70b5842",
   "metadata": {},
   "outputs": [
    {
     "name": "stdout",
     "output_type": "stream",
     "text": [
      "Number of complex words: 185\n"
     ]
    }
   ],
   "source": [
    "import pyphen\n",
    "import re\n",
    "dataset_file = \"122.txt\"\n",
    "dictionary = pyphen.Pyphen(lang='en')\n",
    "def count_syllables(word):\n",
    "    return len(dictionary.inserted(word).split('-'))\n",
    "def count_complex_words(file):\n",
    "    complex_word_count = 0\n",
    "\n",
    "    with open(file, 'r', encoding='utf-8') as f:\n",
    "        data = f.read()\n",
    "        words = re.findall(r'\\b\\w+\\b', data)  \n",
    "\n",
    "        for word in words:\n",
    "            syllable_count = count_syllables(word)\n",
    "            if syllable_count > 2:\n",
    "                complex_word_count += 1\n",
    "\n",
    "    return complex_word_count\n",
    "complex_words_count = count_complex_words(dataset_file)\n",
    "print(\"Number of complex words:\", complex_words_count)\n",
    "\n",
    "\n",
    "\n"
   ]
  },
  {
   "cell_type": "code",
   "execution_count": 5,
   "id": "1232c1b9",
   "metadata": {},
   "outputs": [
    {
     "name": "stdout",
     "output_type": "stream",
     "text": [
      "Number of sentences: 86\n"
     ]
    }
   ],
   "source": [
    "import re\n",
    "def count_sentences(file):\n",
    "    with open(file, 'r', encoding='utf-8') as f:\n",
    "        data = f.read()\n",
    "        sentences = re.split(r'(?<!\\w\\.\\w.)(?<![A-Z][a-z]\\.)(?<=\\.|\\?)\\s', data)\n",
    "        sentence_count = len(sentences)\n",
    "\n",
    "    return sentence_count\n",
    "dataset_file = \"122.txt\"\n",
    "sentence_count = count_sentences(dataset_file)\n",
    "print(\"Number of sentences:\", sentence_count)"
   ]
  },
  {
   "cell_type": "code",
   "execution_count": 6,
   "id": "78f92869",
   "metadata": {},
   "outputs": [
    {
     "name": "stdout",
     "output_type": "stream",
     "text": [
      "Sum of total number of characters: 8852\n"
     ]
    }
   ],
   "source": [
    "def calculate_total_character_count(file):\n",
    "    total_character_count = 0\n",
    "\n",
    "    with open(file, 'r', encoding='utf-8') as f:\n",
    "        data = f.read()\n",
    "        words = data.split() \n",
    "\n",
    "        for word in words:\n",
    "            total_character_count += len(word)\n",
    "\n",
    "    return total_character_count\n",
    "dataset_file = \"122.txt\"\n",
    "character_count = calculate_total_character_count(dataset_file)\n",
    "print(\"Sum of total number of characters:\", character_count)\n"
   ]
  },
  {
   "cell_type": "code",
   "execution_count": 7,
   "id": "bab4215e",
   "metadata": {},
   "outputs": [
    {
     "name": "stdout",
     "output_type": "stream",
     "text": [
      "Total stop words present in data set: 784\n"
     ]
    }
   ],
   "source": [
    "def count_positive_words(main_dataset_file, positive_words_file):\n",
    "    \n",
    "    with open(main_dataset_file, 'r', encoding='utf-8') as main_file:\n",
    "        main_data = main_file.read()\n",
    "\n",
    "   \n",
    "    with open(positive_words_file, 'r', encoding='utf-8') as positive_file:\n",
    "        positive_words = positive_file.read().splitlines()\n",
    "\n",
    "    \n",
    "    words = main_data.split()\n",
    "\n",
    "    \n",
    "    count = 0\n",
    "\n",
    "   \n",
    "    for word in words:\n",
    "      \n",
    "        if word in positive_words:\n",
    "            count += 1\n",
    "\n",
    "    \n",
    "    print(\"Total stop words present in data set:\", count)\n",
    "\n",
    "\n",
    "main_dataset_file = '122.txt'\n",
    "positive_words_file = 'all-stop-words.txt'\n",
    "\n",
    "\n",
    "count_positive_words(main_dataset_file, positive_words_file)"
   ]
  },
  {
   "cell_type": "code",
   "execution_count": 8,
   "id": "5e12ed7e",
   "metadata": {},
   "outputs": [
    {
     "name": "stdout",
     "output_type": "stream",
     "text": [
      "Total syllables in the dataset file: 2681\n"
     ]
    }
   ],
   "source": [
    "def count_syllables(word):\n",
    "    vowels = 'aeiouAEIOU'\n",
    "    exceptions = ['es', 'ed']\n",
    "    count = 0\n",
    "    prev_char_vowel = False\n",
    "\n",
    "    if word[-2:] in exceptions:\n",
    "        return count\n",
    "\n",
    "    for char in word:\n",
    "        if char in vowels:\n",
    "            if not prev_char_vowel:\n",
    "                count += 1\n",
    "            prev_char_vowel = True\n",
    "        else:\n",
    "            prev_char_vowel = False\n",
    "\n",
    "    return count\n",
    "\n",
    "def sum_syllables_in_file(file):\n",
    "    total_syllables = 0\n",
    "\n",
    "    with open(file, 'r', encoding='utf-8') as f:\n",
    "        data = f.read()\n",
    "        words = data.split()\n",
    "\n",
    "        for word in words:\n",
    "            total_syllables += count_syllables(word)\n",
    "\n",
    "    return total_syllables\n",
    "\n",
    "dataset_file = \"122.txt\"\n",
    "total_syllables = sum_syllables_in_file(dataset_file)\n",
    "print(\"Total syllables in the dataset file:\", total_syllables)\n"
   ]
  },
  {
   "cell_type": "code",
   "execution_count": 9,
   "id": "61d2d844",
   "metadata": {},
   "outputs": [
    {
     "name": "stdout",
     "output_type": "stream",
     "text": [
      "Number of personal pronouns mentioned: 11\n"
     ]
    }
   ],
   "source": [
    "import re\n",
    "\n",
    "def count_personal_pronouns(file):\n",
    "    pronouns = ['I', 'we', 'my', 'ours', 'us']\n",
    "    count = 0\n",
    "\n",
    "    with open(file, 'r', encoding='utf-8') as f:\n",
    "        data = f.read()\n",
    "        words = re.findall(r'\\b(?:{})\\b'.format('|'.join(pronouns)), data)\n",
    "\n",
    "        for word in words:\n",
    "            \n",
    "            if word.lower() != 'us':\n",
    "                count += 1\n",
    "\n",
    "    return count\n",
    "\n",
    "dataset_file = \"122.txt\"\n",
    "pronoun_count = count_personal_pronouns(dataset_file)\n",
    "print(\"Number of personal pronouns mentioned:\", pronoun_count)\n"
   ]
  },
  {
   "cell_type": "code",
   "execution_count": 10,
   "id": "d6e5bf1e",
   "metadata": {},
   "outputs": [
    {
     "name": "stdout",
     "output_type": "stream",
     "text": [
      "Total characters: 8852\n",
      "Total words: 1722\n",
      "Average word length: 5.140534262485482\n"
     ]
    }
   ],
   "source": [
    "def calculate_word_stats(file):\n",
    "    total_characters = 0\n",
    "    total_words = 0\n",
    "\n",
    "    with open(file, 'r', encoding='utf-8') as f:\n",
    "        data = f.read()\n",
    "        words = data.split()\n",
    "\n",
    "        for word in words:\n",
    "            total_characters += len(word)\n",
    "            total_words += 1\n",
    "\n",
    "    return total_characters, total_words\n",
    "\n",
    "dataset_file = \"122.txt\"\n",
    "char_count, word_count = calculate_word_stats(dataset_file)\n",
    "average_word_length = char_count / word_count if word_count != 0 else 0\n",
    "\n",
    "print(\"Total characters:\", char_count)\n",
    "print(\"Total words:\", word_count)\n",
    "print(\"Average word length:\", average_word_length)\n"
   ]
  },
  {
   "cell_type": "code",
   "execution_count": null,
   "id": "ded1b9ca",
   "metadata": {},
   "outputs": [],
   "source": []
  },
  {
   "cell_type": "code",
   "execution_count": null,
   "id": "a5f52742",
   "metadata": {},
   "outputs": [],
   "source": []
  },
  {
   "cell_type": "code",
   "execution_count": null,
   "id": "a9d01402",
   "metadata": {},
   "outputs": [],
   "source": []
  },
  {
   "cell_type": "code",
   "execution_count": null,
   "id": "540b1c32",
   "metadata": {},
   "outputs": [],
   "source": []
  }
 ],
 "metadata": {
  "kernelspec": {
   "display_name": "Python 3 (ipykernel)",
   "language": "python",
   "name": "python3"
  },
  "language_info": {
   "codemirror_mode": {
    "name": "ipython",
    "version": 3
   },
   "file_extension": ".py",
   "mimetype": "text/x-python",
   "name": "python",
   "nbconvert_exporter": "python",
   "pygments_lexer": "ipython3",
   "version": "3.10.9"
  }
 },
 "nbformat": 4,
 "nbformat_minor": 5
}

{
 "cells": [
  {
   "cell_type": "code",
   "execution_count": 6,
   "id": "712e10d2",
   "metadata": {},
   "outputs": [
    {
     "name": "stdout",
     "output_type": "stream",
     "text": [
      "Requirement already satisfied: beautifulsoup4 in c:\\users\\yg\\anaconda3\\lib\\site-packages (4.11.1)\n",
      "Requirement already satisfied: soupsieve>1.2 in c:\\users\\yg\\anaconda3\\lib\\site-packages (from beautifulsoup4) (2.3.2.post1)\n",
      "Requirement already satisfied: requests in c:\\users\\yg\\anaconda3\\lib\\site-packages (2.28.1)\n",
      "Requirement already satisfied: idna<4,>=2.5 in c:\\users\\yg\\anaconda3\\lib\\site-packages (from requests) (3.4)\n",
      "Requirement already satisfied: certifi>=2017.4.17 in c:\\users\\yg\\anaconda3\\lib\\site-packages (from requests) (2022.12.7)\n",
      "Requirement already satisfied: charset-normalizer<3,>=2 in c:\\users\\yg\\anaconda3\\lib\\site-packages (from requests) (2.0.4)\n",
      "Requirement already satisfied: urllib3<1.27,>=1.21.1 in c:\\users\\yg\\anaconda3\\lib\\site-packages (from requests) (1.26.14)\n"
     ]
    }
   ],
   "source": [
    "!pip install beautifulsoup4\n",
    "!pip install requests\n",
    "import sys\n",
    "import time \n",
    "from bs4 import BeautifulSoup\n",
    "import requests\n",
    "try:\n",
    "    \n",
    "    \n",
    "    page=requests.get('https://insights.blackcoffer.com/impact-of-covid-19-on-the-global-economy-2/')\n",
    "    \n",
    "    \n",
    "except Exception as e:\n",
    "    error_type, error_obj, error_info = sys.exc_info()\n",
    "    print('Error for link :',url)\n",
    "    print(error_type,'Line :',error_info.tb_lineno)\n",
    "    \n",
    "    \n",
    "time.sleep(2)\n",
    "soup=BeautifulSoup(page.text,'html.parser')\n",
    "links=soup.find_all('h1',attrs={'class':'entry-title'})   \n"
   ]
  },
  {
   "cell_type": "code",
   "execution_count": 7,
   "id": "b23e25c8",
   "metadata": {},
   "outputs": [
    {
     "name": "stdout",
     "output_type": "stream",
     "text": [
      "Global Economy effected by Coronavirus\n",
      "\n",
      "\n"
     ]
    }
   ],
   "source": [
    "for i in links:\n",
    "    print(i.text)\n",
    "    print(\"\\n\")"
   ]
  },
  {
   "cell_type": "code",
   "execution_count": 8,
   "id": "e80e0596",
   "metadata": {},
   "outputs": [
    {
     "name": "stdout",
     "output_type": "stream",
     "text": [
      "\n",
      "INTRODUCTION\n",
      "Coronavirus disease  (COVID-19)  is an infectious disease caused by a  newly discovered coronavirus.\n",
      "Most people infected with this COVID-19 virus will experience mild to moderate respiratory disease and recover without requiring special treatment. Older age people and those with underlying medical problems like cardiovascular disease, diabetes, chronic respiratory disease, and cancer are more likely to develop serious illness.\n",
      "The best way to prevent and slow down transmission is well informed about the COVID-19  virus,  the disease it causes and how it spreads.  Protect yourself and others from infection by washing your hands or using an alcohol-based rub frequently and not touching your face.\n",
      "The  COVID-19  virus spreads primarily through droplets of saliva or discharges from the nose when an infected person suffering from coughs or sneezes, so it is important that you also practice respiratory etiquette  (for example,  by coughing into a flexed elbow).\n",
      "At this time, there are no specific vaccines or treatments for this virus. However, there are many ongoing clinical trials calculating potential treatments. Which will continue to provide regular basis information as soon as clinical findings become available\n",
      "IMPACT\n",
      "The emergence of COVID-19 is a tragic public-health emergency. The disease, one hopes, will be brought under control quickly, but the International Monetary Fund is already warning that economic growth in  China may slow.  As we watch the situation unfold, three broader risks to the global economy are also becoming more apparent and clear.\n",
      "The first risk is obviously in China itself. While the precise\n",
      "origins of the disease remain unclear, it is hard to take a definite view on\n",
      "whether outbreaks of this kind could be avoided – for example, by better\n",
      "control over hygiene in food markets. But it is painfully obvious that a lack\n",
      "of transparency in China has contributed to fear and even signs of panic around\n",
      "the world.\n",
      "As financial markets go down in 2007-2008, when the precise incidence of big risks is not well understood, people tend to assume the worse. Rapidly falling asset prices may not contain much information–except that there is not much information to be had.\n",
      "The Chinese\n",
      "authorities surely do not have all the answers at this point, but their\n",
      "inclination to suppress data and interpretation is tremendously unhelpful.\n",
      "Second, the lack of American leadership is more painfully apparent every day. The United States has the strongest medical-health system and facilities in the world, with the capacity for research and development  (government and private)  that is second to none.  Yet  President  Donald  Trump’s administration seems to be concerned primarily with playing down the risks while keeping the virus out of the United States of America – a nearly impossible task.\n",
      "The private sector is working hard on a  vaccine,  and this is commendable. Unfortunately,  over a  longer period of time,  the lack of a  consistent market for such vaccines has undermined investment in this sector. By creating the world’s largest market for many drugs, the US effectively supports research across a wide range of ailments – but only those for which there is large and steady demand in the US.\n",
      "Even the most fervent believer in  Trump’s  “America  First”  must be willing to concede that it is not in America’s interest for the rest of the world to become sick. These are US allies, friends, and customers. Also, like it or not, few diseases will stop at  America’s borders.  Indeed,  the  US  Centers for  Disease  Control and Prevention (CDC) has said that the question is not if, but rather when, COVID-19 spreads domestically.\n",
      "The third risk is in emerging markets and developing countries. Poorer countries are ill-equipped to deal with this kind of disease,  as seen in  African countries’ refusal to airlift their citizens from China.\n",
      "The news that the coronavirus has reached  Italy has shaken world financial markets,  but  Italy is a  relatively well-organized and rich country. A vibrant democracy ensures that people will quickly understand if containment and treatment measures are working.\n",
      "We should be much more concerned about other countries, where nutrition is worse, housing standards are weak, and disease transmission can occur much more readily. If these countries’ health systems come under pressure, the US, Europe, and others should step up quickly with technical assistance and essential supplies. But here, too, there is so far a worrying lack of leadership.\n",
      "It seems unlikely that this disease will prove to be as deadly as some of those that our ancestors experienced. Medical practice and public health have advanced a great deal. The  CDC  is an outstanding organization,  and the  World  Health Organization has a  strong track record when the chips are down. Private-sector groups of dedicated doctors and nurses have performed extraordinarily well under the most difficult circumstances, such as dealing with Ebola, when they are given a chance. We are fortunate to live in an age that has so many heroic people.\n",
      "Still, this coronavirus is a warning. Societies neglect access\n",
      "to health-care systems and reduce investments in Research and development at\n",
      "great peril. Diseases are always evolving, and we must continually increase our\n",
      "capacity to understand and fight newly emerging threats.\n",
      "The best way forward is by strengthening science, training more scientists, and building more labs. Countries that are able to do this like the US should share ideas and knowledge as widely as possible.\n",
      "Investing more in science is an appealing economic proposition. Given very high rates  of  social  return, basic  research  across a wide range of  activities more  than pays for itself\n",
      "But this is not about economics. More likely than not, one day a scientist will save your life or the life of a loved one because his or her previous work produced a drug, treatment, or just an idea that made a critical difference. We should invest in scientists to save ourselves and our neighbors. Also, we must remember that we have neighbors all over our deeply interconnected world.\n",
      "Global\n",
      "shares take a hit\n",
      "Big shifts in stock markets,  where shares in companies are bought and sold,  can affect many investments in pensions or individual savings accounts (ISAs).\n",
      "The\n",
      "FTSE, Dow Jones Industrial Average and the Nikkei have all seen huge falls\n",
      "since the outbreak began on 31 December.\n",
      "The Dow and the FTSE recently saw their biggest one-day declines since 1987.\n",
      "\n",
      "Investors\n",
      "fear the spread of the coronavirus will destroy economic growth and that\n",
      "government action may not be enough to stop the decline.\n",
      "In\n",
      "response, central banks in many countries, including the United Kingdom, have\n",
      "slashed interest rates.\n",
      "That should, in theory, make borrowing cheaper and\n",
      "encourage spending to boost the economy.\n",
      "Global\n",
      "markets did also recover some ground after the US Senate passed a $2 trillion\n",
      "(£1.7tn) coronavirus aid bill to help workers and businesses.\n",
      "But\n",
      "some analysts have warned that they could be volatile until the pandemic is\n",
      "contained.\n",
      "INDIAN ECONOMY\n",
      "India faces a sharp decline in government revenues and economic growth for at least two quarters as the coronavirus hits economic activity and a fall in investor sentiment impacts privatization plans,  government and industry sources said.\n",
      "Officially, the government is still sticking to the target of achieving 6-6.5% in the next financial year beginning  April, while hoping that a  fall in crude oil prices could help it garner more revenue and contain a  fall in revenue from other sectors but economists and bankers are turning increasingly downbeat about India’s economic prospects, especially as the government is betting on filling its coffers through ill-timed asset sales. We are going to miss the revised revenue targets for the current fiscal year, and will have to lower next year’s targets as well,” said a senior government official with direct knowledge of budget estimates.\n",
      "He said receipts from much-delayed privatization of  India’s second-biggest oil refiner, Bharat Petroleum Corp, could be lower by at least $2 billion against initial estimates. The company’s share prices have fallen by over 27% since January while the broader  NSE  Nifty 50 index has fallen by nearly  20%  following a  panic in global markets.\n",
      "On\n",
      "Wednesday, the government suspended almost all visas to the country till April\n",
      "15  to prevent the spread of coronavirus as cases across the region continue to rise. Total cases in the country rose to 73 on Thursday, according to the government. Another senior finance ministry official said some of the proposed share-shale plans in companies like Coal  India, Steel Authority of  India  Ltd (SAIL), NMDC and IRCON have been deferred. The government now expects to raise about Rs 50,000 crore ($6.75 billion) against the downwardly revised target of Rs\n",
      "65,000  crore for the ongoing financial year ending in  March, the official said. Another senior official in the tax department said receipts have been hit due to a fall in consumer demand as reflected in the lower sales of autos, passenger traffic, hotel bookings, and retail sales.\n",
      "Tour  operators  estimate  January-March  quarter earnings could  fall  by  more  than\n",
      "60%  from a  year ago as hundreds of thousands of tourists cancel travel,  hitting hotels,  airlines and tax collection for the federal and state governments. India attracts nearly one million foreign tourists a month, and the travel restrictions could impact for the next few months. The situation in India was still far better compared to some other countries hit by a global pandemic, Sarkar said.\n",
      "India annually earns nearly  $30  billion from foreign tourist arrivals,  and the industry is worried that a global spread of the virus will harm already weakened economic growth.\n",
      "\n",
      "As this situation will take time to recover and economy not only of India but globally is in a recession it up to government how they come up with their measure.\n",
      "If we look at recent action of US FED and other countries step it took a thought that this pressure is deeper than it looks like and this situation is very different than that happen in 2008 crisis or that in 1998 as that time none of the factories are closed but this time work has been stoped and more importantly economy from past 1 year is facing slow down in many sectors so this will impact small companies badly.\n",
      "But if we think in another way there will be a shift in a lot of pattern like people will now go for short term investment in the stock market due to uncertainty of life, Insurance stocks will be benefited, logistics & distribution network will totally change as factories will now try to procure material from nearest location and there will be an increase in the personal saving of people because of which automakers and real estate sector may be hit hard.\n",
      "If we estimate, it will take around 1 year to get back in a track from now and all this will happen if the government and central bank continuously come up with relief measure  \n",
      "Blackcoffer Insights 16:- Vishant Agrawal, IBS Gurgaon\n",
      "\n",
      "\n",
      "\n"
     ]
    }
   ],
   "source": [
    "links=soup.find_all('div',attrs={'class':'td-post-content tagdiv-type'})\n",
    "for i in links:\n",
    "    print(i.text)\n",
    "    print(\"\\n\")"
   ]
  },
  {
   "cell_type": "code",
   "execution_count": 10,
   "id": "4dac0173",
   "metadata": {},
   "outputs": [
    {
     "name": "stdout",
     "output_type": "stream",
     "text": [
      "Total positive score: 50\n"
     ]
    }
   ],
   "source": [
    "def count_positive_words(main_dataset_file, positive_words_file):\n",
    "    \n",
    "    \n",
    "\n",
    "    with open(main_dataset_file, 'r', encoding='utf-8') as main_file:\n",
    "        main_data = main_file.read()\n",
    "\n",
    "   \n",
    "    with open(positive_words_file, 'r', encoding='utf-8') as positive_file:\n",
    "        positive_words = positive_file.read().splitlines()\n",
    "\n",
    "    \n",
    "    words = main_data.split()\n",
    "\n",
    "    \n",
    "    count = 0\n",
    "\n",
    "   \n",
    "    for word in words:\n",
    "      \n",
    "        if word in positive_words:\n",
    "            count += 1\n",
    "\n",
    "    \n",
    "    print(\"Total positive score:\", count)\n",
    "\n",
    "\n",
    "main_dataset_file = '123.txt'\n",
    "positive_words_file = 'positive.txt'\n",
    "\n",
    "\n",
    "count_positive_words(main_dataset_file, positive_words_file)\n"
   ]
  },
  {
   "cell_type": "code",
   "execution_count": 11,
   "id": "07c80280",
   "metadata": {},
   "outputs": [
    {
     "name": "stdout",
     "output_type": "stream",
     "text": [
      "Total positive score: 67\n"
     ]
    }
   ],
   "source": [
    "def count_positive_words(main_dataset_file, positive_words_file):\n",
    "    \n",
    "    \n",
    "\n",
    "    with open(main_dataset_file, 'r', encoding='latin-1') as main_file:\n",
    "        main_data = main_file.read()\n",
    "\n",
    "   \n",
    "    with open(positive_words_file, 'r', encoding='latin-1') as positive_file:\n",
    "        positive_words = positive_file.read().splitlines()\n",
    "\n",
    "    \n",
    "    words = main_data.split()\n",
    "\n",
    "    \n",
    "    count = 0\n",
    "\n",
    "   \n",
    "    for word in words:\n",
    "      \n",
    "        if word in positive_words:\n",
    "            count += 1\n",
    "\n",
    "    \n",
    "    print(\"Total positive score:\", count)\n",
    "\n",
    "\n",
    "main_dataset_file = '123.txt'\n",
    "positive_words_file = 'negative-words.txt'\n",
    "\n",
    "\n",
    "count_positive_words(main_dataset_file, positive_words_file)\n"
   ]
  },
  {
   "cell_type": "code",
   "execution_count": 12,
   "id": "b36ebbf9",
   "metadata": {},
   "outputs": [
    {
     "name": "stdout",
     "output_type": "stream",
     "text": [
      "Total number of words: 1814\n"
     ]
    }
   ],
   "source": [
    "def count_total_words(dataset_file):\n",
    "   \n",
    "    with open(dataset_file, 'r', encoding='utf-8') as file:\n",
    "        content = file.read()\n",
    "\n",
    "    \n",
    "    words = content.split()\n",
    "\n",
    "    \n",
    "    total_words = len(words)\n",
    "\n",
    "    return total_words\n",
    "\n",
    "\n",
    "dataset_file = '123.txt'\n",
    "\n",
    "\n",
    "total_words = count_total_words(dataset_file)\n",
    "\n",
    "\n",
    "print(\"Total number of words:\", total_words)\n"
   ]
  },
  {
   "cell_type": "code",
   "execution_count": 13,
   "id": "0b9ffbcf",
   "metadata": {},
   "outputs": [
    {
     "name": "stdout",
     "output_type": "stream",
     "text": [
      "Number of complex words: 258\n"
     ]
    }
   ],
   "source": [
    "import pyphen\n",
    "import re\n",
    "dataset_file = \"117.txt\"\n",
    "dictionary = pyphen.Pyphen(lang='en')\n",
    "def count_syllables(word):\n",
    "    return len(dictionary.inserted(word).split('-'))\n",
    "def count_complex_words(file):\n",
    "    complex_word_count = 0\n",
    "\n",
    "    with open(file, 'r', encoding='utf-8') as f:\n",
    "        data = f.read()\n",
    "        words = re.findall(r'\\b\\w+\\b', data)  \n",
    "\n",
    "        for word in words:\n",
    "            syllable_count = count_syllables(word)\n",
    "            if syllable_count > 2:\n",
    "                complex_word_count += 1\n",
    "\n",
    "    return complex_word_count\n",
    "complex_words_count = count_complex_words(dataset_file)\n",
    "print(\"Number of complex words:\", complex_words_count)\n",
    "\n",
    "\n",
    "\n"
   ]
  },
  {
   "cell_type": "code",
   "execution_count": 14,
   "id": "22bfd771",
   "metadata": {},
   "outputs": [
    {
     "name": "stdout",
     "output_type": "stream",
     "text": [
      "Number of sentences: 75\n"
     ]
    }
   ],
   "source": [
    "import re\n",
    "def count_sentences(file):\n",
    "    with open(file, 'r', encoding='utf-8') as f:\n",
    "        data = f.read()\n",
    "        sentences = re.split(r'(?<!\\w\\.\\w.)(?<![A-Z][a-z]\\.)(?<=\\.|\\?)\\s', data)\n",
    "        sentence_count = len(sentences)\n",
    "\n",
    "    return sentence_count\n",
    "dataset_file = \"123.txt\"\n",
    "sentence_count = count_sentences(dataset_file)\n",
    "print(\"Number of sentences:\", sentence_count)"
   ]
  },
  {
   "cell_type": "code",
   "execution_count": 15,
   "id": "d71cd77c",
   "metadata": {},
   "outputs": [
    {
     "name": "stdout",
     "output_type": "stream",
     "text": [
      "Sum of total number of characters: 9306\n"
     ]
    }
   ],
   "source": [
    "def calculate_total_character_count(file):\n",
    "    total_character_count = 0\n",
    "\n",
    "    with open(file, 'r', encoding='utf-8') as f:\n",
    "        data = f.read()\n",
    "        words = data.split() \n",
    "\n",
    "        for word in words:\n",
    "            total_character_count += len(word)\n",
    "\n",
    "    return total_character_count\n",
    "dataset_file = \"123.txt\"\n",
    "character_count = calculate_total_character_count(dataset_file)\n",
    "print(\"Sum of total number of characters:\", character_count)\n"
   ]
  },
  {
   "cell_type": "code",
   "execution_count": 16,
   "id": "ec43f004",
   "metadata": {},
   "outputs": [
    {
     "name": "stdout",
     "output_type": "stream",
     "text": [
      "Total stop words present in data set: 852\n"
     ]
    }
   ],
   "source": [
    "def count_positive_words(main_dataset_file, positive_words_file):\n",
    "    \n",
    "    with open(main_dataset_file, 'r', encoding='utf-8') as main_file:\n",
    "        main_data = main_file.read()\n",
    "\n",
    "   \n",
    "    with open(positive_words_file, 'r', encoding='utf-8') as positive_file:\n",
    "        positive_words = positive_file.read().splitlines()\n",
    "\n",
    "    \n",
    "    words = main_data.split()\n",
    "\n",
    "    \n",
    "    count = 0\n",
    "\n",
    "   \n",
    "    for word in words:\n",
    "      \n",
    "        if word in positive_words:\n",
    "            count += 1\n",
    "\n",
    "    \n",
    "    print(\"Total stop words present in data set:\", count)\n",
    "\n",
    "\n",
    "main_dataset_file = '123.txt'\n",
    "positive_words_file = 'all-stop-words.txt'\n",
    "\n",
    "\n",
    "count_positive_words(main_dataset_file, positive_words_file)"
   ]
  },
  {
   "cell_type": "code",
   "execution_count": 17,
   "id": "565ed3fb",
   "metadata": {},
   "outputs": [
    {
     "name": "stdout",
     "output_type": "stream",
     "text": [
      "Total syllables in the dataset file: 2843\n"
     ]
    }
   ],
   "source": [
    "def count_syllables(word):\n",
    "    vowels = 'aeiouAEIOU'\n",
    "    exceptions = ['es', 'ed']\n",
    "    count = 0\n",
    "    prev_char_vowel = False\n",
    "\n",
    "    if word[-2:] in exceptions:\n",
    "        return count\n",
    "\n",
    "    for char in word:\n",
    "        if char in vowels:\n",
    "            if not prev_char_vowel:\n",
    "                count += 1\n",
    "            prev_char_vowel = True\n",
    "        else:\n",
    "            prev_char_vowel = False\n",
    "\n",
    "    return count\n",
    "\n",
    "def sum_syllables_in_file(file):\n",
    "    total_syllables = 0\n",
    "\n",
    "    with open(file, 'r', encoding='utf-8') as f:\n",
    "        data = f.read()\n",
    "        words = data.split()\n",
    "\n",
    "        for word in words:\n",
    "            total_syllables += count_syllables(word)\n",
    "\n",
    "    return total_syllables\n",
    "\n",
    "dataset_file = \"123.txt\"\n",
    "total_syllables = sum_syllables_in_file(dataset_file)\n",
    "print(\"Total syllables in the dataset file:\", total_syllables)\n"
   ]
  },
  {
   "cell_type": "code",
   "execution_count": 18,
   "id": "0f41d98b",
   "metadata": {},
   "outputs": [
    {
     "name": "stdout",
     "output_type": "stream",
     "text": [
      "Number of personal pronouns mentioned: 7\n"
     ]
    }
   ],
   "source": [
    "import re\n",
    "\n",
    "def count_personal_pronouns(file):\n",
    "    pronouns = ['I', 'we', 'my', 'ours', 'us']\n",
    "    count = 0\n",
    "\n",
    "    with open(file, 'r', encoding='utf-8') as f:\n",
    "        data = f.read()\n",
    "        words = re.findall(r'\\b(?:{})\\b'.format('|'.join(pronouns)), data)\n",
    "\n",
    "        for word in words:\n",
    "            \n",
    "            if word.lower() != 'us':\n",
    "                count += 1\n",
    "\n",
    "    return count\n",
    "\n",
    "dataset_file = \"123.txt\"\n",
    "pronoun_count = count_personal_pronouns(dataset_file)\n",
    "print(\"Number of personal pronouns mentioned:\", pronoun_count)\n"
   ]
  },
  {
   "cell_type": "code",
   "execution_count": 19,
   "id": "f0b89eba",
   "metadata": {},
   "outputs": [
    {
     "name": "stdout",
     "output_type": "stream",
     "text": [
      "Total characters: 9306\n",
      "Total words: 1814\n",
      "Average word length: 5.130099228224918\n"
     ]
    }
   ],
   "source": [
    "def calculate_word_stats(file):\n",
    "    total_characters = 0\n",
    "    total_words = 0\n",
    "\n",
    "    with open(file, 'r', encoding='utf-8') as f:\n",
    "        data = f.read()\n",
    "        words = data.split()\n",
    "\n",
    "        for word in words:\n",
    "            total_characters += len(word)\n",
    "            total_words += 1\n",
    "\n",
    "    return total_characters, total_words\n",
    "\n",
    "dataset_file = \"123.txt\"\n",
    "char_count, word_count = calculate_word_stats(dataset_file)\n",
    "average_word_length = char_count / word_count if word_count != 0 else 0\n",
    "\n",
    "print(\"Total characters:\", char_count)\n",
    "print(\"Total words:\", word_count)\n",
    "print(\"Average word length:\", average_word_length)\n"
   ]
  },
  {
   "cell_type": "code",
   "execution_count": null,
   "id": "9f46a04b",
   "metadata": {},
   "outputs": [],
   "source": []
  },
  {
   "cell_type": "code",
   "execution_count": null,
   "id": "2247f292",
   "metadata": {},
   "outputs": [],
   "source": []
  }
 ],
 "metadata": {
  "kernelspec": {
   "display_name": "Python 3 (ipykernel)",
   "language": "python",
   "name": "python3"
  },
  "language_info": {
   "codemirror_mode": {
    "name": "ipython",
    "version": 3
   },
   "file_extension": ".py",
   "mimetype": "text/x-python",
   "name": "python",
   "nbconvert_exporter": "python",
   "pygments_lexer": "ipython3",
   "version": "3.10.9"
  }
 },
 "nbformat": 4,
 "nbformat_minor": 5
}

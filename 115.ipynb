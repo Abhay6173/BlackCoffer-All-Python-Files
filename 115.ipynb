{
 "cells": [
  {
   "cell_type": "code",
   "execution_count": 1,
   "id": "e8889f42",
   "metadata": {},
   "outputs": [
    {
     "name": "stdout",
     "output_type": "stream",
     "text": [
      "Requirement already satisfied: beautifulsoup4 in c:\\users\\yg\\anaconda3\\lib\\site-packages (4.11.1)\n",
      "Requirement already satisfied: soupsieve>1.2 in c:\\users\\yg\\anaconda3\\lib\\site-packages (from beautifulsoup4) (2.3.2.post1)\n",
      "Requirement already satisfied: requests in c:\\users\\yg\\anaconda3\\lib\\site-packages (2.28.1)\n",
      "Requirement already satisfied: urllib3<1.27,>=1.21.1 in c:\\users\\yg\\anaconda3\\lib\\site-packages (from requests) (1.26.14)\n",
      "Requirement already satisfied: idna<4,>=2.5 in c:\\users\\yg\\anaconda3\\lib\\site-packages (from requests) (3.4)\n",
      "Requirement already satisfied: charset-normalizer<3,>=2 in c:\\users\\yg\\anaconda3\\lib\\site-packages (from requests) (2.0.4)\n",
      "Requirement already satisfied: certifi>=2017.4.17 in c:\\users\\yg\\anaconda3\\lib\\site-packages (from requests) (2022.12.7)\n"
     ]
    }
   ],
   "source": [
    "!pip install beautifulsoup4\n",
    "!pip install requests\n",
    "import sys\n",
    "import time \n",
    "from bs4 import BeautifulSoup\n",
    "import requests\n",
    "try:\n",
    "    \n",
    "    \n",
    "    page=requests.get('https://insights.blackcoffer.com/covid-19-how-have-countries-been-responding-2/')\n",
    "    \n",
    "    \n",
    "except Exception as e:\n",
    "    error_type, error_obj, error_info = sys.exc_info()\n",
    "    print('Error for link :',url)\n",
    "    print(error_type,'Line :',error_info.tb_lineno)\n",
    "    \n",
    "    \n",
    "time.sleep(2)\n",
    "soup=BeautifulSoup(page.text,'html.parser')\n",
    "links=soup.find_all('h1',attrs={'class':'entry-title'})   \n"
   ]
  },
  {
   "cell_type": "code",
   "execution_count": 2,
   "id": "a8a35fc9",
   "metadata": {},
   "outputs": [
    {
     "name": "stdout",
     "output_type": "stream",
     "text": [
      "COVID-19: How have countries been responding?\n",
      "\n",
      "\n"
     ]
    }
   ],
   "source": [
    "for i in links:\n",
    "    print(i.text)\n",
    "    print(\"\\n\")"
   ]
  },
  {
   "cell_type": "code",
   "execution_count": 3,
   "id": "95dc4429",
   "metadata": {},
   "outputs": [
    {
     "name": "stdout",
     "output_type": "stream",
     "text": [
      "\n",
      "“If anything kills over 10 million people over the next few decades, it’s most likely to be a highly infectious virus rather than a war” – Bill Gates\n",
      "Bill Gates in his TedX address in 2015 pointed out to the predicament of world leaders who failed to invest sufficiently into health infrastructure and he further elaborated on the inability of the prevailing health facilities to accommodate the next pandemic the world would face.\n",
      "The whole world is grappling with COVID-19- the virus that took birth in the city of Wuhan and spread across the globe, claiming more than half a hundred thousand lives and affecting more than two million people.\n",
      "With the fear of the virus spreading, the whole world entered into a complete and stringent lockdown mandated by the national governments. This caused economic activities worldwide to come to a standstill except for sectors that provisioned essential goods and services. The international agency-IMF has projected that the global output will contract by 3% in 2020 which is even worse than the 2008-09 financial crises. Moody downgraded the global growth forecast to 2.5% in 2020 from an earlier estimate of 5.3%. The US economy is expected to contract by 2%, Euro-era by 2.2% and China is expected to grow at 3.3% rather than an earlier estimate of 6% in 2021\n",
      "The national governments have been presented with inevitable challenges of ensuring sustenance and livelihood to masses, improving investor confidence and preventing the economies from falling into a recession in the absence of consumerism amidst the uncertainty about the longevity and future intensity of the pandemic.\n",
      "The GOI took the decision to enter into lockdown in the preliminary phase of the spread of the virus. The Indian economy in the fiscal year 2019 was already hit by severe NPA crises. It witnessed a downward spiral and grew at a mere rate of 5% as against 6.8 % in 2018 as per the statistics released by the NSO-National Statistical Organization. The manufacturing and construction sectors were negative outliers. The government in order to recuperate announced a plethora of decisions. The government cut the corporate tax from 30% to 22% and for manufacturing enterprises from 25% to 15%. In order to strengthen the position of public sector banks, the government announced the merger of 10 public sector banks into 4\n",
      "The government also announced a fiscal stimulus of 1.7 lakh crores INR stepping over its fiscal deficit target in order to drive the economy out of the downward spiral and get it on the path of growth, giving lubricant to an economy facing liquidity crunch with heightening NPA.\n",
      "But the Coronavirus outbreak halted the economic activity and posed government the issue of fulfilling the basic survival needs of workers in the informal sector in the wake of massive urbanization. The daily wage earners tried to walk down to their native places in huge numbers posing immense difficulty for the government. Apart from that the domestic equity market indices- the BSE Sensex and NSE Nifty crashed which reflected the erosion of investor confidence and reflected stealth of bearish sentiment around the world.\n",
      "All this amalgamated together posed a serious question on the survival of a huge chunk of the Indian population and invited a lot of criticism for the government.\n",
      "This is when the Central NDA government announced a fiscal relief package: The Central government announced a fiscal stimulus of additional INR 1.7 Lakh Crores that constitutes approximately 0.8% of India’s GDP under Pradhan Mantri Gareeb Kalyan Yojna. This fiscal stimulus is used to target the underprivileged section of the society instead of conventional indirectly lubricating the economy through deficit financing.\n",
      "The government under the NFSA-National Food Security Act has decided to provide an additional 5 kg of Indian staple wheat and rice and 1 kg of pulses every month to people with ration cards. The government is expanding and accelerating the dissemination of unilateral transfers under various government schemes.  Under PM Kisan Scheme an Indian farmer receives payment of INR 6000 in three installments every year. Out of 6000 the GOI had disbursed INR 2000 immediately. The government has made a provision of providing 2 installments INR 1000 for the next three months those already availing old ages, women, or disability pension. The women who are Jan Dhan account holders are to receive INR 500 for the next three months. The government assured the availability of cooking gas by providing 1 LPG cylinder for the next three months to 8.3 crores people covered under Ujjwal Yojna.  The government in order to prevent the deterioration of and encourage entrepreneurial spirit in already discriminated rural women the government made a provision for Women SHG’s where they can receive collateral-free loans up to INR 20 Lakhs under NRLM (National Rural Livelihood Mission). The government also enhanced payment under MGNREGA from INR 180/day to INR 202/day.\n",
      "The government has also taken upon itself to provide for the EPF contributions of 12% each of the basic salaries of both employees and employers for the next three months. In order to ensure household liquidity the employees can withdraw from their EPF accounts balance up to 75%. The GOI is also providing insurance coverage if INR 50 lakh for a tenure of 3 months for about 22 lakh health workers in government hospitals inclusive of ASHA workers, medical, sanitary workers, and paramedics.\n",
      "The finance minister Nirmala Sitaraman also pointed out that increased money supply combined with the dollar swap with the USA will help curb the inflammatory effect also.\n",
      "Shaktikanta Das, the RBI chief announced a monetary relief package for the economy that seemed to regain investor confidence as the national stock indices rallied. The following are the elements of the package:\n",
      "The repo rate is the rate at which the commercial banks can avail loans from RBI. The RBI cut Repo Rate by 75 basis points from 5.15% to 4.4%. This reduction in the cost of borrowing from RBI gives commercial banks an incentive to enjoy increased margins by borrowing at a relatively lower rate than past and investing at the same rate i.e. by granting loans to businesses and households.Cut in Reverse-Repo Rate by 25 basis points from 4% to 3.5%. The reverse repo rate is the rate at which banks can park their funds with the RBI. This primarily implies the reduction in the interest rate the banks can earn by parking their funds with the RBI. This incentivizes them to lend. But given the commercial bank’s acquaintance with the friction caused by erosion of consumerism due to fear of COVID-19; it is hard to forecast how successful the aforementioned steps are.\n",
      "The RBI also announced a moratorium or a provision to defer payments of EMI’s on home, car, and credit card dues for a period of 3 months from 1st March-31st May. The government also provided for interest-free loans for the MSME sector to meet their working capital requirements after the lockdown has been uplifted.The RBI also announced a refinancing window for INR 50,000 crores for financial institutions like Nabard, National Housing Bank, and Sidbi.\n",
      "As the markets crashed the foreign institutional investors withdrew their investments from the Indian Market, increasing the demand for USD and increasing the supply of INR causing the rupee to depreciate. The currency hit the bottom low of INR 76/ USD.  To prevent further erosion in the value of rupee the RBI entered into a 6-month swap agreement with the US government. The deliberation to undertake a currency swap began when as a result of panic-selling the foreign exchange reserves fell around $7.5 billion in two weeks to $439.66 billion on March 27.\n",
      "Despite tourism, hospitality, domestic trade, airline industry taking a hit, India was presented with quite a few opportunities as well.\n",
      "India came as a messiah to export hydroxychloroquine to the USA, followed by Indian pharmacy companies- Lupin, Dr. Reddy’s Laboratories, Strides Pharma’s plants in India, and Biocon’s plant in Malaysia being given clearance by US FDA-US Food and Drug administration. This gives massive export opportunities to these entities, improving their growth prospectus. The crash of crude oil prices caused by falling out of negotiations between OPEC and Russia creating supply pressure along with lowered demand enabled India to lower its import bill. According to a report by ICRA every $10 decline in crude oil price saved India $15 billion.\n",
      "Not only India but countries like the USA, Japan, UK, and Germany have announced massive fiscal stimulus packages to equip their economies to come out of this phase of decelerating economic activity.\n",
      "US announced a fiscal package of $2 trillion with is approximately 9.3% of its GDP. This relief package is the largest relative to the GDP is the largest of the kind in the Modern American History. It is way larger than $800 billion assistance provided in 2008. Germany introduced largest fiscal stimulus in relation to GDP.\n",
      "The following graph indicates the fiscal stimulus as a proportion of GDP of respective countries\n",
      "\n",
      "Workers in the US whose annual incomes are up to $75000 will receive $1200 in direct payments as well as $500 for every offspring. America being America came to the rescue of businesses by allocating $500 billion to businesses and local government bodies.\n",
      "It announced various sectorial packages-$50 billion for passenger airlines, $8 billion for cargo carriers, $17 billion for businesses involved in maintaining national security. Taking care of the small industry sector, the US government committed itself to devote $350 billion to the working capital requirements of these entities. The government further allocated $150 billion for the health care sector, $45 billion for the disaster relief fund, $31 billion for the education sector, $27 billion for research and development, and $15.5 billion towards the food stamp program.\n",
      "\n",
      ". Republican President Donald Trump has been under a lot of criticism lately. The tackling of the COVID-19 crises by America could either relinquish Trump administration or them another tenure. But so far the situation seems critical with the USA registered with the maximum number of cases\n",
      "China- the epicenter of the pandemic has been facing a lot of backlash from world powers like the USA, UK, France, and Germany; each country asking for monetary compensation. The US even alleged that China has conducted low-frequency nuclear tests while the whole world is anguished. China has also been frowned upon for acquiring a stake in various companies like-The PBOC enhancing its claim in HDFC to 1% and many other entities amidst panic selling. China also capitalized on low crude oil prices by creating massive buffers. It further exported PPE to various countries, capitalizing on the minutest of opportunities available.\n",
      "This is the time to be prudent and try to remain optimistic as is illuminated by Charlie Munger,-“I would ……when the worst typhoon that’s ever happened comes. We just want to get through typhoon and we’d rather come out it with a whole lot of liquidity. …”\n",
      "Blackcoffer Insights 17: Shreya Ahuja, Daulat Ram College\n",
      "\n",
      "\n",
      "\n"
     ]
    }
   ],
   "source": [
    "links=soup.find_all('div',attrs={'class':'td-post-content tagdiv-type'})\n",
    "for i in links:\n",
    "    print(i.text)\n",
    "    print(\"\\n\")"
   ]
  },
  {
   "cell_type": "code",
   "execution_count": 1,
   "id": "65abce0e",
   "metadata": {},
   "outputs": [
    {
     "name": "stdout",
     "output_type": "stream",
     "text": [
      "Total positive score: 23\n"
     ]
    }
   ],
   "source": [
    "def count_positive_words(main_dataset_file, positive_words_file):\n",
    "    \n",
    "    \n",
    "\n",
    "    with open(main_dataset_file, 'r', encoding='utf-8') as main_file:\n",
    "        main_data = main_file.read()\n",
    "\n",
    "   \n",
    "    with open(positive_words_file, 'r', encoding='utf-8') as positive_file:\n",
    "        positive_words = positive_file.read().splitlines()\n",
    "\n",
    "    \n",
    "    words = main_data.split()\n",
    "\n",
    "    \n",
    "    count = 0\n",
    "\n",
    "   \n",
    "    for word in words:\n",
    "      \n",
    "        if word in positive_words:\n",
    "            count += 1\n",
    "\n",
    "    \n",
    "    print(\"Total positive score:\", count)\n",
    "\n",
    "\n",
    "main_dataset_file = '115.txt'\n",
    "positive_words_file = 'positive.txt'\n",
    "\n",
    "\n",
    "count_positive_words(main_dataset_file, positive_words_file)\n"
   ]
  },
  {
   "cell_type": "code",
   "execution_count": 2,
   "id": "59aa57e3",
   "metadata": {},
   "outputs": [
    {
     "name": "stdout",
     "output_type": "stream",
     "text": [
      "Total positive score: 44\n"
     ]
    }
   ],
   "source": [
    "def count_positive_words(main_dataset_file, positive_words_file):\n",
    "    \n",
    "    \n",
    "\n",
    "    with open(main_dataset_file, 'r', encoding='latin-1') as main_file:\n",
    "        main_data = main_file.read()\n",
    "\n",
    "   \n",
    "    with open(positive_words_file, 'r', encoding='latin-1') as positive_file:\n",
    "        positive_words = positive_file.read().splitlines()\n",
    "\n",
    "    \n",
    "    words = main_data.split()\n",
    "\n",
    "    \n",
    "    count = 0\n",
    "\n",
    "   \n",
    "    for word in words:\n",
    "      \n",
    "        if word in positive_words:\n",
    "            count += 1\n",
    "\n",
    "    \n",
    "    print(\"Total positive score:\", count)\n",
    "\n",
    "\n",
    "main_dataset_file = '115.txt'\n",
    "positive_words_file = 'negative-words.txt'\n",
    "\n",
    "\n",
    "count_positive_words(main_dataset_file, positive_words_file)\n"
   ]
  },
  {
   "cell_type": "code",
   "execution_count": 3,
   "id": "48ac3876",
   "metadata": {},
   "outputs": [
    {
     "name": "stdout",
     "output_type": "stream",
     "text": [
      "Total number of words: 1934\n"
     ]
    }
   ],
   "source": [
    "def count_total_words(dataset_file):\n",
    "   \n",
    "    with open(dataset_file, 'r', encoding='utf-8') as file:\n",
    "        content = file.read()\n",
    "\n",
    "    \n",
    "    words = content.split()\n",
    "\n",
    "    \n",
    "    total_words = len(words)\n",
    "\n",
    "    return total_words\n",
    "\n",
    "\n",
    "dataset_file = '117.txt'\n",
    "\n",
    "\n",
    "total_words = count_total_words(dataset_file)\n",
    "\n",
    "\n",
    "print(\"Total number of words:\", total_words)\n"
   ]
  },
  {
   "cell_type": "code",
   "execution_count": 4,
   "id": "83e03f35",
   "metadata": {},
   "outputs": [
    {
     "name": "stdout",
     "output_type": "stream",
     "text": [
      "Number of complex words: 261\n"
     ]
    }
   ],
   "source": [
    "import pyphen\n",
    "import re\n",
    "dataset_file = \"115.txt\"\n",
    "dictionary = pyphen.Pyphen(lang='en')\n",
    "def count_syllables(word):\n",
    "    return len(dictionary.inserted(word).split('-'))\n",
    "def count_complex_words(file):\n",
    "    complex_word_count = 0\n",
    "\n",
    "    with open(file, 'r', encoding='utf-8') as f:\n",
    "        data = f.read()\n",
    "        words = re.findall(r'\\b\\w+\\b', data)  \n",
    "\n",
    "        for word in words:\n",
    "            syllable_count = count_syllables(word)\n",
    "            if syllable_count > 2:\n",
    "                complex_word_count += 1\n",
    "\n",
    "    return complex_word_count\n",
    "complex_words_count = count_complex_words(dataset_file)\n",
    "print(\"Number of complex words:\", complex_words_count)\n",
    "\n",
    "\n",
    "\n"
   ]
  },
  {
   "cell_type": "code",
   "execution_count": 5,
   "id": "7ffd8ce0",
   "metadata": {},
   "outputs": [
    {
     "name": "stdout",
     "output_type": "stream",
     "text": [
      "Number of sentences: 74\n"
     ]
    }
   ],
   "source": [
    "import re\n",
    "def count_sentences(file):\n",
    "    with open(file, 'r', encoding='utf-8') as f:\n",
    "        data = f.read()\n",
    "        sentences = re.split(r'(?<!\\w\\.\\w.)(?<![A-Z][a-z]\\.)(?<=\\.|\\?)\\s', data)\n",
    "        sentence_count = len(sentences)\n",
    "\n",
    "    return sentence_count\n",
    "dataset_file = \"115.txt\"\n",
    "sentence_count = count_sentences(dataset_file)\n",
    "print(\"Number of sentences:\", sentence_count)"
   ]
  },
  {
   "cell_type": "code",
   "execution_count": 6,
   "id": "82a5f860",
   "metadata": {},
   "outputs": [
    {
     "name": "stdout",
     "output_type": "stream",
     "text": [
      "Sum of total number of characters: 9448\n"
     ]
    }
   ],
   "source": [
    "def calculate_total_character_count(file):\n",
    "    total_character_count = 0\n",
    "\n",
    "    with open(file, 'r', encoding='utf-8') as f:\n",
    "        data = f.read()\n",
    "        words = data.split() \n",
    "\n",
    "        for word in words:\n",
    "            total_character_count += len(word)\n",
    "\n",
    "    return total_character_count\n",
    "dataset_file = \"115.txt\"\n",
    "character_count = calculate_total_character_count(dataset_file)\n",
    "print(\"Sum of total number of characters:\", character_count)\n"
   ]
  },
  {
   "cell_type": "code",
   "execution_count": 7,
   "id": "1ca810b5",
   "metadata": {},
   "outputs": [
    {
     "name": "stdout",
     "output_type": "stream",
     "text": [
      "Total stop words present in data set: 752\n"
     ]
    }
   ],
   "source": [
    "def count_positive_words(main_dataset_file, positive_words_file):\n",
    "    \n",
    "    with open(main_dataset_file, 'r', encoding='utf-8') as main_file:\n",
    "        main_data = main_file.read()\n",
    "\n",
    "   \n",
    "    with open(positive_words_file, 'r', encoding='utf-8') as positive_file:\n",
    "        positive_words = positive_file.read().splitlines()\n",
    "\n",
    "    \n",
    "    words = main_data.split()\n",
    "\n",
    "    \n",
    "    count = 0\n",
    "\n",
    "   \n",
    "    for word in words:\n",
    "      \n",
    "        if word in positive_words:\n",
    "            count += 1\n",
    "\n",
    "    \n",
    "    print(\"Total stop words present in data set:\", count)\n",
    "\n",
    "\n",
    "main_dataset_file = '115.txt'\n",
    "positive_words_file = 'all-stop-words.txt'\n",
    "\n",
    "\n",
    "count_positive_words(main_dataset_file, positive_words_file)"
   ]
  },
  {
   "cell_type": "code",
   "execution_count": 8,
   "id": "183de497",
   "metadata": {},
   "outputs": [
    {
     "name": "stdout",
     "output_type": "stream",
     "text": [
      "Total syllables in the dataset file: 2765\n"
     ]
    }
   ],
   "source": [
    "def count_syllables(word):\n",
    "    vowels = 'aeiouAEIOU'\n",
    "    exceptions = ['es', 'ed']\n",
    "    count = 0\n",
    "    prev_char_vowel = False\n",
    "\n",
    "    if word[-2:] in exceptions:\n",
    "        return count\n",
    "\n",
    "    for char in word:\n",
    "        if char in vowels:\n",
    "            if not prev_char_vowel:\n",
    "                count += 1\n",
    "            prev_char_vowel = True\n",
    "        else:\n",
    "            prev_char_vowel = False\n",
    "\n",
    "    return count\n",
    "\n",
    "def sum_syllables_in_file(file):\n",
    "    total_syllables = 0\n",
    "\n",
    "    with open(file, 'r', encoding='utf-8') as f:\n",
    "        data = f.read()\n",
    "        words = data.split()\n",
    "\n",
    "        for word in words:\n",
    "            total_syllables += count_syllables(word)\n",
    "\n",
    "    return total_syllables\n",
    "\n",
    "dataset_file = \"115.txt\"\n",
    "total_syllables = sum_syllables_in_file(dataset_file)\n",
    "print(\"Total syllables in the dataset file:\", total_syllables)\n"
   ]
  },
  {
   "cell_type": "code",
   "execution_count": 9,
   "id": "103c3f4e",
   "metadata": {},
   "outputs": [
    {
     "name": "stdout",
     "output_type": "stream",
     "text": [
      "Number of personal pronouns mentioned: 2\n"
     ]
    }
   ],
   "source": [
    "import re\n",
    "\n",
    "def count_personal_pronouns(file):\n",
    "    pronouns = ['I', 'we', 'my', 'ours', 'us']\n",
    "    count = 0\n",
    "\n",
    "    with open(file, 'r', encoding='utf-8') as f:\n",
    "        data = f.read()\n",
    "        words = re.findall(r'\\b(?:{})\\b'.format('|'.join(pronouns)), data)\n",
    "\n",
    "        for word in words:\n",
    "            # Exclude the word 'US' (country name)\n",
    "            if word.lower() != 'us':\n",
    "                count += 1\n",
    "\n",
    "    return count\n",
    "\n",
    "dataset_file = \"115.txt\"\n",
    "pronoun_count = count_personal_pronouns(dataset_file)\n",
    "print(\"Number of personal pronouns mentioned:\", pronoun_count)\n"
   ]
  },
  {
   "cell_type": "code",
   "execution_count": 10,
   "id": "55feb0f4",
   "metadata": {},
   "outputs": [
    {
     "name": "stdout",
     "output_type": "stream",
     "text": [
      "Total characters: 9448\n",
      "Total words: 1833\n",
      "Average word length: 5.154391707583197\n"
     ]
    }
   ],
   "source": [
    "def calculate_word_stats(file):\n",
    "    total_characters = 0\n",
    "    total_words = 0\n",
    "\n",
    "    with open(file, 'r', encoding='utf-8') as f:\n",
    "        data = f.read()\n",
    "        words = data.split()\n",
    "\n",
    "        for word in words:\n",
    "            total_characters += len(word)\n",
    "            total_words += 1\n",
    "\n",
    "    return total_characters, total_words\n",
    "\n",
    "dataset_file = \"115.txt\"\n",
    "char_count, word_count = calculate_word_stats(dataset_file)\n",
    "average_word_length = char_count / word_count if word_count != 0 else 0\n",
    "\n",
    "print(\"Total characters:\", char_count)\n",
    "print(\"Total words:\", word_count)\n",
    "print(\"Average word length:\", average_word_length)\n"
   ]
  },
  {
   "cell_type": "code",
   "execution_count": null,
   "id": "2efb1a7d",
   "metadata": {},
   "outputs": [],
   "source": []
  }
 ],
 "metadata": {
  "kernelspec": {
   "display_name": "Python 3 (ipykernel)",
   "language": "python",
   "name": "python3"
  },
  "language_info": {
   "codemirror_mode": {
    "name": "ipython",
    "version": 3
   },
   "file_extension": ".py",
   "mimetype": "text/x-python",
   "name": "python",
   "nbconvert_exporter": "python",
   "pygments_lexer": "ipython3",
   "version": "3.10.9"
  }
 },
 "nbformat": 4,
 "nbformat_minor": 5
}

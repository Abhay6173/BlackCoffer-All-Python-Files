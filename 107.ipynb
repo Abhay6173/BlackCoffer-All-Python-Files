{
 "cells": [
  {
   "cell_type": "code",
   "execution_count": 7,
   "id": "dca25ca2",
   "metadata": {},
   "outputs": [
    {
     "name": "stdout",
     "output_type": "stream",
     "text": [
      "Requirement already satisfied: beautifulsoup4 in c:\\users\\yg\\anaconda3\\lib\\site-packages (4.11.1)\n",
      "Requirement already satisfied: soupsieve>1.2 in c:\\users\\yg\\anaconda3\\lib\\site-packages (from beautifulsoup4) (2.3.2.post1)\n",
      "Requirement already satisfied: requests in c:\\users\\yg\\anaconda3\\lib\\site-packages (2.28.1)\n",
      "Requirement already satisfied: urllib3<1.27,>=1.21.1 in c:\\users\\yg\\anaconda3\\lib\\site-packages (from requests) (1.26.14)\n",
      "Requirement already satisfied: idna<4,>=2.5 in c:\\users\\yg\\anaconda3\\lib\\site-packages (from requests) (3.4)\n",
      "Requirement already satisfied: certifi>=2017.4.17 in c:\\users\\yg\\anaconda3\\lib\\site-packages (from requests) (2022.12.7)\n",
      "Requirement already satisfied: charset-normalizer<3,>=2 in c:\\users\\yg\\anaconda3\\lib\\site-packages (from requests) (2.0.4)\n"
     ]
    }
   ],
   "source": [
    "!pip install beautifulsoup4\n",
    "!pip install requests\n",
    "import sys\n",
    "import time \n",
    "from bs4 import BeautifulSoup\n",
    "import requests\n",
    "try:\n",
    "    \n",
    "    \n",
    "    page=requests.get('https://insights.blackcoffer.com/how-covid-19-is-impacting-payment-preferences/')\n",
    "    \n",
    "    \n",
    "except Exception as e:\n",
    "    error_type, error_obj, error_info = sys.exc_info()\n",
    "    print('Error for link :',url)\n",
    "    print(error_type,'Line :',error_info.tb_lineno)\n",
    "    \n",
    "    \n",
    "time.sleep(2)\n",
    "soup=BeautifulSoup(page.text,'html.parser')\n",
    "links=soup.find_all('h1',attrs={'class':'tdb-title-text'})   "
   ]
  },
  {
   "cell_type": "code",
   "execution_count": 8,
   "id": "75000ce4",
   "metadata": {},
   "outputs": [
    {
     "name": "stdout",
     "output_type": "stream",
     "text": [
      "How COVID-19 is impacting payment preferences?\n",
      "\n",
      "\n"
     ]
    }
   ],
   "source": [
    "for i in links:\n",
    "    print(i.text)\n",
    "    print(\"\\n\")"
   ]
  },
  {
   "cell_type": "code",
   "execution_count": 13,
   "id": "1b6e7bd8",
   "metadata": {},
   "outputs": [
    {
     "name": "stdout",
     "output_type": "stream",
     "text": [
      "\n",
      "\n",
      "\n",
      "\n",
      "\n",
      "\n",
      "\n",
      "\n",
      "\n",
      "Thursday, June 8, 2023\n",
      "\n",
      "\n",
      "Sign in / Join\n",
      "\n",
      "\n",
      "\n",
      "\n",
      "\n",
      "Search\n",
      "\n",
      "\n",
      "HomeData ScienceBig DataHow COVID-19 is impacting payment preferences?\n",
      "\n",
      "\n",
      "How COVID-19 is impacting payment preferences?\n",
      "\n",
      "\n",
      "By Ajay Bidyarthy\n",
      "\n",
      "\n",
      "June 22, 2020\n",
      "\n",
      "\n",
      "0\n",
      "\n",
      "\n",
      "7931\n",
      "\n",
      "\n",
      "\n",
      "\n",
      "\n",
      "\n",
      "\n",
      "\n",
      "\n",
      "I would rather pay cash – Before COVID-19.\n",
      "I would rather make online payment – After lockdown.\n",
      "During this lockdown, one can observe a number of small positive changes in our surroundings. One such positive change is using online mode of payment even if they are small in amount as it counts as a big step towards DIGITAL INDIA and self-development as well.\n",
      "According to Economic Times, 42% of Indians say that they have started using online mode of payment. Some small tasks like mobile phone recharge, bill payments, buying groceries, etc., are some essential tasks that cannot be ignored, and making an online payment is way too convenient for them. Also, multiple schemes have been initiated by the government to promote online payments like Lucky Grahak Yojana and Digi Dhan Vyapari Yojana. The details of the same are as follows:\n",
      "LUCKY GARHAK YOJANA\n",
      "A daily reward of Rs 1000 to be given to 15,000 lucky consumers for a period of 100 days.People who use the online mode of payments will get weekly prizes worth Rs 1 lakh, Rs 10,000 and Rs 5,000. (All types of online transactions will be included in this.)\n",
      "DIGI DHAN VYAPARI\n",
      "Prizes for Merchants for all digital transactions.Rs 50,000, Rs 5,000, and Rs 2,500 will be provided weekly.\n",
      "The frequently used apps by the consumers and the market share of apps are as follows:\n",
      "Paytm- 33%\n",
      "Google Pay- 14%\n",
      "PhonePe- 4%\n",
      "Amazon Pay- 10%\n",
      "BHIM- 6%\n",
      "Other Apps- 33%\n",
      "Not only the sellers but also the buyers have taken a step forward in making online payments and have been exploring the various offers and discounts. The sellers have started their own online shops and made online payment mandatory in highly contaminated zones. The buyer has also taken advantage of home deliveries to follow social distancing. To add to the advantage of buyers and sellers KYC is no more a necessity to make money transfers.\n",
      "There has been an increase in the services provided by banking sectors as well. The FM Nirmala Sitharaman has provided the directions to not charge for cash withdrawals from ATM’s. Various services like sending and receiving money, blocking cards, credit card payments, credit card pins, etc., are being provided online.\n",
      "E-payment options like Paytm, etc., have been open up for investing money online in stocks, insurance, etc. Even online shopping apps like Amazon have come up with various offers for their in-built wallets.\n",
      "Emerging technologies and high competition among online payment apps are providing benefits to buyers and sellers as well. Sellers have been able to increase their reach with online shops and online payment stands as a guarantee for them. Buyers have been in the most advantageous position ever after the digital payment has come into the market. They are being provided with a number of choices to choose from as well as make instant payments for offers. This all sums up the likeliness of digital payment in the market. So yes, we can say, YOU (DIGITAL PAYMENT) HAVE A BRILLANT FUTURE, CHILD!\n",
      "We all have heard this statement “Precaution is better than cure” and here is the time to follow the same. It has been proven as a fact that the coronavirus can persist on paper for four or five days. That means the coronavirus can persist on the paper currency for four or five days. Thus, it is important to avoid the usage of paper currency.\n",
      "A revolution will take place only when the below poverty population of India will start using the online mode of payment and will be literate enough to not get caught in any scam.\n",
      "Blackcoffer Insights 18: Himanshi Kalota, Shri Ram College of Commerce (Delhi)\n",
      "\n",
      "\n",
      "\n",
      "Previous articleContribution of handicrafts (Visual Arts & Literature) in the Indian economyNext articleImpact of COVID-19 pandemic on Tourism & Aviation industries\n",
      "\n",
      "\n",
      "Ajay Bidyarthy\n",
      "\n",
      "\n",
      "\n",
      "\n",
      "\n",
      "\n",
      "\n",
      "\n"
     ]
    }
   ],
   "source": [
    "links=soup.find_all('div',attrs={'class':'tdb-block-inner td-fix-index'})\n",
    "for i in links:\n",
    "    print(i.text)\n",
    "    print(\"\\n\")"
   ]
  },
  {
   "cell_type": "code",
   "execution_count": null,
   "id": "b4b1db62",
   "metadata": {},
   "outputs": [],
   "source": []
  }
 ],
 "metadata": {
  "kernelspec": {
   "display_name": "Python 3 (ipykernel)",
   "language": "python",
   "name": "python3"
  },
  "language_info": {
   "codemirror_mode": {
    "name": "ipython",
    "version": 3
   },
   "file_extension": ".py",
   "mimetype": "text/x-python",
   "name": "python",
   "nbconvert_exporter": "python",
   "pygments_lexer": "ipython3",
   "version": "3.10.9"
  }
 },
 "nbformat": 4,
 "nbformat_minor": 5
}
